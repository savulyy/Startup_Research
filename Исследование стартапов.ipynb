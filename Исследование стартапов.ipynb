{
 "cells": [
  {
   "cell_type": "markdown",
   "metadata": {
    "id": "4mJbK1knrJgz"
   },
   "source": [
    "# Проект: Исследование стартапов"
   ]
  },
  {
   "cell_type": "markdown",
   "metadata": {
    "id": "P6j0r3worJg0"
   },
   "source": [
    "## Введение"
   ]
  },
  {
   "cell_type": "markdown",
   "metadata": {
    "id": "8lQtbsIUyFG6"
   },
   "source": [
    "Необходимо подготовить датасет для разработки модели бизнеса финансовой компании, занимающейся стартапами. Чтобы выработать общее понимание, какие данные могут быть полезны, проводится исследование на исторических данных.<br>\n",
    "**Цель проекта<br>**\n",
    "Подготовить датасет и проверить, что данные в нём соответствуют здравому смыслу, а также ответить на вопросы заказчика как о предобработке, так и о значении данных для бизнеса.\n",
    "Выявить показатели и признаки, которые указывают на повышенную вероятность успешной сделки по покупке компании"
   ]
  },
  {
   "cell_type": "markdown",
   "metadata": {},
   "source": [
    "**Ключевые моменты исследования:<br>**\n",
    "Шаг 1. Знакомство с данными: загрузка и первичная предобработка\n",
    "- 1.1. Вывод общей информации, исправление названия столбцов\n",
    "- 1.2. Смена типов и анализ пропусков<br>\n",
    "Шаг 2. Предобработка данных, предварительное исследование\n",
    "- 2.1. Раунды финансирования по годам\n",
    "- 2.2. Люди и их образование\n",
    "- 2.3. Оценим, можно ли использовать столбцы с именем network_username для объединения данных.\n",
    "- 2.4. Проблемный датасет company_and_rounds.csv и причина возникновения пропусков<br>\n",
    "Шаг 3. Исследовательский анализ объединённых таблиц\n",
    "- 3.1. Объединение данных\n",
    "- 3.2. Анализ выбросов\n",
    "- 3.3. Анализ стартапов проданных за 0 или 1 $\n",
    "- 3.4. Цены стартапов по категориям\n",
    "- 3.5. Сколько раундов продержится стартап перед покупкой<br>\n",
    "Шаг 4. Итоговый вывод и рекомендации"
   ]
  },
  {
   "cell_type": "markdown",
   "metadata": {
    "id": "xqr6uttCrJg0"
   },
   "source": [
    "\n",
    "## Шаг 1. Знакомство с данными: загрузка и первичная предобработка\n",
    "\n",
    "Названия файлов:\n",
    "* acquisition.csv\n",
    "* company_and_rounds.csv\n",
    "* people.csv\n",
    "* education.csv\n",
    "* degrees.csv\n",
    "\n",
    "Опциональные датасеты:\n",
    "* fund.csv\n",
    "* investment.csv\n",
    "\n",
    "\n",
    "### 1.1. Вывод общей информации, исправление названия столбцов\n",
    "\n",
    "- Загрузим все данные по проекту.\n",
    "- Проверим названия столбцов.\n",
    "- Выведим информацию, которая необходима для принятия решений о предобработке, для каждого из датасетов."
   ]
  },
  {
   "cell_type": "code",
   "execution_count": 1,
   "metadata": {},
   "outputs": [],
   "source": [
    "#Импортируем необходимые библиотеки\n",
    "import pandas as pd\n",
    "import numpy as np\n",
    "import matplotlib.pyplot as plt\n",
    "import seaborn as sns"
   ]
  },
  {
   "cell_type": "code",
   "execution_count": 2,
   "metadata": {
    "colab": {
     "base_uri": "https://localhost:8080/"
    },
    "id": "W_W4jRazrJg0",
    "outputId": "d2409aad-233f-4bb4-ec71-7da96594f9df",
    "vscode": {
     "languageId": "plaintext"
    }
   },
   "outputs": [],
   "source": [
    "#Загрузим данные по проекту\n",
    "df_acquisition = pd.read_csv('acquisition.csv')\n",
    "df_company_and_rounds = pd.read_csv('company_and_rounds.csv')\n",
    "df_people = pd.read_csv('people.csv')\n",
    "df_education = pd.read_csv('education.csv')\n",
    "df_degrees = pd.read_csv('degrees.csv')\n",
    "df_fund = pd.read_csv('fund.csv')\n",
    "df_investment = pd.read_csv('investment.csv')"
   ]
  },
  {
   "cell_type": "markdown",
   "metadata": {},
   "source": [
    "**1** Таблица acquisition\n",
    "Содержит информацию о покупках одними компаниями других компаний:\n",
    "- id — идентификатор покупки.\n",
    "- acquiring_company_id — идентификатор покупающей компании.\n",
    "- acquired_company_id — идентификатор покупаемой компании.\n",
    "- term_code — варианты расчёта.\n",
    "- price_amount — сумма сделки.\n",
    "- acquired_at — дата сделки."
   ]
  },
  {
   "cell_type": "code",
   "execution_count": 3,
   "metadata": {
    "id": "2Tm4Pk__Felf",
    "scrolled": true
   },
   "outputs": [
    {
     "name": "stdout",
     "output_type": "stream",
     "text": [
      "<class 'pandas.core.frame.DataFrame'>\n",
      "RangeIndex: 9407 entries, 0 to 9406\n",
      "Data columns (total 6 columns):\n",
      " #   Column                Non-Null Count  Dtype \n",
      "---  ------                --------------  ----- \n",
      " 0   id                    9407 non-null   int64 \n",
      " 1   acquiring_company_id  9407 non-null   int64 \n",
      " 2   acquired_company_id   9407 non-null   int64 \n",
      " 3   term_code             1831 non-null   object\n",
      " 4   price_amount          9407 non-null   int64 \n",
      " 5   acquired_at           9378 non-null   object\n",
      "dtypes: int64(4), object(2)\n",
      "memory usage: 441.1+ KB\n"
     ]
    },
    {
     "data": {
      "text/plain": [
       "None"
      ]
     },
     "metadata": {},
     "output_type": "display_data"
    },
    {
     "data": {
      "text/html": [
       "<div>\n",
       "<style scoped>\n",
       "    .dataframe tbody tr th:only-of-type {\n",
       "        vertical-align: middle;\n",
       "    }\n",
       "\n",
       "    .dataframe tbody tr th {\n",
       "        vertical-align: top;\n",
       "    }\n",
       "\n",
       "    .dataframe thead th {\n",
       "        text-align: right;\n",
       "    }\n",
       "</style>\n",
       "<table border=\"1\" class=\"dataframe\">\n",
       "  <thead>\n",
       "    <tr style=\"text-align: right;\">\n",
       "      <th></th>\n",
       "      <th>id</th>\n",
       "      <th>acquiring_company_id</th>\n",
       "      <th>acquired_company_id</th>\n",
       "      <th>term_code</th>\n",
       "      <th>price_amount</th>\n",
       "      <th>acquired_at</th>\n",
       "    </tr>\n",
       "  </thead>\n",
       "  <tbody>\n",
       "    <tr>\n",
       "      <th>0</th>\n",
       "      <td>1</td>\n",
       "      <td>11</td>\n",
       "      <td>10</td>\n",
       "      <td>NaN</td>\n",
       "      <td>20000000</td>\n",
       "      <td>2007-05-30</td>\n",
       "    </tr>\n",
       "    <tr>\n",
       "      <th>1</th>\n",
       "      <td>7</td>\n",
       "      <td>59</td>\n",
       "      <td>72</td>\n",
       "      <td>cash</td>\n",
       "      <td>60000000</td>\n",
       "      <td>2007-07-01</td>\n",
       "    </tr>\n",
       "    <tr>\n",
       "      <th>2</th>\n",
       "      <td>8</td>\n",
       "      <td>24</td>\n",
       "      <td>132</td>\n",
       "      <td>cash</td>\n",
       "      <td>280000000</td>\n",
       "      <td>2007-05-01</td>\n",
       "    </tr>\n",
       "    <tr>\n",
       "      <th>3</th>\n",
       "      <td>9</td>\n",
       "      <td>59</td>\n",
       "      <td>155</td>\n",
       "      <td>cash</td>\n",
       "      <td>100000000</td>\n",
       "      <td>2007-06-01</td>\n",
       "    </tr>\n",
       "    <tr>\n",
       "      <th>4</th>\n",
       "      <td>10</td>\n",
       "      <td>212</td>\n",
       "      <td>215</td>\n",
       "      <td>cash</td>\n",
       "      <td>25000000</td>\n",
       "      <td>2007-07-01</td>\n",
       "    </tr>\n",
       "  </tbody>\n",
       "</table>\n",
       "</div>"
      ],
      "text/plain": [
       "   id  acquiring_company_id  acquired_company_id term_code  price_amount  \\\n",
       "0   1                    11                   10       NaN      20000000   \n",
       "1   7                    59                   72      cash      60000000   \n",
       "2   8                    24                  132      cash     280000000   \n",
       "3   9                    59                  155      cash     100000000   \n",
       "4  10                   212                  215      cash      25000000   \n",
       "\n",
       "  acquired_at  \n",
       "0  2007-05-30  \n",
       "1  2007-07-01  \n",
       "2  2007-05-01  \n",
       "3  2007-06-01  \n",
       "4  2007-07-01  "
      ]
     },
     "metadata": {},
     "output_type": "display_data"
    }
   ],
   "source": [
    "display(df_acquisition.info())\n",
    "display(df_acquisition.head())"
   ]
  },
  {
   "cell_type": "markdown",
   "metadata": {},
   "source": [
    "**6 столбцов, 9407 строк. В столбцах term_code, acquired_at пропуски. Нужно проверить тип данных столбца с временем.**"
   ]
  },
  {
   "cell_type": "markdown",
   "metadata": {},
   "source": [
    "**2** Таблица company_and_rounds\n",
    "Содержит информацию о компаниях и раундах финансирования:\n",
    "- company ID — идентификатор компании.\n",
    "- name — название компании.\n",
    "- category code — категория области деятельности компании.\n",
    "- status — статус компании.\n",
    "- founded at — дата инвестирования.\n",
    "- closed at — дата закрытия компании.\n",
    "- domain — официальный сайт компании.\n",
    "- network username — ник компании в сети.\n",
    "- country code — код страны компании.\n",
    "- investment rounds — число инвестиционных раундов.\n",
    "- funding rounds — число раундов финансирования.\n",
    "- funding total — сумма финансирования.\n",
    "- milestones — вехи финансирования.\n",
    "- funding round id — идентификатор этапа финансирования.\n",
    "- company id — идентификатор компании.\n",
    "- funded at — дата финансирования.\n",
    "- funding round type — тип финансирования.\n",
    "- raised amount — сумма финансирования.\n",
    "- pre money valuation — предварительная денежная оценка.\n",
    "- participants — число участников.\n",
    "- is first round — является ли раунд первым.\n",
    "- is last round — является раунд последним."
   ]
  },
  {
   "cell_type": "code",
   "execution_count": 4,
   "metadata": {
    "id": "oNqJ2qpRFebv",
    "scrolled": true
   },
   "outputs": [
    {
     "name": "stdout",
     "output_type": "stream",
     "text": [
      "<class 'pandas.core.frame.DataFrame'>\n",
      "RangeIndex: 217774 entries, 0 to 217773\n",
      "Data columns (total 22 columns):\n",
      " #   Column                 Non-Null Count   Dtype  \n",
      "---  ------                 --------------   -----  \n",
      " 0   company  ID            217472 non-null  float64\n",
      " 1   name                   217472 non-null  object \n",
      " 2   category  code         143886 non-null  object \n",
      " 3   status                 217472 non-null  object \n",
      " 4   founded  at            109956 non-null  object \n",
      " 5   closed  at             3449 non-null    object \n",
      " 6   domain                 147159 non-null  object \n",
      " 7   network  username      95534 non-null   object \n",
      " 8   country  code          108607 non-null  object \n",
      " 9   investment  rounds     217472 non-null  float64\n",
      " 10  funding  rounds        217472 non-null  float64\n",
      " 11  funding  total         217472 non-null  float64\n",
      " 12  milestones             217472 non-null  float64\n",
      " 13  funding  round  id     52928 non-null   float64\n",
      " 14  company  id            52928 non-null   float64\n",
      " 15  funded  at             52680 non-null   object \n",
      " 16  funding  round  type   52928 non-null   object \n",
      " 17  raised  amount         52928 non-null   float64\n",
      " 18  pre  money  valuation  52928 non-null   float64\n",
      " 19  participants           52928 non-null   float64\n",
      " 20  is  first  round       52928 non-null   float64\n",
      " 21  is  last  round        52928 non-null   float64\n",
      "dtypes: float64(12), object(10)\n",
      "memory usage: 36.6+ MB\n"
     ]
    },
    {
     "data": {
      "text/plain": [
       "None"
      ]
     },
     "metadata": {},
     "output_type": "display_data"
    },
    {
     "data": {
      "text/html": [
       "<div>\n",
       "<style scoped>\n",
       "    .dataframe tbody tr th:only-of-type {\n",
       "        vertical-align: middle;\n",
       "    }\n",
       "\n",
       "    .dataframe tbody tr th {\n",
       "        vertical-align: top;\n",
       "    }\n",
       "\n",
       "    .dataframe thead th {\n",
       "        text-align: right;\n",
       "    }\n",
       "</style>\n",
       "<table border=\"1\" class=\"dataframe\">\n",
       "  <thead>\n",
       "    <tr style=\"text-align: right;\">\n",
       "      <th></th>\n",
       "      <th>company  ID</th>\n",
       "      <th>name</th>\n",
       "      <th>category  code</th>\n",
       "      <th>status</th>\n",
       "      <th>founded  at</th>\n",
       "      <th>closed  at</th>\n",
       "      <th>domain</th>\n",
       "      <th>network  username</th>\n",
       "      <th>country  code</th>\n",
       "      <th>investment  rounds</th>\n",
       "      <th>...</th>\n",
       "      <th>milestones</th>\n",
       "      <th>funding  round  id</th>\n",
       "      <th>company  id</th>\n",
       "      <th>funded  at</th>\n",
       "      <th>funding  round  type</th>\n",
       "      <th>raised  amount</th>\n",
       "      <th>pre  money  valuation</th>\n",
       "      <th>participants</th>\n",
       "      <th>is  first  round</th>\n",
       "      <th>is  last  round</th>\n",
       "    </tr>\n",
       "  </thead>\n",
       "  <tbody>\n",
       "    <tr>\n",
       "      <th>0</th>\n",
       "      <td>1.0</td>\n",
       "      <td>Wetpaint</td>\n",
       "      <td>web</td>\n",
       "      <td>operating</td>\n",
       "      <td>2005-10-17</td>\n",
       "      <td>NaN</td>\n",
       "      <td>wetpaint-inc.com</td>\n",
       "      <td>BachelrWetpaint</td>\n",
       "      <td>USA</td>\n",
       "      <td>0.0</td>\n",
       "      <td>...</td>\n",
       "      <td>5.0</td>\n",
       "      <td>888.0</td>\n",
       "      <td>1.0</td>\n",
       "      <td>2005-10-01</td>\n",
       "      <td>series-a</td>\n",
       "      <td>5250000.0</td>\n",
       "      <td>0.0</td>\n",
       "      <td>2.0</td>\n",
       "      <td>0.0</td>\n",
       "      <td>1.0</td>\n",
       "    </tr>\n",
       "    <tr>\n",
       "      <th>1</th>\n",
       "      <td>1.0</td>\n",
       "      <td>Wetpaint</td>\n",
       "      <td>web</td>\n",
       "      <td>operating</td>\n",
       "      <td>2005-10-17</td>\n",
       "      <td>NaN</td>\n",
       "      <td>wetpaint-inc.com</td>\n",
       "      <td>BachelrWetpaint</td>\n",
       "      <td>USA</td>\n",
       "      <td>0.0</td>\n",
       "      <td>...</td>\n",
       "      <td>5.0</td>\n",
       "      <td>889.0</td>\n",
       "      <td>1.0</td>\n",
       "      <td>2007-01-01</td>\n",
       "      <td>series-b</td>\n",
       "      <td>9500000.0</td>\n",
       "      <td>0.0</td>\n",
       "      <td>3.0</td>\n",
       "      <td>0.0</td>\n",
       "      <td>0.0</td>\n",
       "    </tr>\n",
       "    <tr>\n",
       "      <th>2</th>\n",
       "      <td>1.0</td>\n",
       "      <td>Wetpaint</td>\n",
       "      <td>web</td>\n",
       "      <td>operating</td>\n",
       "      <td>2005-10-17</td>\n",
       "      <td>NaN</td>\n",
       "      <td>wetpaint-inc.com</td>\n",
       "      <td>BachelrWetpaint</td>\n",
       "      <td>USA</td>\n",
       "      <td>0.0</td>\n",
       "      <td>...</td>\n",
       "      <td>5.0</td>\n",
       "      <td>2312.0</td>\n",
       "      <td>1.0</td>\n",
       "      <td>2008-05-19</td>\n",
       "      <td>series-c+</td>\n",
       "      <td>25000000.0</td>\n",
       "      <td>0.0</td>\n",
       "      <td>4.0</td>\n",
       "      <td>1.0</td>\n",
       "      <td>0.0</td>\n",
       "    </tr>\n",
       "    <tr>\n",
       "      <th>3</th>\n",
       "      <td>10.0</td>\n",
       "      <td>Flektor</td>\n",
       "      <td>games_video</td>\n",
       "      <td>acquired</td>\n",
       "      <td>NaN</td>\n",
       "      <td>NaN</td>\n",
       "      <td>flektor.com</td>\n",
       "      <td>NaN</td>\n",
       "      <td>USA</td>\n",
       "      <td>0.0</td>\n",
       "      <td>...</td>\n",
       "      <td>0.0</td>\n",
       "      <td>NaN</td>\n",
       "      <td>NaN</td>\n",
       "      <td>NaN</td>\n",
       "      <td>NaN</td>\n",
       "      <td>NaN</td>\n",
       "      <td>NaN</td>\n",
       "      <td>NaN</td>\n",
       "      <td>NaN</td>\n",
       "      <td>NaN</td>\n",
       "    </tr>\n",
       "    <tr>\n",
       "      <th>4</th>\n",
       "      <td>100.0</td>\n",
       "      <td>There</td>\n",
       "      <td>games_video</td>\n",
       "      <td>acquired</td>\n",
       "      <td>NaN</td>\n",
       "      <td>NaN</td>\n",
       "      <td>there.com</td>\n",
       "      <td>NaN</td>\n",
       "      <td>USA</td>\n",
       "      <td>0.0</td>\n",
       "      <td>...</td>\n",
       "      <td>4.0</td>\n",
       "      <td>NaN</td>\n",
       "      <td>NaN</td>\n",
       "      <td>NaN</td>\n",
       "      <td>NaN</td>\n",
       "      <td>NaN</td>\n",
       "      <td>NaN</td>\n",
       "      <td>NaN</td>\n",
       "      <td>NaN</td>\n",
       "      <td>NaN</td>\n",
       "    </tr>\n",
       "  </tbody>\n",
       "</table>\n",
       "<p>5 rows × 22 columns</p>\n",
       "</div>"
      ],
      "text/plain": [
       "   company  ID      name category  code     status founded  at closed  at  \\\n",
       "0          1.0  Wetpaint            web  operating  2005-10-17        NaN   \n",
       "1          1.0  Wetpaint            web  operating  2005-10-17        NaN   \n",
       "2          1.0  Wetpaint            web  operating  2005-10-17        NaN   \n",
       "3         10.0   Flektor    games_video   acquired         NaN        NaN   \n",
       "4        100.0     There    games_video   acquired         NaN        NaN   \n",
       "\n",
       "             domain network  username country  code  investment  rounds  ...  \\\n",
       "0  wetpaint-inc.com   BachelrWetpaint           USA                 0.0  ...   \n",
       "1  wetpaint-inc.com   BachelrWetpaint           USA                 0.0  ...   \n",
       "2  wetpaint-inc.com   BachelrWetpaint           USA                 0.0  ...   \n",
       "3       flektor.com               NaN           USA                 0.0  ...   \n",
       "4         there.com               NaN           USA                 0.0  ...   \n",
       "\n",
       "   milestones  funding  round  id  company  id  funded  at  \\\n",
       "0         5.0               888.0          1.0  2005-10-01   \n",
       "1         5.0               889.0          1.0  2007-01-01   \n",
       "2         5.0              2312.0          1.0  2008-05-19   \n",
       "3         0.0                 NaN          NaN         NaN   \n",
       "4         4.0                 NaN          NaN         NaN   \n",
       "\n",
       "   funding  round  type raised  amount pre  money  valuation  participants  \\\n",
       "0              series-a      5250000.0                   0.0           2.0   \n",
       "1              series-b      9500000.0                   0.0           3.0   \n",
       "2             series-c+     25000000.0                   0.0           4.0   \n",
       "3                   NaN            NaN                   NaN           NaN   \n",
       "4                   NaN            NaN                   NaN           NaN   \n",
       "\n",
       "   is  first  round  is  last  round  \n",
       "0               0.0              1.0  \n",
       "1               0.0              0.0  \n",
       "2               1.0              0.0  \n",
       "3               NaN              NaN  \n",
       "4               NaN              NaN  \n",
       "\n",
       "[5 rows x 22 columns]"
      ]
     },
     "metadata": {},
     "output_type": "display_data"
    }
   ],
   "source": [
    "display(df_company_and_rounds.info())\n",
    "display(df_company_and_rounds.head())"
   ]
  },
  {
   "cell_type": "markdown",
   "metadata": {},
   "source": [
    "**22 столбца, 217774 строк.  Названия столбцов необходимо привести к стилю snake_case. Столбец company_id появляется в датасете дважды. Возможно это связано с тем, что таблица была получена путем объединения двух таблиц. Во всех столбцах есть пропуски. Нужно проверить тип данных столбцов с временем.**"
   ]
  },
  {
   "cell_type": "markdown",
   "metadata": {},
   "source": [
    "**3** Таблица education\n",
    "Содержит информацию об образовании сотрудника:\n",
    "- id — идентификатор записи об образовании.\n",
    "- person_id — идентификатор работника.\n",
    "- instituition — название учебного заведения.\n",
    "- graduated_at — дата получения образования."
   ]
  },
  {
   "cell_type": "code",
   "execution_count": 5,
   "metadata": {
    "scrolled": true
   },
   "outputs": [
    {
     "name": "stdout",
     "output_type": "stream",
     "text": [
      "<class 'pandas.core.frame.DataFrame'>\n",
      "RangeIndex: 109610 entries, 0 to 109609\n",
      "Data columns (total 4 columns):\n",
      " #   Column        Non-Null Count   Dtype \n",
      "---  ------        --------------   ----- \n",
      " 0   id            109610 non-null  int64 \n",
      " 1   person_id     109610 non-null  int64 \n",
      " 2   instituition  109555 non-null  object\n",
      " 3   graduated_at  58054 non-null   object\n",
      "dtypes: int64(2), object(2)\n",
      "memory usage: 3.3+ MB\n"
     ]
    },
    {
     "data": {
      "text/plain": [
       "None"
      ]
     },
     "metadata": {},
     "output_type": "display_data"
    },
    {
     "data": {
      "text/html": [
       "<div>\n",
       "<style scoped>\n",
       "    .dataframe tbody tr th:only-of-type {\n",
       "        vertical-align: middle;\n",
       "    }\n",
       "\n",
       "    .dataframe tbody tr th {\n",
       "        vertical-align: top;\n",
       "    }\n",
       "\n",
       "    .dataframe thead th {\n",
       "        text-align: right;\n",
       "    }\n",
       "</style>\n",
       "<table border=\"1\" class=\"dataframe\">\n",
       "  <thead>\n",
       "    <tr style=\"text-align: right;\">\n",
       "      <th></th>\n",
       "      <th>id</th>\n",
       "      <th>person_id</th>\n",
       "      <th>instituition</th>\n",
       "      <th>graduated_at</th>\n",
       "    </tr>\n",
       "  </thead>\n",
       "  <tbody>\n",
       "    <tr>\n",
       "      <th>0</th>\n",
       "      <td>1</td>\n",
       "      <td>6117</td>\n",
       "      <td>NaN</td>\n",
       "      <td>NaN</td>\n",
       "    </tr>\n",
       "    <tr>\n",
       "      <th>1</th>\n",
       "      <td>2</td>\n",
       "      <td>6136</td>\n",
       "      <td>Washington University, St. Louis</td>\n",
       "      <td>1990-01-01</td>\n",
       "    </tr>\n",
       "    <tr>\n",
       "      <th>2</th>\n",
       "      <td>3</td>\n",
       "      <td>6136</td>\n",
       "      <td>Boston University</td>\n",
       "      <td>1992-01-01</td>\n",
       "    </tr>\n",
       "    <tr>\n",
       "      <th>3</th>\n",
       "      <td>4</td>\n",
       "      <td>6005</td>\n",
       "      <td>University of Greenwich</td>\n",
       "      <td>2006-01-01</td>\n",
       "    </tr>\n",
       "    <tr>\n",
       "      <th>4</th>\n",
       "      <td>5</td>\n",
       "      <td>5832</td>\n",
       "      <td>Rice University</td>\n",
       "      <td>NaN</td>\n",
       "    </tr>\n",
       "  </tbody>\n",
       "</table>\n",
       "</div>"
      ],
      "text/plain": [
       "   id  person_id                      instituition graduated_at\n",
       "0   1       6117                               NaN          NaN\n",
       "1   2       6136  Washington University, St. Louis   1990-01-01\n",
       "2   3       6136                 Boston University   1992-01-01\n",
       "3   4       6005           University of Greenwich   2006-01-01\n",
       "4   5       5832                   Rice University          NaN"
      ]
     },
     "metadata": {},
     "output_type": "display_data"
    }
   ],
   "source": [
    "display(df_education.info())\n",
    "display(df_education.head())"
   ]
  },
  {
   "cell_type": "markdown",
   "metadata": {},
   "source": [
    "**4 столбца, 109610 строк. В столбцах institution, graduated_at есть пропуски. Нужно проверить тип данных столбцов с временем.**"
   ]
  },
  {
   "cell_type": "markdown",
   "metadata": {},
   "source": [
    "**4** Таблица people\n",
    "Содержит информацию о сотрудниках:\n",
    "- id — идентификатор сотрудника.\n",
    "- first_name — имя сотрудника.\n",
    "- last_name — фамилия сотрудника.\n",
    "- company_id — идентификатор компании.\n",
    "- network_username — ник в социальных сетях.\n"
   ]
  },
  {
   "cell_type": "code",
   "execution_count": 6,
   "metadata": {
    "scrolled": true
   },
   "outputs": [
    {
     "name": "stdout",
     "output_type": "stream",
     "text": [
      "<class 'pandas.core.frame.DataFrame'>\n",
      "RangeIndex: 226709 entries, 0 to 226708\n",
      "Data columns (total 5 columns):\n",
      " #   Column            Non-Null Count   Dtype  \n",
      "---  ------            --------------   -----  \n",
      " 0   id                226709 non-null  int64  \n",
      " 1   first_name        226704 non-null  object \n",
      " 2   last_name         226708 non-null  object \n",
      " 3   company_id        34615 non-null   float64\n",
      " 4   network_username  38867 non-null   object \n",
      "dtypes: float64(1), int64(1), object(3)\n",
      "memory usage: 8.6+ MB\n"
     ]
    },
    {
     "data": {
      "text/plain": [
       "None"
      ]
     },
     "metadata": {},
     "output_type": "display_data"
    },
    {
     "data": {
      "text/html": [
       "<div>\n",
       "<style scoped>\n",
       "    .dataframe tbody tr th:only-of-type {\n",
       "        vertical-align: middle;\n",
       "    }\n",
       "\n",
       "    .dataframe tbody tr th {\n",
       "        vertical-align: top;\n",
       "    }\n",
       "\n",
       "    .dataframe thead th {\n",
       "        text-align: right;\n",
       "    }\n",
       "</style>\n",
       "<table border=\"1\" class=\"dataframe\">\n",
       "  <thead>\n",
       "    <tr style=\"text-align: right;\">\n",
       "      <th></th>\n",
       "      <th>id</th>\n",
       "      <th>first_name</th>\n",
       "      <th>last_name</th>\n",
       "      <th>company_id</th>\n",
       "      <th>network_username</th>\n",
       "    </tr>\n",
       "  </thead>\n",
       "  <tbody>\n",
       "    <tr>\n",
       "      <th>0</th>\n",
       "      <td>10</td>\n",
       "      <td>Mark</td>\n",
       "      <td>Zuckerberg</td>\n",
       "      <td>5.0</td>\n",
       "      <td>NaN</td>\n",
       "    </tr>\n",
       "    <tr>\n",
       "      <th>1</th>\n",
       "      <td>100</td>\n",
       "      <td>Peter</td>\n",
       "      <td>Lester</td>\n",
       "      <td>27.0</td>\n",
       "      <td>NaN</td>\n",
       "    </tr>\n",
       "    <tr>\n",
       "      <th>2</th>\n",
       "      <td>1000</td>\n",
       "      <td>Dr. Steven</td>\n",
       "      <td>E. Saunders</td>\n",
       "      <td>292.0</td>\n",
       "      <td>NaN</td>\n",
       "    </tr>\n",
       "    <tr>\n",
       "      <th>3</th>\n",
       "      <td>10000</td>\n",
       "      <td>Neil</td>\n",
       "      <td>Capel</td>\n",
       "      <td>2526.0</td>\n",
       "      <td>NaN</td>\n",
       "    </tr>\n",
       "    <tr>\n",
       "      <th>4</th>\n",
       "      <td>100000</td>\n",
       "      <td>Sue</td>\n",
       "      <td>Pilsch</td>\n",
       "      <td>NaN</td>\n",
       "      <td>NaN</td>\n",
       "    </tr>\n",
       "  </tbody>\n",
       "</table>\n",
       "</div>"
      ],
      "text/plain": [
       "       id  first_name    last_name  company_id network_username\n",
       "0      10        Mark   Zuckerberg         5.0              NaN\n",
       "1     100       Peter       Lester        27.0              NaN\n",
       "2    1000  Dr. Steven  E. Saunders       292.0              NaN\n",
       "3   10000        Neil        Capel      2526.0              NaN\n",
       "4  100000         Sue       Pilsch         NaN              NaN"
      ]
     },
     "metadata": {},
     "output_type": "display_data"
    }
   ],
   "source": [
    "display(df_people.info())\n",
    "display(df_people.head())"
   ]
  },
  {
   "cell_type": "markdown",
   "metadata": {},
   "source": [
    "**5 столбцов, 226709 строк. Во всех столбцах есть пропуски, кроме id**"
   ]
  },
  {
   "cell_type": "markdown",
   "metadata": {},
   "source": [
    "**5** Таблица degrees\n",
    "Содержит информацию о типе образования сотрудника:\n",
    "- id — идентификатор записи.\n",
    "- object_id — идентификатор сотрудника.\n",
    "- degree_type — тип образования.\n",
    "- subject — специальность."
   ]
  },
  {
   "cell_type": "code",
   "execution_count": 7,
   "metadata": {
    "scrolled": true
   },
   "outputs": [
    {
     "name": "stdout",
     "output_type": "stream",
     "text": [
      "<class 'pandas.core.frame.DataFrame'>\n",
      "RangeIndex: 109610 entries, 0 to 109609\n",
      "Data columns (total 4 columns):\n",
      " #   Column       Non-Null Count   Dtype \n",
      "---  ------       --------------   ----- \n",
      " 0   id           109610 non-null  int64 \n",
      " 1   object_id    109610 non-null  object\n",
      " 2   degree_type  98392 non-null   object\n",
      " 3   subject      81298 non-null   object\n",
      "dtypes: int64(1), object(3)\n",
      "memory usage: 3.3+ MB\n"
     ]
    },
    {
     "data": {
      "text/plain": [
       "None"
      ]
     },
     "metadata": {},
     "output_type": "display_data"
    },
    {
     "data": {
      "text/html": [
       "<div>\n",
       "<style scoped>\n",
       "    .dataframe tbody tr th:only-of-type {\n",
       "        vertical-align: middle;\n",
       "    }\n",
       "\n",
       "    .dataframe tbody tr th {\n",
       "        vertical-align: top;\n",
       "    }\n",
       "\n",
       "    .dataframe thead th {\n",
       "        text-align: right;\n",
       "    }\n",
       "</style>\n",
       "<table border=\"1\" class=\"dataframe\">\n",
       "  <thead>\n",
       "    <tr style=\"text-align: right;\">\n",
       "      <th></th>\n",
       "      <th>id</th>\n",
       "      <th>object_id</th>\n",
       "      <th>degree_type</th>\n",
       "      <th>subject</th>\n",
       "    </tr>\n",
       "  </thead>\n",
       "  <tbody>\n",
       "    <tr>\n",
       "      <th>0</th>\n",
       "      <td>1</td>\n",
       "      <td>p:6117</td>\n",
       "      <td>MBA</td>\n",
       "      <td>NaN</td>\n",
       "    </tr>\n",
       "    <tr>\n",
       "      <th>1</th>\n",
       "      <td>2</td>\n",
       "      <td>p:6136</td>\n",
       "      <td>BA</td>\n",
       "      <td>English, French</td>\n",
       "    </tr>\n",
       "    <tr>\n",
       "      <th>2</th>\n",
       "      <td>3</td>\n",
       "      <td>p:6136</td>\n",
       "      <td>MS</td>\n",
       "      <td>Mass Communication</td>\n",
       "    </tr>\n",
       "    <tr>\n",
       "      <th>3</th>\n",
       "      <td>4</td>\n",
       "      <td>p:6005</td>\n",
       "      <td>MS</td>\n",
       "      <td>Internet Technology</td>\n",
       "    </tr>\n",
       "    <tr>\n",
       "      <th>4</th>\n",
       "      <td>5</td>\n",
       "      <td>p:5832</td>\n",
       "      <td>BCS</td>\n",
       "      <td>Computer Science, Psychology</td>\n",
       "    </tr>\n",
       "  </tbody>\n",
       "</table>\n",
       "</div>"
      ],
      "text/plain": [
       "   id object_id degree_type                       subject\n",
       "0   1    p:6117         MBA                           NaN\n",
       "1   2    p:6136          BA               English, French\n",
       "2   3    p:6136          MS            Mass Communication\n",
       "3   4    p:6005          MS           Internet Technology\n",
       "4   5    p:5832         BCS  Computer Science, Psychology"
      ]
     },
     "metadata": {},
     "output_type": "display_data"
    }
   ],
   "source": [
    "display(df_degrees.info())\n",
    "display(df_degrees.head())"
   ]
  },
  {
   "cell_type": "markdown",
   "metadata": {},
   "source": [
    "**5 столбцов, 109610 строк. В столбцах degree_type,subject есть пропуски. Также похожи поля object_id в degrees_df и person_id в education_df**"
   ]
  },
  {
   "cell_type": "markdown",
   "metadata": {},
   "source": [
    "**Первичная оценка: очень много пропусков, неправильные названия столбцов, неправильные типы данных.**"
   ]
  },
  {
   "cell_type": "markdown",
   "metadata": {
    "id": "mg2gEwh0rJg0"
   },
   "source": [
    "### 1.2. Смена типов\n",
    "\n",
    "- Изменим типы данных в столбцах, которые хранят значения даты и времени."
   ]
  },
  {
   "cell_type": "markdown",
   "metadata": {
    "id": "FsL0A8RBrJg1",
    "vscode": {
     "languageId": "plaintext"
    }
   },
   "source": [
    "Переименуем названия столбцов таблицы df_company_and_rounds."
   ]
  },
  {
   "cell_type": "code",
   "execution_count": 8,
   "metadata": {
    "id": "46VskrGyFeJ-"
   },
   "outputs": [
    {
     "name": "stdout",
     "output_type": "stream",
     "text": [
      "Index(['company_id', 'name', 'category_code', 'status', 'founded_at',\n",
      "       'closed_at', 'domain', 'network_username', 'country_code',\n",
      "       'investment_rounds', 'funding_rounds', 'funding_total', 'milestones',\n",
      "       'funding_round_id', 'company_id_second', 'funded_at',\n",
      "       'funding_round_type', 'raised_amount', 'pre_money_valuation',\n",
      "       'participants', 'is_first_round', 'is_last_round'],\n",
      "      dtype='object')\n"
     ]
    }
   ],
   "source": [
    "df_company_and_rounds = df_company_and_rounds.rename(columns = {'company  ID' : 'company_id',\n",
    "                                        'category  code' :  'category_code',\n",
    "                                        'founded  at' : 'founded_at',\n",
    "                                        'closed  at' : 'closed_at',\n",
    "                                        'founded  at' : 'founded_at',\n",
    "                                        'network  username' : 'network_username',\n",
    "                                        'country  code' : 'country_code',\n",
    "                                        'investment  rounds' : 'investment_rounds',\n",
    "                                        'funding  rounds' : 'funding_rounds',\n",
    "                                        'funding  total' : 'funding_total',\n",
    "                                        'funding  round  id' : 'funding_round_id',\n",
    "                                        'company  id' : 'company_id_second',\n",
    "                                        'funded  at' : 'funded_at',\n",
    "                                        'funding  round  type' : 'funding_round_type',\n",
    "                                        'raised  amount' : 'raised_amount',\n",
    "                                        'pre  money  valuation' : 'pre_money_valuation',\n",
    "                                        'is  first  round' : 'is_first_round',\n",
    "                                        'is  last  round' : 'is_last_round'})\n",
    "print(df_company_and_rounds.columns)"
   ]
  },
  {
   "cell_type": "code",
   "execution_count": 9,
   "metadata": {},
   "outputs": [
    {
     "name": "stdout",
     "output_type": "stream",
     "text": [
      "datetime64[ns]\n"
     ]
    }
   ],
   "source": [
    "#Изменим тип данных столбца acquired_at таблицы df_acquisition\n",
    "df_acquisition['acquired_at'] = pd.to_datetime(df_acquisition['acquired_at'])\n",
    "print(df_acquisition['acquired_at'].dtype)"
   ]
  },
  {
   "cell_type": "code",
   "execution_count": 10,
   "metadata": {},
   "outputs": [
    {
     "name": "stdout",
     "output_type": "stream",
     "text": [
      "datetime64[ns] datetime64[ns] datetime64[ns]\n"
     ]
    }
   ],
   "source": [
    "#Изменим тип данных столбцов founded_at, closed_at, funded_at таблицы df_company_and_rounds\n",
    "df_company_and_rounds['founded_at'] = pd.to_datetime(df_company_and_rounds['founded_at'])\n",
    "df_company_and_rounds['closed_at'] = pd.to_datetime(df_company_and_rounds['closed_at'])\n",
    "df_company_and_rounds['funded_at'] = pd.to_datetime(df_company_and_rounds['funded_at'])\n",
    "print(df_company_and_rounds['founded_at'].dtype,df_company_and_rounds['closed_at'].dtype,df_company_and_rounds['funded_at'].dtype)"
   ]
  },
  {
   "cell_type": "code",
   "execution_count": 11,
   "metadata": {},
   "outputs": [
    {
     "name": "stdout",
     "output_type": "stream",
     "text": [
      "datetime64[ns]\n"
     ]
    }
   ],
   "source": [
    "#Изменим тип данных столбца graduated_at таблицы df_education\n",
    "df_education['graduated_at'] = pd.to_datetime(df_education['graduated_at'])\n",
    "print(df_education['graduated_at'].dtype)"
   ]
  },
  {
   "cell_type": "markdown",
   "metadata": {},
   "source": [
    " ### 1.3. Анализ пропусков"
   ]
  },
  {
   "cell_type": "markdown",
   "metadata": {},
   "source": [
    "**Таблица df_acquisition** Пропуски в столбце term_code возможно связаны с тем, что дата сделки отличается от даты оплаты, немногие оплачивают услуги при совершении сделки.\n"
   ]
  },
  {
   "cell_type": "code",
   "execution_count": 12,
   "metadata": {},
   "outputs": [
    {
     "name": "stdout",
     "output_type": "stream",
     "text": [
      "term_code               0.81\n",
      "id                      0.00\n",
      "acquiring_company_id    0.00\n",
      "acquired_company_id     0.00\n",
      "price_amount            0.00\n",
      "acquired_at             0.00\n",
      "dtype: float64\n"
     ]
    }
   ],
   "source": [
    "print(round(df_acquisition.isna().mean(),2).sort_values(ascending = False))"
   ]
  },
  {
   "cell_type": "markdown",
   "metadata": {},
   "source": [
    "**Таблица df_company_and_rounds** Такое количество пропусков возможно связано с тем, что эта таблица является результатом объединения двух других таблиц."
   ]
  },
  {
   "cell_type": "code",
   "execution_count": 13,
   "metadata": {},
   "outputs": [
    {
     "name": "stdout",
     "output_type": "stream",
     "text": [
      "closed_at              0.98\n",
      "is_last_round          0.76\n",
      "funded_at              0.76\n",
      "is_first_round         0.76\n",
      "participants           0.76\n",
      "pre_money_valuation    0.76\n",
      "raised_amount          0.76\n",
      "funding_round_type     0.76\n",
      "funding_round_id       0.76\n",
      "company_id_second      0.76\n",
      "network_username       0.56\n",
      "founded_at             0.50\n",
      "country_code           0.50\n",
      "category_code          0.34\n",
      "domain                 0.32\n",
      "company_id             0.00\n",
      "milestones             0.00\n",
      "name                   0.00\n",
      "funding_rounds         0.00\n",
      "investment_rounds      0.00\n",
      "status                 0.00\n",
      "funding_total          0.00\n",
      "dtype: float64\n"
     ]
    }
   ],
   "source": [
    "print(round(df_company_and_rounds.isna().mean(),2).sort_values(ascending = False))"
   ]
  },
  {
   "cell_type": "code",
   "execution_count": 14,
   "metadata": {},
   "outputs": [
    {
     "data": {
      "image/png": "[encoded data removed]",
      "text/plain": [
       "<Figure size 1800x720 with 1 Axes>"
      ]
     },
     "metadata": {
      "needs_background": "light"
     },
     "output_type": "display_data"
    }
   ],
   "source": [
    "# Код ревьюера\n",
    "# Метод dendrogram из библиотеки missingno\n",
    "!pip install missingno -q\n",
    "import missingno as msno\n",
    "msno.dendrogram(df_company_and_rounds)\n",
    "plt.show()"
   ]
  },
  {
   "cell_type": "markdown",
   "metadata": {},
   "source": [
    "**Таблица df_education** Пропуски связаны скорее всего с тем, что человек все еще продолжает обучаться, поэтому даты выпуска нет."
   ]
  },
  {
   "cell_type": "code",
   "execution_count": 15,
   "metadata": {},
   "outputs": [
    {
     "name": "stdout",
     "output_type": "stream",
     "text": [
      "graduated_at    0.47\n",
      "id              0.00\n",
      "person_id       0.00\n",
      "instituition    0.00\n",
      "dtype: float64\n"
     ]
    }
   ],
   "source": [
    "print(round(df_education.isna().mean(),2).sort_values(ascending = False))"
   ]
  },
  {
   "cell_type": "markdown",
   "metadata": {},
   "source": [
    "**Таблица df_people** Пропуски возможно связаны с тем, что заполнение полей company_id, network_username  было необязательно."
   ]
  },
  {
   "cell_type": "code",
   "execution_count": 16,
   "metadata": {},
   "outputs": [
    {
     "name": "stdout",
     "output_type": "stream",
     "text": [
      "company_id          0.85\n",
      "network_username    0.83\n",
      "id                  0.00\n",
      "first_name          0.00\n",
      "last_name           0.00\n",
      "dtype: float64\n"
     ]
    }
   ],
   "source": [
    "print(round(df_people.isna().mean(),2).sort_values(ascending = False))"
   ]
  },
  {
   "cell_type": "markdown",
   "metadata": {},
   "source": [
    "**Таблица df_degrees** Пропуск в столбце degree_type связаны скорее всего с тем, что человек все еще продолжает обучаться, специальность не указана возможно из за отсутсвия образования.\n"
   ]
  },
  {
   "cell_type": "code",
   "execution_count": 17,
   "metadata": {},
   "outputs": [
    {
     "name": "stdout",
     "output_type": "stream",
     "text": [
      "subject        0.26\n",
      "degree_type    0.10\n",
      "id             0.00\n",
      "object_id      0.00\n",
      "dtype: float64\n"
     ]
    }
   ],
   "source": [
    "print(round(df_degrees.isna().mean(),2).sort_values(ascending = False))"
   ]
  },
  {
   "cell_type": "markdown",
   "metadata": {
    "id": "u60cHsn6rJg1"
   },
   "source": [
    "## Шаг 2. Предобработка данных, предварительное исследование"
   ]
  },
  {
   "cell_type": "markdown",
   "metadata": {
    "id": "g2bHIIjcrJg1"
   },
   "source": [
    "\n",
    "### 2.1. Раунды финансирования по годам\n",
    "\n",
    "Задание выполнено без объединения и дополнительной предобработки на основе датасета `company_and_rounds.csv`.\n",
    "\n",
    "- Составили сводную таблицу по годам, в которой на основании столбца `raised_amount` для каждого года указан:\n",
    "    - типичный размер средств, выделяемый в рамках одного раунда;\n",
    "    - общее количество раундов финансирования за этот год.\n",
    "    \n",
    "- Оставили в таблице информацию только для тех лет, для которых есть информация о более чем 50 раундах финансирования.\n",
    "- На основе получившейся таблицы построили график, который будет отражать динамику типичного размера средств, которые стартапы получали в рамках одного раунда финансирования.\n",
    "\n",
    "На основе полученных данных ответили на вопросы:\n",
    "\n",
    "- В каком году типичный размер собранных в рамках одного раунда средств был максимален?\n",
    "- Какая тенденция по количеству раундов и выделяемых в рамках каждого раунда средств наблюдалась в 2013 году?"
   ]
  },
  {
   "cell_type": "code",
   "execution_count": 18,
   "metadata": {
    "id": "Cf5IjfOQrJg1",
    "vscode": {
     "languageId": "plaintext"
    }
   },
   "outputs": [],
   "source": [
    "#Добавим столбец только с годом\n",
    "df_company_and_rounds['funded_at_year'] = df_company_and_rounds['funded_at'].dt.year\n",
    "df_company_and_rounds['funded_at_year'] = df_company_and_rounds['funded_at_year'].fillna(0).astype('int32')"
   ]
  },
  {
   "cell_type": "code",
   "execution_count": 19,
   "metadata": {
    "id": "8Fbz6KmzFdYP",
    "scrolled": true
   },
   "outputs": [
    {
     "data": {
      "text/html": [
       "<div>\n",
       "<style scoped>\n",
       "    .dataframe tbody tr th:only-of-type {\n",
       "        vertical-align: middle;\n",
       "    }\n",
       "\n",
       "    .dataframe tbody tr th {\n",
       "        vertical-align: top;\n",
       "    }\n",
       "\n",
       "    .dataframe thead tr th {\n",
       "        text-align: left;\n",
       "    }\n",
       "</style>\n",
       "<table border=\"1\" class=\"dataframe\">\n",
       "  <thead>\n",
       "    <tr>\n",
       "      <th></th>\n",
       "      <th>funded_at_year</th>\n",
       "      <th>median</th>\n",
       "      <th>count</th>\n",
       "    </tr>\n",
       "    <tr>\n",
       "      <th></th>\n",
       "      <th></th>\n",
       "      <th>raised_amount</th>\n",
       "      <th>raised_amount</th>\n",
       "    </tr>\n",
       "  </thead>\n",
       "  <tbody>\n",
       "    <tr>\n",
       "      <th>0</th>\n",
       "      <td>0</td>\n",
       "      <td>0.0</td>\n",
       "      <td>248</td>\n",
       "    </tr>\n",
       "    <tr>\n",
       "      <th>1</th>\n",
       "      <td>1960</td>\n",
       "      <td>0.0</td>\n",
       "      <td>9</td>\n",
       "    </tr>\n",
       "    <tr>\n",
       "      <th>2</th>\n",
       "      <td>1973</td>\n",
       "      <td>0.0</td>\n",
       "      <td>1</td>\n",
       "    </tr>\n",
       "    <tr>\n",
       "      <th>3</th>\n",
       "      <td>1974</td>\n",
       "      <td>0.0</td>\n",
       "      <td>2</td>\n",
       "    </tr>\n",
       "    <tr>\n",
       "      <th>4</th>\n",
       "      <td>1984</td>\n",
       "      <td>41000.0</td>\n",
       "      <td>3</td>\n",
       "    </tr>\n",
       "    <tr>\n",
       "      <th>5</th>\n",
       "      <td>1985</td>\n",
       "      <td>0.0</td>\n",
       "      <td>1</td>\n",
       "    </tr>\n",
       "    <tr>\n",
       "      <th>6</th>\n",
       "      <td>1987</td>\n",
       "      <td>1250000.0</td>\n",
       "      <td>2</td>\n",
       "    </tr>\n",
       "    <tr>\n",
       "      <th>7</th>\n",
       "      <td>1989</td>\n",
       "      <td>15000.0</td>\n",
       "      <td>1</td>\n",
       "    </tr>\n",
       "    <tr>\n",
       "      <th>8</th>\n",
       "      <td>1990</td>\n",
       "      <td>1000000.0</td>\n",
       "      <td>1</td>\n",
       "    </tr>\n",
       "    <tr>\n",
       "      <th>9</th>\n",
       "      <td>1992</td>\n",
       "      <td>2000000.0</td>\n",
       "      <td>1</td>\n",
       "    </tr>\n",
       "    <tr>\n",
       "      <th>10</th>\n",
       "      <td>1993</td>\n",
       "      <td>62500.0</td>\n",
       "      <td>2</td>\n",
       "    </tr>\n",
       "    <tr>\n",
       "      <th>11</th>\n",
       "      <td>1994</td>\n",
       "      <td>6700000.0</td>\n",
       "      <td>2</td>\n",
       "    </tr>\n",
       "    <tr>\n",
       "      <th>12</th>\n",
       "      <td>1995</td>\n",
       "      <td>2000000.0</td>\n",
       "      <td>7</td>\n",
       "    </tr>\n",
       "    <tr>\n",
       "      <th>13</th>\n",
       "      <td>1996</td>\n",
       "      <td>12500.0</td>\n",
       "      <td>7</td>\n",
       "    </tr>\n",
       "    <tr>\n",
       "      <th>14</th>\n",
       "      <td>1997</td>\n",
       "      <td>3300000.0</td>\n",
       "      <td>9</td>\n",
       "    </tr>\n",
       "    <tr>\n",
       "      <th>15</th>\n",
       "      <td>1998</td>\n",
       "      <td>100000.0</td>\n",
       "      <td>29</td>\n",
       "    </tr>\n",
       "    <tr>\n",
       "      <th>16</th>\n",
       "      <td>1999</td>\n",
       "      <td>2000000.0</td>\n",
       "      <td>76</td>\n",
       "    </tr>\n",
       "    <tr>\n",
       "      <th>17</th>\n",
       "      <td>2000</td>\n",
       "      <td>4200000.0</td>\n",
       "      <td>125</td>\n",
       "    </tr>\n",
       "    <tr>\n",
       "      <th>18</th>\n",
       "      <td>2001</td>\n",
       "      <td>3000000.0</td>\n",
       "      <td>96</td>\n",
       "    </tr>\n",
       "    <tr>\n",
       "      <th>19</th>\n",
       "      <td>2002</td>\n",
       "      <td>4200000.0</td>\n",
       "      <td>116</td>\n",
       "    </tr>\n",
       "    <tr>\n",
       "      <th>20</th>\n",
       "      <td>2003</td>\n",
       "      <td>3000000.0</td>\n",
       "      <td>159</td>\n",
       "    </tr>\n",
       "    <tr>\n",
       "      <th>21</th>\n",
       "      <td>2004</td>\n",
       "      <td>5000000.0</td>\n",
       "      <td>291</td>\n",
       "    </tr>\n",
       "    <tr>\n",
       "      <th>22</th>\n",
       "      <td>2005</td>\n",
       "      <td>5500000.0</td>\n",
       "      <td>1633</td>\n",
       "    </tr>\n",
       "    <tr>\n",
       "      <th>23</th>\n",
       "      <td>2006</td>\n",
       "      <td>5000000.0</td>\n",
       "      <td>2436</td>\n",
       "    </tr>\n",
       "    <tr>\n",
       "      <th>24</th>\n",
       "      <td>2007</td>\n",
       "      <td>3973320.0</td>\n",
       "      <td>3279</td>\n",
       "    </tr>\n",
       "    <tr>\n",
       "      <th>25</th>\n",
       "      <td>2008</td>\n",
       "      <td>3110000.0</td>\n",
       "      <td>3774</td>\n",
       "    </tr>\n",
       "    <tr>\n",
       "      <th>26</th>\n",
       "      <td>2009</td>\n",
       "      <td>2000000.0</td>\n",
       "      <td>4151</td>\n",
       "    </tr>\n",
       "    <tr>\n",
       "      <th>27</th>\n",
       "      <td>2010</td>\n",
       "      <td>1602500.0</td>\n",
       "      <td>6221</td>\n",
       "    </tr>\n",
       "    <tr>\n",
       "      <th>28</th>\n",
       "      <td>2011</td>\n",
       "      <td>1200000.0</td>\n",
       "      <td>9204</td>\n",
       "    </tr>\n",
       "    <tr>\n",
       "      <th>29</th>\n",
       "      <td>2012</td>\n",
       "      <td>1000000.0</td>\n",
       "      <td>9970</td>\n",
       "    </tr>\n",
       "    <tr>\n",
       "      <th>30</th>\n",
       "      <td>2013</td>\n",
       "      <td>1200000.0</td>\n",
       "      <td>11072</td>\n",
       "    </tr>\n",
       "  </tbody>\n",
       "</table>\n",
       "</div>"
      ],
      "text/plain": [
       "   funded_at_year        median         count\n",
       "                  raised_amount raised_amount\n",
       "0               0           0.0           248\n",
       "1            1960           0.0             9\n",
       "2            1973           0.0             1\n",
       "3            1974           0.0             2\n",
       "4            1984       41000.0             3\n",
       "5            1985           0.0             1\n",
       "6            1987     1250000.0             2\n",
       "7            1989       15000.0             1\n",
       "8            1990     1000000.0             1\n",
       "9            1992     2000000.0             1\n",
       "10           1993       62500.0             2\n",
       "11           1994     6700000.0             2\n",
       "12           1995     2000000.0             7\n",
       "13           1996       12500.0             7\n",
       "14           1997     3300000.0             9\n",
       "15           1998      100000.0            29\n",
       "16           1999     2000000.0            76\n",
       "17           2000     4200000.0           125\n",
       "18           2001     3000000.0            96\n",
       "19           2002     4200000.0           116\n",
       "20           2003     3000000.0           159\n",
       "21           2004     5000000.0           291\n",
       "22           2005     5500000.0          1633\n",
       "23           2006     5000000.0          2436\n",
       "24           2007     3973320.0          3279\n",
       "25           2008     3110000.0          3774\n",
       "26           2009     2000000.0          4151\n",
       "27           2010     1602500.0          6221\n",
       "28           2011     1200000.0          9204\n",
       "29           2012     1000000.0          9970\n",
       "30           2013     1200000.0         11072"
      ]
     },
     "metadata": {},
     "output_type": "display_data"
    }
   ],
   "source": [
    "#Сводная таблица\n",
    "raised_amount_table = pd.pivot_table(df_company_and_rounds, index = 'funded_at_year', values = 'raised_amount',aggfunc = ['median','count'])\n",
    "raised_amount_table = raised_amount_table.reset_index()\n",
    "display(raised_amount_table)"
   ]
  },
  {
   "cell_type": "code",
   "execution_count": 20,
   "metadata": {},
   "outputs": [
    {
     "data": {
      "text/html": [
       "<div>\n",
       "<style scoped>\n",
       "    .dataframe tbody tr th:only-of-type {\n",
       "        vertical-align: middle;\n",
       "    }\n",
       "\n",
       "    .dataframe tbody tr th {\n",
       "        vertical-align: top;\n",
       "    }\n",
       "\n",
       "    .dataframe thead th {\n",
       "        text-align: right;\n",
       "    }\n",
       "</style>\n",
       "<table border=\"1\" class=\"dataframe\">\n",
       "  <thead>\n",
       "    <tr style=\"text-align: right;\">\n",
       "      <th></th>\n",
       "      <th>funded_at_year</th>\n",
       "      <th>median_raised_amount</th>\n",
       "      <th>count_raised_amount</th>\n",
       "    </tr>\n",
       "  </thead>\n",
       "  <tbody>\n",
       "    <tr>\n",
       "      <th>16</th>\n",
       "      <td>1999</td>\n",
       "      <td>2000000.0</td>\n",
       "      <td>76</td>\n",
       "    </tr>\n",
       "    <tr>\n",
       "      <th>17</th>\n",
       "      <td>2000</td>\n",
       "      <td>4200000.0</td>\n",
       "      <td>125</td>\n",
       "    </tr>\n",
       "    <tr>\n",
       "      <th>18</th>\n",
       "      <td>2001</td>\n",
       "      <td>3000000.0</td>\n",
       "      <td>96</td>\n",
       "    </tr>\n",
       "    <tr>\n",
       "      <th>19</th>\n",
       "      <td>2002</td>\n",
       "      <td>4200000.0</td>\n",
       "      <td>116</td>\n",
       "    </tr>\n",
       "    <tr>\n",
       "      <th>20</th>\n",
       "      <td>2003</td>\n",
       "      <td>3000000.0</td>\n",
       "      <td>159</td>\n",
       "    </tr>\n",
       "    <tr>\n",
       "      <th>21</th>\n",
       "      <td>2004</td>\n",
       "      <td>5000000.0</td>\n",
       "      <td>291</td>\n",
       "    </tr>\n",
       "    <tr>\n",
       "      <th>22</th>\n",
       "      <td>2005</td>\n",
       "      <td>5500000.0</td>\n",
       "      <td>1633</td>\n",
       "    </tr>\n",
       "    <tr>\n",
       "      <th>23</th>\n",
       "      <td>2006</td>\n",
       "      <td>5000000.0</td>\n",
       "      <td>2436</td>\n",
       "    </tr>\n",
       "    <tr>\n",
       "      <th>24</th>\n",
       "      <td>2007</td>\n",
       "      <td>3973320.0</td>\n",
       "      <td>3279</td>\n",
       "    </tr>\n",
       "    <tr>\n",
       "      <th>25</th>\n",
       "      <td>2008</td>\n",
       "      <td>3110000.0</td>\n",
       "      <td>3774</td>\n",
       "    </tr>\n",
       "    <tr>\n",
       "      <th>26</th>\n",
       "      <td>2009</td>\n",
       "      <td>2000000.0</td>\n",
       "      <td>4151</td>\n",
       "    </tr>\n",
       "    <tr>\n",
       "      <th>27</th>\n",
       "      <td>2010</td>\n",
       "      <td>1602500.0</td>\n",
       "      <td>6221</td>\n",
       "    </tr>\n",
       "    <tr>\n",
       "      <th>28</th>\n",
       "      <td>2011</td>\n",
       "      <td>1200000.0</td>\n",
       "      <td>9204</td>\n",
       "    </tr>\n",
       "    <tr>\n",
       "      <th>29</th>\n",
       "      <td>2012</td>\n",
       "      <td>1000000.0</td>\n",
       "      <td>9970</td>\n",
       "    </tr>\n",
       "    <tr>\n",
       "      <th>30</th>\n",
       "      <td>2013</td>\n",
       "      <td>1200000.0</td>\n",
       "      <td>11072</td>\n",
       "    </tr>\n",
       "  </tbody>\n",
       "</table>\n",
       "</div>"
      ],
      "text/plain": [
       "    funded_at_year  median_raised_amount  count_raised_amount\n",
       "16            1999             2000000.0                   76\n",
       "17            2000             4200000.0                  125\n",
       "18            2001             3000000.0                   96\n",
       "19            2002             4200000.0                  116\n",
       "20            2003             3000000.0                  159\n",
       "21            2004             5000000.0                  291\n",
       "22            2005             5500000.0                 1633\n",
       "23            2006             5000000.0                 2436\n",
       "24            2007             3973320.0                 3279\n",
       "25            2008             3110000.0                 3774\n",
       "26            2009             2000000.0                 4151\n",
       "27            2010             1602500.0                 6221\n",
       "28            2011             1200000.0                 9204\n",
       "29            2012             1000000.0                 9970\n",
       "30            2013             1200000.0                11072"
      ]
     },
     "metadata": {},
     "output_type": "display_data"
    },
    {
     "data": {
      "image/png": "[encoded data removed]",
      "text/plain": [
       "<Figure size 864x720 with 2 Axes>"
      ]
     },
     "metadata": {
      "needs_background": "light"
     },
     "output_type": "display_data"
    }
   ],
   "source": [
    "raised_amount_table.columns = ['funded_at_year','median_raised_amount','count_raised_amount']\n",
    "raised_amount_table = raised_amount_table[raised_amount_table['count_raised_amount']>50]\n",
    "raised_amount_table = raised_amount_table[raised_amount_table['funded_at_year']!=0]\n",
    "display(raised_amount_table)\n",
    "# Построение графика\n",
    "fig, (ax1, ax2) = plt.subplots(2, 1, figsize=(12, 10), sharex=True)\n",
    "\n",
    "# Первый график - медианная сумма финансирования\n",
    "ax1.plot(raised_amount_table['funded_at_year'], \n",
    "         raised_amount_table['median_raised_amount']/1e6,  # Конвертируем в миллионы\n",
    "         marker='o')\n",
    "ax1.set_title('Динамика инвестиций по годам')\n",
    "ax1.set_ylabel('Медианная сумма раунда (млн $)')\n",
    "ax1.grid(True)\n",
    "ax1.tick_params(axis='y')\n",
    "\n",
    "# Второй график - количество раундов\n",
    "ax2.plot(raised_amount_table['funded_at_year'], \n",
    "         raised_amount_table['count_raised_amount'],\n",
    "         marker='o')\n",
    "ax2.set_xlabel('Год')\n",
    "ax2.set_ylabel('Количество раундов')\n",
    "ax2.grid(True)\n",
    "\n",
    "# Настройка оси X\n",
    "plt.xticks(raised_amount_table['funded_at_year'].astype(int))  # Цена деления 1 год\n",
    "plt.tight_layout()\n",
    "plt.show()"
   ]
  },
  {
   "cell_type": "markdown",
   "metadata": {},
   "source": [
    "**Максимальный типичный размер собранных в рамках одного раунда средств был в 2005 году. В 2013 было 11072 раунда и в среднем выделялось 1200000 $.**"
   ]
  },
  {
   "cell_type": "markdown",
   "metadata": {
    "id": "45if1en1rJg2"
   },
   "source": [
    "\n",
    "### 2.2. Люди и их образование\n",
    "\n",
    "Заказчик хочет понять, зависит ли полнота сведений о сотрудниках (например, об их образовании) от размера компаний.\n",
    "\n",
    "- Оценили, насколько информация об образовании сотрудников полна. Используя датасеты `people.csv` и `education.csv`, разделили все компании на несколько групп по количеству сотрудников и оцените среднюю долю сотрудников без информации об образовании в каждой из групп. Обоснуйте выбранные границы групп.\n",
    "- Оценили, возможно ли для выполнения задания присоединить к этим таблицам ещё и таблицу `degrees.csv`."
   ]
  },
  {
   "cell_type": "code",
   "execution_count": 21,
   "metadata": {},
   "outputs": [],
   "source": [
    "#Присоеденим таблицы\n",
    "merge = df_people.merge(df_education,left_on = 'id',right_on = 'person_id',how = 'left',suffixes = ('_employee','_edu'))"
   ]
  },
  {
   "cell_type": "code",
   "execution_count": 22,
   "metadata": {},
   "outputs": [
    {
     "data": {
      "image/png": "[encoded data removed]",
      "text/plain": [
       "<Figure size 864x360 with 1 Axes>"
      ]
     },
     "metadata": {
      "needs_background": "light"
     },
     "output_type": "display_data"
    }
   ],
   "source": [
    "company_sizes = df_people.groupby('company_id')['id'].count().reset_index()\n",
    "company_sizes.columns = ['company_id', 'employee_count']\n",
    "\n",
    "# Основные статистики\n",
    "company_sizes.plot(kind = 'scatter', x = 'company_id',y='employee_count',figsize = (12,5))\n",
    "plt.title('Распределение количества сотрудников')\n",
    "plt.xlabel('Компании')\n",
    "plt.ylabel('Кол-во сотрудников')\n",
    "plt.show()"
   ]
  },
  {
   "cell_type": "markdown",
   "metadata": {},
   "source": [
    "Выберем границы для типов компаний.\n",
    "\n",
    "1. Mini (1 сотрудник) - Размер стартапа\n",
    "2. Small (2-10 сотрудников) - Малый бизнес\n",
    "3. Middle (10-50 сотрудников) - Средний бизнес.\n",
    "4. Big (50-100 сотрудников) - Крупные предприятия.\n",
    "5. Huge (100+ сотрудников) - Большие корпорации"
   ]
  },
  {
   "cell_type": "code",
   "execution_count": 23,
   "metadata": {},
   "outputs": [],
   "source": [
    "people_in_company = merge.groupby('company_id').agg({'id_edu':'count',\n",
    "                                                     'id_employee':'count'}).reset_index()\n",
    "def size_comp(x):\n",
    "    if x<=1:\n",
    "        return 'mini'\n",
    "    elif x<=10:\n",
    "        return 'small'\n",
    "    elif x<=50:\n",
    "        return 'middle'\n",
    "    elif x<=100:\n",
    "        return 'big'\n",
    "    else: return 'huge'\n",
    "people_in_company['size'] = people_in_company['id_employee'].apply(size_comp)\n",
    "people_in_company['percent'] = round(people_in_company['id_edu']/people_in_company['id_employee'],2)\n",
    "type_percent = people_in_company.groupby('size')['percent'].mean().sort_values()"
   ]
  },
  {
   "cell_type": "code",
   "execution_count": 24,
   "metadata": {},
   "outputs": [
    {
     "name": "stdout",
     "output_type": "stream",
     "text": [
      "\n",
      "Количество компаний в каждой категории размера:\n",
      " mini      14150\n",
      "small      8542\n",
      "middle      216\n",
      "big          10\n",
      "huge          4\n",
      "Name: size, dtype: int64\n"
     ]
    }
   ],
   "source": [
    "# Код ревьюера\n",
    "size_counts = people_in_company['size'].value_counts()\n",
    "\n",
    "print(\"\\nКоличество компаний в каждой категории размера:\\n\", size_counts)"
   ]
  },
  {
   "cell_type": "code",
   "execution_count": 25,
   "metadata": {
    "scrolled": false
   },
   "outputs": [
    {
     "data": {
      "image/png": "[encoded data removed]",
      "text/plain": [
       "<Figure size 720x432 with 1 Axes>"
      ]
     },
     "metadata": {
      "needs_background": "light"
     },
     "output_type": "display_data"
    }
   ],
   "source": [
    "#Построение графика\n",
    "plt.figure(figsize = (10,6))\n",
    "type_percent.plot.bar(rot = 0)\n",
    "plt.title('Cредняя доля сотрудников без информации об образовании в каждой группе')\n",
    "plt.xlabel('Размер компании')\n",
    "plt.ylabel('Процент осведомленности об образовании сотрудника')\n",
    "plt.grid(axis = 'y')"
   ]
  },
  {
   "cell_type": "markdown",
   "metadata": {},
   "source": [
    "Таблица degrees можно присоеденить по полю object_id — идентификатор сотрудника, и получить информацию о типе образования сотрудников, для отдельных отраслей."
   ]
  },
  {
   "cell_type": "markdown",
   "metadata": {
    "id": "4FC98Pd-FcmG"
   },
   "source": [
    "В среднем осведомленность об образовании сотрудников в компаниях одинакова, выделяются стартапы, где информацией об образовании не сильно интересуются. Возможно это связано с тем, что такие проекты открывают сами студенты, не имеющие образования. Чем больше компания, тем больше знают об образовании, связано с тем, что риски больше и за работу допускают чаще квалифицированных работников."
   ]
  },
  {
   "cell_type": "markdown",
   "metadata": {
    "id": "Lz7qjM32xglW"
   },
   "source": [
    "### 2.3. Объединять или не объединять — вот в чём вопрос\n",
    "\n",
    "Некоторые названия столбцов встречаются в датасетах чаще других. В результате предварительной проверки датасетов было выяснено, что столбец `company_id` подходит для объединения данных.\n",
    "\n",
    "- Установили, подходит ли для объединения данных столбец `network_username`, который встречается в нескольких датасетах. Нам необходимо понимать, дублируется ли для разных датасетов информация в столбцах с таким названием, и если да — то насколько часто.\n",
    "- Оценили, можно ли использовать столбцы с именем `network_username` для объединения данных."
   ]
  },
  {
   "cell_type": "markdown",
   "metadata": {},
   "source": [
    "Объединить по столбцу network_username нельзя, так как встречаются пропуски"
   ]
  },
  {
   "cell_type": "code",
   "execution_count": 26,
   "metadata": {
    "id": "zyI3rt0rxg1O"
   },
   "outputs": [
    {
     "name": "stdout",
     "output_type": "stream",
     "text": [
      "0.8285599601250943\n",
      "0.5613158595608291\n"
     ]
    }
   ],
   "source": [
    "#Доля пропусков в столбце network_username\n",
    "print(df_people['network_username'].isna().mean())\n",
    "print(df_company_and_rounds['network_username'].isna().mean())"
   ]
  },
  {
   "cell_type": "code",
   "execution_count": 27,
   "metadata": {},
   "outputs": [
    {
     "name": "stdout",
     "output_type": "stream",
     "text": [
      "Уникальных никнеймов сотрудников: 38421\n",
      "Уникальных никнеймов компаний: 79571\n",
      "Общих никнеймов: 2199\n",
      "Процент пересечения: 5.72%\n"
     ]
    }
   ],
   "source": [
    "# Уникальные никнеймы сотрудников (из people)\n",
    "usernames_people = set(df_people['network_username'].dropna().unique())\n",
    "\n",
    "# Уникальные никнеймы компаний (из company_and_rounds)\n",
    "usernames_companies = set(df_company_and_rounds['network_username'].dropna().unique())\n",
    "common_usernames = usernames_people & usernames_companies  # Пересечение множеств\n",
    "num_common = len(common_usernames)\n",
    "total_unique_people = len(usernames_people)\n",
    "total_unique_companies = len(usernames_companies)\n",
    "\n",
    "# Процент никнеймов из people, которые есть в company_and_rounds\n",
    "overlap_percent = (num_common / total_unique_people) * 100 if total_unique_people > 0 else 0\n",
    "print(f\"Уникальных никнеймов сотрудников: {total_unique_people}\")\n",
    "print(f\"Уникальных никнеймов компаний: {total_unique_companies}\")\n",
    "print(f\"Общих никнеймов: {num_common}\")\n",
    "print(f\"Процент пересечения: {overlap_percent:.2f}%\")"
   ]
  },
  {
   "cell_type": "code",
   "execution_count": 28,
   "metadata": {},
   "outputs": [
    {
     "data": {
      "image/png": "[encoded data removed]",
      "text/plain": [
       "<Figure size 432x288 with 1 Axes>"
      ]
     },
     "metadata": {},
     "output_type": "display_data"
    }
   ],
   "source": [
    "# Код ревьюера\n",
    "!pip install matplotlib-venn -q\n",
    "from matplotlib_venn import venn2\n",
    "first_id = set(df_company_and_rounds['network_username'].dropna().unique())\n",
    "second_id = set(df_people['network_username'].dropna().unique())\n",
    "# Строим диаграмму Венна\n",
    "venn2([first_id, second_id], set_labels=('df_company_and_rounds', 'df_people'))\n",
    "\n",
    "# Отображаем график\n",
    "plt.title(\"Пересечение \")\n",
    "plt.show()"
   ]
  },
  {
   "cell_type": "markdown",
   "metadata": {
    "id": "EHcODomVrJg1"
   },
   "source": [
    "\n",
    "### 2.4. Проблемный датасет и причина возникновения пропусков\n",
    "\n",
    "Во время собственного анализа данных у заказчика больше всего вопросов возникло к датасету `company_and_rounds.csv`. В нём много пропусков как раз в информации о раундах, которая заказчику важна.\n",
    "\n",
    "- Привели данные в вид, который позволит в дальнейшем проводить анализ в разрезе отдельных компаний. Обратили внимание на структуру датасета, порядок и названия столбцов, проанализируйте значения.\n",
    "\n",
    "По гипотезе заказчика данные по компаниям из этой таблицы раньше хранились иначе, более удобным для исследования образом.\n",
    "\n",
    "- Максимальным образом сохраняя данные, сохранили их связность и исключив возможные возникающие при этом ошибки, подготовили данные так, чтобы удобно было отобрать компании по параметрам и рассчитать показатели из расчёта на одну компанию без промежуточных агрегаций."
   ]
  },
  {
   "cell_type": "code",
   "execution_count": 29,
   "metadata": {
    "id": "oSk7xqu_FbaN",
    "scrolled": true
   },
   "outputs": [
    {
     "name": "stdout",
     "output_type": "stream",
     "text": [
      "<class 'pandas.core.frame.DataFrame'>\n",
      "RangeIndex: 217774 entries, 0 to 217773\n",
      "Data columns (total 13 columns):\n",
      " #   Column             Non-Null Count   Dtype         \n",
      "---  ------             --------------   -----         \n",
      " 0   company_id         217472 non-null  float64       \n",
      " 1   name               217472 non-null  object        \n",
      " 2   category_code      143886 non-null  object        \n",
      " 3   status             217472 non-null  object        \n",
      " 4   founded_at         109956 non-null  datetime64[ns]\n",
      " 5   closed_at          3449 non-null    datetime64[ns]\n",
      " 6   domain             147159 non-null  object        \n",
      " 7   network_username   95534 non-null   object        \n",
      " 8   country_code       108607 non-null  object        \n",
      " 9   investment_rounds  217472 non-null  float64       \n",
      " 10  funding_rounds     217472 non-null  float64       \n",
      " 11  funding_total      217472 non-null  float64       \n",
      " 12  milestones         217472 non-null  float64       \n",
      "dtypes: datetime64[ns](2), float64(5), object(6)\n",
      "memory usage: 21.6+ MB\n"
     ]
    },
    {
     "data": {
      "text/plain": [
       "None"
      ]
     },
     "metadata": {},
     "output_type": "display_data"
    },
    {
     "name": "stdout",
     "output_type": "stream",
     "text": [
      "<class 'pandas.core.frame.DataFrame'>\n",
      "RangeIndex: 217774 entries, 0 to 217773\n",
      "Data columns (total 10 columns):\n",
      " #   Column               Non-Null Count   Dtype         \n",
      "---  ------               --------------   -----         \n",
      " 0   funding_round_id     52928 non-null   float64       \n",
      " 1   company_id_second    52928 non-null   float64       \n",
      " 2   funded_at            52680 non-null   datetime64[ns]\n",
      " 3   funding_round_type   52928 non-null   object        \n",
      " 4   raised_amount        52928 non-null   float64       \n",
      " 5   pre_money_valuation  52928 non-null   float64       \n",
      " 6   participants         52928 non-null   float64       \n",
      " 7   is_first_round       52928 non-null   float64       \n",
      " 8   is_last_round        52928 non-null   float64       \n",
      " 9   funded_at_year       217774 non-null  int32         \n",
      "dtypes: datetime64[ns](1), float64(7), int32(1), object(1)\n",
      "memory usage: 15.8+ MB\n"
     ]
    },
    {
     "data": {
      "text/plain": [
       "None"
      ]
     },
     "metadata": {},
     "output_type": "display_data"
    }
   ],
   "source": [
    "# Таблица с основной информацией о компаниях\n",
    "company= df_company_and_rounds.iloc[:, :13]\n",
    "# Таблица с информацией о раундах финансирования\n",
    "rounds = df_company_and_rounds.iloc[:, 13:]\n",
    "display(company.info())\n",
    "display(rounds.info())"
   ]
  },
  {
   "cell_type": "code",
   "execution_count": 30,
   "metadata": {},
   "outputs": [],
   "source": [
    "#Нормализация данных\n",
    "company['name'] = company['name'].str.lower().str.strip()\n",
    "company['status'] = company['status'].str.lower().str.strip()"
   ]
  },
  {
   "cell_type": "code",
   "execution_count": 31,
   "metadata": {},
   "outputs": [
    {
     "name": "stdout",
     "output_type": "stream",
     "text": [
      "Было:\n",
      "company 21220\n",
      "rounds 164845\n",
      "Стало:\n",
      "company  0\n",
      "rounds 0\n"
     ]
    }
   ],
   "source": [
    "#Проверка на дубликаты\n",
    "print('Было:')\n",
    "print('company',company.duplicated().sum())\n",
    "company = company.drop_duplicates(keep = 'first').reset_index(drop = True)\n",
    "\n",
    "print('rounds',rounds.duplicated().sum())\n",
    "rounds = rounds.drop_duplicates(keep = 'first').reset_index(drop = True)\n",
    "print('Стало:')\n",
    "print('company ',company.duplicated().sum())\n",
    "print('rounds',rounds.duplicated().sum())"
   ]
  },
  {
   "cell_type": "markdown",
   "metadata": {},
   "source": [
    "Деление таблицы на две сделали на основе повторно попавшегося столбца company_id, по которому скорее всего и присоединяли столбцы, также по количеству строк, так в новой таблице rounds количество строк с пропусками уменьшилось. В таблице company 21220 полных дубликатов, в rounds 164845 полных дубликатов."
   ]
  },
  {
   "cell_type": "code",
   "execution_count": 32,
   "metadata": {
    "scrolled": true
   },
   "outputs": [
    {
     "data": {
      "text/plain": [
       "company_id           0.00\n",
       "name                 0.00\n",
       "category_code        0.37\n",
       "status               0.00\n",
       "founded_at           0.54\n",
       "closed_at            0.99\n",
       "domain               0.36\n",
       "network_username     0.59\n",
       "country_code         0.55\n",
       "investment_rounds    0.00\n",
       "funding_rounds       0.00\n",
       "funding_total        0.00\n",
       "milestones           0.00\n",
       "dtype: float64"
      ]
     },
     "metadata": {},
     "output_type": "display_data"
    }
   ],
   "source": [
    "#Обработка пропусков таблицы company\n",
    "display(round(company.isna().mean(),2))"
   ]
  },
  {
   "cell_type": "markdown",
   "metadata": {},
   "source": [
    "**Пропуски в столбцах:**\n",
    "- category_code - 37%,\n",
    "- founded_at - 54%,\n",
    "- closed_at - 99%, пропуски связаны с тем, что компания продолжает работать\n",
    "- domain - 36%, пропуски связаны с тем, что компания возможно не имеет сайт\n",
    "- network_username - 59%, пропуски связаны с тем, что компании нет в сети\n",
    "- country_code - 55%"
   ]
  },
  {
   "cell_type": "code",
   "execution_count": 33,
   "metadata": {},
   "outputs": [
    {
     "data": {
      "text/plain": [
       "funding_round_id       0.000019\n",
       "company_id_second      0.000019\n",
       "funded_at              0.004704\n",
       "funding_round_type     0.000019\n",
       "raised_amount          0.000019\n",
       "pre_money_valuation    0.000019\n",
       "participants           0.000019\n",
       "is_first_round         0.000019\n",
       "is_last_round          0.000019\n",
       "funded_at_year         0.000000\n",
       "dtype: float64"
      ]
     },
     "metadata": {},
     "output_type": "display_data"
    }
   ],
   "source": [
    "#Обработка пропусков таблицы company\n",
    "display(rounds.isna().mean())"
   ]
  },
  {
   "cell_type": "markdown",
   "metadata": {},
   "source": [
    "Пропуски <1%, можем их просто удалить."
   ]
  },
  {
   "cell_type": "code",
   "execution_count": 34,
   "metadata": {},
   "outputs": [
    {
     "data": {
      "text/plain": [
       "funding_round_id       0.0\n",
       "company_id_second      0.0\n",
       "funded_at              0.0\n",
       "funding_round_type     0.0\n",
       "raised_amount          0.0\n",
       "pre_money_valuation    0.0\n",
       "participants           0.0\n",
       "is_first_round         0.0\n",
       "is_last_round          0.0\n",
       "funded_at_year         0.0\n",
       "dtype: float64"
      ]
     },
     "metadata": {},
     "output_type": "display_data"
    }
   ],
   "source": [
    "#Удаляем пропуски\n",
    "for i in rounds.columns:\n",
    "    rounds = rounds.dropna(subset=[i])\n",
    "display(rounds.isna().mean())"
   ]
  },
  {
   "cell_type": "markdown",
   "metadata": {
    "id": "bmVYhphNrJg2"
   },
   "source": [
    "\n",
    "## Шаг 3. Исследовательский анализ объединённых таблиц"
   ]
  },
  {
   "cell_type": "markdown",
   "metadata": {
    "id": "3Di6tCT3rJg2"
   },
   "source": [
    "\n",
    "### 3.1. Объединение данных\n",
    "\n",
    "Объединим данные для ответа на вопросы заказчика, которые касаются интересующих его компаний. Заказчика прежде всего интересуют те компании, которые меняли или готовы менять владельцев. Получение инвестиций или финансирования, по мнению заказчика, означает интерес к покупке или продаже компании.\n",
    "\n",
    "В качестве основы для объединённой таблицы возьмем данные из обработанного датасета `company_and_rounds.csv` — выберем только те компании, у которых указаны значения `funding_rounds` или `investment_rounds` больше нуля, или те, у которых в колонке `status` указано `acquired`. В результирующей таблице получилось порядка 40 тысяч компаний."
   ]
  },
  {
   "cell_type": "code",
   "execution_count": 35,
   "metadata": {
    "id": "kuV1b5MXFg3_"
   },
   "outputs": [
    {
     "name": "stdout",
     "output_type": "stream",
     "text": [
      "40747\n"
     ]
    }
   ],
   "source": [
    "company_filt = company[(company['funding_rounds']>0) | (company['investment_rounds']>0) | (company['status']=='acquired')]\n",
    "print(len(company_filt))"
   ]
  },
  {
   "cell_type": "code",
   "execution_count": 36,
   "metadata": {},
   "outputs": [
    {
     "name": "stdout",
     "output_type": "stream",
     "text": [
      "<class 'pandas.core.frame.DataFrame'>\n",
      "Int64Index: 40747 entries, 0 to 196552\n",
      "Data columns (total 13 columns):\n",
      " #   Column             Non-Null Count  Dtype         \n",
      "---  ------             --------------  -----         \n",
      " 0   company_id         40747 non-null  float64       \n",
      " 1   name               40747 non-null  object        \n",
      " 2   category_code      35315 non-null  object        \n",
      " 3   status             40747 non-null  object        \n",
      " 4   founded_at         27807 non-null  datetime64[ns]\n",
      " 5   closed_at          2128 non-null   datetime64[ns]\n",
      " 6   domain             35754 non-null  object        \n",
      " 7   network_username   20850 non-null  object        \n",
      " 8   country_code       34742 non-null  object        \n",
      " 9   investment_rounds  40747 non-null  float64       \n",
      " 10  funding_rounds     40747 non-null  float64       \n",
      " 11  funding_total      40747 non-null  float64       \n",
      " 12  milestones         40747 non-null  float64       \n",
      "dtypes: datetime64[ns](2), float64(5), object(6)\n",
      "memory usage: 4.4+ MB\n"
     ]
    },
    {
     "data": {
      "text/plain": [
       "None"
      ]
     },
     "metadata": {},
     "output_type": "display_data"
    },
    {
     "data": {
      "text/plain": [
       "company_id           0.00\n",
       "name                 0.00\n",
       "category_code        0.13\n",
       "status               0.00\n",
       "founded_at           0.32\n",
       "closed_at            0.95\n",
       "domain               0.12\n",
       "network_username     0.49\n",
       "country_code         0.15\n",
       "investment_rounds    0.00\n",
       "funding_rounds       0.00\n",
       "funding_total        0.00\n",
       "milestones           0.00\n",
       "dtype: float64"
      ]
     },
     "metadata": {},
     "output_type": "display_data"
    }
   ],
   "source": [
    "display(company_filt.info())\n",
    "display(round(company_filt.isna().mean(),2))"
   ]
  },
  {
   "cell_type": "markdown",
   "metadata": {},
   "source": [
    "Пропуски в столбцах (не влияют на анализ данных):\n",
    "- founded_at - 32%,\n",
    "- closed_at - 95%, пропуски связаны с тем, что компания продолжает работать\n",
    "- domain - 12%, пропуски связаны с тем, что компания возможно не имеет сайт\n",
    "- network_username - 49%, пропуски связаны с тем, что компании нет в сети\n",
    "- country_code - 15%"
   ]
  },
  {
   "cell_type": "markdown",
   "metadata": {
    "id": "DFHINkV3rJg2"
   },
   "source": [
    "\n",
    "### 3.2. Анализ выбросов\n",
    "\n",
    "Заказчика интересует обычный для рассматриваемого периода размер средств, который предоставлялся компаниям.\n",
    "\n",
    "- По предобработанному столбцу `funding_total` графическим способом оценили, какой размер общего финансирования для одной компании будет типичным, а какой — выбивающимся.\n",
    "- В процессе расчёта значений обратили внимание, на показатели, возвращаемые методом `.describe()`, — объясните их. Применимы ли к таким данным обычные способы нахождения типичных значений?"
   ]
  },
  {
   "cell_type": "code",
   "execution_count": 37,
   "metadata": {},
   "outputs": [
    {
     "data": {
      "image/png": "[encoded data removed]",
      "text/plain": [
       "<Figure size 864x360 with 1 Axes>"
      ]
     },
     "metadata": {
      "needs_background": "light"
     },
     "output_type": "display_data"
    }
   ],
   "source": [
    "company_filt.boxplot(column = 'funding_total',vert = False,figsize= (12,5))\n",
    "plt.title('Распределение ненулевого финансирования')\n",
    "plt.xlabel('Сумма финансирования (млн $)')\n",
    "plt.show()"
   ]
  },
  {
   "cell_type": "code",
   "execution_count": 38,
   "metadata": {
    "id": "8jm75fKXrJg2",
    "vscode": {
     "languageId": "plaintext"
    }
   },
   "outputs": [
    {
     "data": {
      "image/png": "[encoded data removed]",
      "text/plain": [
       "<Figure size 864x432 with 1 Axes>"
      ]
     },
     "metadata": {
      "needs_background": "light"
     },
     "output_type": "display_data"
    }
   ],
   "source": [
    "# Фильтруем нулевые значения для логарифма\n",
    "non_zero = company_filt[company_filt['funding_total'] > 0]['funding_total']\n",
    "plt.figure(figsize=(12, 6))\n",
    "plt.hist(np.log10(non_zero), bins=30, edgecolor='black')\n",
    "plt.title('Распределение ненулевого финансирования')\n",
    "plt.xlabel('Сумма финансирования (млн $)')\n",
    "plt.ylabel('Количество компаний')\n",
    "plt.show()"
   ]
  },
  {
   "cell_type": "code",
   "execution_count": 39,
   "metadata": {
    "id": "S1jrfr7rFhcw",
    "scrolled": true
   },
   "outputs": [
    {
     "data": {
      "text/plain": [
       "count         40747.0\n",
       "mean      10135609.64\n",
       "std       56464359.98\n",
       "min               0.0\n",
       "25%               0.0\n",
       "50%          600000.0\n",
       "75%         5650650.0\n",
       "max      5700000000.0\n",
       "Name: funding_total, dtype: object"
      ]
     },
     "metadata": {},
     "output_type": "display_data"
    }
   ],
   "source": [
    "display(company_filt['funding_total'].describe().round(2).astype(str))"
   ]
  },
  {
   "cell_type": "markdown",
   "metadata": {},
   "source": [
    "- 25% компаний имеют нулевое финансирование\n",
    "\n",
    "- Медиана ($600K) меньше максимума\n",
    "\n",
    "- Стандартное отклонение: ~$5.6 млн, что очень много\n",
    "\n",
    "- Среднее ($10.1M) > 75%-го перцентиля\n",
    "\n",
    "Проблемы:\n",
    "- Среднее значение искажено выбросами (нерепрезентативно)\n",
    "- Правило 1.5×IQR не работает (Q1 = $0 → нижняя граница = $0)"
   ]
  },
  {
   "cell_type": "code",
   "execution_count": 40,
   "metadata": {},
   "outputs": [
    {
     "data": {
      "text/html": [
       "<div>\n",
       "<style scoped>\n",
       "    .dataframe tbody tr th:only-of-type {\n",
       "        vertical-align: middle;\n",
       "    }\n",
       "\n",
       "    .dataframe tbody tr th {\n",
       "        vertical-align: top;\n",
       "    }\n",
       "\n",
       "    .dataframe thead th {\n",
       "        text-align: right;\n",
       "    }\n",
       "</style>\n",
       "<table border=\"1\" class=\"dataframe\">\n",
       "  <thead>\n",
       "    <tr style=\"text-align: right;\">\n",
       "      <th></th>\n",
       "      <th>company_id</th>\n",
       "      <th>name</th>\n",
       "      <th>category_code</th>\n",
       "      <th>status</th>\n",
       "      <th>founded_at</th>\n",
       "      <th>closed_at</th>\n",
       "      <th>domain</th>\n",
       "      <th>network_username</th>\n",
       "      <th>country_code</th>\n",
       "      <th>investment_rounds</th>\n",
       "      <th>funding_rounds</th>\n",
       "      <th>funding_total</th>\n",
       "      <th>milestones</th>\n",
       "    </tr>\n",
       "  </thead>\n",
       "  <tbody>\n",
       "    <tr>\n",
       "      <th>175723</th>\n",
       "      <td>64365.0</td>\n",
       "      <td>carestream</td>\n",
       "      <td>biotech</td>\n",
       "      <td>operating</td>\n",
       "      <td>2007-01-01</td>\n",
       "      <td>NaT</td>\n",
       "      <td>carestream.com</td>\n",
       "      <td>carestream</td>\n",
       "      <td>USA</td>\n",
       "      <td>0.0</td>\n",
       "      <td>1.0</td>\n",
       "      <td>2.400000e+09</td>\n",
       "      <td>1.0</td>\n",
       "    </tr>\n",
       "    <tr>\n",
       "      <th>196390</th>\n",
       "      <td>5.0</td>\n",
       "      <td>socialnet</td>\n",
       "      <td>social</td>\n",
       "      <td>ipo</td>\n",
       "      <td>2004-02-01</td>\n",
       "      <td>NaT</td>\n",
       "      <td>socialnet.com</td>\n",
       "      <td>socialnet</td>\n",
       "      <td>USA</td>\n",
       "      <td>3.0</td>\n",
       "      <td>11.0</td>\n",
       "      <td>2.425700e+09</td>\n",
       "      <td>5.0</td>\n",
       "    </tr>\n",
       "    <tr>\n",
       "      <th>97700</th>\n",
       "      <td>242735.0</td>\n",
       "      <td>sigmacare</td>\n",
       "      <td>health</td>\n",
       "      <td>operating</td>\n",
       "      <td>2005-01-01</td>\n",
       "      <td>NaT</td>\n",
       "      <td>sigmacare.com</td>\n",
       "      <td>SigmaCareEHR</td>\n",
       "      <td>USA</td>\n",
       "      <td>0.0</td>\n",
       "      <td>1.0</td>\n",
       "      <td>2.600000e+09</td>\n",
       "      <td>0.0</td>\n",
       "    </tr>\n",
       "    <tr>\n",
       "      <th>159956</th>\n",
       "      <td>4843.0</td>\n",
       "      <td>verizon communications, inc.</td>\n",
       "      <td>mobile</td>\n",
       "      <td>ipo</td>\n",
       "      <td>NaT</td>\n",
       "      <td>NaT</td>\n",
       "      <td>verizon.com</td>\n",
       "      <td>NaN</td>\n",
       "      <td>USA</td>\n",
       "      <td>3.0</td>\n",
       "      <td>2.0</td>\n",
       "      <td>3.985050e+09</td>\n",
       "      <td>3.0</td>\n",
       "    </tr>\n",
       "    <tr>\n",
       "      <th>4575</th>\n",
       "      <td>13219.0</td>\n",
       "      <td>clearwire</td>\n",
       "      <td>mobile</td>\n",
       "      <td>acquired</td>\n",
       "      <td>2003-10-01</td>\n",
       "      <td>NaT</td>\n",
       "      <td>clearwire.com</td>\n",
       "      <td>NaN</td>\n",
       "      <td>USA</td>\n",
       "      <td>0.0</td>\n",
       "      <td>4.0</td>\n",
       "      <td>5.700000e+09</td>\n",
       "      <td>2.0</td>\n",
       "    </tr>\n",
       "  </tbody>\n",
       "</table>\n",
       "</div>"
      ],
      "text/plain": [
       "        company_id                          name category_code     status  \\\n",
       "175723     64365.0                    carestream       biotech  operating   \n",
       "196390         5.0                     socialnet        social        ipo   \n",
       "97700     242735.0                     sigmacare        health  operating   \n",
       "159956      4843.0  verizon communications, inc.        mobile        ipo   \n",
       "4575       13219.0                     clearwire        mobile   acquired   \n",
       "\n",
       "       founded_at closed_at          domain network_username country_code  \\\n",
       "175723 2007-01-01       NaT  carestream.com       carestream          USA   \n",
       "196390 2004-02-01       NaT   socialnet.com        socialnet          USA   \n",
       "97700  2005-01-01       NaT   sigmacare.com     SigmaCareEHR          USA   \n",
       "159956        NaT       NaT     verizon.com              NaN          USA   \n",
       "4575   2003-10-01       NaT   clearwire.com              NaN          USA   \n",
       "\n",
       "        investment_rounds  funding_rounds  funding_total  milestones  \n",
       "175723                0.0             1.0   2.400000e+09         1.0  \n",
       "196390                3.0            11.0   2.425700e+09         5.0  \n",
       "97700                 0.0             1.0   2.600000e+09         0.0  \n",
       "159956                3.0             2.0   3.985050e+09         3.0  \n",
       "4575                  0.0             4.0   5.700000e+09         2.0  "
      ]
     },
     "metadata": {},
     "output_type": "display_data"
    }
   ],
   "source": [
    "#Очень большие сделки\n",
    "display(company_filt.sort_values(by = 'funding_total').tail())"
   ]
  },
  {
   "cell_type": "markdown",
   "metadata": {
    "id": "JqkRAQrIrJg2"
   },
   "source": [
    "\n",
    "### 3.3. Куплены забесплатно?\n",
    "\n",
    "- Исследовали компании, которые были проданы за ноль или за один доллар, и при этом известно, что у них был ненулевой общий объём финансирования.\n",
    "\n",
    "- Рассчитали аналитически верхнюю и нижнюю границу выбросов для столбца `funding_total` и указали, каким процентилям границы соответствуют."
   ]
  },
  {
   "cell_type": "code",
   "execution_count": 41,
   "metadata": {
    "id": "wJHXCBwwrJg2",
    "vscode": {
     "languageId": "plaintext"
    }
   },
   "outputs": [],
   "source": [
    "acquisition_free = df_acquisition[(df_acquisition['price_amount'] <=1)]\n",
    "finance = company_filt[company_filt['funding_total']>0]\n",
    "free_companies = acquisition_free.merge(finance, left_on = 'acquired_company_id', right_on = 'company_id',how = 'inner')"
   ]
  },
  {
   "cell_type": "code",
   "execution_count": 42,
   "metadata": {
    "id": "9IDTHfYQFhuX"
   },
   "outputs": [
    {
     "name": "stdout",
     "output_type": "stream",
     "text": [
      "Всего таких компаний: 1618\n",
      "Суммарное привлеченное финансирование: $29371.49M\n",
      "Среднее финансирование на компанию: $18.15M\n",
      "\n",
      "Распределение по сумме финансирования:\n",
      "count          1618.0\n",
      "mean      18152961.94\n",
      "std      144503027.47\n",
      "min            3750.0\n",
      "25%         2000000.0\n",
      "50%         6000000.0\n",
      "75%        15500000.0\n",
      "max      5700000000.0\n",
      "Name: funding_total, dtype: object\n"
     ]
    }
   ],
   "source": [
    "print(f\"Всего таких компаний: {len(free_companies)}\")\n",
    "print(f\"Суммарное привлеченное финансирование: ${free_companies['funding_total'].sum()/1e6:.2f}M\")\n",
    "print(f\"Среднее финансирование на компанию: ${free_companies['funding_total'].mean()/1e6:.2f}M\")\n",
    "print(\"\\nРаспределение по сумме финансирования:\")\n",
    "print(free_companies['funding_total'].describe().round(2).astype(str))"
   ]
  },
  {
   "cell_type": "code",
   "execution_count": 43,
   "metadata": {},
   "outputs": [
    {
     "name": "stdout",
     "output_type": "stream",
     "text": [
      "Нижняя граница:  0 , 0 персентиль \n",
      "Верхняя граница:  35.75 M $, 91 персентиль\n"
     ]
    }
   ],
   "source": [
    "non_zero = free_companies['funding_total'].reset_index(drop = True)\n",
    "q1 = non_zero.quantile(0.25)\n",
    "q3 = non_zero.quantile(0.75)\n",
    "iqr = q3 - q1\n",
    "lower_bound = max(0, q1 - 1.5 * iqr)\n",
    "upper_bound = q3 + 1.5 * iqr\n",
    "print('Нижняя граница: ', lower_bound,', 0 персентиль', '\\nВерхняя граница: ', round(upper_bound/1e6,2),'M $, 91 персентиль')"
   ]
  },
  {
   "cell_type": "code",
   "execution_count": 44,
   "metadata": {},
   "outputs": [
    {
     "name": "stdout",
     "output_type": "stream",
     "text": [
      "0.00     0.00375\n",
      "0.90    33.01581\n",
      "0.91    35.89400\n",
      "Name: funding_total, dtype: float64\n"
     ]
    }
   ],
   "source": [
    "percentelies = non_zero.quantile([0,0.9,0.91])\n",
    "print(percentelies/1e6)"
   ]
  },
  {
   "cell_type": "code",
   "execution_count": 1,
   "metadata": {},
   "outputs": [
    {
     "ename": "NameError",
     "evalue": "name 'free_companies' is not defined",
     "output_type": "error",
     "traceback": [
      "\u001b[0;31m---------------------------------------------------------------------------\u001b[0m",
      "\u001b[0;31mNameError\u001b[0m                                 Traceback (most recent call last)",
      "\u001b[0;32m/tmp/ipykernel_31/4070077395.py\u001b[0m in \u001b[0;36m<module>\u001b[0;34m\u001b[0m\n\u001b[1;32m      5\u001b[0m \u001b[0;34m\u001b[0m\u001b[0m\n\u001b[1;32m      6\u001b[0m \u001b[0;31m# Определение процентилей для границ с использованием percentileofscore\u001b[0m\u001b[0;34m\u001b[0m\u001b[0;34m\u001b[0m\u001b[0;34m\u001b[0m\u001b[0m\n\u001b[0;32m----> 7\u001b[0;31m \u001b[0mlower_percentile\u001b[0m \u001b[0;34m=\u001b[0m \u001b[0mstats\u001b[0m\u001b[0;34m.\u001b[0m\u001b[0mpercentileofscore\u001b[0m\u001b[0;34m(\u001b[0m\u001b[0mfree_companies\u001b[0m\u001b[0;34m[\u001b[0m\u001b[0;34m'funding_total'\u001b[0m\u001b[0;34m]\u001b[0m\u001b[0;34m,\u001b[0m \u001b[0mlower_bound\u001b[0m\u001b[0;34m)\u001b[0m\u001b[0;34m\u001b[0m\u001b[0;34m\u001b[0m\u001b[0m\n\u001b[0m\u001b[1;32m      8\u001b[0m \u001b[0mupper_percentile\u001b[0m \u001b[0;34m=\u001b[0m \u001b[0mstats\u001b[0m\u001b[0;34m.\u001b[0m\u001b[0mpercentileofscore\u001b[0m\u001b[0;34m(\u001b[0m\u001b[0mfree_companies\u001b[0m\u001b[0;34m[\u001b[0m\u001b[0;34m'funding_total'\u001b[0m\u001b[0;34m]\u001b[0m\u001b[0;34m,\u001b[0m \u001b[0mupper_bound\u001b[0m\u001b[0;34m)\u001b[0m\u001b[0;34m\u001b[0m\u001b[0;34m\u001b[0m\u001b[0m\n\u001b[1;32m      9\u001b[0m \u001b[0;34m\u001b[0m\u001b[0m\n",
      "\u001b[0;31mNameError\u001b[0m: name 'free_companies' is not defined"
     ]
    }
   ],
   "source": [
    "# Код ревьюера\n",
    "from scipy import stats\n",
    "\n",
    "\n",
    "\n",
    "# Определение процентилей для границ с использованием percentileofscore\n",
    "lower_percentile = stats.percentileofscore(free_companies['funding_total'], lower_bound)\n",
    "upper_percentile = stats.percentileofscore(free_companies['funding_total'], upper_bound)\n",
    "\n",
    "\n",
    "print(f\"Нижняя граница (ниже неё — выброс вниз): {lower_percentile:,.2f}\")\n",
    "print(f\"Верхняя граница (выше неё — выброс вверх): {upper_percentile:,.2f}\")"
   ]
  },
  {
   "cell_type": "code",
   "execution_count": 45,
   "metadata": {},
   "outputs": [
    {
     "data": {
      "text/html": [
       "<div>\n",
       "<style scoped>\n",
       "    .dataframe tbody tr th:only-of-type {\n",
       "        vertical-align: middle;\n",
       "    }\n",
       "\n",
       "    .dataframe tbody tr th {\n",
       "        vertical-align: top;\n",
       "    }\n",
       "\n",
       "    .dataframe thead th {\n",
       "        text-align: right;\n",
       "    }\n",
       "</style>\n",
       "<table border=\"1\" class=\"dataframe\">\n",
       "  <thead>\n",
       "    <tr style=\"text-align: right;\">\n",
       "      <th></th>\n",
       "      <th>id</th>\n",
       "      <th>acquiring_company_id</th>\n",
       "      <th>acquired_company_id</th>\n",
       "      <th>term_code</th>\n",
       "      <th>price_amount</th>\n",
       "      <th>acquired_at</th>\n",
       "      <th>company_id</th>\n",
       "      <th>name</th>\n",
       "      <th>category_code</th>\n",
       "      <th>status</th>\n",
       "      <th>founded_at</th>\n",
       "      <th>closed_at</th>\n",
       "      <th>domain</th>\n",
       "      <th>network_username</th>\n",
       "      <th>country_code</th>\n",
       "      <th>investment_rounds</th>\n",
       "      <th>funding_rounds</th>\n",
       "      <th>funding_total</th>\n",
       "      <th>milestones</th>\n",
       "    </tr>\n",
       "  </thead>\n",
       "  <tbody>\n",
       "    <tr>\n",
       "      <th>0</th>\n",
       "      <td>14</td>\n",
       "      <td>318</td>\n",
       "      <td>314</td>\n",
       "      <td>cash</td>\n",
       "      <td>0</td>\n",
       "      <td>2006-10-01</td>\n",
       "      <td>314.0</td>\n",
       "      <td>reddit</td>\n",
       "      <td>web</td>\n",
       "      <td>acquired</td>\n",
       "      <td>2005-01-01</td>\n",
       "      <td>NaT</td>\n",
       "      <td>reddit.com</td>\n",
       "      <td>reddit</td>\n",
       "      <td>USA</td>\n",
       "      <td>0.0</td>\n",
       "      <td>1.0</td>\n",
       "      <td>100000.0</td>\n",
       "      <td>3.0</td>\n",
       "    </tr>\n",
       "    <tr>\n",
       "      <th>1</th>\n",
       "      <td>65</td>\n",
       "      <td>146</td>\n",
       "      <td>698</td>\n",
       "      <td>cash</td>\n",
       "      <td>0</td>\n",
       "      <td>2007-08-01</td>\n",
       "      <td>698.0</td>\n",
       "      <td>maya's mom</td>\n",
       "      <td>web</td>\n",
       "      <td>acquired</td>\n",
       "      <td>NaT</td>\n",
       "      <td>NaT</td>\n",
       "      <td>mayasmom.com</td>\n",
       "      <td>NaN</td>\n",
       "      <td>USA</td>\n",
       "      <td>0.0</td>\n",
       "      <td>1.0</td>\n",
       "      <td>1000000.0</td>\n",
       "      <td>2.0</td>\n",
       "    </tr>\n",
       "    <tr>\n",
       "      <th>2</th>\n",
       "      <td>67</td>\n",
       "      <td>156</td>\n",
       "      <td>718</td>\n",
       "      <td>cash</td>\n",
       "      <td>0</td>\n",
       "      <td>2007-08-01</td>\n",
       "      <td>718.0</td>\n",
       "      <td>glimpse</td>\n",
       "      <td>ecommerce</td>\n",
       "      <td>acquired</td>\n",
       "      <td>NaT</td>\n",
       "      <td>NaT</td>\n",
       "      <td>glimpse.com</td>\n",
       "      <td>NaN</td>\n",
       "      <td>USA</td>\n",
       "      <td>0.0</td>\n",
       "      <td>1.0</td>\n",
       "      <td>4000000.0</td>\n",
       "      <td>0.0</td>\n",
       "    </tr>\n",
       "    <tr>\n",
       "      <th>3</th>\n",
       "      <td>87</td>\n",
       "      <td>1035</td>\n",
       "      <td>175</td>\n",
       "      <td>cash</td>\n",
       "      <td>0</td>\n",
       "      <td>2007-10-01</td>\n",
       "      <td>175.0</td>\n",
       "      <td>newsvine</td>\n",
       "      <td>web</td>\n",
       "      <td>acquired</td>\n",
       "      <td>2005-03-31</td>\n",
       "      <td>NaT</td>\n",
       "      <td>newsvine.com</td>\n",
       "      <td>NaN</td>\n",
       "      <td>USA</td>\n",
       "      <td>0.0</td>\n",
       "      <td>1.0</td>\n",
       "      <td>1250000.0</td>\n",
       "      <td>0.0</td>\n",
       "    </tr>\n",
       "    <tr>\n",
       "      <th>4</th>\n",
       "      <td>115</td>\n",
       "      <td>396</td>\n",
       "      <td>1582</td>\n",
       "      <td>cash</td>\n",
       "      <td>0</td>\n",
       "      <td>2007-12-01</td>\n",
       "      <td>1582.0</td>\n",
       "      <td>beliefnet</td>\n",
       "      <td>web</td>\n",
       "      <td>acquired</td>\n",
       "      <td>2008-01-01</td>\n",
       "      <td>NaT</td>\n",
       "      <td>beliefnet.com</td>\n",
       "      <td>eliefnet</td>\n",
       "      <td>USA</td>\n",
       "      <td>0.0</td>\n",
       "      <td>1.0</td>\n",
       "      <td>7000000.0</td>\n",
       "      <td>3.0</td>\n",
       "    </tr>\n",
       "  </tbody>\n",
       "</table>\n",
       "</div>"
      ],
      "text/plain": [
       "    id  acquiring_company_id  acquired_company_id term_code  price_amount  \\\n",
       "0   14                   318                  314      cash             0   \n",
       "1   65                   146                  698      cash             0   \n",
       "2   67                   156                  718      cash             0   \n",
       "3   87                  1035                  175      cash             0   \n",
       "4  115                   396                 1582      cash             0   \n",
       "\n",
       "  acquired_at  company_id        name category_code    status founded_at  \\\n",
       "0  2006-10-01       314.0      reddit           web  acquired 2005-01-01   \n",
       "1  2007-08-01       698.0  maya's mom           web  acquired        NaT   \n",
       "2  2007-08-01       718.0     glimpse     ecommerce  acquired        NaT   \n",
       "3  2007-10-01       175.0    newsvine           web  acquired 2005-03-31   \n",
       "4  2007-12-01      1582.0   beliefnet           web  acquired 2008-01-01   \n",
       "\n",
       "  closed_at         domain network_username country_code  investment_rounds  \\\n",
       "0       NaT     reddit.com           reddit          USA                0.0   \n",
       "1       NaT   mayasmom.com              NaN          USA                0.0   \n",
       "2       NaT    glimpse.com              NaN          USA                0.0   \n",
       "3       NaT   newsvine.com              NaN          USA                0.0   \n",
       "4       NaT  beliefnet.com         eliefnet          USA                0.0   \n",
       "\n",
       "   funding_rounds  funding_total  milestones  \n",
       "0             1.0       100000.0         3.0  \n",
       "1             1.0      1000000.0         2.0  \n",
       "2             1.0      4000000.0         0.0  \n",
       "3             1.0      1250000.0         0.0  \n",
       "4             1.0      7000000.0         3.0  "
      ]
     },
     "metadata": {},
     "output_type": "display_data"
    }
   ],
   "source": [
    "display(free_companies.head())"
   ]
  },
  {
   "cell_type": "markdown",
   "metadata": {},
   "source": [
    "Сделки с акциями могли быть оформлены как \"cash\" из-за ограничений датасета. <br>\n",
    "Вместо оплаты могли воспользоваться акциями компании.<br>\n",
    "Символическая стоимость при смене владельца внутри группы.<br>\n",
    "Технические сделки (например, поглощение дочерних структур)."
   ]
  },
  {
   "cell_type": "markdown",
   "metadata": {
    "id": "mEiWpROjrJg2"
   },
   "source": [
    "\n",
    "### 3.4. Цены стартапов по категориям\n",
    "\n",
    "Категории стартапов с типично высокими ценами покупки стартапов и значительным разбросом цен могут быть привлекательными для крупных инвесторов, которые готовы к высоким рискам ради потенциально больших доходов. Среди категорий стартапов выделим категории стартапов, характеризующиеся:\n",
    "\n",
    "- типично высокими ценами;\n",
    "- и наибольшим разбросом цен за стартап."
   ]
  },
  {
   "cell_type": "code",
   "execution_count": 46,
   "metadata": {
    "id": "jQ09dYUWrJg2",
    "scrolled": true,
    "vscode": {
     "languageId": "plaintext"
    }
   },
   "outputs": [
    {
     "name": "stdout",
     "output_type": "stream",
     "text": [
      "                    median\n",
      "category_code             \n",
      "nanotech          584.0M $\n",
      "manufacturing      72.0M $\n",
      "real_estate        50.0M $\n",
      "automotive         43.0M $\n",
      "biotech            13.2M $\n",
      "hospitality        12.5M $\n",
      "finance             0.6M $\n",
      "news                0.0M $\n",
      "nonprofit           0.0M $\n",
      "other               0.0M $\n",
      "photo_video         0.0M $\n",
      "public_relations    0.0M $\n",
      "advertising         0.0M $\n",
      "search              0.0M $\n",
      "security            0.0M $\n",
      "semiconductor       0.0M $\n",
      "social              0.0M $\n",
      "software            0.0M $\n",
      "sports              0.0M $\n",
      "transportation      0.0M $\n",
      "travel              0.0M $\n",
      "network_hosting     0.0M $\n",
      "messaging           0.0M $\n",
      "music               0.0M $\n",
      "fashion             0.0M $\n",
      "cleantech           0.0M $\n",
      "consulting          0.0M $\n",
      "design              0.0M $\n",
      "ecommerce           0.0M $\n",
      "education           0.0M $\n",
      "enterprise          0.0M $\n",
      "games_video         0.0M $\n",
      "mobile              0.0M $\n",
      "hardware            0.0M $\n",
      "health              0.0M $\n",
      "legal               0.0M $\n",
      "local               0.0M $\n",
      "medical             0.0M $\n",
      "analytics           0.0M $\n",
      "web                 0.0M $\n"
     ]
    }
   ],
   "source": [
    "# Вычисляем компании с типично высокими ценами\n",
    "company_prices = df_acquisition.merge(company_filt, left_on = 'acquired_company_id', right_on = 'company_id',how = 'inner')\n",
    "company_prices_group= company_prices.groupby('category_code')['price_amount'].agg(['median'])/1e6\n",
    "company_group = company_prices_group.round(2).sort_values(by = 'median',ascending = False)\n",
    "print(company_group.astype(str) + 'M $')"
   ]
  },
  {
   "cell_type": "code",
   "execution_count": 47,
   "metadata": {
    "id": "eF1aULm5FjfY"
   },
   "outputs": [
    {
     "name": "stdout",
     "output_type": "stream",
     "text": [
      "0         nanotech\n",
      "1    manufacturing\n",
      "2      real_estate\n",
      "3       automotive\n",
      "4          biotech\n",
      "5      hospitality\n",
      "6          finance\n",
      "Name: category_code, dtype: object\n"
     ]
    }
   ],
   "source": [
    "#Топ категорий по типично высокими ценами\n",
    "company_group=company_group.reset_index()\n",
    "print(company_group['category_code'][:7])"
   ]
  },
  {
   "cell_type": "markdown",
   "metadata": {},
   "source": [
    "В топе 7 компаний, так как суммы сделок остальных компаний равна 0."
   ]
  },
  {
   "cell_type": "code",
   "execution_count": 48,
   "metadata": {
    "scrolled": false
   },
   "outputs": [],
   "source": [
    "#Отфильтрованный датафрейм по столбцу price_amount без выбросов\n",
    "companies_acquisition = df_acquisition.merge(company_filt, left_on = 'acquired_company_id', right_on = 'company_id',how = 'inner')\n",
    "company_no_max = companies_acquisition[companies_acquisition['price_amount']<=companies_acquisition['price_amount'].quantile(0.95)]"
   ]
  },
  {
   "cell_type": "markdown",
   "metadata": {},
   "source": [
    "<div class=\"alert alert-success\">\n",
    "<h2> Комментарий ревьюера v3 <a class=\"tocSkip\"> </h2>\n",
    "\n",
    "<b>Все супер!👍:</b> Удачное решение взять высокий процентиль"
   ]
  },
  {
   "cell_type": "code",
   "execution_count": 53,
   "metadata": {},
   "outputs": [
    {
     "name": "stdout",
     "output_type": "stream",
     "text": [
      "                       diff\n",
      "category_code              \n",
      "cleantech          358.0M $\n",
      "semiconductor      356.0M $\n",
      "public_relations   355.0M $\n",
      "web                352.0M $\n",
      "manufacturing      351.0M $\n",
      "biotech           350.72M $\n",
      "software           350.0M $\n",
      "ecommerce          350.0M $\n",
      "enterprise         350.0M $\n",
      "network_hosting    350.0M $\n",
      "games_video        350.0M $\n",
      "mobile             350.0M $\n",
      "hardware           345.0M $\n",
      "security           342.5M $\n",
      "other              325.0M $\n",
      "medical            325.0M $\n",
      "advertising        321.0M $\n",
      "news               315.0M $\n",
      "consulting         295.0M $\n",
      "music              280.0M $\n",
      "finance            280.0M $\n",
      "fashion            270.0M $\n",
      "analytics          263.0M $\n",
      "sports             260.0M $\n",
      "transportation     230.0M $\n",
      "search             225.0M $\n",
      "travel             198.0M $\n",
      "hospitality        180.0M $\n",
      "messaging          169.0M $\n",
      "social             151.0M $\n",
      "health             150.0M $\n",
      "photo_video         60.0M $\n",
      "real_estate         50.0M $\n",
      "automotive          43.0M $\n",
      "education           43.0M $\n",
      "local              16.14M $\n",
      "design               0.0M $\n",
      "nonprofit            0.0M $\n",
      "legal                0.0M $\n"
     ]
    }
   ],
   "source": [
    "company_diff_group= company_no_max.groupby('category_code')['price_amount'].agg(['min','max'])/1e6\n",
    "company_diff_group['diff'] = company_diff_group['max']-company_diff_group['min']\n",
    "company_diff = company_diff_group[['diff']].round(2).sort_values(by='diff',ascending = False)\n",
    "print(company_diff.astype(str) + 'M $')"
   ]
  },
  {
   "cell_type": "code",
   "execution_count": 54,
   "metadata": {
    "scrolled": true
   },
   "outputs": [
    {
     "name": "stdout",
     "output_type": "stream",
     "text": [
      "category_code\n",
      "cleantech            358.0M $\n",
      "semiconductor        356.0M $\n",
      "public_relations     355.0M $\n",
      "web                  352.0M $\n",
      "manufacturing        351.0M $\n",
      "biotech             350.72M $\n",
      "software             350.0M $\n",
      "ecommerce            350.0M $\n",
      "enterprise           350.0M $\n",
      "network_hosting      350.0M $\n",
      "games_video          350.0M $\n",
      "mobile               350.0M $\n",
      "hardware             345.0M $\n",
      "security             342.5M $\n",
      "other                325.0M $\n",
      "medical              325.0M $\n",
      "advertising          321.0M $\n",
      "news                 315.0M $\n",
      "consulting           295.0M $\n",
      "music                280.0M $\n",
      "finance              280.0M $\n",
      "fashion              270.0M $\n",
      "analytics            263.0M $\n",
      "sports               260.0M $\n",
      "transportation       230.0M $\n",
      "search               225.0M $\n",
      "travel               198.0M $\n",
      "hospitality          180.0M $\n",
      "messaging            169.0M $\n",
      "social               151.0M $\n",
      "health               150.0M $\n",
      "photo_video           60.0M $\n",
      "real_estate           50.0M $\n",
      "automotive            43.0M $\n",
      "education             43.0M $\n",
      "local                16.14M $\n",
      "design                 0.0M $\n",
      "nonprofit              0.0M $\n",
      "legal                  0.0M $\n",
      "Name: diff, dtype: object\n"
     ]
    }
   ],
   "source": [
    "#Топ категорий по наибольшим разбросом цен за стартап\n",
    "company_diff = company_diff_group['diff'].round(2).sort_values(ascending = False)\n",
    "print(company_diff.astype(str) + 'M $')"
   ]
  },
  {
   "cell_type": "code",
   "execution_count": 55,
   "metadata": {},
   "outputs": [
    {
     "data": {
      "text/plain": [
       "0           cleantech\n",
       "1       semiconductor\n",
       "2    public_relations\n",
       "3                 web\n",
       "4       manufacturing\n",
       "5             biotech\n",
       "Name: category_code, dtype: object"
      ]
     },
     "metadata": {},
     "output_type": "display_data"
    }
   ],
   "source": [
    "#Топ категорий по наибольшим разбросом цен за стартап\n",
    "company_diff=company_diff.reset_index()\n",
    "display(company_diff['category_code'][:6])"
   ]
  },
  {
   "cell_type": "markdown",
   "metadata": {},
   "source": []
  },
  {
   "cell_type": "markdown",
   "metadata": {
    "id": "ADOfyVY_rJg3"
   },
   "source": [
    "\n",
    "### 3.5. Сколько раундов продержится стартап перед покупкой\n",
    "\n",
    "- Проанализировали столбец `funding_rounds`. Исследовали значения столбца. Заказчика интересует типичное значение количества раундов для каждого возможного статуса стартапа.\n",
    "- Построили график, который отображает, сколько в среднем раундов финансирования проходило для стартапов из каждой группы."
   ]
  },
  {
   "cell_type": "code",
   "execution_count": 56,
   "metadata": {
    "id": "hgXMPC4WrJg3",
    "vscode": {
     "languageId": "plaintext"
    }
   },
   "outputs": [
    {
     "name": "stdout",
     "output_type": "stream",
     "text": [
      "status\n",
      "acquired     0.523526\n",
      "closed       1.381453\n",
      "operating    1.522658\n",
      "ipo          1.934375\n",
      "Name: funding_rounds, dtype: float64\n"
     ]
    }
   ],
   "source": [
    "mean_rounds = company_filt.groupby('status')['funding_rounds'].mean().sort_values()\n",
    "print(mean_rounds)"
   ]
  },
  {
   "cell_type": "code",
   "execution_count": 57,
   "metadata": {
    "id": "pV3e7kw5Fj1Y"
   },
   "outputs": [
    {
     "data": {
      "image/png": "[encoded data removed]",
      "text/plain": [
       "<Figure size 432x360 with 1 Axes>"
      ]
     },
     "metadata": {
      "needs_background": "light"
     },
     "output_type": "display_data"
    }
   ],
   "source": [
    "mean_rounds.plot.bar(rot = 0, figsize = (6,5))\n",
    "plt.title('Кол-во раундов финансирования для стартапов из каждой группы')\n",
    "plt.xlabel('Статус компании')\n",
    "plt.ylabel('Среднее кол-во раундов')\n",
    "plt.grid(axis = 'y')\n",
    "plt.show()"
   ]
  },
  {
   "cell_type": "markdown",
   "metadata": {},
   "source": [
    "Больше всего раундов финансирования у компаний, которые имеют статус ipo, меньше всего у acquired.<br>\n",
    "Компании, вышедшие на IPO, прошли почти в 4 раза больше раундов, чем приобретённые (1.93 vs 0.52)<br>\n",
    "Действующие стартапы имеют больше раундов, чем закрытые (1.52 vs 1.38)"
   ]
  },
  {
   "cell_type": "code",
   "execution_count": 58,
   "metadata": {},
   "outputs": [
    {
     "data": {
      "text/html": [
       "<div>\n",
       "<style scoped>\n",
       "    .dataframe tbody tr th:only-of-type {\n",
       "        vertical-align: middle;\n",
       "    }\n",
       "\n",
       "    .dataframe tbody tr th {\n",
       "        vertical-align: top;\n",
       "    }\n",
       "\n",
       "    .dataframe thead th {\n",
       "        text-align: right;\n",
       "    }\n",
       "</style>\n",
       "<table border=\"1\" class=\"dataframe\">\n",
       "  <thead>\n",
       "    <tr style=\"text-align: right;\">\n",
       "      <th></th>\n",
       "      <th>company_id</th>\n",
       "      <th>name</th>\n",
       "      <th>category_code</th>\n",
       "      <th>status</th>\n",
       "      <th>founded_at</th>\n",
       "      <th>closed_at</th>\n",
       "      <th>domain</th>\n",
       "      <th>network_username</th>\n",
       "      <th>country_code</th>\n",
       "      <th>investment_rounds</th>\n",
       "      <th>funding_rounds</th>\n",
       "      <th>funding_total</th>\n",
       "      <th>milestones</th>\n",
       "    </tr>\n",
       "  </thead>\n",
       "  <tbody>\n",
       "    <tr>\n",
       "      <th>95234</th>\n",
       "      <td>24028.0</td>\n",
       "      <td>intrexon corporation</td>\n",
       "      <td>biotech</td>\n",
       "      <td>ipo</td>\n",
       "      <td>1998-01-01</td>\n",
       "      <td>NaT</td>\n",
       "      <td>dna.com</td>\n",
       "      <td>NaN</td>\n",
       "      <td>USA</td>\n",
       "      <td>0.0</td>\n",
       "      <td>11.0</td>\n",
       "      <td>437592000.0</td>\n",
       "      <td>0.0</td>\n",
       "    </tr>\n",
       "    <tr>\n",
       "      <th>3445</th>\n",
       "      <td>12352.0</td>\n",
       "      <td>solarcity</td>\n",
       "      <td>cleantech</td>\n",
       "      <td>ipo</td>\n",
       "      <td>2006-01-01</td>\n",
       "      <td>NaT</td>\n",
       "      <td>solarcity.com</td>\n",
       "      <td>solarcity</td>\n",
       "      <td>USA</td>\n",
       "      <td>0.0</td>\n",
       "      <td>13.0</td>\n",
       "      <td>789040000.0</td>\n",
       "      <td>3.0</td>\n",
       "    </tr>\n",
       "    <tr>\n",
       "      <th>149290</th>\n",
       "      <td>37366.0</td>\n",
       "      <td>galectin therapeutics</td>\n",
       "      <td>biotech</td>\n",
       "      <td>ipo</td>\n",
       "      <td>2000-12-01</td>\n",
       "      <td>NaT</td>\n",
       "      <td>galectintherapeutics.com</td>\n",
       "      <td>GalectinGALT</td>\n",
       "      <td>USA</td>\n",
       "      <td>0.0</td>\n",
       "      <td>13.0</td>\n",
       "      <td>9514000.0</td>\n",
       "      <td>2.0</td>\n",
       "    </tr>\n",
       "    <tr>\n",
       "      <th>103759</th>\n",
       "      <td>24869.0</td>\n",
       "      <td>perficient</td>\n",
       "      <td>consulting</td>\n",
       "      <td>ipo</td>\n",
       "      <td>1998-01-01</td>\n",
       "      <td>NaT</td>\n",
       "      <td>perficient.com</td>\n",
       "      <td>Perficient</td>\n",
       "      <td>USA</td>\n",
       "      <td>0.0</td>\n",
       "      <td>13.0</td>\n",
       "      <td>57923500.0</td>\n",
       "      <td>2.0</td>\n",
       "    </tr>\n",
       "    <tr>\n",
       "      <th>123601</th>\n",
       "      <td>26802.0</td>\n",
       "      <td>telecommunication systems</td>\n",
       "      <td>mobile</td>\n",
       "      <td>ipo</td>\n",
       "      <td>NaT</td>\n",
       "      <td>NaT</td>\n",
       "      <td>telecomsys.com</td>\n",
       "      <td>TeleComSys</td>\n",
       "      <td>USA</td>\n",
       "      <td>0.0</td>\n",
       "      <td>13.0</td>\n",
       "      <td>109550000.0</td>\n",
       "      <td>2.0</td>\n",
       "    </tr>\n",
       "  </tbody>\n",
       "</table>\n",
       "</div>"
      ],
      "text/plain": [
       "        company_id                       name category_code status founded_at  \\\n",
       "95234      24028.0       intrexon corporation       biotech    ipo 1998-01-01   \n",
       "3445       12352.0                  solarcity     cleantech    ipo 2006-01-01   \n",
       "149290     37366.0      galectin therapeutics       biotech    ipo 2000-12-01   \n",
       "103759     24869.0                 perficient    consulting    ipo 1998-01-01   \n",
       "123601     26802.0  telecommunication systems        mobile    ipo        NaT   \n",
       "\n",
       "       closed_at                    domain network_username country_code  \\\n",
       "95234        NaT                   dna.com              NaN          USA   \n",
       "3445         NaT             solarcity.com        solarcity          USA   \n",
       "149290       NaT  galectintherapeutics.com     GalectinGALT          USA   \n",
       "103759       NaT            perficient.com       Perficient          USA   \n",
       "123601       NaT            telecomsys.com       TeleComSys          USA   \n",
       "\n",
       "        investment_rounds  funding_rounds  funding_total  milestones  \n",
       "95234                 0.0            11.0    437592000.0         0.0  \n",
       "3445                  0.0            13.0    789040000.0         3.0  \n",
       "149290                0.0            13.0      9514000.0         2.0  \n",
       "103759                0.0            13.0     57923500.0         2.0  \n",
       "123601                0.0            13.0    109550000.0         2.0  "
      ]
     },
     "metadata": {},
     "output_type": "display_data"
    }
   ],
   "source": [
    "#Взглянем на компании, получившие большее количество раундов финансирования\n",
    "display(company_filt[company_filt['status']=='ipo'].sort_values(by = 'funding_rounds').tail(5))"
   ]
  },
  {
   "cell_type": "markdown",
   "metadata": {
    "id": "VAFEZ2HBrJg3"
   },
   "source": [
    "\n",
    "## Шаг 4. Итоговый вывод и рекомендации\n"
   ]
  },
  {
   "cell_type": "markdown",
   "metadata": {},
   "source": [
    "### Что было сделано:\n",
    "**Предобработка данных:**\n",
    "\n",
    "- Проведена загрузка и первичный анализ 5 датасетов\n",
    "\n",
    "- Исправлены названия столбцов (приведены к snake_case)\n",
    "\n",
    "- Преобразованы типы данных для временных меток\n",
    "\n",
    "- Выполнена обработка пропусков с анализом их природы\n",
    "\n",
    "- Датсет company_and_rounds разделен на 2 логические таблицы\n",
    "\n",
    "**Аналитическая часть:**\n",
    "\n",
    "- Исследована динамика раундов финансирования по годам\n",
    "\n",
    "- Проанализирована связь между размером компании и полнотой данных об образовании сотрудников\n",
    "\n",
    "- Оценена возможность объединения данных по network_username\n",
    "\n",
    "- Проведен анализ выбросов в финансировании\n",
    "\n",
    "- Исследованы компании, проданные за $0-1\n",
    "\n",
    "- Определены категории стартапов с наибольшими ценами покупки\n",
    "\n",
    "- Проанализирована связь количества раундов и статуса компании\n",
    "\n",
    "**Финансирование:**\n",
    "\n",
    "- Максимальный типичный размер раунда ($5.5M) наблюдался в 2005 году\n",
    "\n",
    "- 25% компаний имеют нулевое финансирование\n",
    "- В 2013 году было зафиксировано наибольшее количество раундов (11 072), но средний размер инвестиций снизился до $1.2 млн.\n",
    "\n",
    "**Сделки:**\n",
    "\n",
    "- Обнаружено 1618 компаний, проданных за 0-1 доллар при среднем финансировании ($18.5M)\n",
    "- Наиболее вероятные причины таких сделок:<br>\n",
    "Передача акций вместо денег.<br>\n",
    "Символическая стоимость при смене владельца внутри группы.<br>\n",
    "Технические сделки (например, поглощение дочерних структур).<br>\n",
    "\n",
    "- Наибольшие цены покупки в категориях: nanotech, manufacturing, real_estate\n",
    "\n",
    "**Раунды и статусы:**\n",
    "\n",
    "- IPO-компании прошли в среднем 1.93 раунда\n",
    "\n",
    "- Приобретенные компании - только 0.52 раунда\n",
    "\n",
    "- Действующие стартапы - 1.52 раунда\n",
    "\n",
    "\n",
    "**Для бизнеса:**\n",
    "\n",
    "Сфокусироваться на cleantech, semiconductor, public_relations как наиболее перспективных категориях, <br>\n",
    "так как можно подобрать компанию под любой бюджет.\n",
    "Разработать отдельные критерии для оценки \"дешевых\" приобретений ($0-1)<br>\n",
    "Компании, прошедшие более 1 раунда, чаще остаются на рынке или выходят на IPO.<br>\n",
    "Стартапы с 0–1 раундом чаще продаются, но по более низкой цене.<br>\n"
   ]
  }
 ],
 "metadata": {
  "ExecuteTimeLog": [
   {
    "duration": 76,
    "start_time": "2025-06-17T09:18:54.534Z"
   },
   {
    "duration": 486,
    "start_time": "2025-06-17T09:22:15.852Z"
   },
   {
    "duration": 7,
    "start_time": "2025-06-17T09:22:23.282Z"
   },
   {
    "duration": 70,
    "start_time": "2025-06-17T09:22:28.454Z"
   },
   {
    "duration": 207,
    "start_time": "2025-06-17T09:23:02.407Z"
   },
   {
    "duration": 3894,
    "start_time": "2025-06-17T09:24:27.100Z"
   },
   {
    "duration": 51,
    "start_time": "2025-06-17T11:45:21.190Z"
   },
   {
    "duration": 473,
    "start_time": "2025-06-17T11:45:23.695Z"
   },
   {
    "duration": 2525,
    "start_time": "2025-06-17T11:45:24.762Z"
   },
   {
    "duration": 20,
    "start_time": "2025-06-17T11:45:27.289Z"
   },
   {
    "duration": 11,
    "start_time": "2025-06-17T11:45:41.510Z"
   },
   {
    "duration": 21,
    "start_time": "2025-06-17T11:47:14.769Z"
   },
   {
    "duration": 125,
    "start_time": "2025-06-17T11:50:13.665Z"
   },
   {
    "duration": 51,
    "start_time": "2025-06-17T12:05:56.840Z"
   },
   {
    "duration": 83,
    "start_time": "2025-06-17T12:05:59.540Z"
   },
   {
    "duration": 32,
    "start_time": "2025-06-17T12:06:43.006Z"
   },
   {
    "duration": 64,
    "start_time": "2025-06-17T12:10:31.696Z"
   },
   {
    "duration": 50,
    "start_time": "2025-06-17T12:10:35.770Z"
   },
   {
    "duration": 51,
    "start_time": "2025-06-17T12:22:50.057Z"
   },
   {
    "duration": 24,
    "start_time": "2025-06-17T12:22:53.450Z"
   },
   {
    "duration": 32,
    "start_time": "2025-06-17T12:24:05.251Z"
   },
   {
    "duration": 23,
    "start_time": "2025-06-17T12:24:39.967Z"
   },
   {
    "duration": 23,
    "start_time": "2025-06-17T12:24:48.915Z"
   },
   {
    "duration": 59,
    "start_time": "2025-06-17T12:25:20.620Z"
   },
   {
    "duration": 25,
    "start_time": "2025-06-17T12:25:23.364Z"
   },
   {
    "duration": 26,
    "start_time": "2025-06-17T12:26:36.595Z"
   },
   {
    "duration": 18,
    "start_time": "2025-06-17T12:26:48.065Z"
   },
   {
    "duration": 19,
    "start_time": "2025-06-17T12:27:00.029Z"
   },
   {
    "duration": 24,
    "start_time": "2025-06-17T12:29:15.903Z"
   },
   {
    "duration": 20,
    "start_time": "2025-06-17T12:29:17.954Z"
   },
   {
    "duration": 19,
    "start_time": "2025-06-17T12:29:44.625Z"
   },
   {
    "duration": 1478,
    "start_time": "2025-06-17T12:32:20.144Z"
   },
   {
    "duration": 1369,
    "start_time": "2025-06-17T12:32:58.264Z"
   },
   {
    "duration": 128,
    "start_time": "2025-06-17T12:33:12.660Z"
   },
   {
    "duration": 123,
    "start_time": "2025-06-17T12:33:38.904Z"
   },
   {
    "duration": 1357,
    "start_time": "2025-06-17T12:34:06.046Z"
   },
   {
    "duration": 128,
    "start_time": "2025-06-17T12:34:25.443Z"
   },
   {
    "duration": 126,
    "start_time": "2025-06-17T12:34:46.357Z"
   },
   {
    "duration": 131,
    "start_time": "2025-06-17T12:34:55.533Z"
   },
   {
    "duration": 127,
    "start_time": "2025-06-17T12:38:51.227Z"
   },
   {
    "duration": 99,
    "start_time": "2025-06-17T12:46:46.676Z"
   },
   {
    "duration": 57,
    "start_time": "2025-06-17T12:46:58.286Z"
   },
   {
    "duration": 57,
    "start_time": "2025-06-17T12:48:22.876Z"
   },
   {
    "duration": 132,
    "start_time": "2025-06-17T12:48:58.812Z"
   },
   {
    "duration": 56,
    "start_time": "2025-06-17T12:49:43.273Z"
   },
   {
    "duration": 58,
    "start_time": "2025-06-17T12:49:49.343Z"
   },
   {
    "duration": 347,
    "start_time": "2025-06-17T12:49:54.124Z"
   },
   {
    "duration": 120,
    "start_time": "2025-06-17T12:50:08.711Z"
   },
   {
    "duration": 64,
    "start_time": "2025-06-17T12:50:12.892Z"
   },
   {
    "duration": 240,
    "start_time": "2025-06-17T12:50:42.318Z"
   },
   {
    "duration": 238,
    "start_time": "2025-06-17T12:50:50.033Z"
   },
   {
    "duration": 57,
    "start_time": "2025-06-17T12:50:59.018Z"
   },
   {
    "duration": 25,
    "start_time": "2025-06-17T12:51:08.239Z"
   },
   {
    "duration": 9,
    "start_time": "2025-06-17T12:51:30.718Z"
   },
   {
    "duration": 20,
    "start_time": "2025-06-17T12:51:46.242Z"
   },
   {
    "duration": 46,
    "start_time": "2025-06-17T12:51:52.841Z"
   },
   {
    "duration": 56,
    "start_time": "2025-06-17T12:51:59.434Z"
   },
   {
    "duration": 20,
    "start_time": "2025-06-17T12:52:10.980Z"
   },
   {
    "duration": 54,
    "start_time": "2025-06-17T12:52:12.316Z"
   },
   {
    "duration": 25,
    "start_time": "2025-06-17T12:52:24.994Z"
   },
   {
    "duration": 25,
    "start_time": "2025-06-17T12:52:27.228Z"
   },
   {
    "duration": 24,
    "start_time": "2025-06-17T12:52:27.765Z"
   },
   {
    "duration": 26,
    "start_time": "2025-06-17T12:52:29.872Z"
   },
   {
    "duration": 442,
    "start_time": "2025-06-17T12:52:37.383Z"
   },
   {
    "duration": 2036,
    "start_time": "2025-06-17T12:52:37.827Z"
   },
   {
    "duration": 26,
    "start_time": "2025-06-17T12:52:39.864Z"
   },
   {
    "duration": 179,
    "start_time": "2025-06-17T12:52:39.892Z"
   },
   {
    "duration": 26,
    "start_time": "2025-06-17T12:52:40.073Z"
   },
   {
    "duration": 70,
    "start_time": "2025-06-17T12:52:40.100Z"
   },
   {
    "duration": 31,
    "start_time": "2025-06-17T12:52:40.172Z"
   },
   {
    "duration": 68,
    "start_time": "2025-06-17T12:52:40.204Z"
   },
   {
    "duration": 186,
    "start_time": "2025-06-17T12:53:25.785Z"
   },
   {
    "duration": 54,
    "start_time": "2025-06-17T12:56:36.170Z"
   },
   {
    "duration": 134,
    "start_time": "2025-06-17T12:56:50.515Z"
   },
   {
    "duration": 20,
    "start_time": "2025-06-17T12:56:58.508Z"
   },
   {
    "duration": 46,
    "start_time": "2025-06-17T12:57:17.385Z"
   },
   {
    "duration": 55,
    "start_time": "2025-06-17T12:57:21.052Z"
   },
   {
    "duration": 29,
    "start_time": "2025-06-17T12:58:22.920Z"
   },
   {
    "duration": 52,
    "start_time": "2025-06-17T12:58:38.842Z"
   },
   {
    "duration": 6,
    "start_time": "2025-06-17T12:58:51.006Z"
   },
   {
    "duration": 7,
    "start_time": "2025-06-17T12:58:54.759Z"
   },
   {
    "duration": 517,
    "start_time": "2025-06-17T12:58:57.146Z"
   },
   {
    "duration": 2168,
    "start_time": "2025-06-17T12:58:57.664Z"
   },
   {
    "duration": 25,
    "start_time": "2025-06-17T12:58:59.834Z"
   },
   {
    "duration": 142,
    "start_time": "2025-06-17T12:58:59.860Z"
   },
   {
    "duration": 45,
    "start_time": "2025-06-17T12:59:00.004Z"
   },
   {
    "duration": 111,
    "start_time": "2025-06-17T12:59:00.050Z"
   },
   {
    "duration": 37,
    "start_time": "2025-06-17T12:59:00.541Z"
   },
   {
    "duration": 56,
    "start_time": "2025-06-17T12:59:02.257Z"
   },
   {
    "duration": 657,
    "start_time": "2025-06-17T12:59:21.120Z"
   },
   {
    "duration": 2629,
    "start_time": "2025-06-17T12:59:21.779Z"
   },
   {
    "duration": 28,
    "start_time": "2025-06-17T12:59:24.411Z"
   },
   {
    "duration": 179,
    "start_time": "2025-06-17T12:59:24.441Z"
   },
   {
    "duration": 41,
    "start_time": "2025-06-17T12:59:24.622Z"
   },
   {
    "duration": 87,
    "start_time": "2025-06-17T12:59:24.665Z"
   },
   {
    "duration": 37,
    "start_time": "2025-06-17T12:59:24.755Z"
   },
   {
    "duration": 49,
    "start_time": "2025-06-17T12:59:27.170Z"
   },
   {
    "duration": 1409,
    "start_time": "2025-06-17T13:00:14.398Z"
   },
   {
    "duration": 1265,
    "start_time": "2025-06-17T13:00:22.075Z"
   },
   {
    "duration": 2006,
    "start_time": "2025-06-17T13:00:32.246Z"
   },
   {
    "duration": 51,
    "start_time": "2025-06-17T13:02:00.988Z"
   },
   {
    "duration": 59,
    "start_time": "2025-06-17T13:02:08.604Z"
   },
   {
    "duration": 25,
    "start_time": "2025-06-17T13:02:21.541Z"
   },
   {
    "duration": 8,
    "start_time": "2025-06-17T13:05:26.617Z"
   },
   {
    "duration": 1480,
    "start_time": "2025-06-17T13:05:46.928Z"
   },
   {
    "duration": 1821,
    "start_time": "2025-06-17T13:06:12.725Z"
   },
   {
    "duration": 21,
    "start_time": "2025-06-17T13:06:31.019Z"
   },
   {
    "duration": 10,
    "start_time": "2025-06-17T13:06:33.520Z"
   },
   {
    "duration": 127,
    "start_time": "2025-06-17T13:06:54.224Z"
   },
   {
    "duration": 71,
    "start_time": "2025-06-17T19:53:07.229Z"
   },
   {
    "duration": 520,
    "start_time": "2025-06-17T19:53:13.029Z"
   },
   {
    "duration": 4,
    "start_time": "2025-06-17T19:53:14.750Z"
   },
   {
    "duration": 3,
    "start_time": "2025-06-17T19:53:16.003Z"
   },
   {
    "duration": 2962,
    "start_time": "2025-06-17T19:53:16.517Z"
   },
   {
    "duration": 27,
    "start_time": "2025-06-17T19:53:19.481Z"
   },
   {
    "duration": 193,
    "start_time": "2025-06-17T19:53:19.509Z"
   },
   {
    "duration": 33,
    "start_time": "2025-06-17T19:53:19.704Z"
   },
   {
    "duration": 49,
    "start_time": "2025-06-17T19:53:19.739Z"
   },
   {
    "duration": 30,
    "start_time": "2025-06-17T19:53:19.880Z"
   },
   {
    "duration": 63,
    "start_time": "2025-06-17T19:53:21.236Z"
   },
   {
    "duration": 90,
    "start_time": "2025-06-17T19:53:21.548Z"
   },
   {
    "duration": 132,
    "start_time": "2025-06-17T19:53:22.452Z"
   },
   {
    "duration": 34,
    "start_time": "2025-06-17T19:55:11.565Z"
   },
   {
    "duration": 9,
    "start_time": "2025-06-17T19:55:17.090Z"
   },
   {
    "duration": 8,
    "start_time": "2025-06-17T19:55:49.406Z"
   },
   {
    "duration": 138,
    "start_time": "2025-06-17T19:55:55.638Z"
   },
   {
    "duration": 16,
    "start_time": "2025-06-17T19:56:14.341Z"
   },
   {
    "duration": 105,
    "start_time": "2025-06-17T19:56:25.784Z"
   },
   {
    "duration": 61,
    "start_time": "2025-06-17T19:58:15.718Z"
   },
   {
    "duration": 9,
    "start_time": "2025-06-17T19:58:18.813Z"
   },
   {
    "duration": 12,
    "start_time": "2025-06-17T19:58:24.098Z"
   },
   {
    "duration": 380,
    "start_time": "2025-06-17T19:58:36.849Z"
   },
   {
    "duration": 552,
    "start_time": "2025-06-17T19:58:44.855Z"
   },
   {
    "duration": 810,
    "start_time": "2025-06-17T19:59:19.348Z"
   },
   {
    "duration": 338,
    "start_time": "2025-06-17T19:59:34.349Z"
   },
   {
    "duration": 300,
    "start_time": "2025-06-17T19:59:41.411Z"
   },
   {
    "duration": 1491,
    "start_time": "2025-06-17T19:59:50.374Z"
   },
   {
    "duration": 1763,
    "start_time": "2025-06-17T20:00:06.588Z"
   },
   {
    "duration": 1609,
    "start_time": "2025-06-17T20:00:53.972Z"
   },
   {
    "duration": 9,
    "start_time": "2025-06-17T20:04:19.194Z"
   },
   {
    "duration": 716,
    "start_time": "2025-06-17T20:04:23.687Z"
   },
   {
    "duration": 1382,
    "start_time": "2025-06-17T20:04:42.568Z"
   },
   {
    "duration": 315,
    "start_time": "2025-06-17T20:05:16.681Z"
   },
   {
    "duration": 323,
    "start_time": "2025-06-17T20:05:23.482Z"
   },
   {
    "duration": 1317,
    "start_time": "2025-06-17T20:06:37.995Z"
   },
   {
    "duration": 517,
    "start_time": "2025-06-17T20:07:19.675Z"
   },
   {
    "duration": 131,
    "start_time": "2025-06-17T20:09:13.360Z"
   },
   {
    "duration": 67,
    "start_time": "2025-06-17T20:10:57.931Z"
   },
   {
    "duration": 129,
    "start_time": "2025-06-17T20:11:01.557Z"
   },
   {
    "duration": 238,
    "start_time": "2025-06-17T20:11:32.452Z"
   },
   {
    "duration": 559,
    "start_time": "2025-06-17T20:12:09.486Z"
   },
   {
    "duration": 495,
    "start_time": "2025-06-17T20:12:38.683Z"
   },
   {
    "duration": 246,
    "start_time": "2025-06-17T20:12:57.257Z"
   },
   {
    "duration": 9,
    "start_time": "2025-06-17T20:13:48.997Z"
   },
   {
    "duration": 8,
    "start_time": "2025-06-17T20:13:53.658Z"
   },
   {
    "duration": 59,
    "start_time": "2025-06-17T20:13:57.273Z"
   },
   {
    "duration": 5,
    "start_time": "2025-06-17T20:14:00.519Z"
   },
   {
    "duration": 6,
    "start_time": "2025-06-17T20:15:07.767Z"
   },
   {
    "duration": 11,
    "start_time": "2025-06-17T20:15:16.320Z"
   },
   {
    "duration": 12,
    "start_time": "2025-06-17T20:15:30.571Z"
   },
   {
    "duration": 72,
    "start_time": "2025-06-17T20:15:36.104Z"
   },
   {
    "duration": 11,
    "start_time": "2025-06-17T20:15:38.332Z"
   },
   {
    "duration": 5,
    "start_time": "2025-06-17T20:17:16.885Z"
   },
   {
    "duration": 5,
    "start_time": "2025-06-17T20:19:07.403Z"
   },
   {
    "duration": 7,
    "start_time": "2025-06-17T20:21:13.885Z"
   },
   {
    "duration": 61,
    "start_time": "2025-06-17T20:26:46.094Z"
   },
   {
    "duration": 7,
    "start_time": "2025-06-17T20:30:49.566Z"
   },
   {
    "duration": 10,
    "start_time": "2025-06-17T20:31:07.380Z"
   },
   {
    "duration": 10,
    "start_time": "2025-06-17T20:31:32.074Z"
   },
   {
    "duration": 21,
    "start_time": "2025-06-17T20:32:03.918Z"
   },
   {
    "duration": 25,
    "start_time": "2025-06-17T20:32:59.674Z"
   },
   {
    "duration": 22,
    "start_time": "2025-06-17T20:33:25.250Z"
   },
   {
    "duration": 23,
    "start_time": "2025-06-17T20:33:33.460Z"
   },
   {
    "duration": 66,
    "start_time": "2025-06-17T20:33:41.961Z"
   },
   {
    "duration": 33,
    "start_time": "2025-06-17T20:34:12.536Z"
   },
   {
    "duration": 54,
    "start_time": "2025-06-17T20:34:17.145Z"
   },
   {
    "duration": 34,
    "start_time": "2025-06-17T20:35:41.479Z"
   },
   {
    "duration": 14,
    "start_time": "2025-06-17T20:36:37.283Z"
   },
   {
    "duration": 44,
    "start_time": "2025-06-17T20:36:56.234Z"
   },
   {
    "duration": 35,
    "start_time": "2025-06-17T20:37:05.611Z"
   },
   {
    "duration": 42,
    "start_time": "2025-06-17T20:37:58.544Z"
   },
   {
    "duration": 21,
    "start_time": "2025-06-17T20:39:09.493Z"
   },
   {
    "duration": 29,
    "start_time": "2025-06-17T20:39:14.568Z"
   },
   {
    "duration": 36,
    "start_time": "2025-06-17T20:39:38.114Z"
   },
   {
    "duration": 439,
    "start_time": "2025-06-17T20:40:01.295Z"
   },
   {
    "duration": 2359,
    "start_time": "2025-06-17T20:40:01.827Z"
   },
   {
    "duration": 31,
    "start_time": "2025-06-17T20:40:04.189Z"
   },
   {
    "duration": 150,
    "start_time": "2025-06-17T20:40:04.222Z"
   },
   {
    "duration": 26,
    "start_time": "2025-06-17T20:40:05.193Z"
   },
   {
    "duration": 114,
    "start_time": "2025-06-17T20:40:06.456Z"
   },
   {
    "duration": 30,
    "start_time": "2025-06-17T20:40:07.692Z"
   },
   {
    "duration": 63,
    "start_time": "2025-06-17T20:40:09.622Z"
   },
   {
    "duration": 147,
    "start_time": "2025-06-17T20:40:10.073Z"
   },
   {
    "duration": 64,
    "start_time": "2025-06-17T20:40:11.209Z"
   },
   {
    "duration": 34,
    "start_time": "2025-06-17T20:40:37.321Z"
   },
   {
    "duration": 43,
    "start_time": "2025-06-17T20:40:53.532Z"
   },
   {
    "duration": 30,
    "start_time": "2025-06-17T20:41:18.893Z"
   },
   {
    "duration": 4,
    "start_time": "2025-06-17T20:41:55.503Z"
   },
   {
    "duration": 37,
    "start_time": "2025-06-17T20:42:05.812Z"
   },
   {
    "duration": 29,
    "start_time": "2025-06-17T20:42:21.127Z"
   },
   {
    "duration": 26,
    "start_time": "2025-06-17T20:42:21.760Z"
   },
   {
    "duration": 44,
    "start_time": "2025-06-17T20:43:11.249Z"
   },
   {
    "duration": 24,
    "start_time": "2025-06-17T20:43:22.674Z"
   },
   {
    "duration": 24,
    "start_time": "2025-06-17T20:43:23.092Z"
   },
   {
    "duration": 28,
    "start_time": "2025-06-17T20:43:23.253Z"
   },
   {
    "duration": 23,
    "start_time": "2025-06-17T20:43:32.344Z"
   },
   {
    "duration": 25,
    "start_time": "2025-06-17T20:44:34.788Z"
   },
   {
    "duration": 13,
    "start_time": "2025-06-17T20:44:44.396Z"
   },
   {
    "duration": 470,
    "start_time": "2025-06-17T20:44:53.481Z"
   },
   {
    "duration": 2236,
    "start_time": "2025-06-17T20:44:53.954Z"
   },
   {
    "duration": 25,
    "start_time": "2025-06-17T20:44:56.191Z"
   },
   {
    "duration": 144,
    "start_time": "2025-06-17T20:44:56.218Z"
   },
   {
    "duration": 75,
    "start_time": "2025-06-17T20:44:56.364Z"
   },
   {
    "duration": 64,
    "start_time": "2025-06-17T20:44:56.441Z"
   },
   {
    "duration": 72,
    "start_time": "2025-06-17T20:44:56.507Z"
   },
   {
    "duration": 63,
    "start_time": "2025-06-17T20:44:56.580Z"
   },
   {
    "duration": 174,
    "start_time": "2025-06-17T20:44:56.646Z"
   },
   {
    "duration": 0,
    "start_time": "2025-06-17T20:44:56.821Z"
   },
   {
    "duration": 1254,
    "start_time": "2025-06-17T20:45:03.109Z"
   },
   {
    "duration": 1157,
    "start_time": "2025-06-17T20:45:10.130Z"
   },
   {
    "duration": 41,
    "start_time": "2025-06-17T20:45:18.406Z"
   },
   {
    "duration": 15,
    "start_time": "2025-06-17T20:45:49.824Z"
   },
   {
    "duration": 16,
    "start_time": "2025-06-17T20:45:55.626Z"
   },
   {
    "duration": 23,
    "start_time": "2025-06-17T20:46:20.441Z"
   },
   {
    "duration": 23,
    "start_time": "2025-06-17T20:46:24.456Z"
   },
   {
    "duration": 512,
    "start_time": "2025-06-17T20:46:33.129Z"
   },
   {
    "duration": 1978,
    "start_time": "2025-06-17T20:46:33.644Z"
   },
   {
    "duration": 39,
    "start_time": "2025-06-17T20:46:35.624Z"
   },
   {
    "duration": 134,
    "start_time": "2025-06-17T20:46:35.665Z"
   },
   {
    "duration": 92,
    "start_time": "2025-06-17T20:46:35.801Z"
   },
   {
    "duration": 55,
    "start_time": "2025-06-17T20:46:35.895Z"
   },
   {
    "duration": 99,
    "start_time": "2025-06-17T20:46:35.952Z"
   },
   {
    "duration": 52,
    "start_time": "2025-06-17T20:46:36.053Z"
   },
   {
    "duration": 123,
    "start_time": "2025-06-17T20:46:36.107Z"
   },
   {
    "duration": 0,
    "start_time": "2025-06-17T20:46:36.235Z"
   },
   {
    "duration": 57,
    "start_time": "2025-06-17T20:47:08.038Z"
   },
   {
    "duration": 48,
    "start_time": "2025-06-17T20:47:15.254Z"
   },
   {
    "duration": 44,
    "start_time": "2025-06-17T20:47:38.125Z"
   },
   {
    "duration": 78,
    "start_time": "2025-06-17T20:47:44.745Z"
   },
   {
    "duration": 33,
    "start_time": "2025-06-17T20:48:01.777Z"
   },
   {
    "duration": 22,
    "start_time": "2025-06-17T20:48:19.107Z"
   },
   {
    "duration": 46,
    "start_time": "2025-06-17T20:48:44.246Z"
   },
   {
    "duration": 47,
    "start_time": "2025-06-17T20:49:31.431Z"
   },
   {
    "duration": 58,
    "start_time": "2025-06-17T20:49:56.471Z"
   },
   {
    "duration": 46,
    "start_time": "2025-06-17T20:50:53.655Z"
   },
   {
    "duration": 47,
    "start_time": "2025-06-17T20:50:59.776Z"
   },
   {
    "duration": 45,
    "start_time": "2025-06-17T20:51:07.974Z"
   },
   {
    "duration": 49,
    "start_time": "2025-06-17T20:51:16.054Z"
   },
   {
    "duration": 46,
    "start_time": "2025-06-17T20:51:16.713Z"
   },
   {
    "duration": 46,
    "start_time": "2025-06-17T20:51:16.936Z"
   },
   {
    "duration": 57,
    "start_time": "2025-06-17T20:51:17.153Z"
   },
   {
    "duration": 62,
    "start_time": "2025-06-17T20:51:17.322Z"
   },
   {
    "duration": 46,
    "start_time": "2025-06-17T20:51:17.507Z"
   },
   {
    "duration": 55,
    "start_time": "2025-06-17T20:51:54.757Z"
   },
   {
    "duration": 50,
    "start_time": "2025-06-17T20:52:04.605Z"
   },
   {
    "duration": 57,
    "start_time": "2025-06-17T20:52:05.004Z"
   },
   {
    "duration": 59,
    "start_time": "2025-06-17T20:52:05.207Z"
   },
   {
    "duration": 20,
    "start_time": "2025-06-17T20:52:12.157Z"
   },
   {
    "duration": 31,
    "start_time": "2025-06-17T20:52:33.290Z"
   },
   {
    "duration": 52,
    "start_time": "2025-06-17T20:52:59.280Z"
   },
   {
    "duration": 56,
    "start_time": "2025-06-17T20:53:05.440Z"
   },
   {
    "duration": 53,
    "start_time": "2025-06-17T20:53:07.450Z"
   },
   {
    "duration": 53,
    "start_time": "2025-06-17T20:53:19.202Z"
   },
   {
    "duration": 61,
    "start_time": "2025-06-17T20:53:20.221Z"
   },
   {
    "duration": 65,
    "start_time": "2025-06-17T20:53:20.423Z"
   },
   {
    "duration": 61,
    "start_time": "2025-06-17T20:53:25.917Z"
   },
   {
    "duration": 8,
    "start_time": "2025-06-17T20:53:33.133Z"
   },
   {
    "duration": 6,
    "start_time": "2025-06-17T20:53:33.815Z"
   },
   {
    "duration": 54,
    "start_time": "2025-06-17T20:53:38.246Z"
   },
   {
    "duration": 52,
    "start_time": "2025-06-17T20:53:44.349Z"
   },
   {
    "duration": 460,
    "start_time": "2025-06-17T20:53:50.570Z"
   },
   {
    "duration": 2067,
    "start_time": "2025-06-17T20:53:51.032Z"
   },
   {
    "duration": 26,
    "start_time": "2025-06-17T20:53:53.101Z"
   },
   {
    "duration": 137,
    "start_time": "2025-06-17T20:53:53.128Z"
   },
   {
    "duration": 81,
    "start_time": "2025-06-17T20:53:53.267Z"
   },
   {
    "duration": 53,
    "start_time": "2025-06-17T20:53:53.350Z"
   },
   {
    "duration": 61,
    "start_time": "2025-06-17T20:53:53.404Z"
   },
   {
    "duration": 74,
    "start_time": "2025-06-17T20:53:53.467Z"
   },
   {
    "duration": 1199,
    "start_time": "2025-06-17T20:53:53.544Z"
   },
   {
    "duration": 0,
    "start_time": "2025-06-17T20:53:54.746Z"
   },
   {
    "duration": 0,
    "start_time": "2025-06-17T20:53:54.748Z"
   },
   {
    "duration": 6,
    "start_time": "2025-06-17T20:54:06.191Z"
   },
   {
    "duration": 50,
    "start_time": "2025-06-17T20:54:10.891Z"
   },
   {
    "duration": 7,
    "start_time": "2025-06-17T20:54:22.463Z"
   },
   {
    "duration": 6,
    "start_time": "2025-06-17T20:54:22.986Z"
   },
   {
    "duration": 8,
    "start_time": "2025-06-17T20:54:23.145Z"
   },
   {
    "duration": 7,
    "start_time": "2025-06-17T20:54:23.291Z"
   },
   {
    "duration": 7,
    "start_time": "2025-06-17T20:54:23.784Z"
   },
   {
    "duration": 8,
    "start_time": "2025-06-17T20:54:23.871Z"
   },
   {
    "duration": 8,
    "start_time": "2025-06-17T20:54:23.950Z"
   },
   {
    "duration": 9,
    "start_time": "2025-06-17T20:54:24.033Z"
   },
   {
    "duration": 506,
    "start_time": "2025-06-17T20:54:29.269Z"
   },
   {
    "duration": 1887,
    "start_time": "2025-06-17T20:54:29.777Z"
   },
   {
    "duration": 33,
    "start_time": "2025-06-17T20:54:31.666Z"
   },
   {
    "duration": 154,
    "start_time": "2025-06-17T20:54:31.701Z"
   },
   {
    "duration": 62,
    "start_time": "2025-06-17T20:54:31.858Z"
   },
   {
    "duration": 78,
    "start_time": "2025-06-17T20:54:31.921Z"
   },
   {
    "duration": 48,
    "start_time": "2025-06-17T20:54:32.001Z"
   },
   {
    "duration": 57,
    "start_time": "2025-06-17T20:54:32.051Z"
   },
   {
    "duration": 31,
    "start_time": "2025-06-17T20:54:32.110Z"
   },
   {
    "duration": 78,
    "start_time": "2025-06-17T20:54:32.143Z"
   },
   {
    "duration": 51,
    "start_time": "2025-06-17T20:54:40.906Z"
   },
   {
    "duration": 57,
    "start_time": "2025-06-17T20:55:25.559Z"
   },
   {
    "duration": 63,
    "start_time": "2025-06-17T20:56:17.567Z"
   },
   {
    "duration": 52,
    "start_time": "2025-06-17T20:56:36.183Z"
   },
   {
    "duration": 50,
    "start_time": "2025-06-17T20:56:39.859Z"
   },
   {
    "duration": 51,
    "start_time": "2025-06-17T20:57:30.427Z"
   },
   {
    "duration": 56,
    "start_time": "2025-06-17T20:57:53.658Z"
   },
   {
    "duration": 42,
    "start_time": "2025-06-17T20:58:04.436Z"
   },
   {
    "duration": 25,
    "start_time": "2025-06-17T20:58:31.891Z"
   },
   {
    "duration": 27,
    "start_time": "2025-06-17T20:58:35.548Z"
   },
   {
    "duration": 44,
    "start_time": "2025-06-17T20:59:29.272Z"
   },
   {
    "duration": 48,
    "start_time": "2025-06-17T21:00:46.136Z"
   },
   {
    "duration": 542,
    "start_time": "2025-06-17T21:00:55.522Z"
   },
   {
    "duration": 3152,
    "start_time": "2025-06-17T21:00:56.066Z"
   },
   {
    "duration": 33,
    "start_time": "2025-06-17T21:00:59.220Z"
   },
   {
    "duration": 229,
    "start_time": "2025-06-17T21:00:59.256Z"
   },
   {
    "duration": 83,
    "start_time": "2025-06-17T21:00:59.487Z"
   },
   {
    "duration": 65,
    "start_time": "2025-06-17T21:00:59.572Z"
   },
   {
    "duration": 36,
    "start_time": "2025-06-17T21:00:59.639Z"
   },
   {
    "duration": 102,
    "start_time": "2025-06-17T21:00:59.676Z"
   },
   {
    "duration": 1700,
    "start_time": "2025-06-17T21:00:59.780Z"
   },
   {
    "duration": 0,
    "start_time": "2025-06-17T21:01:01.483Z"
   },
   {
    "duration": 1256,
    "start_time": "2025-06-17T21:01:31.952Z"
   },
   {
    "duration": 1241,
    "start_time": "2025-06-17T21:01:38.375Z"
   },
   {
    "duration": 1309,
    "start_time": "2025-06-17T21:01:45.066Z"
   },
   {
    "duration": 1197,
    "start_time": "2025-06-17T21:01:51.601Z"
   },
   {
    "duration": 1188,
    "start_time": "2025-06-17T21:02:01.139Z"
   },
   {
    "duration": 1205,
    "start_time": "2025-06-17T21:02:15.884Z"
   },
   {
    "duration": 1284,
    "start_time": "2025-06-17T21:02:27.352Z"
   },
   {
    "duration": 1269,
    "start_time": "2025-06-17T21:02:33.173Z"
   },
   {
    "duration": 1312,
    "start_time": "2025-06-17T21:03:08.058Z"
   },
   {
    "duration": 41,
    "start_time": "2025-06-17T21:03:11.988Z"
   },
   {
    "duration": 1211,
    "start_time": "2025-06-17T21:03:13.845Z"
   },
   {
    "duration": 60,
    "start_time": "2025-06-17T21:03:45.984Z"
   },
   {
    "duration": 48,
    "start_time": "2025-06-17T21:03:54.523Z"
   },
   {
    "duration": 500,
    "start_time": "2025-06-17T21:03:59.845Z"
   },
   {
    "duration": 3491,
    "start_time": "2025-06-17T21:04:00.347Z"
   },
   {
    "duration": 33,
    "start_time": "2025-06-17T21:04:03.840Z"
   },
   {
    "duration": 137,
    "start_time": "2025-06-17T21:04:03.875Z"
   },
   {
    "duration": 75,
    "start_time": "2025-06-17T21:04:04.014Z"
   },
   {
    "duration": 80,
    "start_time": "2025-06-17T21:04:04.090Z"
   },
   {
    "duration": 35,
    "start_time": "2025-06-17T21:04:04.171Z"
   },
   {
    "duration": 1385,
    "start_time": "2025-06-17T21:04:04.207Z"
   },
   {
    "duration": 0,
    "start_time": "2025-06-17T21:04:05.594Z"
   },
   {
    "duration": 0,
    "start_time": "2025-06-17T21:04:05.595Z"
   },
   {
    "duration": 49,
    "start_time": "2025-06-17T21:04:17.233Z"
   },
   {
    "duration": 101,
    "start_time": "2025-06-17T21:04:39.184Z"
   },
   {
    "duration": 431,
    "start_time": "2025-06-18T13:39:37.395Z"
   },
   {
    "duration": 2174,
    "start_time": "2025-06-18T13:39:38.535Z"
   },
   {
    "duration": 25,
    "start_time": "2025-06-18T13:39:40.906Z"
   },
   {
    "duration": 119,
    "start_time": "2025-06-18T13:39:43.711Z"
   },
   {
    "duration": 116,
    "start_time": "2025-06-18T13:39:52.362Z"
   },
   {
    "duration": 186,
    "start_time": "2025-06-18T13:40:01.526Z"
   },
   {
    "duration": 148,
    "start_time": "2025-06-18T13:40:06.703Z"
   },
   {
    "duration": 115,
    "start_time": "2025-06-18T13:40:26.081Z"
   },
   {
    "duration": 1256,
    "start_time": "2025-06-18T13:51:46.391Z"
   },
   {
    "duration": 4,
    "start_time": "2025-06-18T13:51:55.028Z"
   },
   {
    "duration": 4,
    "start_time": "2025-06-18T13:52:00.704Z"
   },
   {
    "duration": 8,
    "start_time": "2025-06-18T13:52:43.374Z"
   },
   {
    "duration": 14,
    "start_time": "2025-06-18T13:52:53.036Z"
   },
   {
    "duration": 1270,
    "start_time": "2025-06-18T13:54:12.607Z"
   },
   {
    "duration": 103,
    "start_time": "2025-06-18T13:55:17.923Z"
   },
   {
    "duration": 12,
    "start_time": "2025-06-18T13:55:20.564Z"
   },
   {
    "duration": 1304,
    "start_time": "2025-06-18T13:55:21.821Z"
   },
   {
    "duration": 29,
    "start_time": "2025-06-18T13:55:36.996Z"
   },
   {
    "duration": 13,
    "start_time": "2025-06-18T13:55:38.621Z"
   },
   {
    "duration": 1420,
    "start_time": "2025-06-18T13:55:40.544Z"
   },
   {
    "duration": 1256,
    "start_time": "2025-06-18T13:56:05.190Z"
   },
   {
    "duration": 91,
    "start_time": "2025-06-18T13:56:46.443Z"
   },
   {
    "duration": 1403,
    "start_time": "2025-06-18T13:57:16.361Z"
   },
   {
    "duration": 28,
    "start_time": "2025-06-18T13:57:30.626Z"
   },
   {
    "duration": 31,
    "start_time": "2025-06-18T14:08:53.997Z"
   },
   {
    "duration": 22,
    "start_time": "2025-06-18T14:09:25.187Z"
   },
   {
    "duration": 2,
    "start_time": "2025-06-18T14:12:46.952Z"
   },
   {
    "duration": 3,
    "start_time": "2025-06-18T14:12:49.585Z"
   },
   {
    "duration": 2,
    "start_time": "2025-06-18T14:12:55.748Z"
   },
   {
    "duration": 22,
    "start_time": "2025-06-18T14:14:04.618Z"
   },
   {
    "duration": 7,
    "start_time": "2025-06-18T14:16:49.478Z"
   },
   {
    "duration": 7,
    "start_time": "2025-06-18T14:16:56.816Z"
   },
   {
    "duration": 7,
    "start_time": "2025-06-18T14:16:57.859Z"
   },
   {
    "duration": 7,
    "start_time": "2025-06-18T14:17:01.047Z"
   },
   {
    "duration": 6,
    "start_time": "2025-06-18T14:17:28.216Z"
   },
   {
    "duration": 171,
    "start_time": "2025-06-18T14:18:50.163Z"
   },
   {
    "duration": 8,
    "start_time": "2025-06-18T14:30:28.782Z"
   },
   {
    "duration": 6,
    "start_time": "2025-06-18T14:30:35.233Z"
   },
   {
    "duration": 6,
    "start_time": "2025-06-18T14:31:18.048Z"
   },
   {
    "duration": 7,
    "start_time": "2025-06-18T14:31:41.680Z"
   },
   {
    "duration": 71,
    "start_time": "2025-06-18T14:34:14.509Z"
   },
   {
    "duration": 38,
    "start_time": "2025-06-18T14:34:23.544Z"
   },
   {
    "duration": 12,
    "start_time": "2025-06-18T14:34:24.331Z"
   },
   {
    "duration": 19,
    "start_time": "2025-06-18T14:34:27.298Z"
   },
   {
    "duration": 6,
    "start_time": "2025-06-18T14:35:15.674Z"
   },
   {
    "duration": 70,
    "start_time": "2025-06-18T14:35:26.163Z"
   },
   {
    "duration": 35,
    "start_time": "2025-06-18T14:35:39.097Z"
   },
   {
    "duration": 11,
    "start_time": "2025-06-18T14:35:47.665Z"
   },
   {
    "duration": 19,
    "start_time": "2025-06-18T14:35:57.973Z"
   },
   {
    "duration": 13,
    "start_time": "2025-06-18T14:36:02.764Z"
   },
   {
    "duration": 13,
    "start_time": "2025-06-18T14:36:06.059Z"
   },
   {
    "duration": 43,
    "start_time": "2025-06-18T14:36:10.664Z"
   },
   {
    "duration": 71,
    "start_time": "2025-06-18T14:36:16.994Z"
   },
   {
    "duration": 7,
    "start_time": "2025-06-18T14:36:20.338Z"
   },
   {
    "duration": 73,
    "start_time": "2025-06-18T14:36:51.351Z"
   },
   {
    "duration": 71,
    "start_time": "2025-06-18T14:36:58.139Z"
   },
   {
    "duration": 22,
    "start_time": "2025-06-18T14:37:18.626Z"
   },
   {
    "duration": 13,
    "start_time": "2025-06-18T14:37:20.802Z"
   },
   {
    "duration": 35,
    "start_time": "2025-06-18T14:37:23.054Z"
   },
   {
    "duration": 71,
    "start_time": "2025-06-18T14:37:25.424Z"
   },
   {
    "duration": 7,
    "start_time": "2025-06-18T14:37:30.569Z"
   },
   {
    "duration": 51,
    "start_time": "2025-06-19T14:56:58.860Z"
   },
   {
    "duration": 2,
    "start_time": "2025-06-19T14:57:04.343Z"
   },
   {
    "duration": 3,
    "start_time": "2025-06-19T14:57:05.600Z"
   },
   {
    "duration": 5667,
    "start_time": "2025-06-19T14:57:06.003Z"
   },
   {
    "duration": 25,
    "start_time": "2025-06-19T14:57:11.672Z"
   },
   {
    "duration": 1412,
    "start_time": "2025-06-19T14:57:11.698Z"
   },
   {
    "duration": 1,
    "start_time": "2025-06-19T14:57:13.143Z"
   },
   {
    "duration": 0,
    "start_time": "2025-06-19T14:57:13.145Z"
   },
   {
    "duration": 0,
    "start_time": "2025-06-19T14:57:13.146Z"
   },
   {
    "duration": 0,
    "start_time": "2025-06-19T14:57:13.147Z"
   },
   {
    "duration": 0,
    "start_time": "2025-06-19T14:57:13.148Z"
   },
   {
    "duration": 0,
    "start_time": "2025-06-19T14:57:13.149Z"
   },
   {
    "duration": 0,
    "start_time": "2025-06-19T14:57:13.150Z"
   },
   {
    "duration": 0,
    "start_time": "2025-06-19T14:57:13.151Z"
   },
   {
    "duration": 0,
    "start_time": "2025-06-19T14:57:13.152Z"
   },
   {
    "duration": 0,
    "start_time": "2025-06-19T14:57:13.153Z"
   },
   {
    "duration": 38,
    "start_time": "2025-06-19T14:57:13.466Z"
   },
   {
    "duration": 22,
    "start_time": "2025-06-19T14:57:14.249Z"
   },
   {
    "duration": 1188,
    "start_time": "2025-06-19T14:57:17.166Z"
   },
   {
    "duration": 8,
    "start_time": "2025-06-19T14:57:29.829Z"
   },
   {
    "duration": 3,
    "start_time": "2025-06-19T14:57:36.936Z"
   },
   {
    "duration": 47,
    "start_time": "2025-06-19T14:57:44.553Z"
   },
   {
    "duration": 3,
    "start_time": "2025-06-19T14:57:49.697Z"
   },
   {
    "duration": 1954,
    "start_time": "2025-06-19T14:57:50.148Z"
   },
   {
    "duration": 18,
    "start_time": "2025-06-19T14:57:52.104Z"
   },
   {
    "duration": 1629,
    "start_time": "2025-06-19T14:57:53.153Z"
   },
   {
    "duration": 29,
    "start_time": "2025-06-19T14:57:54.871Z"
   },
   {
    "duration": 48,
    "start_time": "2025-06-19T14:57:56.420Z"
   },
   {
    "duration": 32,
    "start_time": "2025-06-19T14:57:57.336Z"
   },
   {
    "duration": 20,
    "start_time": "2025-06-19T14:57:58.453Z"
   },
   {
    "duration": 11,
    "start_time": "2025-06-19T14:57:58.648Z"
   },
   {
    "duration": 146,
    "start_time": "2025-06-19T14:57:58.866Z"
   },
   {
    "duration": 45,
    "start_time": "2025-06-19T14:57:59.050Z"
   },
   {
    "duration": 7,
    "start_time": "2025-06-19T14:57:59.686Z"
   },
   {
    "duration": 77,
    "start_time": "2025-06-19T14:58:01.032Z"
   },
   {
    "duration": 11,
    "start_time": "2025-06-19T14:58:01.434Z"
   },
   {
    "duration": 36,
    "start_time": "2025-06-19T14:58:01.920Z"
   },
   {
    "duration": 21,
    "start_time": "2025-06-19T14:58:02.752Z"
   },
   {
    "duration": 10,
    "start_time": "2025-06-19T14:58:03.853Z"
   },
   {
    "duration": 11,
    "start_time": "2025-06-19T14:58:08.257Z"
   },
   {
    "duration": 14,
    "start_time": "2025-06-19T14:58:18.666Z"
   },
   {
    "duration": 13,
    "start_time": "2025-06-19T14:58:35.918Z"
   },
   {
    "duration": 16,
    "start_time": "2025-06-19T14:58:45.175Z"
   },
   {
    "duration": 14,
    "start_time": "2025-06-19T14:59:09.968Z"
   },
   {
    "duration": 18,
    "start_time": "2025-06-19T14:59:13.816Z"
   },
   {
    "duration": 14,
    "start_time": "2025-06-19T14:59:16.448Z"
   },
   {
    "duration": 18,
    "start_time": "2025-06-19T14:59:35.436Z"
   },
   {
    "duration": 18,
    "start_time": "2025-06-19T14:59:41.423Z"
   },
   {
    "duration": 17,
    "start_time": "2025-06-19T14:59:49.582Z"
   },
   {
    "duration": 40,
    "start_time": "2025-06-19T15:00:48.379Z"
   },
   {
    "duration": 41,
    "start_time": "2025-06-19T15:01:08.490Z"
   },
   {
    "duration": 17,
    "start_time": "2025-06-19T15:01:15.595Z"
   },
   {
    "duration": 17,
    "start_time": "2025-06-19T15:02:50.030Z"
   },
   {
    "duration": 17,
    "start_time": "2025-06-19T15:03:14.492Z"
   },
   {
    "duration": 68,
    "start_time": "2025-06-19T15:03:32.668Z"
   },
   {
    "duration": 17,
    "start_time": "2025-06-19T15:03:38.340Z"
   },
   {
    "duration": 13,
    "start_time": "2025-06-19T15:03:47.208Z"
   },
   {
    "duration": 9,
    "start_time": "2025-06-19T15:05:55.101Z"
   },
   {
    "duration": 26,
    "start_time": "2025-06-19T15:06:01.442Z"
   },
   {
    "duration": 22,
    "start_time": "2025-06-19T15:06:08.751Z"
   },
   {
    "duration": 29,
    "start_time": "2025-06-19T15:06:13.366Z"
   },
   {
    "duration": 29,
    "start_time": "2025-06-19T15:06:41.119Z"
   },
   {
    "duration": 31,
    "start_time": "2025-06-19T15:06:45.098Z"
   },
   {
    "duration": 27,
    "start_time": "2025-06-19T15:06:49.666Z"
   },
   {
    "duration": 31,
    "start_time": "2025-06-19T15:06:53.868Z"
   },
   {
    "duration": 30,
    "start_time": "2025-06-19T15:08:52.736Z"
   },
   {
    "duration": 10,
    "start_time": "2025-06-19T15:10:51.999Z"
   },
   {
    "duration": 25,
    "start_time": "2025-06-19T15:10:57.781Z"
   },
   {
    "duration": 34,
    "start_time": "2025-06-19T15:11:27.806Z"
   },
   {
    "duration": 34,
    "start_time": "2025-06-19T15:11:33.797Z"
   },
   {
    "duration": 35,
    "start_time": "2025-06-19T15:11:43.857Z"
   },
   {
    "duration": 1049,
    "start_time": "2025-06-19T15:12:42.657Z"
   },
   {
    "duration": 35,
    "start_time": "2025-06-19T15:12:54.469Z"
   },
   {
    "duration": 13,
    "start_time": "2025-06-19T15:14:14.705Z"
   },
   {
    "duration": 33,
    "start_time": "2025-06-19T15:15:26.276Z"
   },
   {
    "duration": 31,
    "start_time": "2025-06-19T15:16:21.245Z"
   },
   {
    "duration": 10,
    "start_time": "2025-06-19T15:18:26.116Z"
   },
   {
    "duration": 24,
    "start_time": "2025-06-19T15:18:37.690Z"
   },
   {
    "duration": 31,
    "start_time": "2025-06-19T15:19:33.189Z"
   },
   {
    "duration": 35,
    "start_time": "2025-06-19T15:19:39.390Z"
   },
   {
    "duration": 36,
    "start_time": "2025-06-19T15:19:53.020Z"
   },
   {
    "duration": 35,
    "start_time": "2025-06-19T15:20:05.023Z"
   },
   {
    "duration": 35,
    "start_time": "2025-06-19T15:20:12.710Z"
   },
   {
    "duration": 41,
    "start_time": "2025-06-19T15:20:28.154Z"
   },
   {
    "duration": 8001,
    "start_time": "2025-06-19T15:21:29.792Z"
   },
   {
    "duration": 7636,
    "start_time": "2025-06-19T15:21:45.469Z"
   },
   {
    "duration": 7914,
    "start_time": "2025-06-19T15:22:27.689Z"
   },
   {
    "duration": 26,
    "start_time": "2025-06-19T15:24:37.912Z"
   },
   {
    "duration": 28,
    "start_time": "2025-06-19T15:25:00.878Z"
   },
   {
    "duration": 1246,
    "start_time": "2025-06-19T15:25:04.337Z"
   },
   {
    "duration": 69,
    "start_time": "2025-06-19T15:25:41.483Z"
   },
   {
    "duration": 61,
    "start_time": "2025-06-19T15:25:47.539Z"
   },
   {
    "duration": 53,
    "start_time": "2025-06-19T15:26:37.873Z"
   },
   {
    "duration": 51,
    "start_time": "2025-06-19T15:26:52.820Z"
   },
   {
    "duration": 79,
    "start_time": "2025-06-19T15:27:06.146Z"
   },
   {
    "duration": 52,
    "start_time": "2025-06-19T15:27:13.460Z"
   },
   {
    "duration": 50,
    "start_time": "2025-06-19T15:27:20.965Z"
   },
   {
    "duration": 58,
    "start_time": "2025-06-19T15:28:02.413Z"
   },
   {
    "duration": 53,
    "start_time": "2025-06-19T15:28:07.138Z"
   },
   {
    "duration": 53,
    "start_time": "2025-06-19T15:28:14.570Z"
   },
   {
    "duration": 56,
    "start_time": "2025-06-19T15:28:21.959Z"
   },
   {
    "duration": 63,
    "start_time": "2025-06-19T15:28:23.917Z"
   },
   {
    "duration": 171,
    "start_time": "2025-06-19T15:28:29.982Z"
   },
   {
    "duration": 70,
    "start_time": "2025-06-19T15:28:32.486Z"
   },
   {
    "duration": 57,
    "start_time": "2025-06-19T15:28:48.298Z"
   },
   {
    "duration": 65,
    "start_time": "2025-06-19T15:28:53.113Z"
   },
   {
    "duration": 85,
    "start_time": "2025-06-19T15:28:57.085Z"
   },
   {
    "duration": 55,
    "start_time": "2025-06-19T15:29:02.532Z"
   },
   {
    "duration": 53,
    "start_time": "2025-06-19T15:29:09.583Z"
   },
   {
    "duration": 1201,
    "start_time": "2025-06-19T15:29:17.552Z"
   },
   {
    "duration": 502,
    "start_time": "2025-06-20T10:21:17.402Z"
   },
   {
    "duration": 2507,
    "start_time": "2025-06-20T10:21:17.906Z"
   },
   {
    "duration": 27,
    "start_time": "2025-06-20T10:21:20.415Z"
   },
   {
    "duration": 1581,
    "start_time": "2025-06-20T10:21:20.444Z"
   },
   {
    "duration": 0,
    "start_time": "2025-06-20T10:21:22.027Z"
   },
   {
    "duration": 0,
    "start_time": "2025-06-20T10:21:22.029Z"
   },
   {
    "duration": 0,
    "start_time": "2025-06-20T10:21:22.030Z"
   },
   {
    "duration": 0,
    "start_time": "2025-06-20T10:21:22.032Z"
   },
   {
    "duration": 0,
    "start_time": "2025-06-20T10:21:22.033Z"
   },
   {
    "duration": 0,
    "start_time": "2025-06-20T10:21:22.035Z"
   },
   {
    "duration": 0,
    "start_time": "2025-06-20T10:21:22.036Z"
   },
   {
    "duration": 0,
    "start_time": "2025-06-20T10:21:22.038Z"
   },
   {
    "duration": 0,
    "start_time": "2025-06-20T10:21:22.040Z"
   },
   {
    "duration": 0,
    "start_time": "2025-06-20T10:21:22.041Z"
   },
   {
    "duration": 0,
    "start_time": "2025-06-20T10:21:22.042Z"
   },
   {
    "duration": 0,
    "start_time": "2025-06-20T10:21:22.044Z"
   },
   {
    "duration": 0,
    "start_time": "2025-06-20T10:21:22.045Z"
   },
   {
    "duration": 0,
    "start_time": "2025-06-20T10:21:22.047Z"
   },
   {
    "duration": 1490,
    "start_time": "2025-06-20T10:21:23.949Z"
   },
   {
    "duration": 3,
    "start_time": "2025-06-20T10:21:31.379Z"
   },
   {
    "duration": 2237,
    "start_time": "2025-06-20T10:21:31.765Z"
   },
   {
    "duration": 20,
    "start_time": "2025-06-20T10:21:34.004Z"
   },
   {
    "duration": 1289,
    "start_time": "2025-06-20T10:21:35.166Z"
   },
   {
    "duration": 29,
    "start_time": "2025-06-20T10:21:36.781Z"
   },
   {
    "duration": 51,
    "start_time": "2025-06-20T10:21:38.327Z"
   },
   {
    "duration": 33,
    "start_time": "2025-06-20T10:21:39.765Z"
   },
   {
    "duration": 22,
    "start_time": "2025-06-20T10:21:41.643Z"
   },
   {
    "duration": 7,
    "start_time": "2025-06-20T10:21:42.081Z"
   },
   {
    "duration": 138,
    "start_time": "2025-06-20T10:21:42.415Z"
   },
   {
    "duration": 20,
    "start_time": "2025-06-20T10:21:42.848Z"
   },
   {
    "duration": 8,
    "start_time": "2025-06-20T10:21:44.144Z"
   },
   {
    "duration": 76,
    "start_time": "2025-06-20T10:21:44.932Z"
   },
   {
    "duration": 12,
    "start_time": "2025-06-20T10:21:45.750Z"
   },
   {
    "duration": 38,
    "start_time": "2025-06-20T10:21:46.531Z"
   },
   {
    "duration": 23,
    "start_time": "2025-06-20T10:21:47.298Z"
   },
   {
    "duration": 14,
    "start_time": "2025-06-20T10:21:48.194Z"
   },
   {
    "duration": 1158,
    "start_time": "2025-06-20T10:21:48.410Z"
   },
   {
    "duration": 1519,
    "start_time": "2025-06-20T10:22:13.727Z"
   },
   {
    "duration": 18,
    "start_time": "2025-06-20T10:24:07.921Z"
   },
   {
    "duration": 15,
    "start_time": "2025-06-20T10:25:14.801Z"
   },
   {
    "duration": 57,
    "start_time": "2025-06-20T10:25:47.877Z"
   },
   {
    "duration": 70,
    "start_time": "2025-06-20T10:25:52.466Z"
   },
   {
    "duration": 82,
    "start_time": "2025-06-20T10:26:45.862Z"
   },
   {
    "duration": 51,
    "start_time": "2025-06-20T10:26:54.493Z"
   },
   {
    "duration": 61,
    "start_time": "2025-06-20T10:27:33.874Z"
   },
   {
    "duration": 65,
    "start_time": "2025-06-20T10:27:41.292Z"
   },
   {
    "duration": 52,
    "start_time": "2025-06-20T10:28:49.395Z"
   },
   {
    "duration": 41,
    "start_time": "2025-06-20T10:29:08.685Z"
   },
   {
    "duration": 60,
    "start_time": "2025-06-20T10:29:16.603Z"
   },
   {
    "duration": 73,
    "start_time": "2025-06-20T10:29:18.960Z"
   },
   {
    "duration": 70,
    "start_time": "2025-06-20T10:30:01.420Z"
   },
   {
    "duration": 833,
    "start_time": "2025-06-20T12:32:15.944Z"
   },
   {
    "duration": 385,
    "start_time": "2025-06-20T12:32:58.214Z"
   },
   {
    "duration": 386,
    "start_time": "2025-06-20T12:34:00.276Z"
   },
   {
    "duration": 468,
    "start_time": "2025-06-20T12:35:53.820Z"
   },
   {
    "duration": 64,
    "start_time": "2025-06-20T12:36:25.137Z"
   },
   {
    "duration": 49,
    "start_time": "2025-06-20T12:36:29.145Z"
   },
   {
    "duration": 85,
    "start_time": "2025-06-20T12:36:34.005Z"
   },
   {
    "duration": 82,
    "start_time": "2025-06-20T12:37:08.237Z"
   },
   {
    "duration": 1734,
    "start_time": "2025-06-20T12:37:22.528Z"
   },
   {
    "duration": 15,
    "start_time": "2025-06-20T12:38:42.541Z"
   },
   {
    "duration": 5,
    "start_time": "2025-06-20T12:39:11.452Z"
   },
   {
    "duration": 306,
    "start_time": "2025-06-20T12:39:16.987Z"
   },
   {
    "duration": 318,
    "start_time": "2025-06-20T12:39:41.947Z"
   },
   {
    "duration": 352,
    "start_time": "2025-06-20T12:39:45.897Z"
   },
   {
    "duration": 0,
    "start_time": "2025-06-20T12:40:21.055Z"
   },
   {
    "duration": 61,
    "start_time": "2025-06-20T12:40:47.719Z"
   },
   {
    "duration": 323,
    "start_time": "2025-06-20T12:41:02.597Z"
   },
   {
    "duration": 324,
    "start_time": "2025-06-20T12:41:05.669Z"
   },
   {
    "duration": 287,
    "start_time": "2025-06-20T12:41:50.768Z"
   },
   {
    "duration": 161,
    "start_time": "2025-06-20T12:43:09.365Z"
   },
   {
    "duration": 15,
    "start_time": "2025-06-20T12:43:22.545Z"
   },
   {
    "duration": 13,
    "start_time": "2025-06-20T12:43:27.562Z"
   },
   {
    "duration": 12,
    "start_time": "2025-06-20T12:43:29.623Z"
   },
   {
    "duration": 13,
    "start_time": "2025-06-20T12:43:30.575Z"
   },
   {
    "duration": 14,
    "start_time": "2025-06-20T12:43:31.455Z"
   },
   {
    "duration": 12,
    "start_time": "2025-06-20T12:43:37.609Z"
   },
   {
    "duration": 16,
    "start_time": "2025-06-20T12:43:43.832Z"
   },
   {
    "duration": 13,
    "start_time": "2025-06-20T12:43:57.221Z"
   },
   {
    "duration": 20,
    "start_time": "2025-06-20T12:44:45.230Z"
   },
   {
    "duration": 17,
    "start_time": "2025-06-20T12:44:48.389Z"
   },
   {
    "duration": 173,
    "start_time": "2025-06-20T12:45:24.394Z"
   },
   {
    "duration": 180,
    "start_time": "2025-06-20T12:45:30.638Z"
   },
   {
    "duration": 176,
    "start_time": "2025-06-20T12:45:37.437Z"
   },
   {
    "duration": 169,
    "start_time": "2025-06-20T12:45:41.001Z"
   },
   {
    "duration": 747,
    "start_time": "2025-06-20T12:45:53.412Z"
   },
   {
    "duration": 3410,
    "start_time": "2025-06-20T12:45:54.162Z"
   },
   {
    "duration": 26,
    "start_time": "2025-06-20T12:45:57.573Z"
   },
   {
    "duration": 1530,
    "start_time": "2025-06-20T12:45:57.601Z"
   },
   {
    "duration": 0,
    "start_time": "2025-06-20T12:45:59.134Z"
   },
   {
    "duration": 0,
    "start_time": "2025-06-20T12:45:59.136Z"
   },
   {
    "duration": 0,
    "start_time": "2025-06-20T12:45:59.137Z"
   },
   {
    "duration": 0,
    "start_time": "2025-06-20T12:45:59.138Z"
   },
   {
    "duration": 0,
    "start_time": "2025-06-20T12:45:59.140Z"
   },
   {
    "duration": 0,
    "start_time": "2025-06-20T12:45:59.141Z"
   },
   {
    "duration": 0,
    "start_time": "2025-06-20T12:45:59.143Z"
   },
   {
    "duration": 0,
    "start_time": "2025-06-20T12:45:59.144Z"
   },
   {
    "duration": 0,
    "start_time": "2025-06-20T12:45:59.146Z"
   },
   {
    "duration": 0,
    "start_time": "2025-06-20T12:45:59.148Z"
   },
   {
    "duration": 0,
    "start_time": "2025-06-20T12:45:59.150Z"
   },
   {
    "duration": 0,
    "start_time": "2025-06-20T12:45:59.152Z"
   },
   {
    "duration": 0,
    "start_time": "2025-06-20T12:45:59.153Z"
   },
   {
    "duration": 0,
    "start_time": "2025-06-20T12:45:59.155Z"
   },
   {
    "duration": 0,
    "start_time": "2025-06-20T12:45:59.157Z"
   },
   {
    "duration": 9,
    "start_time": "2025-06-20T12:46:01.069Z"
   },
   {
    "duration": 3,
    "start_time": "2025-06-20T12:46:05.217Z"
   },
   {
    "duration": 2768,
    "start_time": "2025-06-20T12:46:07.485Z"
   },
   {
    "duration": 19,
    "start_time": "2025-06-20T12:46:10.255Z"
   },
   {
    "duration": 1426,
    "start_time": "2025-06-20T12:46:10.276Z"
   },
   {
    "duration": 0,
    "start_time": "2025-06-20T12:46:11.704Z"
   },
   {
    "duration": 62,
    "start_time": "2025-06-20T12:46:11.733Z"
   },
   {
    "duration": 33,
    "start_time": "2025-06-20T12:46:12.566Z"
   },
   {
    "duration": 19,
    "start_time": "2025-06-20T12:46:13.751Z"
   },
   {
    "duration": 12,
    "start_time": "2025-06-20T12:46:14.100Z"
   },
   {
    "duration": 149,
    "start_time": "2025-06-20T12:46:14.347Z"
   },
   {
    "duration": 21,
    "start_time": "2025-06-20T12:46:14.597Z"
   },
   {
    "duration": 7,
    "start_time": "2025-06-20T12:46:15.867Z"
   },
   {
    "duration": 86,
    "start_time": "2025-06-20T12:46:16.285Z"
   },
   {
    "duration": 12,
    "start_time": "2025-06-20T12:46:16.713Z"
   },
   {
    "duration": 38,
    "start_time": "2025-06-20T12:46:17.149Z"
   },
   {
    "duration": 22,
    "start_time": "2025-06-20T12:46:17.554Z"
   },
   {
    "duration": 16,
    "start_time": "2025-06-20T12:46:18.548Z"
   },
   {
    "duration": 73,
    "start_time": "2025-06-20T12:46:18.833Z"
   },
   {
    "duration": 1192,
    "start_time": "2025-06-20T12:46:19.213Z"
   },
   {
    "duration": 1353,
    "start_time": "2025-06-20T12:46:36.469Z"
   },
   {
    "duration": 13,
    "start_time": "2025-06-20T12:46:54.901Z"
   },
   {
    "duration": 82,
    "start_time": "2025-06-20T12:46:55.753Z"
   },
   {
    "duration": 1477,
    "start_time": "2025-06-20T12:46:56.500Z"
   },
   {
    "duration": 1286,
    "start_time": "2025-06-20T12:47:08.601Z"
   },
   {
    "duration": 1392,
    "start_time": "2025-06-20T12:47:23.076Z"
   },
   {
    "duration": 1211,
    "start_time": "2025-06-20T12:47:26.534Z"
   },
   {
    "duration": 1382,
    "start_time": "2025-06-20T12:47:35.779Z"
   },
   {
    "duration": 76,
    "start_time": "2025-06-20T12:48:09.646Z"
   },
   {
    "duration": 70,
    "start_time": "2025-06-20T12:48:37.922Z"
   },
   {
    "duration": 1394,
    "start_time": "2025-06-20T12:48:43.899Z"
   },
   {
    "duration": 1336,
    "start_time": "2025-06-20T12:49:06.138Z"
   },
   {
    "duration": 1611,
    "start_time": "2025-06-20T12:49:10.912Z"
   },
   {
    "duration": 1333,
    "start_time": "2025-06-20T12:49:56.365Z"
   },
   {
    "duration": 1280,
    "start_time": "2025-06-20T12:50:40.308Z"
   },
   {
    "duration": 74,
    "start_time": "2025-06-20T12:50:52.790Z"
   },
   {
    "duration": 1411,
    "start_time": "2025-06-20T12:50:59.627Z"
   },
   {
    "duration": 189,
    "start_time": "2025-06-20T12:52:04.472Z"
   },
   {
    "duration": 231,
    "start_time": "2025-06-20T12:52:08.899Z"
   },
   {
    "duration": 16,
    "start_time": "2025-06-20T12:52:13.257Z"
   },
   {
    "duration": 19,
    "start_time": "2025-06-20T12:52:22.837Z"
   },
   {
    "duration": 89,
    "start_time": "2025-06-20T12:52:34.183Z"
   },
   {
    "duration": 169,
    "start_time": "2025-06-20T12:52:39.420Z"
   },
   {
    "duration": 172,
    "start_time": "2025-06-20T12:52:49.720Z"
   },
   {
    "duration": 181,
    "start_time": "2025-06-20T12:52:53.078Z"
   },
   {
    "duration": 171,
    "start_time": "2025-06-20T12:52:57.207Z"
   },
   {
    "duration": 723,
    "start_time": "2025-06-20T12:53:13.021Z"
   },
   {
    "duration": 2612,
    "start_time": "2025-06-20T12:53:13.746Z"
   },
   {
    "duration": 24,
    "start_time": "2025-06-20T12:53:16.359Z"
   },
   {
    "duration": 1485,
    "start_time": "2025-06-20T12:53:16.385Z"
   },
   {
    "duration": 0,
    "start_time": "2025-06-20T12:53:17.872Z"
   },
   {
    "duration": 0,
    "start_time": "2025-06-20T12:53:17.874Z"
   },
   {
    "duration": 0,
    "start_time": "2025-06-20T12:53:17.875Z"
   },
   {
    "duration": 0,
    "start_time": "2025-06-20T12:53:17.876Z"
   },
   {
    "duration": 0,
    "start_time": "2025-06-20T12:53:17.877Z"
   },
   {
    "duration": 0,
    "start_time": "2025-06-20T12:53:17.878Z"
   },
   {
    "duration": 0,
    "start_time": "2025-06-20T12:53:17.879Z"
   },
   {
    "duration": 0,
    "start_time": "2025-06-20T12:53:17.881Z"
   },
   {
    "duration": 0,
    "start_time": "2025-06-20T12:53:17.882Z"
   },
   {
    "duration": 0,
    "start_time": "2025-06-20T12:53:17.882Z"
   },
   {
    "duration": 0,
    "start_time": "2025-06-20T12:53:17.883Z"
   },
   {
    "duration": 1,
    "start_time": "2025-06-20T12:53:17.884Z"
   },
   {
    "duration": 0,
    "start_time": "2025-06-20T12:53:17.886Z"
   },
   {
    "duration": 0,
    "start_time": "2025-06-20T12:53:17.886Z"
   },
   {
    "duration": 0,
    "start_time": "2025-06-20T12:53:17.887Z"
   },
   {
    "duration": 9,
    "start_time": "2025-06-20T12:53:30.383Z"
   },
   {
    "duration": 28,
    "start_time": "2025-06-20T12:53:39.050Z"
   },
   {
    "duration": 52,
    "start_time": "2025-06-20T12:53:40.448Z"
   },
   {
    "duration": 39,
    "start_time": "2025-06-20T12:53:41.111Z"
   },
   {
    "duration": 56,
    "start_time": "2025-06-20T12:53:42.111Z"
   },
   {
    "duration": 8,
    "start_time": "2025-06-20T12:53:42.294Z"
   },
   {
    "duration": 180,
    "start_time": "2025-06-20T12:53:42.494Z"
   },
   {
    "duration": 20,
    "start_time": "2025-06-20T12:53:42.712Z"
   },
   {
    "duration": 7,
    "start_time": "2025-06-20T12:53:43.281Z"
   },
   {
    "duration": 76,
    "start_time": "2025-06-20T12:53:43.664Z"
   },
   {
    "duration": 15,
    "start_time": "2025-06-20T12:53:44.047Z"
   },
   {
    "duration": 36,
    "start_time": "2025-06-20T12:53:44.599Z"
   },
   {
    "duration": 22,
    "start_time": "2025-06-20T12:53:44.948Z"
   },
   {
    "duration": 14,
    "start_time": "2025-06-20T12:53:45.494Z"
   },
   {
    "duration": 77,
    "start_time": "2025-06-20T12:53:45.712Z"
   },
   {
    "duration": 196,
    "start_time": "2025-06-20T12:53:45.893Z"
   },
   {
    "duration": 335,
    "start_time": "2025-06-20T12:53:59.199Z"
   },
   {
    "duration": 233,
    "start_time": "2025-06-20T12:54:06.164Z"
   },
   {
    "duration": 231,
    "start_time": "2025-06-20T12:54:11.061Z"
   },
   {
    "duration": 309,
    "start_time": "2025-06-20T12:55:00.813Z"
   },
   {
    "duration": 268,
    "start_time": "2025-06-20T12:56:09.861Z"
   },
   {
    "duration": 263,
    "start_time": "2025-06-20T12:56:12.517Z"
   },
   {
    "duration": 524,
    "start_time": "2025-06-20T12:58:34.209Z"
   },
   {
    "duration": 1302,
    "start_time": "2025-06-20T12:59:06.560Z"
   },
   {
    "duration": 81,
    "start_time": "2025-06-20T12:59:16.479Z"
   },
   {
    "duration": 265,
    "start_time": "2025-06-20T12:59:17.767Z"
   },
   {
    "duration": 350,
    "start_time": "2025-06-20T12:59:43.226Z"
   },
   {
    "duration": 1607,
    "start_time": "2025-06-20T13:00:11.658Z"
   },
   {
    "duration": 1584,
    "start_time": "2025-06-20T13:00:15.052Z"
   },
   {
    "duration": 78,
    "start_time": "2025-06-20T13:00:19.134Z"
   },
   {
    "duration": 243,
    "start_time": "2025-06-20T13:00:22.865Z"
   },
   {
    "duration": 71,
    "start_time": "2025-06-20T13:23:41.730Z"
   },
   {
    "duration": 276,
    "start_time": "2025-06-20T13:23:44.408Z"
   },
   {
    "duration": 258,
    "start_time": "2025-06-20T13:43:28.643Z"
   },
   {
    "duration": 228,
    "start_time": "2025-06-20T13:43:35.944Z"
   },
   {
    "duration": 216,
    "start_time": "2025-06-20T13:43:40.219Z"
   },
   {
    "duration": 321,
    "start_time": "2025-06-20T13:43:46.792Z"
   },
   {
    "duration": 203,
    "start_time": "2025-06-20T13:43:58.211Z"
   },
   {
    "duration": 69,
    "start_time": "2025-06-20T13:44:02.863Z"
   },
   {
    "duration": 258,
    "start_time": "2025-06-20T13:44:04.952Z"
   },
   {
    "duration": 206,
    "start_time": "2025-06-20T13:44:27.268Z"
   },
   {
    "duration": 66,
    "start_time": "2025-06-20T13:44:31.548Z"
   },
   {
    "duration": 252,
    "start_time": "2025-06-20T13:44:33.857Z"
   },
   {
    "duration": 254,
    "start_time": "2025-06-20T13:44:48.306Z"
   },
   {
    "duration": 68,
    "start_time": "2025-06-20T13:44:51.265Z"
   },
   {
    "duration": 280,
    "start_time": "2025-06-20T13:44:52.790Z"
   },
   {
    "duration": 5,
    "start_time": "2025-06-20T13:50:35.032Z"
   },
   {
    "duration": 68,
    "start_time": "2025-06-20T13:51:00.228Z"
   },
   {
    "duration": 67,
    "start_time": "2025-06-20T13:51:15.558Z"
   },
   {
    "duration": 1494,
    "start_time": "2025-06-20T13:51:57.805Z"
   },
   {
    "duration": 59,
    "start_time": "2025-06-20T13:52:17.085Z"
   },
   {
    "duration": 68,
    "start_time": "2025-06-20T13:52:50.160Z"
   },
   {
    "duration": 55,
    "start_time": "2025-06-20T13:52:59.941Z"
   },
   {
    "duration": 57,
    "start_time": "2025-06-20T13:53:05.063Z"
   },
   {
    "duration": 66,
    "start_time": "2025-06-20T13:53:13.026Z"
   },
   {
    "duration": 58,
    "start_time": "2025-06-20T13:53:17.658Z"
   },
   {
    "duration": 56,
    "start_time": "2025-06-20T13:54:26.496Z"
   },
   {
    "duration": 59,
    "start_time": "2025-06-20T13:54:30.353Z"
   },
   {
    "duration": 1529,
    "start_time": "2025-06-20T13:54:43.019Z"
   },
   {
    "duration": 68,
    "start_time": "2025-06-20T13:56:27.924Z"
   },
   {
    "duration": 56,
    "start_time": "2025-06-20T13:56:36.269Z"
   },
   {
    "duration": 1589,
    "start_time": "2025-06-20T13:56:58.905Z"
   },
   {
    "duration": 1631,
    "start_time": "2025-06-20T13:57:20.527Z"
   },
   {
    "duration": 1947,
    "start_time": "2025-06-20T13:57:44.972Z"
   },
   {
    "duration": 1765,
    "start_time": "2025-06-20T13:58:39.254Z"
   },
   {
    "duration": 881,
    "start_time": "2025-06-23T13:31:49.123Z"
   },
   {
    "duration": 3268,
    "start_time": "2025-06-23T13:31:50.006Z"
   },
   {
    "duration": 23,
    "start_time": "2025-06-23T13:31:53.276Z"
   },
   {
    "duration": 1340,
    "start_time": "2025-06-23T13:31:55.322Z"
   },
   {
    "duration": 27,
    "start_time": "2025-06-23T13:31:56.955Z"
   },
   {
    "duration": 48,
    "start_time": "2025-06-23T13:31:58.391Z"
   },
   {
    "duration": 33,
    "start_time": "2025-06-23T13:31:59.720Z"
   },
   {
    "duration": 44,
    "start_time": "2025-06-23T13:32:01.388Z"
   },
   {
    "duration": 8,
    "start_time": "2025-06-23T13:32:01.717Z"
   },
   {
    "duration": 155,
    "start_time": "2025-06-23T13:32:02.021Z"
   },
   {
    "duration": 19,
    "start_time": "2025-06-23T13:32:02.286Z"
   },
   {
    "duration": 7,
    "start_time": "2025-06-23T13:32:03.053Z"
   },
   {
    "duration": 70,
    "start_time": "2025-06-23T13:32:03.474Z"
   },
   {
    "duration": 11,
    "start_time": "2025-06-23T13:32:03.904Z"
   },
   {
    "duration": 35,
    "start_time": "2025-06-23T13:32:04.374Z"
   },
   {
    "duration": 20,
    "start_time": "2025-06-23T13:32:04.853Z"
   },
   {
    "duration": 13,
    "start_time": "2025-06-23T13:32:05.540Z"
   },
   {
    "duration": 72,
    "start_time": "2025-06-23T13:32:05.754Z"
   },
   {
    "duration": 288,
    "start_time": "2025-06-23T13:32:06.001Z"
   },
   {
    "duration": 1544,
    "start_time": "2025-06-23T13:32:06.469Z"
   },
   {
    "duration": 99,
    "start_time": "2025-06-23T13:34:13.707Z"
   },
   {
    "duration": 10,
    "start_time": "2025-06-23T13:34:36.016Z"
   },
   {
    "duration": 13,
    "start_time": "2025-06-23T13:34:55.471Z"
   },
   {
    "duration": 1344,
    "start_time": "2025-06-23T13:35:11.700Z"
   },
   {
    "duration": 178,
    "start_time": "2025-06-23T13:35:25.082Z"
   },
   {
    "duration": 175,
    "start_time": "2025-06-23T13:36:10.432Z"
   },
   {
    "duration": 225,
    "start_time": "2025-06-23T13:36:24.447Z"
   },
   {
    "duration": 26,
    "start_time": "2025-06-23T13:38:56.147Z"
   },
   {
    "duration": 28,
    "start_time": "2025-06-23T13:39:07.717Z"
   },
   {
    "duration": 24,
    "start_time": "2025-06-23T13:39:40.311Z"
   },
   {
    "duration": 24,
    "start_time": "2025-06-23T13:39:40.999Z"
   },
   {
    "duration": 25,
    "start_time": "2025-06-23T13:39:41.255Z"
   },
   {
    "duration": 24,
    "start_time": "2025-06-23T13:39:41.511Z"
   },
   {
    "duration": 73,
    "start_time": "2025-06-23T13:39:53.640Z"
   },
   {
    "duration": 172,
    "start_time": "2025-06-23T13:41:02.154Z"
   },
   {
    "duration": 171,
    "start_time": "2025-06-23T13:41:15.885Z"
   },
   {
    "duration": 55,
    "start_time": "2025-06-23T13:42:40.960Z"
   },
   {
    "duration": 65,
    "start_time": "2025-06-23T13:42:49.918Z"
   },
   {
    "duration": 59,
    "start_time": "2025-06-23T13:43:07.756Z"
   },
   {
    "duration": 32,
    "start_time": "2025-06-23T13:43:19.330Z"
   },
   {
    "duration": 32,
    "start_time": "2025-06-23T13:43:30.455Z"
   },
   {
    "duration": 32,
    "start_time": "2025-06-23T13:43:36.202Z"
   },
   {
    "duration": 172,
    "start_time": "2025-06-23T13:43:46.814Z"
   },
   {
    "duration": 182,
    "start_time": "2025-06-23T13:44:22.447Z"
   },
   {
    "duration": 34,
    "start_time": "2025-06-23T13:45:09.072Z"
   },
   {
    "duration": 33,
    "start_time": "2025-06-23T13:45:25.116Z"
   },
   {
    "duration": 178,
    "start_time": "2025-06-23T13:46:20.038Z"
   },
   {
    "duration": 167,
    "start_time": "2025-06-23T13:49:34.324Z"
   },
   {
    "duration": 167,
    "start_time": "2025-06-23T13:50:32.047Z"
   },
   {
    "duration": 180,
    "start_time": "2025-06-23T13:50:42.946Z"
   },
   {
    "duration": 71,
    "start_time": "2025-06-23T13:55:46.897Z"
   },
   {
    "duration": 88,
    "start_time": "2025-06-23T13:55:52.489Z"
   },
   {
    "duration": 158,
    "start_time": "2025-06-23T13:56:18.996Z"
   },
   {
    "duration": 100,
    "start_time": "2025-06-23T13:57:20.075Z"
   },
   {
    "duration": 158,
    "start_time": "2025-06-23T13:57:23.218Z"
   },
   {
    "duration": 147,
    "start_time": "2025-06-23T13:57:32.210Z"
   },
   {
    "duration": 144,
    "start_time": "2025-06-23T13:57:37.084Z"
   },
   {
    "duration": 145,
    "start_time": "2025-06-23T13:59:14.194Z"
   },
   {
    "duration": 149,
    "start_time": "2025-06-23T13:59:48.727Z"
   },
   {
    "duration": 155,
    "start_time": "2025-06-23T14:00:01.479Z"
   },
   {
    "duration": 185,
    "start_time": "2025-06-23T14:00:07.418Z"
   },
   {
    "duration": 157,
    "start_time": "2025-06-23T14:00:17.874Z"
   },
   {
    "duration": 160,
    "start_time": "2025-06-23T14:00:21.839Z"
   },
   {
    "duration": 1221,
    "start_time": "2025-06-23T14:00:33.564Z"
   },
   {
    "duration": 157,
    "start_time": "2025-06-23T14:00:39.262Z"
   },
   {
    "duration": 151,
    "start_time": "2025-06-23T14:01:00.576Z"
   },
   {
    "duration": 163,
    "start_time": "2025-06-23T14:01:06.994Z"
   },
   {
    "duration": 169,
    "start_time": "2025-06-23T14:01:11.517Z"
   },
   {
    "duration": 153,
    "start_time": "2025-06-23T14:01:18.839Z"
   },
   {
    "duration": 16,
    "start_time": "2025-06-23T14:02:57.768Z"
   },
   {
    "duration": 18,
    "start_time": "2025-06-23T14:03:10.810Z"
   },
   {
    "duration": 62,
    "start_time": "2025-06-23T14:03:20.405Z"
   },
   {
    "duration": 172,
    "start_time": "2025-06-23T14:03:23.424Z"
   },
   {
    "duration": 156,
    "start_time": "2025-06-23T14:03:42.673Z"
   },
   {
    "duration": 180,
    "start_time": "2025-06-23T14:03:53.380Z"
   },
   {
    "duration": 148,
    "start_time": "2025-06-23T14:03:59.419Z"
   },
   {
    "duration": 100,
    "start_time": "2025-06-23T14:08:29.863Z"
   },
   {
    "duration": 155,
    "start_time": "2025-06-23T14:08:36.905Z"
   },
   {
    "duration": 155,
    "start_time": "2025-06-23T14:08:55.128Z"
   },
   {
    "duration": 106,
    "start_time": "2025-06-23T14:13:33.909Z"
   },
   {
    "duration": 168,
    "start_time": "2025-06-23T14:14:15.271Z"
   },
   {
    "duration": 650,
    "start_time": "2025-06-23T14:16:10.878Z"
   },
   {
    "duration": 2378,
    "start_time": "2025-06-23T14:16:11.530Z"
   },
   {
    "duration": 24,
    "start_time": "2025-06-23T14:16:13.910Z"
   },
   {
    "duration": 157,
    "start_time": "2025-06-23T14:16:13.936Z"
   },
   {
    "duration": 27,
    "start_time": "2025-06-23T14:16:14.095Z"
   },
   {
    "duration": 48,
    "start_time": "2025-06-23T14:16:14.140Z"
   },
   {
    "duration": 58,
    "start_time": "2025-06-23T14:16:14.189Z"
   },
   {
    "duration": 54,
    "start_time": "2025-06-23T14:16:14.248Z"
   },
   {
    "duration": 35,
    "start_time": "2025-06-23T14:16:14.304Z"
   },
   {
    "duration": 174,
    "start_time": "2025-06-23T14:16:14.342Z"
   },
   {
    "duration": 30,
    "start_time": "2025-06-23T14:16:14.518Z"
   },
   {
    "duration": 9,
    "start_time": "2025-06-23T14:16:14.551Z"
   },
   {
    "duration": 103,
    "start_time": "2025-06-23T14:16:14.562Z"
   },
   {
    "duration": 18,
    "start_time": "2025-06-23T14:16:14.668Z"
   },
   {
    "duration": 58,
    "start_time": "2025-06-23T14:16:14.688Z"
   },
   {
    "duration": 20,
    "start_time": "2025-06-23T14:16:14.748Z"
   },
   {
    "duration": 18,
    "start_time": "2025-06-23T14:16:14.770Z"
   },
   {
    "duration": 104,
    "start_time": "2025-06-23T14:16:14.789Z"
   },
   {
    "duration": 0,
    "start_time": "2025-06-23T14:16:14.895Z"
   },
   {
    "duration": 0,
    "start_time": "2025-06-23T14:16:14.896Z"
   },
   {
    "duration": 40,
    "start_time": "2025-06-23T14:16:50.764Z"
   },
   {
    "duration": 195,
    "start_time": "2025-06-23T14:17:12.121Z"
   },
   {
    "duration": 159,
    "start_time": "2025-06-23T14:17:35.679Z"
   },
   {
    "duration": 135,
    "start_time": "2025-06-23T14:18:17.191Z"
   },
   {
    "duration": 62,
    "start_time": "2025-06-23T14:19:15.950Z"
   },
   {
    "duration": 21,
    "start_time": "2025-06-23T14:19:22.608Z"
   },
   {
    "duration": 16,
    "start_time": "2025-06-23T14:19:27.308Z"
   },
   {
    "duration": 18,
    "start_time": "2025-06-23T14:19:28.068Z"
   },
   {
    "duration": 18,
    "start_time": "2025-06-23T14:19:32.433Z"
   },
   {
    "duration": 120,
    "start_time": "2025-06-23T14:19:46.947Z"
   },
   {
    "duration": 121,
    "start_time": "2025-06-23T14:20:05.544Z"
   },
   {
    "duration": 685,
    "start_time": "2025-06-23T14:33:13.333Z"
   },
   {
    "duration": 2708,
    "start_time": "2025-06-23T14:33:14.020Z"
   },
   {
    "duration": 25,
    "start_time": "2025-06-23T14:33:16.733Z"
   },
   {
    "duration": 139,
    "start_time": "2025-06-23T14:33:16.759Z"
   },
   {
    "duration": 44,
    "start_time": "2025-06-23T14:33:16.900Z"
   },
   {
    "duration": 51,
    "start_time": "2025-06-23T14:33:16.946Z"
   },
   {
    "duration": 55,
    "start_time": "2025-06-23T14:33:16.998Z"
   },
   {
    "duration": 52,
    "start_time": "2025-06-23T14:33:17.055Z"
   },
   {
    "duration": 30,
    "start_time": "2025-06-23T14:33:17.110Z"
   },
   {
    "duration": 186,
    "start_time": "2025-06-23T14:33:17.142Z"
   },
   {
    "duration": 21,
    "start_time": "2025-06-23T14:33:17.330Z"
   },
   {
    "duration": 7,
    "start_time": "2025-06-23T14:33:17.353Z"
   },
   {
    "duration": 100,
    "start_time": "2025-06-23T14:33:17.362Z"
   },
   {
    "duration": 12,
    "start_time": "2025-06-23T14:33:17.465Z"
   },
   {
    "duration": 68,
    "start_time": "2025-06-23T14:33:17.479Z"
   },
   {
    "duration": 35,
    "start_time": "2025-06-23T14:33:17.550Z"
   },
   {
    "duration": 56,
    "start_time": "2025-06-23T14:33:17.587Z"
   },
   {
    "duration": 43,
    "start_time": "2025-06-23T14:33:17.645Z"
   },
   {
    "duration": 210,
    "start_time": "2025-06-23T14:33:17.691Z"
   },
   {
    "duration": 19,
    "start_time": "2025-06-23T14:33:18.081Z"
   },
   {
    "duration": 196,
    "start_time": "2025-06-23T14:33:18.102Z"
   },
   {
    "duration": 171,
    "start_time": "2025-06-23T14:33:49.948Z"
   },
   {
    "duration": 175,
    "start_time": "2025-06-23T14:34:08.466Z"
   },
   {
    "duration": 168,
    "start_time": "2025-06-23T14:36:57.317Z"
   },
   {
    "duration": 139,
    "start_time": "2025-06-23T14:37:46.067Z"
   },
   {
    "duration": 24,
    "start_time": "2025-06-23T14:39:59.126Z"
   },
   {
    "duration": 206,
    "start_time": "2025-06-23T14:40:13.486Z"
   },
   {
    "duration": 188,
    "start_time": "2025-06-23T14:40:48.502Z"
   },
   {
    "duration": 191,
    "start_time": "2025-06-23T14:41:43.315Z"
   },
   {
    "duration": 188,
    "start_time": "2025-06-23T14:42:24.559Z"
   },
   {
    "duration": 210,
    "start_time": "2025-06-23T14:42:37.532Z"
   },
   {
    "duration": 72,
    "start_time": "2025-06-23T20:46:46.660Z"
   },
   {
    "duration": 7,
    "start_time": "2025-06-23T20:46:52.175Z"
   },
   {
    "duration": 6,
    "start_time": "2025-06-23T20:46:52.738Z"
   },
   {
    "duration": 6,
    "start_time": "2025-06-23T20:46:53.256Z"
   },
   {
    "duration": 7,
    "start_time": "2025-06-23T20:46:53.754Z"
   },
   {
    "duration": 945,
    "start_time": "2025-06-23T20:46:57.840Z"
   },
   {
    "duration": 2227,
    "start_time": "2025-06-23T20:46:58.787Z"
   },
   {
    "duration": 31,
    "start_time": "2025-06-23T20:47:01.016Z"
   },
   {
    "duration": 130,
    "start_time": "2025-06-23T20:47:01.049Z"
   },
   {
    "duration": 28,
    "start_time": "2025-06-23T20:47:01.181Z"
   },
   {
    "duration": 163,
    "start_time": "2025-06-23T20:47:01.211Z"
   },
   {
    "duration": 39,
    "start_time": "2025-06-23T20:47:01.376Z"
   },
   {
    "duration": 67,
    "start_time": "2025-06-23T20:47:01.515Z"
   },
   {
    "duration": 11,
    "start_time": "2025-06-23T20:47:01.937Z"
   },
   {
    "duration": 156,
    "start_time": "2025-06-23T20:47:02.116Z"
   },
   {
    "duration": 19,
    "start_time": "2025-06-23T20:47:02.304Z"
   },
   {
    "duration": 8,
    "start_time": "2025-06-23T20:47:02.854Z"
   },
   {
    "duration": 74,
    "start_time": "2025-06-23T20:47:03.288Z"
   },
   {
    "duration": 12,
    "start_time": "2025-06-23T20:47:03.688Z"
   },
   {
    "duration": 38,
    "start_time": "2025-06-23T20:47:04.317Z"
   },
   {
    "duration": 22,
    "start_time": "2025-06-23T20:47:04.934Z"
   },
   {
    "duration": 15,
    "start_time": "2025-06-23T20:47:05.650Z"
   },
   {
    "duration": 42,
    "start_time": "2025-06-23T20:47:05.966Z"
   },
   {
    "duration": 192,
    "start_time": "2025-06-23T20:47:06.198Z"
   },
   {
    "duration": 1574,
    "start_time": "2025-06-23T20:47:07.684Z"
   },
   {
    "duration": 1271,
    "start_time": "2025-06-23T20:47:20.923Z"
   },
   {
    "duration": 165,
    "start_time": "2025-06-23T20:47:27.592Z"
   },
   {
    "duration": 182,
    "start_time": "2025-06-23T20:47:35.947Z"
   },
   {
    "duration": 166,
    "start_time": "2025-06-23T20:47:43.624Z"
   },
   {
    "duration": 181,
    "start_time": "2025-06-23T20:48:00.820Z"
   },
   {
    "duration": 143,
    "start_time": "2025-06-23T20:49:51.423Z"
   },
   {
    "duration": 203,
    "start_time": "2025-06-23T20:50:06.579Z"
   },
   {
    "duration": 197,
    "start_time": "2025-06-23T20:50:13.270Z"
   },
   {
    "duration": 202,
    "start_time": "2025-06-23T20:50:27.275Z"
   },
   {
    "duration": 1408,
    "start_time": "2025-06-23T20:51:08.931Z"
   },
   {
    "duration": 23,
    "start_time": "2025-06-23T20:52:19.237Z"
   },
   {
    "duration": 254,
    "start_time": "2025-06-23T20:52:43.534Z"
   },
   {
    "duration": 292,
    "start_time": "2025-06-23T20:53:16.819Z"
   },
   {
    "duration": 289,
    "start_time": "2025-06-23T20:54:43.015Z"
   },
   {
    "duration": 303,
    "start_time": "2025-06-23T20:55:27.115Z"
   },
   {
    "duration": 39,
    "start_time": "2025-06-23T20:56:10.340Z"
   },
   {
    "duration": 24,
    "start_time": "2025-06-23T20:56:38.840Z"
   },
   {
    "duration": 1293,
    "start_time": "2025-06-23T20:56:45.928Z"
   },
   {
    "duration": 34,
    "start_time": "2025-06-23T20:57:47.159Z"
   },
   {
    "duration": 36,
    "start_time": "2025-06-23T20:58:07.155Z"
   },
   {
    "duration": 392,
    "start_time": "2025-06-23T20:58:28.331Z"
   },
   {
    "duration": 350,
    "start_time": "2025-06-23T20:59:59.197Z"
   },
   {
    "duration": 377,
    "start_time": "2025-06-23T21:00:17.728Z"
   },
   {
    "duration": 394,
    "start_time": "2025-06-23T21:00:25.402Z"
   },
   {
    "duration": 220,
    "start_time": "2025-06-23T21:01:02.655Z"
   },
   {
    "duration": 214,
    "start_time": "2025-06-23T21:01:32.004Z"
   },
   {
    "duration": 130,
    "start_time": "2025-06-23T21:02:13.718Z"
   },
   {
    "duration": 272,
    "start_time": "2025-06-23T21:02:25.037Z"
   },
   {
    "duration": 288,
    "start_time": "2025-06-23T21:03:33.828Z"
   },
   {
    "duration": 276,
    "start_time": "2025-06-23T21:04:03.591Z"
   },
   {
    "duration": 276,
    "start_time": "2025-06-23T21:04:57.838Z"
   },
   {
    "duration": 18,
    "start_time": "2025-06-23T21:05:22.624Z"
   },
   {
    "duration": 289,
    "start_time": "2025-06-23T21:05:46.759Z"
   },
   {
    "duration": 179,
    "start_time": "2025-06-23T21:05:52.044Z"
   },
   {
    "duration": 681,
    "start_time": "2025-06-23T21:06:09.002Z"
   },
   {
    "duration": 2661,
    "start_time": "2025-06-23T21:06:09.685Z"
   },
   {
    "duration": 34,
    "start_time": "2025-06-23T21:06:12.348Z"
   },
   {
    "duration": 150,
    "start_time": "2025-06-23T21:06:12.385Z"
   },
   {
    "duration": 55,
    "start_time": "2025-06-23T21:06:12.537Z"
   },
   {
    "duration": 85,
    "start_time": "2025-06-23T21:06:12.595Z"
   },
   {
    "duration": 32,
    "start_time": "2025-06-23T21:06:12.681Z"
   },
   {
    "duration": 74,
    "start_time": "2025-06-23T21:06:12.715Z"
   },
   {
    "duration": 8,
    "start_time": "2025-06-23T21:06:12.791Z"
   },
   {
    "duration": 273,
    "start_time": "2025-06-23T21:06:12.801Z"
   },
   {
    "duration": 21,
    "start_time": "2025-06-23T21:06:13.076Z"
   },
   {
    "duration": 7,
    "start_time": "2025-06-23T21:06:13.098Z"
   },
   {
    "duration": 106,
    "start_time": "2025-06-23T21:06:13.107Z"
   },
   {
    "duration": 12,
    "start_time": "2025-06-23T21:06:13.215Z"
   },
   {
    "duration": 61,
    "start_time": "2025-06-23T21:06:13.229Z"
   },
   {
    "duration": 103,
    "start_time": "2025-06-23T21:06:13.292Z"
   },
   {
    "duration": 14,
    "start_time": "2025-06-23T21:06:13.397Z"
   },
   {
    "duration": 38,
    "start_time": "2025-06-23T21:06:13.413Z"
   },
   {
    "duration": 223,
    "start_time": "2025-06-23T21:06:13.453Z"
   },
   {
    "duration": 336,
    "start_time": "2025-06-23T21:06:13.678Z"
   },
   {
    "duration": 17,
    "start_time": "2025-06-23T21:06:14.016Z"
   },
   {
    "duration": 341,
    "start_time": "2025-06-23T21:06:24.000Z"
   },
   {
    "duration": 331,
    "start_time": "2025-06-23T21:06:43.521Z"
   },
   {
    "duration": 1860,
    "start_time": "2025-06-23T21:08:02.523Z"
   },
   {
    "duration": 85,
    "start_time": "2025-06-23T21:08:32.960Z"
   },
   {
    "duration": 207,
    "start_time": "2025-06-23T21:08:39.713Z"
   },
   {
    "duration": 1603,
    "start_time": "2025-06-23T21:08:52.307Z"
   },
   {
    "duration": 261,
    "start_time": "2025-06-23T21:09:01.939Z"
   },
   {
    "duration": 254,
    "start_time": "2025-06-23T21:09:55.425Z"
   },
   {
    "duration": 244,
    "start_time": "2025-06-23T21:10:52.911Z"
   },
   {
    "duration": 759,
    "start_time": "2025-06-23T21:11:01.220Z"
   },
   {
    "duration": 3403,
    "start_time": "2025-06-23T21:11:01.981Z"
   },
   {
    "duration": 26,
    "start_time": "2025-06-23T21:11:05.386Z"
   },
   {
    "duration": 157,
    "start_time": "2025-06-23T21:11:05.414Z"
   },
   {
    "duration": 29,
    "start_time": "2025-06-23T21:11:05.573Z"
   },
   {
    "duration": 77,
    "start_time": "2025-06-23T21:11:05.604Z"
   },
   {
    "duration": 37,
    "start_time": "2025-06-23T21:11:05.683Z"
   },
   {
    "duration": 102,
    "start_time": "2025-06-23T21:11:05.723Z"
   },
   {
    "duration": 10,
    "start_time": "2025-06-23T21:11:05.827Z"
   },
   {
    "duration": 206,
    "start_time": "2025-06-23T21:11:05.863Z"
   },
   {
    "duration": 22,
    "start_time": "2025-06-23T21:11:06.070Z"
   },
   {
    "duration": 8,
    "start_time": "2025-06-23T21:11:06.095Z"
   },
   {
    "duration": 107,
    "start_time": "2025-06-23T21:11:06.106Z"
   },
   {
    "duration": 14,
    "start_time": "2025-06-23T21:11:06.216Z"
   },
   {
    "duration": 60,
    "start_time": "2025-06-23T21:11:06.232Z"
   },
   {
    "duration": 21,
    "start_time": "2025-06-23T21:11:06.294Z"
   },
   {
    "duration": 46,
    "start_time": "2025-06-23T21:11:06.316Z"
   },
   {
    "duration": 41,
    "start_time": "2025-06-23T21:11:06.364Z"
   },
   {
    "duration": 219,
    "start_time": "2025-06-23T21:11:06.407Z"
   },
   {
    "duration": 27,
    "start_time": "2025-06-23T21:11:06.946Z"
   },
   {
    "duration": 305,
    "start_time": "2025-06-23T21:11:06.974Z"
   },
   {
    "duration": 246,
    "start_time": "2025-06-23T21:12:27.620Z"
   },
   {
    "duration": 247,
    "start_time": "2025-06-23T21:12:43.002Z"
   },
   {
    "duration": 713,
    "start_time": "2025-06-23T21:13:52.609Z"
   },
   {
    "duration": 2228,
    "start_time": "2025-06-23T21:13:53.325Z"
   },
   {
    "duration": 24,
    "start_time": "2025-06-23T21:13:55.555Z"
   },
   {
    "duration": 139,
    "start_time": "2025-06-23T21:13:55.580Z"
   },
   {
    "duration": 55,
    "start_time": "2025-06-23T21:13:55.724Z"
   },
   {
    "duration": 50,
    "start_time": "2025-06-23T21:13:56.330Z"
   },
   {
    "duration": 33,
    "start_time": "2025-06-23T21:13:56.930Z"
   },
   {
    "duration": 55,
    "start_time": "2025-06-23T21:13:57.862Z"
   },
   {
    "duration": 9,
    "start_time": "2025-06-23T21:13:58.057Z"
   },
   {
    "duration": 163,
    "start_time": "2025-06-23T21:13:58.241Z"
   },
   {
    "duration": 20,
    "start_time": "2025-06-23T21:13:58.441Z"
   },
   {
    "duration": 9,
    "start_time": "2025-06-23T21:13:59.062Z"
   },
   {
    "duration": 77,
    "start_time": "2025-06-23T21:13:59.480Z"
   },
   {
    "duration": 12,
    "start_time": "2025-06-23T21:13:59.859Z"
   },
   {
    "duration": 38,
    "start_time": "2025-06-23T21:14:00.297Z"
   },
   {
    "duration": 21,
    "start_time": "2025-06-23T21:14:00.676Z"
   },
   {
    "duration": 15,
    "start_time": "2025-06-23T21:14:01.280Z"
   },
   {
    "duration": 40,
    "start_time": "2025-06-23T21:14:01.460Z"
   },
   {
    "duration": 206,
    "start_time": "2025-06-23T21:14:01.639Z"
   },
   {
    "duration": 44,
    "start_time": "2025-06-24T11:06:44.854Z"
   },
   {
    "duration": 802,
    "start_time": "2025-06-24T11:06:49.530Z"
   },
   {
    "duration": 3032,
    "start_time": "2025-06-24T11:06:50.335Z"
   },
   {
    "duration": 21,
    "start_time": "2025-06-24T11:06:53.369Z"
   },
   {
    "duration": 129,
    "start_time": "2025-06-24T11:06:53.391Z"
   },
   {
    "duration": 23,
    "start_time": "2025-06-24T11:06:53.522Z"
   },
   {
    "duration": 42,
    "start_time": "2025-06-24T11:06:53.562Z"
   },
   {
    "duration": 26,
    "start_time": "2025-06-24T11:06:53.605Z"
   },
   {
    "duration": 82,
    "start_time": "2025-06-24T11:06:53.632Z"
   },
   {
    "duration": 8,
    "start_time": "2025-06-24T11:06:53.716Z"
   },
   {
    "duration": 151,
    "start_time": "2025-06-24T11:06:53.740Z"
   },
   {
    "duration": 17,
    "start_time": "2025-06-24T11:06:53.958Z"
   },
   {
    "duration": 7,
    "start_time": "2025-06-24T11:06:54.530Z"
   },
   {
    "duration": 66,
    "start_time": "2025-06-24T11:06:54.909Z"
   },
   {
    "duration": 11,
    "start_time": "2025-06-24T11:06:55.311Z"
   },
   {
    "duration": 39,
    "start_time": "2025-06-24T11:06:56.041Z"
   },
   {
    "duration": 19,
    "start_time": "2025-06-24T11:06:56.593Z"
   },
   {
    "duration": 13,
    "start_time": "2025-06-24T11:06:58.144Z"
   },
   {
    "duration": 33,
    "start_time": "2025-06-24T11:07:46.644Z"
   },
   {
    "duration": 45,
    "start_time": "2025-06-24T11:08:01.358Z"
   },
   {
    "duration": 32,
    "start_time": "2025-06-24T11:08:06.296Z"
   },
   {
    "duration": 1523,
    "start_time": "2025-06-24T11:08:47.826Z"
   },
   {
    "duration": 5,
    "start_time": "2025-06-24T11:08:58.455Z"
   },
   {
    "duration": 9,
    "start_time": "2025-06-24T11:09:10.406Z"
   },
   {
    "duration": 10,
    "start_time": "2025-06-24T11:09:53.996Z"
   },
   {
    "duration": 16,
    "start_time": "2025-06-24T11:10:22.799Z"
   },
   {
    "duration": 166,
    "start_time": "2025-06-24T11:10:33.671Z"
   },
   {
    "duration": 126,
    "start_time": "2025-06-24T11:10:53.926Z"
   },
   {
    "duration": 127,
    "start_time": "2025-06-24T11:11:11.025Z"
   },
   {
    "duration": 136,
    "start_time": "2025-06-24T11:11:14.858Z"
   },
   {
    "duration": 183,
    "start_time": "2025-06-24T11:11:45.139Z"
   },
   {
    "duration": 140,
    "start_time": "2025-06-24T11:12:27.335Z"
   },
   {
    "duration": 136,
    "start_time": "2025-06-24T11:12:42.573Z"
   },
   {
    "duration": 299,
    "start_time": "2025-06-24T11:13:16.171Z"
   },
   {
    "duration": 162,
    "start_time": "2025-06-24T11:13:25.747Z"
   },
   {
    "duration": 147,
    "start_time": "2025-06-24T11:14:38.571Z"
   },
   {
    "duration": 328,
    "start_time": "2025-06-24T11:15:08.517Z"
   },
   {
    "duration": 285,
    "start_time": "2025-06-24T11:15:15.415Z"
   },
   {
    "duration": 153,
    "start_time": "2025-06-24T11:15:22.630Z"
   },
   {
    "duration": 296,
    "start_time": "2025-06-24T11:15:29.823Z"
   },
   {
    "duration": 601,
    "start_time": "2025-06-24T11:15:47.915Z"
   },
   {
    "duration": 2828,
    "start_time": "2025-06-24T11:15:48.517Z"
   },
   {
    "duration": 22,
    "start_time": "2025-06-24T11:15:51.347Z"
   },
   {
    "duration": 132,
    "start_time": "2025-06-24T11:15:51.371Z"
   },
   {
    "duration": 27,
    "start_time": "2025-06-24T11:15:51.505Z"
   },
   {
    "duration": 119,
    "start_time": "2025-06-24T11:15:51.534Z"
   },
   {
    "duration": 34,
    "start_time": "2025-06-24T11:15:51.655Z"
   },
   {
    "duration": 74,
    "start_time": "2025-06-24T11:15:51.691Z"
   },
   {
    "duration": 9,
    "start_time": "2025-06-24T11:15:51.767Z"
   },
   {
    "duration": 165,
    "start_time": "2025-06-24T11:15:51.779Z"
   },
   {
    "duration": 19,
    "start_time": "2025-06-24T11:15:51.946Z"
   },
   {
    "duration": 76,
    "start_time": "2025-06-24T11:15:51.966Z"
   },
   {
    "duration": 80,
    "start_time": "2025-06-24T11:15:52.044Z"
   },
   {
    "duration": 10,
    "start_time": "2025-06-24T11:15:52.125Z"
   },
   {
    "duration": 97,
    "start_time": "2025-06-24T11:15:52.136Z"
   },
   {
    "duration": 22,
    "start_time": "2025-06-24T11:15:52.235Z"
   },
   {
    "duration": 62,
    "start_time": "2025-06-24T11:15:52.259Z"
   },
   {
    "duration": 36,
    "start_time": "2025-06-24T11:15:52.323Z"
   },
   {
    "duration": 168,
    "start_time": "2025-06-24T11:15:52.360Z"
   },
   {
    "duration": 159,
    "start_time": "2025-06-24T11:15:52.529Z"
   },
   {
    "duration": 11,
    "start_time": "2025-06-24T11:15:52.689Z"
   },
   {
    "duration": 78779,
    "start_time": "2025-06-24T11:15:52.702Z"
   },
   {
    "duration": 30,
    "start_time": "2025-06-24T11:17:11.897Z"
   },
   {
    "duration": 216,
    "start_time": "2025-06-24T11:17:11.929Z"
   },
   {
    "duration": 167,
    "start_time": "2025-06-24T11:17:34.180Z"
   },
   {
    "duration": 157,
    "start_time": "2025-06-24T11:17:40.743Z"
   },
   {
    "duration": 151,
    "start_time": "2025-06-24T11:20:04.696Z"
   },
   {
    "duration": 157,
    "start_time": "2025-06-24T11:21:15.640Z"
   },
   {
    "duration": 1607,
    "start_time": "2025-06-24T11:27:01.759Z"
   },
   {
    "duration": 6,
    "start_time": "2025-06-24T11:27:30.598Z"
   },
   {
    "duration": 13,
    "start_time": "2025-06-24T11:27:43.451Z"
   },
   {
    "duration": 57,
    "start_time": "2025-06-24T11:29:08.526Z"
   },
   {
    "duration": 55,
    "start_time": "2025-06-24T11:29:14.478Z"
   },
   {
    "duration": 51,
    "start_time": "2025-06-24T11:29:26.783Z"
   },
   {
    "duration": 10,
    "start_time": "2025-06-24T11:32:24.667Z"
   },
   {
    "duration": 61,
    "start_time": "2025-06-24T11:32:32.706Z"
   },
   {
    "duration": 52,
    "start_time": "2025-06-24T11:34:46.519Z"
   },
   {
    "duration": 10,
    "start_time": "2025-06-24T11:36:49.092Z"
   },
   {
    "duration": 11,
    "start_time": "2025-06-24T11:37:03.033Z"
   },
   {
    "duration": 10,
    "start_time": "2025-06-24T11:37:07.247Z"
   },
   {
    "duration": 67,
    "start_time": "2025-06-24T11:37:18.458Z"
   },
   {
    "duration": 13,
    "start_time": "2025-06-24T11:37:36.198Z"
   },
   {
    "duration": 23,
    "start_time": "2025-06-24T11:38:13.222Z"
   },
   {
    "duration": 26,
    "start_time": "2025-06-24T11:38:20.984Z"
   },
   {
    "duration": 30,
    "start_time": "2025-06-24T11:38:34.237Z"
   },
   {
    "duration": 40,
    "start_time": "2025-06-24T11:39:29.082Z"
   },
   {
    "duration": 33,
    "start_time": "2025-06-24T11:39:56.890Z"
   },
   {
    "duration": 29,
    "start_time": "2025-06-24T11:40:01.403Z"
   },
   {
    "duration": 32,
    "start_time": "2025-06-24T11:40:22.647Z"
   },
   {
    "duration": 33,
    "start_time": "2025-06-24T11:40:47.106Z"
   },
   {
    "duration": 36,
    "start_time": "2025-06-24T11:40:59.174Z"
   },
   {
    "duration": 76,
    "start_time": "2025-06-24T11:43:24.192Z"
   },
   {
    "duration": 52,
    "start_time": "2025-06-24T11:43:28.467Z"
   },
   {
    "duration": 93,
    "start_time": "2025-06-24T11:44:44.748Z"
   },
   {
    "duration": 85,
    "start_time": "2025-06-24T11:44:49.906Z"
   },
   {
    "duration": 12,
    "start_time": "2025-06-24T11:44:54.918Z"
   },
   {
    "duration": 45,
    "start_time": "2025-06-24T11:45:41.535Z"
   },
   {
    "duration": 40,
    "start_time": "2025-06-24T11:45:57.495Z"
   },
   {
    "duration": 26,
    "start_time": "2025-06-24T11:46:29.326Z"
   },
   {
    "duration": 27,
    "start_time": "2025-06-24T11:47:07.420Z"
   },
   {
    "duration": 28,
    "start_time": "2025-06-24T11:47:14.103Z"
   },
   {
    "duration": 30,
    "start_time": "2025-06-24T11:47:21.031Z"
   },
   {
    "duration": 32,
    "start_time": "2025-06-24T11:47:52.692Z"
   },
   {
    "duration": 34,
    "start_time": "2025-06-24T11:48:11.748Z"
   },
   {
    "duration": 23,
    "start_time": "2025-06-24T11:48:41.684Z"
   },
   {
    "duration": 107,
    "start_time": "2025-06-24T11:49:24.548Z"
   },
   {
    "duration": 112,
    "start_time": "2025-06-24T11:49:31.994Z"
   },
   {
    "duration": 113,
    "start_time": "2025-06-24T11:49:36.152Z"
   },
   {
    "duration": 104,
    "start_time": "2025-06-24T11:49:40.259Z"
   },
   {
    "duration": 25,
    "start_time": "2025-06-24T11:49:58.983Z"
   },
   {
    "duration": 26,
    "start_time": "2025-06-24T11:50:01.438Z"
   },
   {
    "duration": 165,
    "start_time": "2025-06-24T11:50:02.288Z"
   },
   {
    "duration": 116,
    "start_time": "2025-06-24T11:50:16.476Z"
   },
   {
    "duration": 224,
    "start_time": "2025-06-24T11:50:20.703Z"
   },
   {
    "duration": 143,
    "start_time": "2025-06-24T11:50:23.858Z"
   },
   {
    "duration": 137,
    "start_time": "2025-06-24T11:50:25.925Z"
   },
   {
    "duration": 145,
    "start_time": "2025-06-24T11:50:55.664Z"
   },
   {
    "duration": 143,
    "start_time": "2025-06-24T11:51:54.443Z"
   },
   {
    "duration": 152,
    "start_time": "2025-06-24T11:52:22.095Z"
   },
   {
    "duration": 146,
    "start_time": "2025-06-24T11:52:32.635Z"
   },
   {
    "duration": 144,
    "start_time": "2025-06-24T11:52:37.670Z"
   },
   {
    "duration": 147,
    "start_time": "2025-06-24T11:52:56.353Z"
   },
   {
    "duration": 159,
    "start_time": "2025-06-24T11:53:12.582Z"
   },
   {
    "duration": 152,
    "start_time": "2025-06-24T11:54:18.904Z"
   },
   {
    "duration": 101,
    "start_time": "2025-06-24T12:00:20.077Z"
   },
   {
    "duration": 26,
    "start_time": "2025-06-24T12:00:21.761Z"
   },
   {
    "duration": 228,
    "start_time": "2025-06-24T12:00:23.034Z"
   },
   {
    "duration": 823,
    "start_time": "2025-06-24T16:39:28.665Z"
   },
   {
    "duration": 2339,
    "start_time": "2025-06-24T16:39:29.490Z"
   },
   {
    "duration": 22,
    "start_time": "2025-06-24T16:39:31.831Z"
   },
   {
    "duration": 149,
    "start_time": "2025-06-24T16:39:31.854Z"
   },
   {
    "duration": 25,
    "start_time": "2025-06-24T16:39:32.005Z"
   },
   {
    "duration": 63,
    "start_time": "2025-06-24T16:39:32.208Z"
   },
   {
    "duration": 30,
    "start_time": "2025-06-24T16:39:32.812Z"
   },
   {
    "duration": 51,
    "start_time": "2025-06-24T16:39:33.829Z"
   },
   {
    "duration": 9,
    "start_time": "2025-06-24T16:39:34.041Z"
   },
   {
    "duration": 145,
    "start_time": "2025-06-24T16:39:34.260Z"
   },
   {
    "duration": 22,
    "start_time": "2025-06-24T16:39:34.474Z"
   },
   {
    "duration": 7,
    "start_time": "2025-06-24T16:39:35.097Z"
   },
   {
    "duration": 81,
    "start_time": "2025-06-24T16:39:35.814Z"
   },
   {
    "duration": 12,
    "start_time": "2025-06-24T16:39:36.193Z"
   },
   {
    "duration": 37,
    "start_time": "2025-06-24T16:39:36.593Z"
   },
   {
    "duration": 20,
    "start_time": "2025-06-24T16:39:36.997Z"
   },
   {
    "duration": 14,
    "start_time": "2025-06-24T16:39:37.597Z"
   },
   {
    "duration": 37,
    "start_time": "2025-06-24T16:39:38.215Z"
   },
   {
    "duration": 211,
    "start_time": "2025-06-24T16:39:38.781Z"
   },
   {
    "duration": 87,
    "start_time": "2025-06-24T16:39:40.060Z"
   },
   {
    "duration": 28,
    "start_time": "2025-06-24T16:39:40.881Z"
   },
   {
    "duration": 152,
    "start_time": "2025-06-24T16:39:41.713Z"
   },
   {
    "duration": 88,
    "start_time": "2025-06-24T16:39:48.483Z"
   },
   {
    "duration": 76,
    "start_time": "2025-06-24T17:22:40.810Z"
   },
   {
    "duration": 2,
    "start_time": "2025-06-24T17:49:25.603Z"
   },
   {
    "duration": 2301,
    "start_time": "2025-06-24T17:49:25.981Z"
   },
   {
    "duration": 17,
    "start_time": "2025-06-24T17:49:28.284Z"
   },
   {
    "duration": 134,
    "start_time": "2025-06-24T17:49:28.302Z"
   },
   {
    "duration": 23,
    "start_time": "2025-06-24T17:49:28.438Z"
   },
   {
    "duration": 48,
    "start_time": "2025-06-24T17:49:28.960Z"
   },
   {
    "duration": 28,
    "start_time": "2025-06-24T17:49:29.748Z"
   },
   {
    "duration": 32,
    "start_time": "2025-06-24T17:49:30.931Z"
   },
   {
    "duration": 8,
    "start_time": "2025-06-24T17:49:31.143Z"
   },
   {
    "duration": 152,
    "start_time": "2025-06-24T17:49:31.397Z"
   },
   {
    "duration": 19,
    "start_time": "2025-06-24T17:49:31.634Z"
   },
   {
    "duration": 6,
    "start_time": "2025-06-24T17:49:33.113Z"
   },
   {
    "duration": 72,
    "start_time": "2025-06-24T17:49:33.581Z"
   },
   {
    "duration": 11,
    "start_time": "2025-06-24T17:49:34.361Z"
   },
   {
    "duration": 37,
    "start_time": "2025-06-24T17:49:34.793Z"
   },
   {
    "duration": 21,
    "start_time": "2025-06-24T17:49:35.263Z"
   },
   {
    "duration": 13,
    "start_time": "2025-06-24T17:49:35.980Z"
   },
   {
    "duration": 34,
    "start_time": "2025-06-24T17:49:36.227Z"
   },
   {
    "duration": 175,
    "start_time": "2025-06-24T17:49:36.564Z"
   },
   {
    "duration": 99,
    "start_time": "2025-06-24T17:49:37.664Z"
   },
   {
    "duration": 25,
    "start_time": "2025-06-24T17:49:38.314Z"
   },
   {
    "duration": 155,
    "start_time": "2025-06-24T17:49:38.611Z"
   },
   {
    "duration": 8,
    "start_time": "2025-06-24T17:49:40.030Z"
   },
   {
    "duration": 47,
    "start_time": "2025-06-24T17:50:04.128Z"
   },
   {
    "duration": 644,
    "start_time": "2025-06-24T17:50:09.314Z"
   },
   {
    "duration": 2738,
    "start_time": "2025-06-24T17:50:09.960Z"
   },
   {
    "duration": 21,
    "start_time": "2025-06-24T17:50:12.701Z"
   },
   {
    "duration": 144,
    "start_time": "2025-06-24T17:50:12.724Z"
   },
   {
    "duration": 26,
    "start_time": "2025-06-24T17:50:12.940Z"
   },
   {
    "duration": 48,
    "start_time": "2025-06-24T17:50:14.110Z"
   },
   {
    "duration": 35,
    "start_time": "2025-06-24T17:50:14.765Z"
   },
   {
    "duration": 54,
    "start_time": "2025-06-24T17:50:15.794Z"
   },
   {
    "duration": 8,
    "start_time": "2025-06-24T17:50:16.010Z"
   },
   {
    "duration": 162,
    "start_time": "2025-06-24T17:50:16.193Z"
   },
   {
    "duration": 21,
    "start_time": "2025-06-24T17:50:16.411Z"
   },
   {
    "duration": 8,
    "start_time": "2025-06-24T17:50:17.014Z"
   },
   {
    "duration": 77,
    "start_time": "2025-06-24T17:50:17.431Z"
   },
   {
    "duration": 13,
    "start_time": "2025-06-24T17:50:17.843Z"
   },
   {
    "duration": 36,
    "start_time": "2025-06-24T17:50:18.281Z"
   },
   {
    "duration": 20,
    "start_time": "2025-06-24T17:50:18.714Z"
   },
   {
    "duration": 13,
    "start_time": "2025-06-24T17:50:19.380Z"
   },
   {
    "duration": 39,
    "start_time": "2025-06-24T17:50:19.593Z"
   },
   {
    "duration": 190,
    "start_time": "2025-06-24T17:50:19.792Z"
   },
   {
    "duration": 88,
    "start_time": "2025-06-24T17:50:20.447Z"
   },
   {
    "duration": 27,
    "start_time": "2025-06-24T17:50:20.897Z"
   },
   {
    "duration": 158,
    "start_time": "2025-06-24T17:50:21.092Z"
   },
   {
    "duration": 654,
    "start_time": "2025-06-24T17:50:34.916Z"
   },
   {
    "duration": 2202,
    "start_time": "2025-06-24T17:50:35.572Z"
   },
   {
    "duration": 22,
    "start_time": "2025-06-24T17:50:37.775Z"
   },
   {
    "duration": 246,
    "start_time": "2025-06-24T17:50:37.798Z"
   },
   {
    "duration": 26,
    "start_time": "2025-06-24T17:50:38.046Z"
   },
   {
    "duration": 74,
    "start_time": "2025-06-24T17:50:38.074Z"
   },
   {
    "duration": 33,
    "start_time": "2025-06-24T17:50:38.547Z"
   },
   {
    "duration": 53,
    "start_time": "2025-06-24T17:50:39.613Z"
   },
   {
    "duration": 9,
    "start_time": "2025-06-24T17:50:39.825Z"
   },
   {
    "duration": 156,
    "start_time": "2025-06-24T17:50:40.027Z"
   },
   {
    "duration": 20,
    "start_time": "2025-06-24T17:50:40.259Z"
   },
   {
    "duration": 8,
    "start_time": "2025-06-24T17:50:40.875Z"
   },
   {
    "duration": 73,
    "start_time": "2025-06-24T17:50:41.327Z"
   },
   {
    "duration": 12,
    "start_time": "2025-06-24T17:50:41.764Z"
   },
   {
    "duration": 35,
    "start_time": "2025-06-24T17:50:42.196Z"
   },
   {
    "duration": 19,
    "start_time": "2025-06-24T17:50:42.646Z"
   },
   {
    "duration": 13,
    "start_time": "2025-06-24T17:50:43.314Z"
   },
   {
    "duration": 36,
    "start_time": "2025-06-24T17:50:43.510Z"
   },
   {
    "duration": 184,
    "start_time": "2025-06-24T17:50:43.725Z"
   },
   {
    "duration": 95,
    "start_time": "2025-06-24T17:50:44.384Z"
   },
   {
    "duration": 27,
    "start_time": "2025-06-24T17:50:44.993Z"
   },
   {
    "duration": 155,
    "start_time": "2025-06-24T17:50:45.223Z"
   },
   {
    "duration": 50,
    "start_time": "2025-06-24T17:50:56.628Z"
   },
   {
    "duration": 674,
    "start_time": "2025-06-24T17:51:02.330Z"
   },
   {
    "duration": 2342,
    "start_time": "2025-06-24T17:51:03.006Z"
   },
   {
    "duration": 22,
    "start_time": "2025-06-24T17:51:05.350Z"
   },
   {
    "duration": 116,
    "start_time": "2025-06-24T17:51:05.374Z"
   },
   {
    "duration": 25,
    "start_time": "2025-06-24T17:51:05.497Z"
   },
   {
    "duration": 50,
    "start_time": "2025-06-24T17:51:05.948Z"
   },
   {
    "duration": 32,
    "start_time": "2025-06-24T17:51:06.598Z"
   },
   {
    "duration": 53,
    "start_time": "2025-06-24T17:51:07.630Z"
   },
   {
    "duration": 8,
    "start_time": "2025-06-24T17:51:07.860Z"
   },
   {
    "duration": 154,
    "start_time": "2025-06-24T17:51:08.060Z"
   },
   {
    "duration": 20,
    "start_time": "2025-06-24T17:51:08.258Z"
   },
   {
    "duration": 7,
    "start_time": "2025-06-24T17:51:08.895Z"
   },
   {
    "duration": 71,
    "start_time": "2025-06-24T17:51:09.326Z"
   },
   {
    "duration": 12,
    "start_time": "2025-06-24T17:51:09.794Z"
   },
   {
    "duration": 35,
    "start_time": "2025-06-24T17:51:10.230Z"
   },
   {
    "duration": 21,
    "start_time": "2025-06-24T17:51:10.713Z"
   },
   {
    "duration": 14,
    "start_time": "2025-06-24T17:51:11.363Z"
   },
   {
    "duration": 37,
    "start_time": "2025-06-24T17:51:11.593Z"
   },
   {
    "duration": 185,
    "start_time": "2025-06-24T17:51:11.809Z"
   },
   {
    "duration": 86,
    "start_time": "2025-06-24T17:51:12.463Z"
   },
   {
    "duration": 26,
    "start_time": "2025-06-24T17:51:12.914Z"
   },
   {
    "duration": 147,
    "start_time": "2025-06-24T17:51:13.111Z"
   },
   {
    "duration": 48,
    "start_time": "2025-06-24T17:53:36.214Z"
   },
   {
    "duration": 631,
    "start_time": "2025-06-24T17:53:48.219Z"
   },
   {
    "duration": 2070,
    "start_time": "2025-06-24T17:53:48.852Z"
   },
   {
    "duration": 23,
    "start_time": "2025-06-24T17:53:50.924Z"
   },
   {
    "duration": 125,
    "start_time": "2025-06-24T17:53:50.950Z"
   },
   {
    "duration": 36,
    "start_time": "2025-06-24T17:53:51.076Z"
   },
   {
    "duration": 71,
    "start_time": "2025-06-24T17:53:51.114Z"
   },
   {
    "duration": 28,
    "start_time": "2025-06-24T17:53:51.187Z"
   },
   {
    "duration": 50,
    "start_time": "2025-06-24T17:53:51.217Z"
   },
   {
    "duration": 8,
    "start_time": "2025-06-24T17:53:51.268Z"
   },
   {
    "duration": 162,
    "start_time": "2025-06-24T17:53:51.300Z"
   },
   {
    "duration": 18,
    "start_time": "2025-06-24T17:53:51.464Z"
   },
   {
    "duration": 15,
    "start_time": "2025-06-24T17:53:51.483Z"
   },
   {
    "duration": 73,
    "start_time": "2025-06-24T17:53:51.500Z"
   },
   {
    "duration": 29,
    "start_time": "2025-06-24T17:53:51.575Z"
   },
   {
    "duration": 48,
    "start_time": "2025-06-24T17:53:51.606Z"
   },
   {
    "duration": 20,
    "start_time": "2025-06-24T17:53:51.656Z"
   },
   {
    "duration": 27,
    "start_time": "2025-06-24T17:53:51.678Z"
   },
   {
    "duration": 35,
    "start_time": "2025-06-24T17:53:51.707Z"
   },
   {
    "duration": 204,
    "start_time": "2025-06-24T17:53:51.744Z"
   },
   {
    "duration": 93,
    "start_time": "2025-06-24T17:53:51.949Z"
   },
   {
    "duration": 24,
    "start_time": "2025-06-24T17:53:52.044Z"
   },
   {
    "duration": 161,
    "start_time": "2025-06-24T17:53:52.070Z"
   },
   {
    "duration": 62,
    "start_time": "2025-06-24T17:54:14.683Z"
   },
   {
    "duration": 725,
    "start_time": "2025-06-24T17:54:23.456Z"
   },
   {
    "duration": 1999,
    "start_time": "2025-06-24T17:54:24.183Z"
   },
   {
    "duration": 21,
    "start_time": "2025-06-24T17:54:26.183Z"
   },
   {
    "duration": 120,
    "start_time": "2025-06-24T17:54:26.206Z"
   },
   {
    "duration": 24,
    "start_time": "2025-06-24T17:54:26.327Z"
   },
   {
    "duration": 67,
    "start_time": "2025-06-24T17:54:26.352Z"
   },
   {
    "duration": 33,
    "start_time": "2025-06-24T17:54:26.421Z"
   },
   {
    "duration": 75,
    "start_time": "2025-06-24T17:54:26.456Z"
   },
   {
    "duration": 7,
    "start_time": "2025-06-24T17:54:26.533Z"
   },
   {
    "duration": 163,
    "start_time": "2025-06-24T17:54:26.542Z"
   },
   {
    "duration": 19,
    "start_time": "2025-06-24T17:54:26.707Z"
   },
   {
    "duration": 6,
    "start_time": "2025-06-24T17:54:26.728Z"
   },
   {
    "duration": 92,
    "start_time": "2025-06-24T17:54:26.736Z"
   },
   {
    "duration": 10,
    "start_time": "2025-06-24T17:54:26.830Z"
   },
   {
    "duration": 39,
    "start_time": "2025-06-24T17:54:26.842Z"
   },
   {
    "duration": 33,
    "start_time": "2025-06-24T17:54:26.883Z"
   },
   {
    "duration": 12,
    "start_time": "2025-06-24T17:54:26.918Z"
   },
   {
    "duration": 36,
    "start_time": "2025-06-24T17:54:26.932Z"
   },
   {
    "duration": 229,
    "start_time": "2025-06-24T17:54:26.969Z"
   },
   {
    "duration": 82,
    "start_time": "2025-06-24T17:54:27.200Z"
   },
   {
    "duration": 35,
    "start_time": "2025-06-24T17:54:27.284Z"
   },
   {
    "duration": 169,
    "start_time": "2025-06-24T17:54:27.321Z"
   },
   {
    "duration": 45,
    "start_time": "2025-06-24T17:55:19.782Z"
   },
   {
    "duration": 645,
    "start_time": "2025-06-24T17:55:28.409Z"
   },
   {
    "duration": 5086,
    "start_time": "2025-06-24T17:55:29.056Z"
   },
   {
    "duration": 20,
    "start_time": "2025-06-24T17:55:34.144Z"
   },
   {
    "duration": 122,
    "start_time": "2025-06-24T17:55:34.165Z"
   },
   {
    "duration": 24,
    "start_time": "2025-06-24T17:55:34.298Z"
   },
   {
    "duration": 43,
    "start_time": "2025-06-24T17:55:34.323Z"
   },
   {
    "duration": 54,
    "start_time": "2025-06-24T17:55:34.368Z"
   },
   {
    "duration": 50,
    "start_time": "2025-06-24T17:55:35.413Z"
   },
   {
    "duration": 8,
    "start_time": "2025-06-24T17:55:35.574Z"
   },
   {
    "duration": 152,
    "start_time": "2025-06-24T17:55:35.740Z"
   },
   {
    "duration": 32,
    "start_time": "2025-06-24T17:55:35.943Z"
   },
   {
    "duration": 6,
    "start_time": "2025-06-24T17:55:36.458Z"
   },
   {
    "duration": 71,
    "start_time": "2025-06-24T17:55:36.808Z"
   },
   {
    "duration": 10,
    "start_time": "2025-06-24T17:55:37.213Z"
   },
   {
    "duration": 33,
    "start_time": "2025-06-24T17:55:37.625Z"
   },
   {
    "duration": 19,
    "start_time": "2025-06-24T17:55:38.042Z"
   },
   {
    "duration": 13,
    "start_time": "2025-06-24T17:55:38.662Z"
   },
   {
    "duration": 35,
    "start_time": "2025-06-24T17:55:38.858Z"
   },
   {
    "duration": 178,
    "start_time": "2025-06-24T17:55:39.480Z"
   },
   {
    "duration": 85,
    "start_time": "2025-06-24T17:55:41.442Z"
   },
   {
    "duration": 26,
    "start_time": "2025-06-24T17:55:44.295Z"
   },
   {
    "duration": 162,
    "start_time": "2025-06-24T17:55:45.097Z"
   },
   {
    "duration": 622,
    "start_time": "2025-06-24T17:58:05.724Z"
   },
   {
    "duration": 2495,
    "start_time": "2025-06-24T17:58:06.348Z"
   },
   {
    "duration": 22,
    "start_time": "2025-06-24T17:58:08.845Z"
   },
   {
    "duration": 149,
    "start_time": "2025-06-24T17:58:08.868Z"
   },
   {
    "duration": 28,
    "start_time": "2025-06-24T17:58:09.019Z"
   },
   {
    "duration": 73,
    "start_time": "2025-06-24T17:58:09.049Z"
   },
   {
    "duration": 32,
    "start_time": "2025-06-24T17:58:09.124Z"
   },
   {
    "duration": 54,
    "start_time": "2025-06-24T17:58:10.087Z"
   },
   {
    "duration": 8,
    "start_time": "2025-06-24T17:58:10.306Z"
   },
   {
    "duration": 147,
    "start_time": "2025-06-24T17:58:10.488Z"
   },
   {
    "duration": 20,
    "start_time": "2025-06-24T17:58:10.707Z"
   },
   {
    "duration": 7,
    "start_time": "2025-06-24T17:58:11.291Z"
   },
   {
    "duration": 75,
    "start_time": "2025-06-24T17:58:11.725Z"
   },
   {
    "duration": 12,
    "start_time": "2025-06-24T17:58:12.140Z"
   },
   {
    "duration": 35,
    "start_time": "2025-06-24T17:58:12.557Z"
   },
   {
    "duration": 19,
    "start_time": "2025-06-24T17:58:12.922Z"
   },
   {
    "duration": 12,
    "start_time": "2025-06-24T17:58:13.556Z"
   },
   {
    "duration": 34,
    "start_time": "2025-06-24T17:58:13.741Z"
   },
   {
    "duration": 181,
    "start_time": "2025-06-24T17:58:13.956Z"
   },
   {
    "duration": 91,
    "start_time": "2025-06-24T17:58:14.521Z"
   },
   {
    "duration": 28,
    "start_time": "2025-06-24T17:58:15.073Z"
   },
   {
    "duration": 151,
    "start_time": "2025-06-24T17:58:15.472Z"
   },
   {
    "duration": 45,
    "start_time": "2025-06-24T18:00:13.531Z"
   },
   {
    "duration": 8,
    "start_time": "2025-06-24T18:00:34.975Z"
   },
   {
    "duration": 608,
    "start_time": "2025-06-24T18:00:53.328Z"
   },
   {
    "duration": 1802,
    "start_time": "2025-06-24T18:00:53.938Z"
   },
   {
    "duration": 24,
    "start_time": "2025-06-24T18:00:55.742Z"
   },
   {
    "duration": 116,
    "start_time": "2025-06-24T18:00:55.767Z"
   },
   {
    "duration": 38,
    "start_time": "2025-06-24T18:00:55.885Z"
   },
   {
    "duration": 78,
    "start_time": "2025-06-24T18:00:55.925Z"
   },
   {
    "duration": 29,
    "start_time": "2025-06-24T18:00:56.607Z"
   },
   {
    "duration": 52,
    "start_time": "2025-06-24T18:00:57.677Z"
   },
   {
    "duration": 7,
    "start_time": "2025-06-24T18:00:57.890Z"
   },
   {
    "duration": 149,
    "start_time": "2025-06-24T18:00:58.106Z"
   },
   {
    "duration": 20,
    "start_time": "2025-06-24T18:00:58.307Z"
   },
   {
    "duration": 7,
    "start_time": "2025-06-24T18:00:58.922Z"
   },
   {
    "duration": 68,
    "start_time": "2025-06-24T18:00:59.360Z"
   },
   {
    "duration": 13,
    "start_time": "2025-06-24T18:00:59.759Z"
   },
   {
    "duration": 36,
    "start_time": "2025-06-24T18:01:00.177Z"
   },
   {
    "duration": 20,
    "start_time": "2025-06-24T18:01:00.543Z"
   },
   {
    "duration": 13,
    "start_time": "2025-06-24T18:01:01.095Z"
   },
   {
    "duration": 33,
    "start_time": "2025-06-24T18:01:01.291Z"
   },
   {
    "duration": 207,
    "start_time": "2025-06-24T18:01:01.491Z"
   },
   {
    "duration": 86,
    "start_time": "2025-06-24T18:01:02.077Z"
   },
   {
    "duration": 28,
    "start_time": "2025-06-24T18:01:02.460Z"
   },
   {
    "duration": 157,
    "start_time": "2025-06-24T18:01:02.641Z"
   },
   {
    "duration": 11,
    "start_time": "2025-06-24T18:01:03.624Z"
   },
   {
    "duration": 20,
    "start_time": "2025-06-24T18:01:26.928Z"
   },
   {
    "duration": 47,
    "start_time": "2025-06-24T18:12:10.424Z"
   },
   {
    "duration": 589,
    "start_time": "2025-06-24T18:12:18.658Z"
   },
   {
    "duration": 2687,
    "start_time": "2025-06-24T18:12:19.249Z"
   },
   {
    "duration": 22,
    "start_time": "2025-06-24T18:12:21.938Z"
   },
   {
    "duration": 154,
    "start_time": "2025-06-24T18:12:21.962Z"
   },
   {
    "duration": 26,
    "start_time": "2025-06-24T18:12:22.118Z"
   },
   {
    "duration": 81,
    "start_time": "2025-06-24T18:12:22.146Z"
   },
   {
    "duration": 29,
    "start_time": "2025-06-24T18:12:22.229Z"
   },
   {
    "duration": 49,
    "start_time": "2025-06-24T18:12:23.074Z"
   },
   {
    "duration": 9,
    "start_time": "2025-06-24T18:12:23.271Z"
   },
   {
    "duration": 158,
    "start_time": "2025-06-24T18:12:23.472Z"
   },
   {
    "duration": 19,
    "start_time": "2025-06-24T18:12:23.636Z"
   },
   {
    "duration": 6,
    "start_time": "2025-06-24T18:12:24.207Z"
   },
   {
    "duration": 74,
    "start_time": "2025-06-24T18:12:24.591Z"
   },
   {
    "duration": 12,
    "start_time": "2025-06-24T18:12:24.959Z"
   },
   {
    "duration": 39,
    "start_time": "2025-06-24T18:12:25.323Z"
   },
   {
    "duration": 20,
    "start_time": "2025-06-24T18:12:25.708Z"
   },
   {
    "duration": 12,
    "start_time": "2025-06-24T18:12:26.292Z"
   },
   {
    "duration": 37,
    "start_time": "2025-06-24T18:12:26.487Z"
   },
   {
    "duration": 182,
    "start_time": "2025-06-24T18:12:26.653Z"
   },
   {
    "duration": 82,
    "start_time": "2025-06-24T18:12:27.223Z"
   },
   {
    "duration": 29,
    "start_time": "2025-06-24T18:12:27.675Z"
   },
   {
    "duration": 159,
    "start_time": "2025-06-24T18:12:27.854Z"
   },
   {
    "duration": 22,
    "start_time": "2025-06-24T18:12:28.808Z"
   },
   {
    "duration": 21,
    "start_time": "2025-06-24T18:12:29.004Z"
   },
   {
    "duration": 40,
    "start_time": "2025-06-24T18:12:41.103Z"
   },
   {
    "duration": 40,
    "start_time": "2025-06-24T18:12:58.543Z"
   },
   {
    "duration": 36,
    "start_time": "2025-06-24T18:13:33.092Z"
   },
   {
    "duration": 60,
    "start_time": "2025-06-24T18:14:44.625Z"
   },
   {
    "duration": 69,
    "start_time": "2025-06-24T18:15:01.020Z"
   },
   {
    "duration": 39,
    "start_time": "2025-06-24T18:15:48.299Z"
   },
   {
    "duration": 52,
    "start_time": "2025-06-24T18:16:44.364Z"
   },
   {
    "duration": 46,
    "start_time": "2025-06-24T18:23:49.017Z"
   },
   {
    "duration": 51,
    "start_time": "2025-06-24T18:24:12.293Z"
   },
   {
    "duration": 1183,
    "start_time": "2025-06-24T18:28:43.675Z"
   },
   {
    "duration": 21,
    "start_time": "2025-06-24T18:54:27.866Z"
   },
   {
    "duration": 88,
    "start_time": "2025-06-24T18:54:40.040Z"
   },
   {
    "duration": 103,
    "start_time": "2025-06-24T18:54:57.074Z"
   },
   {
    "duration": 114,
    "start_time": "2025-06-24T18:55:33.343Z"
   },
   {
    "duration": 825,
    "start_time": "2025-06-24T20:37:56.485Z"
   },
   {
    "duration": 2262,
    "start_time": "2025-06-24T20:37:57.312Z"
   },
   {
    "duration": 24,
    "start_time": "2025-06-24T20:37:59.576Z"
   },
   {
    "duration": 136,
    "start_time": "2025-06-24T20:37:59.601Z"
   },
   {
    "duration": 24,
    "start_time": "2025-06-24T20:37:59.739Z"
   },
   {
    "duration": 73,
    "start_time": "2025-06-24T20:37:59.764Z"
   },
   {
    "duration": 46,
    "start_time": "2025-06-24T20:37:59.839Z"
   },
   {
    "duration": 68,
    "start_time": "2025-06-24T20:37:59.887Z"
   },
   {
    "duration": 12,
    "start_time": "2025-06-24T20:37:59.957Z"
   },
   {
    "duration": 190,
    "start_time": "2025-06-24T20:37:59.971Z"
   },
   {
    "duration": 20,
    "start_time": "2025-06-24T20:38:00.163Z"
   },
   {
    "duration": 37,
    "start_time": "2025-06-24T20:38:00.185Z"
   },
   {
    "duration": 86,
    "start_time": "2025-06-24T20:38:00.224Z"
   },
   {
    "duration": 4551,
    "start_time": "2025-06-24T20:38:00.312Z"
   },
   {
    "duration": 13,
    "start_time": "2025-06-24T20:38:04.865Z"
   },
   {
    "duration": 43,
    "start_time": "2025-06-24T20:38:04.880Z"
   },
   {
    "duration": 22,
    "start_time": "2025-06-24T20:38:04.924Z"
   },
   {
    "duration": 21,
    "start_time": "2025-06-24T20:38:04.948Z"
   },
   {
    "duration": 52,
    "start_time": "2025-06-24T20:38:04.970Z"
   },
   {
    "duration": 190,
    "start_time": "2025-06-24T20:38:05.024Z"
   },
   {
    "duration": 91,
    "start_time": "2025-06-24T20:38:05.216Z"
   },
   {
    "duration": 23,
    "start_time": "2025-06-24T20:38:05.309Z"
   },
   {
    "duration": 156,
    "start_time": "2025-06-24T20:38:05.333Z"
   },
   {
    "duration": 28,
    "start_time": "2025-06-24T20:38:05.491Z"
   },
   {
    "duration": 1220,
    "start_time": "2025-06-24T20:38:05.521Z"
   },
   {
    "duration": 116,
    "start_time": "2025-06-24T20:38:06.743Z"
   },
   {
    "duration": 867,
    "start_time": "2025-06-25T08:05:24.046Z"
   },
   {
    "duration": 5000,
    "start_time": "2025-06-25T08:09:10.604Z"
   },
   {
    "duration": 704,
    "start_time": "2025-06-25T08:09:27.288Z"
   },
   {
    "duration": 2738,
    "start_time": "2025-06-25T08:09:27.994Z"
   },
   {
    "duration": 40,
    "start_time": "2025-06-25T08:09:30.733Z"
   },
   {
    "duration": 142,
    "start_time": "2025-06-25T08:09:30.775Z"
   },
   {
    "duration": 45,
    "start_time": "2025-06-25T08:09:30.919Z"
   },
   {
    "duration": 84,
    "start_time": "2025-06-25T08:09:30.966Z"
   },
   {
    "duration": 32,
    "start_time": "2025-06-25T08:09:31.052Z"
   },
   {
    "duration": 86,
    "start_time": "2025-06-25T08:09:31.086Z"
   },
   {
    "duration": 8,
    "start_time": "2025-06-25T08:09:31.173Z"
   },
   {
    "duration": 184,
    "start_time": "2025-06-25T08:09:31.184Z"
   },
   {
    "duration": 22,
    "start_time": "2025-06-25T08:09:31.370Z"
   },
   {
    "duration": 13,
    "start_time": "2025-06-25T08:09:31.394Z"
   },
   {
    "duration": 102,
    "start_time": "2025-06-25T08:09:31.409Z"
   },
   {
    "duration": 4062,
    "start_time": "2025-06-25T08:09:31.513Z"
   },
   {
    "duration": 16,
    "start_time": "2025-06-25T08:09:35.577Z"
   },
   {
    "duration": 70,
    "start_time": "2025-06-25T08:09:35.595Z"
   },
   {
    "duration": 29,
    "start_time": "2025-06-25T08:09:35.668Z"
   },
   {
    "duration": 15,
    "start_time": "2025-06-25T08:09:35.699Z"
   },
   {
    "duration": 45,
    "start_time": "2025-06-25T08:09:35.735Z"
   },
   {
    "duration": 222,
    "start_time": "2025-06-25T08:09:35.782Z"
   },
   {
    "duration": 118,
    "start_time": "2025-06-25T08:09:36.006Z"
   },
   {
    "duration": 39,
    "start_time": "2025-06-25T08:09:36.126Z"
   },
   {
    "duration": 193,
    "start_time": "2025-06-25T08:09:36.167Z"
   },
   {
    "duration": 23,
    "start_time": "2025-06-25T08:09:36.362Z"
   },
   {
    "duration": 1384,
    "start_time": "2025-06-25T08:09:36.387Z"
   },
   {
    "duration": 128,
    "start_time": "2025-06-25T08:09:37.773Z"
   },
   {
    "duration": 673,
    "start_time": "2025-06-25T08:11:33.857Z"
   },
   {
    "duration": 2593,
    "start_time": "2025-06-25T08:11:34.532Z"
   },
   {
    "duration": 27,
    "start_time": "2025-06-25T08:11:37.127Z"
   },
   {
    "duration": 154,
    "start_time": "2025-06-25T08:11:37.155Z"
   },
   {
    "duration": 57,
    "start_time": "2025-06-25T08:11:37.311Z"
   },
   {
    "duration": 81,
    "start_time": "2025-06-25T08:11:37.371Z"
   },
   {
    "duration": 33,
    "start_time": "2025-06-25T08:11:37.455Z"
   },
   {
    "duration": 78,
    "start_time": "2025-06-25T08:11:37.490Z"
   },
   {
    "duration": 8,
    "start_time": "2025-06-25T08:11:37.570Z"
   },
   {
    "duration": 179,
    "start_time": "2025-06-25T08:11:37.579Z"
   },
   {
    "duration": 19,
    "start_time": "2025-06-25T08:11:37.760Z"
   },
   {
    "duration": 17,
    "start_time": "2025-06-25T08:11:37.781Z"
   },
   {
    "duration": 138,
    "start_time": "2025-06-25T08:11:37.800Z"
   },
   {
    "duration": 4029,
    "start_time": "2025-06-25T08:11:37.943Z"
   },
   {
    "duration": 13,
    "start_time": "2025-06-25T08:11:41.973Z"
   },
   {
    "duration": 132,
    "start_time": "2025-06-25T08:11:41.987Z"
   },
   {
    "duration": 33,
    "start_time": "2025-06-25T08:11:42.121Z"
   },
   {
    "duration": 14,
    "start_time": "2025-06-25T08:11:42.155Z"
   },
   {
    "duration": 38,
    "start_time": "2025-06-25T08:11:42.170Z"
   },
   {
    "duration": 220,
    "start_time": "2025-06-25T08:11:42.209Z"
   },
   {
    "duration": 89,
    "start_time": "2025-06-25T08:11:42.435Z"
   },
   {
    "duration": 116,
    "start_time": "2025-06-25T08:11:42.539Z"
   },
   {
    "duration": 0,
    "start_time": "2025-06-25T08:11:42.657Z"
   },
   {
    "duration": 0,
    "start_time": "2025-06-25T08:11:42.658Z"
   },
   {
    "duration": 0,
    "start_time": "2025-06-25T08:11:42.659Z"
   },
   {
    "duration": 0,
    "start_time": "2025-06-25T08:11:42.660Z"
   },
   {
    "duration": 0,
    "start_time": "2025-06-25T08:11:42.661Z"
   },
   {
    "duration": 3,
    "start_time": "2025-06-25T08:12:01.689Z"
   },
   {
    "duration": 6951,
    "start_time": "2025-06-25T08:12:01.918Z"
   },
   {
    "duration": 17,
    "start_time": "2025-06-25T08:12:08.871Z"
   },
   {
    "duration": 138,
    "start_time": "2025-06-25T08:12:08.890Z"
   },
   {
    "duration": 45,
    "start_time": "2025-06-25T08:12:09.030Z"
   },
   {
    "duration": 75,
    "start_time": "2025-06-25T08:12:09.076Z"
   },
   {
    "duration": 33,
    "start_time": "2025-06-25T08:12:09.153Z"
   },
   {
    "duration": 65,
    "start_time": "2025-06-25T08:12:09.187Z"
   },
   {
    "duration": 7,
    "start_time": "2025-06-25T08:12:09.254Z"
   },
   {
    "duration": 203,
    "start_time": "2025-06-25T08:12:09.263Z"
   },
   {
    "duration": 18,
    "start_time": "2025-06-25T08:12:09.468Z"
   },
   {
    "duration": 6,
    "start_time": "2025-06-25T08:12:09.488Z"
   },
   {
    "duration": 106,
    "start_time": "2025-06-25T08:12:09.496Z"
   },
   {
    "duration": 3578,
    "start_time": "2025-06-25T08:12:09.604Z"
   },
   {
    "duration": 17,
    "start_time": "2025-06-25T08:12:13.185Z"
   },
   {
    "duration": 92,
    "start_time": "2025-06-25T08:12:13.205Z"
   },
   {
    "duration": 55,
    "start_time": "2025-06-25T08:12:13.299Z"
   },
   {
    "duration": 19,
    "start_time": "2025-06-25T08:12:13.357Z"
   },
   {
    "duration": 46,
    "start_time": "2025-06-25T08:12:13.378Z"
   },
   {
    "duration": 237,
    "start_time": "2025-06-25T08:12:13.425Z"
   },
   {
    "duration": 157,
    "start_time": "2025-06-25T08:12:13.663Z"
   },
   {
    "duration": 14,
    "start_time": "2025-06-25T08:12:16.721Z"
   },
   {
    "duration": 10,
    "start_time": "2025-06-25T08:12:27.505Z"
   },
   {
    "duration": 641,
    "start_time": "2025-06-25T08:14:51.487Z"
   },
   {
    "duration": 3030,
    "start_time": "2025-06-25T08:14:52.130Z"
   },
   {
    "duration": 23,
    "start_time": "2025-06-25T08:14:55.162Z"
   },
   {
    "duration": 150,
    "start_time": "2025-06-25T08:14:56.132Z"
   },
   {
    "duration": 37,
    "start_time": "2025-06-25T08:14:57.016Z"
   },
   {
    "duration": 55,
    "start_time": "2025-06-25T08:14:57.616Z"
   },
   {
    "duration": 34,
    "start_time": "2025-06-25T08:14:58.182Z"
   },
   {
    "duration": 61,
    "start_time": "2025-06-25T08:14:59.587Z"
   },
   {
    "duration": 8,
    "start_time": "2025-06-25T08:14:59.949Z"
   },
   {
    "duration": 163,
    "start_time": "2025-06-25T08:15:00.149Z"
   },
   {
    "duration": 18,
    "start_time": "2025-06-25T08:15:00.353Z"
   },
   {
    "duration": 7,
    "start_time": "2025-06-25T08:15:01.165Z"
   },
   {
    "duration": 78,
    "start_time": "2025-06-25T08:15:01.553Z"
   },
   {
    "duration": 4084,
    "start_time": "2025-06-25T08:15:01.987Z"
   },
   {
    "duration": 14,
    "start_time": "2025-06-25T08:15:06.073Z"
   },
   {
    "duration": 97,
    "start_time": "2025-06-25T08:15:06.088Z"
   },
   {
    "duration": 39,
    "start_time": "2025-06-25T08:15:06.187Z"
   },
   {
    "duration": 32,
    "start_time": "2025-06-25T08:15:06.228Z"
   },
   {
    "duration": 139,
    "start_time": "2025-06-25T08:15:06.261Z"
   },
   {
    "duration": 259,
    "start_time": "2025-06-25T08:15:06.401Z"
   },
   {
    "duration": 107,
    "start_time": "2025-06-25T08:15:06.662Z"
   },
   {
    "duration": 700,
    "start_time": "2025-06-25T08:18:02.789Z"
   },
   {
    "duration": 2217,
    "start_time": "2025-06-25T08:18:03.491Z"
   },
   {
    "duration": 21,
    "start_time": "2025-06-25T08:18:05.710Z"
   },
   {
    "duration": 163,
    "start_time": "2025-06-25T08:18:05.733Z"
   },
   {
    "duration": 54,
    "start_time": "2025-06-25T08:18:05.899Z"
   },
   {
    "duration": 50,
    "start_time": "2025-06-25T08:18:05.955Z"
   },
   {
    "duration": 64,
    "start_time": "2025-06-25T08:18:06.006Z"
   },
   {
    "duration": 100,
    "start_time": "2025-06-25T08:18:06.071Z"
   },
   {
    "duration": 9,
    "start_time": "2025-06-25T08:18:06.172Z"
   },
   {
    "duration": 183,
    "start_time": "2025-06-25T08:18:06.182Z"
   },
   {
    "duration": 20,
    "start_time": "2025-06-25T08:18:06.367Z"
   },
   {
    "duration": 7,
    "start_time": "2025-06-25T08:18:06.389Z"
   },
   {
    "duration": 123,
    "start_time": "2025-06-25T08:18:06.398Z"
   },
   {
    "duration": 4040,
    "start_time": "2025-06-25T08:18:06.535Z"
   },
   {
    "duration": 14,
    "start_time": "2025-06-25T08:18:10.577Z"
   },
   {
    "duration": 114,
    "start_time": "2025-06-25T08:18:10.592Z"
   },
   {
    "duration": 24,
    "start_time": "2025-06-25T08:18:10.708Z"
   },
   {
    "duration": 29,
    "start_time": "2025-06-25T08:18:10.733Z"
   },
   {
    "duration": 40,
    "start_time": "2025-06-25T08:18:10.763Z"
   },
   {
    "duration": 220,
    "start_time": "2025-06-25T08:18:10.804Z"
   },
   {
    "duration": 122,
    "start_time": "2025-06-25T08:18:11.026Z"
   },
   {
    "duration": 61,
    "start_time": "2025-06-25T08:18:11.150Z"
   },
   {
    "duration": 0,
    "start_time": "2025-06-25T08:18:11.212Z"
   },
   {
    "duration": 0,
    "start_time": "2025-06-25T08:18:11.213Z"
   },
   {
    "duration": 0,
    "start_time": "2025-06-25T08:18:11.214Z"
   },
   {
    "duration": 0,
    "start_time": "2025-06-25T08:18:11.215Z"
   },
   {
    "duration": 0,
    "start_time": "2025-06-25T08:18:11.216Z"
   },
   {
    "duration": 115,
    "start_time": "2025-06-25T08:18:15.588Z"
   },
   {
    "duration": 686,
    "start_time": "2025-06-25T08:18:55.652Z"
   },
   {
    "duration": 2058,
    "start_time": "2025-06-25T08:18:56.341Z"
   },
   {
    "duration": 26,
    "start_time": "2025-06-25T08:18:58.401Z"
   },
   {
    "duration": 143,
    "start_time": "2025-06-25T08:18:58.430Z"
   },
   {
    "duration": 31,
    "start_time": "2025-06-25T08:18:58.575Z"
   },
   {
    "duration": 141,
    "start_time": "2025-06-25T08:18:58.608Z"
   },
   {
    "duration": 39,
    "start_time": "2025-06-25T08:18:58.751Z"
   },
   {
    "duration": 88,
    "start_time": "2025-06-25T08:18:58.792Z"
   },
   {
    "duration": 8,
    "start_time": "2025-06-25T08:18:58.882Z"
   },
   {
    "duration": 195,
    "start_time": "2025-06-25T08:18:58.892Z"
   },
   {
    "duration": 20,
    "start_time": "2025-06-25T08:18:59.089Z"
   },
   {
    "duration": 30,
    "start_time": "2025-06-25T08:18:59.110Z"
   },
   {
    "duration": 111,
    "start_time": "2025-06-25T08:18:59.143Z"
   },
   {
    "duration": 4111,
    "start_time": "2025-06-25T08:18:59.256Z"
   },
   {
    "duration": 19,
    "start_time": "2025-06-25T08:19:03.369Z"
   },
   {
    "duration": 71,
    "start_time": "2025-06-25T08:19:03.389Z"
   },
   {
    "duration": 23,
    "start_time": "2025-06-25T08:19:03.462Z"
   },
   {
    "duration": 114,
    "start_time": "2025-06-25T08:19:03.486Z"
   },
   {
    "duration": 61,
    "start_time": "2025-06-25T08:19:03.602Z"
   },
   {
    "duration": 214,
    "start_time": "2025-06-25T08:19:03.665Z"
   },
   {
    "duration": 111,
    "start_time": "2025-06-25T08:19:03.881Z"
   },
   {
    "duration": 659,
    "start_time": "2025-06-25T08:22:06.099Z"
   },
   {
    "duration": 2339,
    "start_time": "2025-06-25T08:22:06.759Z"
   },
   {
    "duration": 21,
    "start_time": "2025-06-25T08:22:09.099Z"
   },
   {
    "duration": 137,
    "start_time": "2025-06-25T08:22:09.122Z"
   },
   {
    "duration": 25,
    "start_time": "2025-06-25T08:22:09.261Z"
   },
   {
    "duration": 84,
    "start_time": "2025-06-25T08:22:09.288Z"
   },
   {
    "duration": 28,
    "start_time": "2025-06-25T08:22:09.374Z"
   },
   {
    "duration": 93,
    "start_time": "2025-06-25T08:22:09.404Z"
   },
   {
    "duration": 8,
    "start_time": "2025-06-25T08:22:09.499Z"
   },
   {
    "duration": 199,
    "start_time": "2025-06-25T08:22:09.510Z"
   },
   {
    "duration": 28,
    "start_time": "2025-06-25T08:22:09.710Z"
   },
   {
    "duration": 9,
    "start_time": "2025-06-25T08:22:09.744Z"
   },
   {
    "duration": 103,
    "start_time": "2025-06-25T08:22:09.755Z"
   },
   {
    "duration": 4015,
    "start_time": "2025-06-25T08:22:09.860Z"
   },
   {
    "duration": 13,
    "start_time": "2025-06-25T08:22:13.877Z"
   },
   {
    "duration": 70,
    "start_time": "2025-06-25T08:22:13.891Z"
   },
   {
    "duration": 23,
    "start_time": "2025-06-25T08:22:13.963Z"
   },
   {
    "duration": 35,
    "start_time": "2025-06-25T08:22:13.988Z"
   },
   {
    "duration": 48,
    "start_time": "2025-06-25T08:22:14.025Z"
   },
   {
    "duration": 235,
    "start_time": "2025-06-25T08:22:14.075Z"
   },
   {
    "duration": 135,
    "start_time": "2025-06-25T08:22:14.311Z"
   },
   {
    "duration": 1808,
    "start_time": "2025-06-25T08:22:14.449Z"
   },
   {
    "duration": 0,
    "start_time": "2025-06-25T08:22:16.259Z"
   },
   {
    "duration": 0,
    "start_time": "2025-06-25T08:22:16.260Z"
   },
   {
    "duration": 0,
    "start_time": "2025-06-25T08:22:16.262Z"
   },
   {
    "duration": 0,
    "start_time": "2025-06-25T08:22:16.263Z"
   },
   {
    "duration": 0,
    "start_time": "2025-06-25T08:22:16.264Z"
   },
   {
    "duration": 256,
    "start_time": "2025-06-25T08:22:31.433Z"
   },
   {
    "duration": 238,
    "start_time": "2025-06-25T08:23:37.668Z"
   },
   {
    "duration": 409,
    "start_time": "2025-06-25T08:23:58.775Z"
   },
   {
    "duration": 55,
    "start_time": "2025-06-26T13:51:26.783Z"
   },
   {
    "duration": 770,
    "start_time": "2025-06-26T13:51:33.533Z"
   },
   {
    "duration": 2347,
    "start_time": "2025-06-26T13:51:34.305Z"
   },
   {
    "duration": 27,
    "start_time": "2025-06-26T13:51:36.655Z"
   },
   {
    "duration": 128,
    "start_time": "2025-06-26T13:51:36.683Z"
   },
   {
    "duration": 29,
    "start_time": "2025-06-26T13:51:36.813Z"
   },
   {
    "duration": 81,
    "start_time": "2025-06-26T13:51:36.844Z"
   },
   {
    "duration": 100,
    "start_time": "2025-06-26T13:51:36.927Z"
   },
   {
    "duration": 53,
    "start_time": "2025-06-26T13:51:37.028Z"
   },
   {
    "duration": 9,
    "start_time": "2025-06-26T13:51:37.083Z"
   },
   {
    "duration": 171,
    "start_time": "2025-06-26T13:51:37.094Z"
   },
   {
    "duration": 23,
    "start_time": "2025-06-26T13:51:37.267Z"
   },
   {
    "duration": 73,
    "start_time": "2025-06-26T13:51:37.292Z"
   },
   {
    "duration": 155,
    "start_time": "2025-06-26T13:51:37.367Z"
   },
   {
    "duration": 4598,
    "start_time": "2025-06-26T13:51:37.525Z"
   },
   {
    "duration": 15,
    "start_time": "2025-06-26T13:51:42.125Z"
   },
   {
    "duration": 112,
    "start_time": "2025-06-26T13:51:42.142Z"
   },
   {
    "duration": 24,
    "start_time": "2025-06-26T13:51:42.256Z"
   },
   {
    "duration": 15,
    "start_time": "2025-06-26T13:51:42.281Z"
   },
   {
    "duration": 40,
    "start_time": "2025-06-26T13:51:42.297Z"
   },
   {
    "duration": 244,
    "start_time": "2025-06-26T13:51:42.339Z"
   },
   {
    "duration": 110,
    "start_time": "2025-06-26T13:51:42.585Z"
   },
   {
    "duration": 417,
    "start_time": "2025-06-26T13:51:42.696Z"
   },
   {
    "duration": 30,
    "start_time": "2025-06-26T13:51:43.115Z"
   },
   {
    "duration": 201,
    "start_time": "2025-06-26T13:51:43.147Z"
   },
   {
    "duration": 41,
    "start_time": "2025-06-26T13:51:43.350Z"
   },
   {
    "duration": 1260,
    "start_time": "2025-06-26T13:51:43.393Z"
   },
   {
    "duration": 109,
    "start_time": "2025-06-26T13:51:44.655Z"
   },
   {
    "duration": 343,
    "start_time": "2025-06-26T13:53:05.457Z"
   },
   {
    "duration": 319,
    "start_time": "2025-06-26T13:53:15.491Z"
   },
   {
    "duration": 117,
    "start_time": "2025-06-26T13:55:42.648Z"
   },
   {
    "duration": 338,
    "start_time": "2025-06-26T13:55:49.749Z"
   },
   {
    "duration": 362,
    "start_time": "2025-06-26T13:55:55.315Z"
   },
   {
    "duration": 23,
    "start_time": "2025-06-26T13:56:02.687Z"
   },
   {
    "duration": 327,
    "start_time": "2025-06-26T13:56:12.078Z"
   },
   {
    "duration": 378,
    "start_time": "2025-06-26T13:56:24.984Z"
   },
   {
    "duration": 358,
    "start_time": "2025-06-26T13:56:40.796Z"
   },
   {
    "duration": 316,
    "start_time": "2025-06-26T13:56:52.093Z"
   },
   {
    "duration": 326,
    "start_time": "2025-06-26T13:57:00.606Z"
   },
   {
    "duration": 338,
    "start_time": "2025-06-26T14:00:19.604Z"
   },
   {
    "duration": 340,
    "start_time": "2025-06-26T14:00:34.897Z"
   },
   {
    "duration": 327,
    "start_time": "2025-06-26T14:02:17.491Z"
   },
   {
    "duration": 335,
    "start_time": "2025-06-26T14:02:25.409Z"
   },
   {
    "duration": 335,
    "start_time": "2025-06-26T14:02:27.299Z"
   },
   {
    "duration": 394,
    "start_time": "2025-06-26T14:02:36.647Z"
   },
   {
    "duration": 379,
    "start_time": "2025-06-26T14:02:53.488Z"
   },
   {
    "duration": 689,
    "start_time": "2025-06-26T15:31:05.326Z"
   },
   {
    "duration": 2680,
    "start_time": "2025-06-26T15:31:06.017Z"
   },
   {
    "duration": 22,
    "start_time": "2025-06-26T15:31:08.699Z"
   },
   {
    "duration": 140,
    "start_time": "2025-06-26T15:31:08.724Z"
   },
   {
    "duration": 42,
    "start_time": "2025-06-26T15:31:08.865Z"
   },
   {
    "duration": 46,
    "start_time": "2025-06-26T15:31:08.909Z"
   },
   {
    "duration": 37,
    "start_time": "2025-06-26T15:31:08.977Z"
   },
   {
    "duration": 74,
    "start_time": "2025-06-26T15:31:09.016Z"
   },
   {
    "duration": 8,
    "start_time": "2025-06-26T15:31:09.092Z"
   },
   {
    "duration": 164,
    "start_time": "2025-06-26T15:31:09.103Z"
   },
   {
    "duration": 29,
    "start_time": "2025-06-26T15:31:09.269Z"
   },
   {
    "duration": 7,
    "start_time": "2025-06-26T15:31:09.300Z"
   },
   {
    "duration": 98,
    "start_time": "2025-06-26T15:31:09.308Z"
   },
   {
    "duration": 4001,
    "start_time": "2025-06-26T15:31:09.408Z"
   },
   {
    "duration": 14,
    "start_time": "2025-06-26T15:31:13.411Z"
   },
   {
    "duration": 54,
    "start_time": "2025-06-26T15:31:13.426Z"
   },
   {
    "duration": 27,
    "start_time": "2025-06-26T15:31:13.483Z"
   },
   {
    "duration": 15,
    "start_time": "2025-06-26T15:31:13.512Z"
   },
   {
    "duration": 70,
    "start_time": "2025-06-26T15:31:13.528Z"
   },
   {
    "duration": 215,
    "start_time": "2025-06-26T15:31:13.599Z"
   },
   {
    "duration": 110,
    "start_time": "2025-06-26T15:31:13.816Z"
   },
   {
    "duration": 404,
    "start_time": "2025-06-26T15:31:13.928Z"
   },
   {
    "duration": 24,
    "start_time": "2025-06-26T15:31:14.334Z"
   },
   {
    "duration": 176,
    "start_time": "2025-06-26T15:31:14.360Z"
   },
   {
    "duration": 23,
    "start_time": "2025-06-26T15:31:14.538Z"
   },
   {
    "duration": 1242,
    "start_time": "2025-06-26T15:31:14.563Z"
   },
   {
    "duration": 415,
    "start_time": "2025-06-26T15:31:16.235Z"
   },
   {
    "duration": 323,
    "start_time": "2025-06-26T15:32:03.114Z"
   },
   {
    "duration": 321,
    "start_time": "2025-06-26T15:32:20.620Z"
   },
   {
    "duration": 1412,
    "start_time": "2025-06-26T15:35:04.961Z"
   },
   {
    "duration": 59,
    "start_time": "2025-06-26T15:35:15.438Z"
   },
   {
    "duration": 101,
    "start_time": "2025-06-26T15:46:30.982Z"
   },
   {
    "duration": 57,
    "start_time": "2025-06-26T15:46:36.369Z"
   },
   {
    "duration": 547,
    "start_time": "2025-06-26T15:47:30.481Z"
   },
   {
    "duration": 189,
    "start_time": "2025-06-26T15:49:24.031Z"
   },
   {
    "duration": 288,
    "start_time": "2025-06-26T15:49:38.244Z"
   },
   {
    "duration": 206,
    "start_time": "2025-06-26T15:50:08.908Z"
   },
   {
    "duration": 207,
    "start_time": "2025-06-26T15:50:52.238Z"
   },
   {
    "duration": 218,
    "start_time": "2025-06-26T15:50:55.916Z"
   },
   {
    "duration": 240,
    "start_time": "2025-06-26T15:51:01.567Z"
   },
   {
    "duration": 229,
    "start_time": "2025-06-26T15:51:17.789Z"
   },
   {
    "duration": 213,
    "start_time": "2025-06-26T15:51:22.841Z"
   },
   {
    "duration": 308,
    "start_time": "2025-06-26T15:51:36.931Z"
   },
   {
    "duration": 315,
    "start_time": "2025-06-26T15:51:44.709Z"
   },
   {
    "duration": 322,
    "start_time": "2025-06-26T15:51:52.217Z"
   },
   {
    "duration": 345,
    "start_time": "2025-06-26T15:52:32.073Z"
   },
   {
    "duration": 445,
    "start_time": "2025-06-26T15:52:47.214Z"
   },
   {
    "duration": 497,
    "start_time": "2025-06-26T15:53:23.463Z"
   },
   {
    "duration": 489,
    "start_time": "2025-06-26T15:53:36.031Z"
   },
   {
    "duration": 544,
    "start_time": "2025-06-26T15:53:40.336Z"
   },
   {
    "duration": 571,
    "start_time": "2025-06-26T15:53:45.575Z"
   },
   {
    "duration": 503,
    "start_time": "2025-06-26T15:53:59.658Z"
   },
   {
    "duration": 616,
    "start_time": "2025-06-26T15:54:11.192Z"
   },
   {
    "duration": 327,
    "start_time": "2025-06-26T15:54:22.376Z"
   },
   {
    "duration": 501,
    "start_time": "2025-06-26T15:54:30.831Z"
   },
   {
    "duration": 547,
    "start_time": "2025-06-26T15:54:45.491Z"
   },
   {
    "duration": 182,
    "start_time": "2025-06-26T15:58:28.281Z"
   },
   {
    "duration": 245,
    "start_time": "2025-06-26T15:59:01.578Z"
   },
   {
    "duration": 511,
    "start_time": "2025-06-26T16:00:32.269Z"
   },
   {
    "duration": 350,
    "start_time": "2025-06-26T16:00:44.197Z"
   },
   {
    "duration": 372,
    "start_time": "2025-06-26T16:01:12.253Z"
   },
   {
    "duration": 351,
    "start_time": "2025-06-26T16:01:20.220Z"
   },
   {
    "duration": 311,
    "start_time": "2025-06-26T16:01:25.254Z"
   },
   {
    "duration": 181,
    "start_time": "2025-06-26T16:01:34.921Z"
   },
   {
    "duration": 405,
    "start_time": "2025-06-26T16:02:42.239Z"
   },
   {
    "duration": 296,
    "start_time": "2025-06-26T16:02:50.746Z"
   },
   {
    "duration": 335,
    "start_time": "2025-06-26T16:03:51.196Z"
   },
   {
    "duration": 330,
    "start_time": "2025-06-26T16:03:53.991Z"
   },
   {
    "duration": 189,
    "start_time": "2025-06-26T16:04:02.222Z"
   },
   {
    "duration": 232,
    "start_time": "2025-06-26T16:04:14.301Z"
   },
   {
    "duration": 35,
    "start_time": "2025-06-26T16:05:43.732Z"
   },
   {
    "duration": 28,
    "start_time": "2025-06-26T16:05:47.156Z"
   },
   {
    "duration": 178,
    "start_time": "2025-06-26T16:05:48.130Z"
   },
   {
    "duration": 362,
    "start_time": "2025-06-26T16:21:11.726Z"
   },
   {
    "duration": 457,
    "start_time": "2025-06-26T16:22:05.833Z"
   },
   {
    "duration": 18,
    "start_time": "2025-06-26T16:25:25.070Z"
   },
   {
    "duration": 31,
    "start_time": "2025-06-26T16:25:53.309Z"
   },
   {
    "duration": 20,
    "start_time": "2025-06-26T16:26:00.026Z"
   },
   {
    "duration": 25,
    "start_time": "2025-06-26T16:26:23.977Z"
   },
   {
    "duration": 18,
    "start_time": "2025-06-26T16:26:41.802Z"
   },
   {
    "duration": 28,
    "start_time": "2025-06-26T16:26:44.673Z"
   },
   {
    "duration": 27,
    "start_time": "2025-06-26T16:30:17.596Z"
   },
   {
    "duration": 50,
    "start_time": "2025-06-26T16:31:16.142Z"
   },
   {
    "duration": 115,
    "start_time": "2025-06-26T16:32:04.310Z"
   },
   {
    "duration": 298,
    "start_time": "2025-06-26T16:32:07.842Z"
   },
   {
    "duration": 684,
    "start_time": "2025-06-26T16:32:41.852Z"
   },
   {
    "duration": 880,
    "start_time": "2025-06-26T16:32:47.816Z"
   },
   {
    "duration": 867,
    "start_time": "2025-06-26T16:32:59.804Z"
   },
   {
    "duration": 67,
    "start_time": "2025-06-26T16:33:46.814Z"
   },
   {
    "duration": 74,
    "start_time": "2025-06-26T16:33:59.252Z"
   },
   {
    "duration": 74,
    "start_time": "2025-06-26T16:34:13.081Z"
   },
   {
    "duration": 925,
    "start_time": "2025-06-26T16:35:05.678Z"
   },
   {
    "duration": 289,
    "start_time": "2025-06-26T16:35:48.361Z"
   },
   {
    "duration": 889,
    "start_time": "2025-06-26T16:35:54.750Z"
   },
   {
    "duration": 903,
    "start_time": "2025-06-26T16:36:47.113Z"
   },
   {
    "duration": 984,
    "start_time": "2025-06-26T16:37:00.420Z"
   },
   {
    "duration": 945,
    "start_time": "2025-06-26T16:37:32.406Z"
   },
   {
    "duration": 893,
    "start_time": "2025-06-26T16:37:50.171Z"
   },
   {
    "duration": 864,
    "start_time": "2025-06-26T16:38:07.266Z"
   },
   {
    "duration": 955,
    "start_time": "2025-06-26T16:38:11.237Z"
   },
   {
    "duration": 751,
    "start_time": "2025-06-26T16:38:50.449Z"
   },
   {
    "duration": 740,
    "start_time": "2025-06-26T16:39:45.856Z"
   },
   {
    "duration": 753,
    "start_time": "2025-06-26T16:39:57.789Z"
   },
   {
    "duration": 1265,
    "start_time": "2025-06-26T16:40:56.844Z"
   },
   {
    "duration": 1074,
    "start_time": "2025-06-26T16:42:11.090Z"
   },
   {
    "duration": 1060,
    "start_time": "2025-06-26T16:42:49.305Z"
   },
   {
    "duration": 1051,
    "start_time": "2025-06-26T16:42:58.700Z"
   },
   {
    "duration": 70,
    "start_time": "2025-06-26T16:43:03.770Z"
   },
   {
    "duration": 740,
    "start_time": "2025-06-26T16:43:15.275Z"
   },
   {
    "duration": 2632,
    "start_time": "2025-06-26T16:43:16.017Z"
   },
   {
    "duration": 29,
    "start_time": "2025-06-26T16:43:18.651Z"
   },
   {
    "duration": 162,
    "start_time": "2025-06-26T16:43:18.682Z"
   },
   {
    "duration": 62,
    "start_time": "2025-06-26T16:43:18.846Z"
   },
   {
    "duration": 77,
    "start_time": "2025-06-26T16:43:18.911Z"
   },
   {
    "duration": 35,
    "start_time": "2025-06-26T16:43:18.993Z"
   },
   {
    "duration": 91,
    "start_time": "2025-06-26T16:43:19.030Z"
   },
   {
    "duration": 15,
    "start_time": "2025-06-26T16:43:19.123Z"
   },
   {
    "duration": 194,
    "start_time": "2025-06-26T16:43:19.141Z"
   },
   {
    "duration": 20,
    "start_time": "2025-06-26T16:43:19.337Z"
   },
   {
    "duration": 36,
    "start_time": "2025-06-26T16:43:19.359Z"
   },
   {
    "duration": 94,
    "start_time": "2025-06-26T16:43:19.397Z"
   },
   {
    "duration": 4023,
    "start_time": "2025-06-26T16:43:19.493Z"
   },
   {
    "duration": 14,
    "start_time": "2025-06-26T16:43:23.517Z"
   },
   {
    "duration": 79,
    "start_time": "2025-06-26T16:43:23.533Z"
   },
   {
    "duration": 25,
    "start_time": "2025-06-26T16:43:23.613Z"
   },
   {
    "duration": 102,
    "start_time": "2025-06-26T16:43:23.639Z"
   },
   {
    "duration": 53,
    "start_time": "2025-06-26T16:43:23.742Z"
   },
   {
    "duration": 516,
    "start_time": "2025-06-26T16:43:23.796Z"
   },
   {
    "duration": 116,
    "start_time": "2025-06-26T16:43:24.314Z"
   },
   {
    "duration": 235,
    "start_time": "2025-06-26T16:43:24.431Z"
   },
   {
    "duration": 31,
    "start_time": "2025-06-26T16:43:24.676Z"
   },
   {
    "duration": 186,
    "start_time": "2025-06-26T16:43:24.708Z"
   },
   {
    "duration": 22,
    "start_time": "2025-06-26T16:43:24.896Z"
   },
   {
    "duration": 98,
    "start_time": "2025-06-26T16:43:24.919Z"
   },
   {
    "duration": 176,
    "start_time": "2025-06-26T16:43:25.018Z"
   },
   {
    "duration": 1098,
    "start_time": "2025-06-26T16:43:25.197Z"
   },
   {
    "duration": 84,
    "start_time": "2025-06-26T16:43:26.298Z"
   },
   {
    "duration": 42,
    "start_time": "2025-06-26T16:43:26.388Z"
   },
   {
    "duration": 62,
    "start_time": "2025-06-26T16:43:26.432Z"
   },
   {
    "duration": 31,
    "start_time": "2025-06-26T16:43:32.474Z"
   },
   {
    "duration": 316,
    "start_time": "2025-06-26T16:45:04.547Z"
   },
   {
    "duration": 319,
    "start_time": "2025-06-26T16:45:11.989Z"
   },
   {
    "duration": 433,
    "start_time": "2025-06-26T16:45:23.479Z"
   },
   {
    "duration": 307,
    "start_time": "2025-06-26T16:45:29.298Z"
   },
   {
    "duration": 15,
    "start_time": "2025-06-26T16:46:53.849Z"
   },
   {
    "duration": 17,
    "start_time": "2025-06-26T16:47:00.693Z"
   },
   {
    "duration": 297,
    "start_time": "2025-06-26T16:47:07.551Z"
   },
   {
    "duration": 46,
    "start_time": "2025-06-26T16:47:53.860Z"
   },
   {
    "duration": 260,
    "start_time": "2025-06-26T16:47:55.938Z"
   },
   {
    "duration": 248,
    "start_time": "2025-06-26T16:48:49.480Z"
   },
   {
    "duration": 23,
    "start_time": "2025-06-26T16:48:57.498Z"
   },
   {
    "duration": 90,
    "start_time": "2025-06-26T16:50:35.115Z"
   },
   {
    "duration": 25,
    "start_time": "2025-06-26T16:50:37.723Z"
   },
   {
    "duration": 10,
    "start_time": "2025-06-26T16:53:44.488Z"
   },
   {
    "duration": 9,
    "start_time": "2025-06-26T16:53:51.789Z"
   },
   {
    "duration": 54,
    "start_time": "2025-06-26T16:53:58.960Z"
   },
   {
    "duration": 10,
    "start_time": "2025-06-26T16:54:01.495Z"
   },
   {
    "duration": 9,
    "start_time": "2025-06-26T16:55:25.003Z"
   },
   {
    "duration": 38,
    "start_time": "2025-06-26T16:55:32.941Z"
   },
   {
    "duration": 44,
    "start_time": "2025-06-26T16:55:43.753Z"
   },
   {
    "duration": 45,
    "start_time": "2025-06-26T16:55:49.663Z"
   },
   {
    "duration": 9,
    "start_time": "2025-06-26T16:55:57.152Z"
   },
   {
    "duration": 9,
    "start_time": "2025-06-26T16:56:14.282Z"
   },
   {
    "duration": 43,
    "start_time": "2025-06-26T16:56:24.239Z"
   },
   {
    "duration": 20,
    "start_time": "2025-06-26T17:15:48.255Z"
   },
   {
    "duration": 19,
    "start_time": "2025-06-26T17:15:49.157Z"
   },
   {
    "duration": 25,
    "start_time": "2025-06-26T17:15:53.180Z"
   },
   {
    "duration": 17,
    "start_time": "2025-06-26T17:22:50.222Z"
   },
   {
    "duration": 17,
    "start_time": "2025-06-26T17:22:54.251Z"
   },
   {
    "duration": 62,
    "start_time": "2025-06-26T17:25:32.098Z"
   },
   {
    "duration": 45,
    "start_time": "2025-06-26T17:25:40.333Z"
   },
   {
    "duration": 47,
    "start_time": "2025-06-26T17:25:44.145Z"
   },
   {
    "duration": 60,
    "start_time": "2025-06-26T17:25:47.166Z"
   },
   {
    "duration": 63,
    "start_time": "2025-06-26T17:26:23.646Z"
   },
   {
    "duration": 57,
    "start_time": "2025-06-26T17:26:26.899Z"
   },
   {
    "duration": 53,
    "start_time": "2025-06-26T17:41:38.414Z"
   },
   {
    "duration": 60,
    "start_time": "2025-06-26T17:42:15.591Z"
   },
   {
    "duration": 59,
    "start_time": "2025-06-26T17:42:36.340Z"
   },
   {
    "duration": 141,
    "start_time": "2025-06-26T17:42:51.220Z"
   },
   {
    "duration": 69,
    "start_time": "2025-06-26T17:44:04.498Z"
   },
   {
    "duration": 57,
    "start_time": "2025-06-26T17:44:08.603Z"
   },
   {
    "duration": 57,
    "start_time": "2025-06-26T17:44:16.286Z"
   },
   {
    "duration": 61,
    "start_time": "2025-06-26T17:45:56.985Z"
   },
   {
    "duration": 55,
    "start_time": "2025-06-26T17:46:01.616Z"
   },
   {
    "duration": 46,
    "start_time": "2025-06-26T17:46:08.879Z"
   },
   {
    "duration": 58,
    "start_time": "2025-06-26T17:46:11.187Z"
   },
   {
    "duration": 653,
    "start_time": "2025-06-26T17:47:22.104Z"
   },
   {
    "duration": 2579,
    "start_time": "2025-06-26T17:47:22.759Z"
   },
   {
    "duration": 22,
    "start_time": "2025-06-26T17:47:25.339Z"
   },
   {
    "duration": 123,
    "start_time": "2025-06-26T17:47:25.363Z"
   },
   {
    "duration": 25,
    "start_time": "2025-06-26T17:47:25.488Z"
   },
   {
    "duration": 71,
    "start_time": "2025-06-26T17:47:25.515Z"
   },
   {
    "duration": 29,
    "start_time": "2025-06-26T17:47:25.587Z"
   },
   {
    "duration": 75,
    "start_time": "2025-06-26T17:47:25.618Z"
   },
   {
    "duration": 8,
    "start_time": "2025-06-26T17:47:25.695Z"
   },
   {
    "duration": 203,
    "start_time": "2025-06-26T17:47:25.705Z"
   },
   {
    "duration": 21,
    "start_time": "2025-06-26T17:47:25.910Z"
   },
   {
    "duration": 48,
    "start_time": "2025-06-26T17:47:25.933Z"
   },
   {
    "duration": 94,
    "start_time": "2025-06-26T17:47:25.982Z"
   },
   {
    "duration": 3820,
    "start_time": "2025-06-26T17:47:26.077Z"
   },
   {
    "duration": 14,
    "start_time": "2025-06-26T17:47:29.899Z"
   },
   {
    "duration": 111,
    "start_time": "2025-06-26T17:47:29.914Z"
   },
   {
    "duration": 66,
    "start_time": "2025-06-26T17:47:30.027Z"
   },
   {
    "duration": 38,
    "start_time": "2025-06-26T17:47:30.095Z"
   },
   {
    "duration": 72,
    "start_time": "2025-06-26T17:47:30.134Z"
   },
   {
    "duration": 587,
    "start_time": "2025-06-26T17:47:30.208Z"
   },
   {
    "duration": 109,
    "start_time": "2025-06-26T17:47:30.796Z"
   },
   {
    "duration": 229,
    "start_time": "2025-06-26T17:47:30.907Z"
   },
   {
    "duration": 27,
    "start_time": "2025-06-26T17:47:31.138Z"
   },
   {
    "duration": 155,
    "start_time": "2025-06-26T17:47:31.176Z"
   },
   {
    "duration": 22,
    "start_time": "2025-06-26T17:47:31.333Z"
   },
   {
    "duration": 79,
    "start_time": "2025-06-26T17:47:31.357Z"
   },
   {
    "duration": 143,
    "start_time": "2025-06-26T17:47:31.438Z"
   },
   {
    "duration": 178,
    "start_time": "2025-06-26T17:47:31.584Z"
   },
   {
    "duration": 1064,
    "start_time": "2025-06-26T17:47:31.764Z"
   },
   {
    "duration": 69,
    "start_time": "2025-06-26T17:47:32.830Z"
   },
   {
    "duration": 9,
    "start_time": "2025-06-26T17:47:32.901Z"
   },
   {
    "duration": 46,
    "start_time": "2025-06-26T17:47:32.911Z"
   },
   {
    "duration": 90,
    "start_time": "2025-06-26T17:47:32.958Z"
   },
   {
    "duration": 377,
    "start_time": "2025-06-26T17:47:33.050Z"
   },
   {
    "duration": 74,
    "start_time": "2025-06-26T18:11:10.316Z"
   },
   {
    "duration": 80,
    "start_time": "2025-06-26T18:13:13.242Z"
   },
   {
    "duration": 75,
    "start_time": "2025-06-26T18:13:53.945Z"
   },
   {
    "duration": 61,
    "start_time": "2025-06-26T18:14:05.416Z"
   },
   {
    "duration": 56,
    "start_time": "2025-06-26T18:14:10.361Z"
   },
   {
    "duration": 82,
    "start_time": "2025-06-26T18:14:14.531Z"
   },
   {
    "duration": 845,
    "start_time": "2025-06-26T18:15:32.351Z"
   },
   {
    "duration": 849,
    "start_time": "2025-06-26T18:15:37.429Z"
   },
   {
    "duration": 674,
    "start_time": "2025-06-26T18:15:42.555Z"
   },
   {
    "duration": 2422,
    "start_time": "2025-06-26T18:15:43.231Z"
   },
   {
    "duration": 30,
    "start_time": "2025-06-26T18:15:45.655Z"
   },
   {
    "duration": 163,
    "start_time": "2025-06-26T18:15:45.688Z"
   },
   {
    "duration": 53,
    "start_time": "2025-06-26T18:15:45.853Z"
   },
   {
    "duration": 86,
    "start_time": "2025-06-26T18:15:45.909Z"
   },
   {
    "duration": 33,
    "start_time": "2025-06-26T18:15:45.997Z"
   },
   {
    "duration": 97,
    "start_time": "2025-06-26T18:15:46.031Z"
   },
   {
    "duration": 21,
    "start_time": "2025-06-26T18:15:46.130Z"
   },
   {
    "duration": 180,
    "start_time": "2025-06-26T18:15:46.154Z"
   },
   {
    "duration": 41,
    "start_time": "2025-06-26T18:15:46.336Z"
   },
   {
    "duration": 8,
    "start_time": "2025-06-26T18:15:46.379Z"
   },
   {
    "duration": 98,
    "start_time": "2025-06-26T18:15:46.389Z"
   },
   {
    "duration": 3901,
    "start_time": "2025-06-26T18:15:46.489Z"
   },
   {
    "duration": 14,
    "start_time": "2025-06-26T18:15:50.392Z"
   },
   {
    "duration": 59,
    "start_time": "2025-06-26T18:15:50.407Z"
   },
   {
    "duration": 28,
    "start_time": "2025-06-26T18:15:50.467Z"
   },
   {
    "duration": 14,
    "start_time": "2025-06-26T18:15:50.497Z"
   },
   {
    "duration": 74,
    "start_time": "2025-06-26T18:15:50.513Z"
   },
   {
    "duration": 507,
    "start_time": "2025-06-26T18:15:50.589Z"
   },
   {
    "duration": 110,
    "start_time": "2025-06-26T18:15:51.098Z"
   },
   {
    "duration": 231,
    "start_time": "2025-06-26T18:15:51.210Z"
   },
   {
    "duration": 39,
    "start_time": "2025-06-26T18:15:51.443Z"
   },
   {
    "duration": 156,
    "start_time": "2025-06-26T18:15:51.484Z"
   },
   {
    "duration": 35,
    "start_time": "2025-06-26T18:15:51.642Z"
   },
   {
    "duration": 60,
    "start_time": "2025-06-26T18:15:51.678Z"
   },
   {
    "duration": 162,
    "start_time": "2025-06-26T18:15:51.740Z"
   },
   {
    "duration": 209,
    "start_time": "2025-06-26T18:15:51.905Z"
   },
   {
    "duration": 1020,
    "start_time": "2025-06-26T18:15:52.116Z"
   },
   {
    "duration": 77,
    "start_time": "2025-06-26T18:15:53.138Z"
   },
   {
    "duration": 10,
    "start_time": "2025-06-26T18:15:53.216Z"
   },
   {
    "duration": 70,
    "start_time": "2025-06-26T18:15:53.228Z"
   },
   {
    "duration": 83,
    "start_time": "2025-06-26T18:15:53.300Z"
   },
   {
    "duration": 375,
    "start_time": "2025-06-26T18:15:53.385Z"
   },
   {
    "duration": 72,
    "start_time": "2025-06-26T18:17:27.448Z"
   },
   {
    "duration": 4,
    "start_time": "2025-06-26T18:21:12.122Z"
   },
   {
    "duration": 4,
    "start_time": "2025-06-26T18:21:16.747Z"
   },
   {
    "duration": 4,
    "start_time": "2025-06-26T18:21:26.201Z"
   },
   {
    "duration": 4,
    "start_time": "2025-06-26T18:21:35.472Z"
   },
   {
    "duration": 4,
    "start_time": "2025-06-26T18:21:55.602Z"
   },
   {
    "duration": 4,
    "start_time": "2025-06-26T18:22:12.462Z"
   },
   {
    "duration": 4,
    "start_time": "2025-06-26T18:22:40.594Z"
   },
   {
    "duration": 4,
    "start_time": "2025-06-26T18:22:47.161Z"
   },
   {
    "duration": 4,
    "start_time": "2025-06-26T18:22:50.124Z"
   },
   {
    "duration": 4,
    "start_time": "2025-06-26T18:22:56.012Z"
   },
   {
    "duration": 37,
    "start_time": "2025-06-26T18:23:04.661Z"
   },
   {
    "duration": 85,
    "start_time": "2025-06-26T18:24:46.960Z"
   },
   {
    "duration": 105,
    "start_time": "2025-06-26T18:24:59.296Z"
   },
   {
    "duration": 80,
    "start_time": "2025-06-26T18:25:02.848Z"
   },
   {
    "duration": 81,
    "start_time": "2025-06-26T18:25:46.482Z"
   },
   {
    "duration": 79,
    "start_time": "2025-06-26T18:28:00.268Z"
   },
   {
    "duration": 59,
    "start_time": "2025-06-26T18:28:10.012Z"
   },
   {
    "duration": 314,
    "start_time": "2025-06-26T18:30:10.139Z"
   },
   {
    "duration": 262,
    "start_time": "2025-06-26T18:30:17.287Z"
   },
   {
    "duration": 60,
    "start_time": "2025-06-26T18:30:20.719Z"
   },
   {
    "duration": 55,
    "start_time": "2025-06-26T18:31:49.635Z"
   },
   {
    "duration": 108,
    "start_time": "2025-06-26T18:32:05.907Z"
   },
   {
    "duration": 91,
    "start_time": "2025-06-26T18:33:04.635Z"
   },
   {
    "duration": 97,
    "start_time": "2025-06-26T18:33:55.144Z"
   },
   {
    "duration": 91,
    "start_time": "2025-06-26T18:34:12.406Z"
   },
   {
    "duration": 90,
    "start_time": "2025-06-26T18:35:18.393Z"
   },
   {
    "duration": 92,
    "start_time": "2025-06-26T18:35:31.258Z"
   },
   {
    "duration": 86,
    "start_time": "2025-06-26T18:36:28.655Z"
   },
   {
    "duration": 92,
    "start_time": "2025-06-26T18:36:39.863Z"
   },
   {
    "duration": 61,
    "start_time": "2025-06-26T18:37:18.318Z"
   },
   {
    "duration": 653,
    "start_time": "2025-06-26T18:39:20.924Z"
   },
   {
    "duration": 2522,
    "start_time": "2025-06-26T18:39:21.579Z"
   },
   {
    "duration": 23,
    "start_time": "2025-06-26T18:39:24.103Z"
   },
   {
    "duration": 149,
    "start_time": "2025-06-26T18:39:24.128Z"
   },
   {
    "duration": 27,
    "start_time": "2025-06-26T18:39:24.280Z"
   },
   {
    "duration": 88,
    "start_time": "2025-06-26T18:39:24.308Z"
   },
   {
    "duration": 37,
    "start_time": "2025-06-26T18:39:24.398Z"
   },
   {
    "duration": 120,
    "start_time": "2025-06-26T18:39:24.438Z"
   },
   {
    "duration": 18,
    "start_time": "2025-06-26T18:39:24.559Z"
   },
   {
    "duration": 167,
    "start_time": "2025-06-26T18:39:24.579Z"
   },
   {
    "duration": 19,
    "start_time": "2025-06-26T18:39:24.747Z"
   },
   {
    "duration": 29,
    "start_time": "2025-06-26T18:39:24.768Z"
   },
   {
    "duration": 79,
    "start_time": "2025-06-26T18:39:24.798Z"
   },
   {
    "duration": 4140,
    "start_time": "2025-06-26T18:39:24.880Z"
   },
   {
    "duration": 14,
    "start_time": "2025-06-26T18:39:29.022Z"
   },
   {
    "duration": 67,
    "start_time": "2025-06-26T18:39:29.037Z"
   },
   {
    "duration": 23,
    "start_time": "2025-06-26T18:39:29.106Z"
   },
   {
    "duration": 15,
    "start_time": "2025-06-26T18:39:29.131Z"
   },
   {
    "duration": 66,
    "start_time": "2025-06-26T18:39:29.147Z"
   },
   {
    "duration": 512,
    "start_time": "2025-06-26T18:39:29.214Z"
   },
   {
    "duration": 120,
    "start_time": "2025-06-26T18:39:29.728Z"
   },
   {
    "duration": 240,
    "start_time": "2025-06-26T18:39:29.850Z"
   },
   {
    "duration": 31,
    "start_time": "2025-06-26T18:39:30.092Z"
   },
   {
    "duration": 187,
    "start_time": "2025-06-26T18:39:30.125Z"
   },
   {
    "duration": 25,
    "start_time": "2025-06-26T18:39:30.314Z"
   },
   {
    "duration": 197,
    "start_time": "2025-06-26T18:39:30.341Z"
   },
   {
    "duration": 158,
    "start_time": "2025-06-26T18:39:30.540Z"
   },
   {
    "duration": 318,
    "start_time": "2025-06-26T18:39:30.700Z"
   },
   {
    "duration": 1029,
    "start_time": "2025-06-26T18:39:31.020Z"
   },
   {
    "duration": 103,
    "start_time": "2025-06-26T18:39:32.051Z"
   },
   {
    "duration": 29,
    "start_time": "2025-06-26T18:39:32.156Z"
   },
   {
    "duration": 138,
    "start_time": "2025-06-26T18:39:32.186Z"
   },
   {
    "duration": 67,
    "start_time": "2025-06-26T18:39:32.325Z"
   },
   {
    "duration": 28,
    "start_time": "2025-06-26T18:39:44.041Z"
   },
   {
    "duration": 68,
    "start_time": "2025-06-26T18:43:31.824Z"
   },
   {
    "duration": 29,
    "start_time": "2025-06-26T18:48:11.758Z"
   },
   {
    "duration": 32,
    "start_time": "2025-06-26T18:48:35.512Z"
   },
   {
    "duration": 55,
    "start_time": "2025-06-26T18:49:01.952Z"
   },
   {
    "duration": 55,
    "start_time": "2025-06-26T18:49:28.675Z"
   },
   {
    "duration": 99,
    "start_time": "2025-06-26T19:00:18.748Z"
   },
   {
    "duration": 153,
    "start_time": "2025-06-26T19:00:43.515Z"
   },
   {
    "duration": 143,
    "start_time": "2025-06-26T19:00:53.001Z"
   },
   {
    "duration": 141,
    "start_time": "2025-06-26T19:01:45.994Z"
   },
   {
    "duration": 250,
    "start_time": "2025-06-26T19:01:58.985Z"
   },
   {
    "duration": 172,
    "start_time": "2025-06-26T19:02:01.382Z"
   },
   {
    "duration": 163,
    "start_time": "2025-06-26T19:02:24.234Z"
   },
   {
    "duration": 153,
    "start_time": "2025-06-26T19:03:07.144Z"
   },
   {
    "duration": 156,
    "start_time": "2025-06-26T19:03:12.725Z"
   },
   {
    "duration": 167,
    "start_time": "2025-06-26T19:03:17.170Z"
   },
   {
    "duration": 156,
    "start_time": "2025-06-26T19:03:20.537Z"
   },
   {
    "duration": 165,
    "start_time": "2025-06-26T19:03:25.073Z"
   },
   {
    "duration": 160,
    "start_time": "2025-06-26T19:03:39.558Z"
   },
   {
    "duration": 161,
    "start_time": "2025-06-26T19:03:47.494Z"
   },
   {
    "duration": 165,
    "start_time": "2025-06-26T19:03:53.301Z"
   },
   {
    "duration": 156,
    "start_time": "2025-06-26T19:03:57.524Z"
   },
   {
    "duration": 157,
    "start_time": "2025-06-26T19:03:59.354Z"
   },
   {
    "duration": 284,
    "start_time": "2025-06-26T19:04:01.566Z"
   },
   {
    "duration": 169,
    "start_time": "2025-06-26T19:04:06.936Z"
   },
   {
    "duration": 16,
    "start_time": "2025-06-26T19:04:45.020Z"
   },
   {
    "duration": 12,
    "start_time": "2025-06-26T19:04:48.694Z"
   },
   {
    "duration": 60,
    "start_time": "2025-06-26T19:04:53.002Z"
   },
   {
    "duration": 174,
    "start_time": "2025-06-26T19:04:55.366Z"
   },
   {
    "duration": 435,
    "start_time": "2025-06-26T19:05:34.669Z"
   },
   {
    "duration": 443,
    "start_time": "2025-06-26T19:05:45.064Z"
   },
   {
    "duration": 825,
    "start_time": "2025-06-26T19:05:52.290Z"
   },
   {
    "duration": 791,
    "start_time": "2025-06-26T19:06:13.741Z"
   },
   {
    "duration": 29,
    "start_time": "2025-06-26T19:06:39.138Z"
   },
   {
    "duration": 272,
    "start_time": "2025-06-26T19:06:44.463Z"
   },
   {
    "duration": 494,
    "start_time": "2025-06-26T19:07:36.925Z"
   },
   {
    "duration": 297,
    "start_time": "2025-06-26T19:08:00.682Z"
   },
   {
    "duration": 277,
    "start_time": "2025-06-26T19:08:05.605Z"
   },
   {
    "duration": 328,
    "start_time": "2025-06-26T19:08:19.150Z"
   },
   {
    "duration": 275,
    "start_time": "2025-06-26T19:08:23.974Z"
   },
   {
    "duration": 273,
    "start_time": "2025-06-26T19:08:29.247Z"
   },
   {
    "duration": 265,
    "start_time": "2025-06-26T19:08:34.877Z"
   },
   {
    "duration": 301,
    "start_time": "2025-06-26T19:08:56.183Z"
   },
   {
    "duration": 306,
    "start_time": "2025-06-26T19:09:14.313Z"
   },
   {
    "duration": 289,
    "start_time": "2025-06-26T19:09:24.646Z"
   },
   {
    "duration": 408,
    "start_time": "2025-06-26T19:34:39.735Z"
   },
   {
    "duration": 3,
    "start_time": "2025-06-26T19:35:04.160Z"
   },
   {
    "duration": 459,
    "start_time": "2025-06-26T19:35:12.204Z"
   },
   {
    "duration": 283,
    "start_time": "2025-06-26T19:35:25.554Z"
   },
   {
    "duration": 336,
    "start_time": "2025-06-26T19:35:47.090Z"
   },
   {
    "duration": 303,
    "start_time": "2025-06-26T19:35:54.378Z"
   },
   {
    "duration": 313,
    "start_time": "2025-06-26T19:36:42.123Z"
   },
   {
    "duration": 52,
    "start_time": "2025-06-26T19:38:10.472Z"
   },
   {
    "duration": 192,
    "start_time": "2025-06-26T19:38:12.849Z"
   },
   {
    "duration": 256,
    "start_time": "2025-06-26T19:38:27.233Z"
   },
   {
    "duration": 188,
    "start_time": "2025-06-26T19:38:42.395Z"
   },
   {
    "duration": 197,
    "start_time": "2025-06-26T19:38:50.148Z"
   },
   {
    "duration": 345,
    "start_time": "2025-06-26T19:39:15.575Z"
   },
   {
    "duration": 197,
    "start_time": "2025-06-26T19:39:18.640Z"
   },
   {
    "duration": 201,
    "start_time": "2025-06-26T19:39:30.035Z"
   },
   {
    "duration": 209,
    "start_time": "2025-06-26T19:39:46.702Z"
   },
   {
    "duration": 196,
    "start_time": "2025-06-26T19:39:52.925Z"
   },
   {
    "duration": 196,
    "start_time": "2025-06-26T19:40:00.559Z"
   },
   {
    "duration": 196,
    "start_time": "2025-06-26T19:40:03.242Z"
   },
   {
    "duration": 199,
    "start_time": "2025-06-26T19:40:06.053Z"
   },
   {
    "duration": 196,
    "start_time": "2025-06-26T19:40:09.489Z"
   },
   {
    "duration": 200,
    "start_time": "2025-06-26T19:40:22.230Z"
   },
   {
    "duration": 199,
    "start_time": "2025-06-26T19:40:37.514Z"
   },
   {
    "duration": 60,
    "start_time": "2025-06-26T19:41:02.769Z"
   },
   {
    "duration": 15,
    "start_time": "2025-06-26T19:41:12.938Z"
   },
   {
    "duration": 15,
    "start_time": "2025-06-26T19:44:05.401Z"
   },
   {
    "duration": 54,
    "start_time": "2025-06-26T19:44:32.339Z"
   },
   {
    "duration": 404,
    "start_time": "2025-06-26T19:44:41.895Z"
   },
   {
    "duration": 271,
    "start_time": "2025-06-26T19:44:47.968Z"
   },
   {
    "duration": 301,
    "start_time": "2025-06-26T19:44:54.092Z"
   },
   {
    "duration": 298,
    "start_time": "2025-06-26T19:45:00.505Z"
   },
   {
    "duration": 317,
    "start_time": "2025-06-26T19:45:09.604Z"
   },
   {
    "duration": 293,
    "start_time": "2025-06-26T19:45:13.883Z"
   },
   {
    "duration": 302,
    "start_time": "2025-06-26T19:45:19.882Z"
   },
   {
    "duration": 68,
    "start_time": "2025-06-27T10:24:41.154Z"
   },
   {
    "duration": 831,
    "start_time": "2025-06-27T10:24:47.353Z"
   },
   {
    "duration": 2439,
    "start_time": "2025-06-27T10:24:48.186Z"
   },
   {
    "duration": 24,
    "start_time": "2025-06-27T10:24:50.627Z"
   },
   {
    "duration": 139,
    "start_time": "2025-06-27T10:24:50.653Z"
   },
   {
    "duration": 54,
    "start_time": "2025-06-27T10:24:50.795Z"
   },
   {
    "duration": 47,
    "start_time": "2025-06-27T10:24:50.850Z"
   },
   {
    "duration": 74,
    "start_time": "2025-06-27T10:24:50.899Z"
   },
   {
    "duration": 79,
    "start_time": "2025-06-27T10:24:50.975Z"
   },
   {
    "duration": 8,
    "start_time": "2025-06-27T10:24:51.055Z"
   },
   {
    "duration": 181,
    "start_time": "2025-06-27T10:24:51.065Z"
   },
   {
    "duration": 19,
    "start_time": "2025-06-27T10:24:51.247Z"
   },
   {
    "duration": 7,
    "start_time": "2025-06-27T10:24:51.268Z"
   },
   {
    "duration": 101,
    "start_time": "2025-06-27T10:24:51.277Z"
   },
   {
    "duration": 4559,
    "start_time": "2025-06-27T10:24:51.381Z"
   },
   {
    "duration": 13,
    "start_time": "2025-06-27T10:24:55.942Z"
   },
   {
    "duration": 45,
    "start_time": "2025-06-27T10:24:55.957Z"
   },
   {
    "duration": 42,
    "start_time": "2025-06-27T10:24:56.004Z"
   },
   {
    "duration": 23,
    "start_time": "2025-06-27T10:24:56.048Z"
   },
   {
    "duration": 36,
    "start_time": "2025-06-27T10:24:56.073Z"
   },
   {
    "duration": 481,
    "start_time": "2025-06-27T10:24:56.111Z"
   },
   {
    "duration": 108,
    "start_time": "2025-06-27T10:24:56.593Z"
   },
   {
    "duration": 228,
    "start_time": "2025-06-27T10:24:56.703Z"
   },
   {
    "duration": 29,
    "start_time": "2025-06-27T10:24:56.933Z"
   },
   {
    "duration": 160,
    "start_time": "2025-06-27T10:24:56.964Z"
   },
   {
    "duration": 26,
    "start_time": "2025-06-27T10:24:57.125Z"
   },
   {
    "duration": 58,
    "start_time": "2025-06-27T10:24:57.153Z"
   },
   {
    "duration": 160,
    "start_time": "2025-06-27T10:24:57.213Z"
   },
   {
    "duration": 329,
    "start_time": "2025-06-27T10:24:57.375Z"
   },
   {
    "duration": 947,
    "start_time": "2025-06-27T10:24:57.705Z"
   },
   {
    "duration": 57,
    "start_time": "2025-06-27T10:24:58.653Z"
   },
   {
    "duration": 32,
    "start_time": "2025-06-27T10:24:58.712Z"
   },
   {
    "duration": 59,
    "start_time": "2025-06-27T10:24:58.746Z"
   },
   {
    "duration": 45,
    "start_time": "2025-06-27T10:24:58.808Z"
   },
   {
    "duration": 47,
    "start_time": "2025-06-27T10:24:58.855Z"
   },
   {
    "duration": 367,
    "start_time": "2025-06-27T10:24:58.904Z"
   },
   {
    "duration": 213,
    "start_time": "2025-06-27T10:24:59.272Z"
   },
   {
    "duration": 16,
    "start_time": "2025-06-27T10:24:59.487Z"
   },
   {
    "duration": 0,
    "start_time": "2025-06-27T10:25:01.164Z"
   },
   {
    "duration": 1423,
    "start_time": "2025-06-27T10:28:46.134Z"
   },
   {
    "duration": 1837,
    "start_time": "2025-06-27T10:28:55.103Z"
   },
   {
    "duration": 1425,
    "start_time": "2025-06-27T10:28:57.197Z"
   },
   {
    "duration": 42,
    "start_time": "2025-06-27T10:29:04.661Z"
   },
   {
    "duration": 9,
    "start_time": "2025-06-27T10:29:25.625Z"
   },
   {
    "duration": 44,
    "start_time": "2025-06-27T10:29:28.723Z"
   },
   {
    "duration": 37,
    "start_time": "2025-06-27T10:30:07.477Z"
   },
   {
    "duration": 37,
    "start_time": "2025-06-27T10:30:09.798Z"
   },
   {
    "duration": 44,
    "start_time": "2025-06-27T10:32:42.367Z"
   },
   {
    "duration": 13,
    "start_time": "2025-06-27T10:33:23.608Z"
   },
   {
    "duration": 3,
    "start_time": "2025-06-27T10:34:55.875Z"
   },
   {
    "duration": 7,
    "start_time": "2025-06-27T10:35:06.983Z"
   },
   {
    "duration": 13,
    "start_time": "2025-06-27T10:35:33.955Z"
   },
   {
    "duration": 13,
    "start_time": "2025-06-27T10:35:52.188Z"
   },
   {
    "duration": 12,
    "start_time": "2025-06-27T10:36:04.423Z"
   },
   {
    "duration": 11,
    "start_time": "2025-06-27T10:36:12.921Z"
   },
   {
    "duration": 11,
    "start_time": "2025-06-27T10:36:22.498Z"
   },
   {
    "duration": 12,
    "start_time": "2025-06-27T10:36:31.990Z"
   },
   {
    "duration": 10,
    "start_time": "2025-06-27T10:36:48.712Z"
   },
   {
    "duration": 16,
    "start_time": "2025-06-27T10:37:14.281Z"
   },
   {
    "duration": 62,
    "start_time": "2025-06-27T10:37:27.167Z"
   },
   {
    "duration": 17,
    "start_time": "2025-06-27T10:37:30.739Z"
   },
   {
    "duration": 409,
    "start_time": "2025-06-27T10:37:42.553Z"
   },
   {
    "duration": 10,
    "start_time": "2025-06-27T10:38:07.069Z"
   },
   {
    "duration": 10,
    "start_time": "2025-06-27T10:38:17.574Z"
   },
   {
    "duration": 8,
    "start_time": "2025-06-27T10:38:26.524Z"
   },
   {
    "duration": 8,
    "start_time": "2025-06-27T10:38:28.368Z"
   },
   {
    "duration": 12,
    "start_time": "2025-06-27T10:38:39.266Z"
   },
   {
    "duration": 9,
    "start_time": "2025-06-27T10:39:01.353Z"
   },
   {
    "duration": 10,
    "start_time": "2025-06-27T10:39:06.362Z"
   },
   {
    "duration": 11,
    "start_time": "2025-06-27T10:39:30.062Z"
   },
   {
    "duration": 10,
    "start_time": "2025-06-27T10:39:39.698Z"
   },
   {
    "duration": 9,
    "start_time": "2025-06-27T10:39:51.820Z"
   },
   {
    "duration": 10,
    "start_time": "2025-06-27T10:40:02.108Z"
   },
   {
    "duration": 12,
    "start_time": "2025-06-27T10:40:14.971Z"
   },
   {
    "duration": 9,
    "start_time": "2025-06-27T10:40:24.366Z"
   },
   {
    "duration": 10,
    "start_time": "2025-06-27T10:40:27.969Z"
   },
   {
    "duration": 10,
    "start_time": "2025-06-27T10:40:38.780Z"
   },
   {
    "duration": 12,
    "start_time": "2025-06-27T10:40:44.647Z"
   },
   {
    "duration": 9,
    "start_time": "2025-06-27T10:41:28.997Z"
   },
   {
    "duration": 89,
    "start_time": "2025-06-27T10:45:09.220Z"
   },
   {
    "duration": 13,
    "start_time": "2025-06-27T10:45:51.277Z"
   },
   {
    "duration": 10,
    "start_time": "2025-06-27T10:46:01.809Z"
   },
   {
    "duration": 11,
    "start_time": "2025-06-27T10:46:08.909Z"
   },
   {
    "duration": 101,
    "start_time": "2025-06-27T10:46:10.274Z"
   },
   {
    "duration": 192,
    "start_time": "2025-06-27T10:46:19.367Z"
   },
   {
    "duration": 103,
    "start_time": "2025-06-27T10:47:38.007Z"
   },
   {
    "duration": 105,
    "start_time": "2025-06-27T10:47:41.311Z"
   },
   {
    "duration": 11,
    "start_time": "2025-06-27T10:49:11.949Z"
   },
   {
    "duration": 10,
    "start_time": "2025-06-27T10:49:52.624Z"
   },
   {
    "duration": 11,
    "start_time": "2025-06-27T10:56:36.551Z"
   },
   {
    "duration": 8,
    "start_time": "2025-06-27T10:57:05.841Z"
   },
   {
    "duration": 65,
    "start_time": "2025-06-27T10:57:33.097Z"
   },
   {
    "duration": 71,
    "start_time": "2025-06-27T10:57:36.095Z"
   },
   {
    "duration": 54,
    "start_time": "2025-06-27T10:57:39.433Z"
   },
   {
    "duration": 8,
    "start_time": "2025-06-27T10:57:51.254Z"
   },
   {
    "duration": 8,
    "start_time": "2025-06-27T10:57:57.716Z"
   },
   {
    "duration": 7,
    "start_time": "2025-06-27T10:58:06.526Z"
   },
   {
    "duration": 7,
    "start_time": "2025-06-27T10:58:24.158Z"
   },
   {
    "duration": 5,
    "start_time": "2025-06-27T10:59:43.141Z"
   },
   {
    "duration": 7,
    "start_time": "2025-06-27T10:59:50.580Z"
   },
   {
    "duration": 6,
    "start_time": "2025-06-27T10:59:54.396Z"
   },
   {
    "duration": 6,
    "start_time": "2025-06-27T10:59:56.365Z"
   },
   {
    "duration": 7,
    "start_time": "2025-06-27T11:00:00.846Z"
   },
   {
    "duration": 6,
    "start_time": "2025-06-27T11:00:12.950Z"
   },
   {
    "duration": 8,
    "start_time": "2025-06-27T11:02:40.113Z"
   },
   {
    "duration": 8,
    "start_time": "2025-06-27T11:02:43.062Z"
   },
   {
    "duration": 7,
    "start_time": "2025-06-27T11:02:59.006Z"
   },
   {
    "duration": 7,
    "start_time": "2025-06-27T11:03:04.228Z"
   },
   {
    "duration": 7,
    "start_time": "2025-06-27T11:03:08.939Z"
   },
   {
    "duration": 6,
    "start_time": "2025-06-27T11:03:12.196Z"
   },
   {
    "duration": 8,
    "start_time": "2025-06-27T11:03:14.941Z"
   },
   {
    "duration": 6,
    "start_time": "2025-06-27T11:03:20.995Z"
   },
   {
    "duration": 6,
    "start_time": "2025-06-27T11:03:25.338Z"
   },
   {
    "duration": 6,
    "start_time": "2025-06-27T11:03:29.631Z"
   },
   {
    "duration": 6,
    "start_time": "2025-06-27T11:03:32.426Z"
   },
   {
    "duration": 6,
    "start_time": "2025-06-27T11:03:44.492Z"
   },
   {
    "duration": 7,
    "start_time": "2025-06-27T11:03:59.556Z"
   },
   {
    "duration": 7,
    "start_time": "2025-06-27T11:04:13.568Z"
   },
   {
    "duration": 6,
    "start_time": "2025-06-27T11:04:16.716Z"
   },
   {
    "duration": 7,
    "start_time": "2025-06-27T11:04:46.869Z"
   },
   {
    "duration": 8,
    "start_time": "2025-06-27T11:04:51.486Z"
   },
   {
    "duration": 10,
    "start_time": "2025-06-27T11:05:18.635Z"
   },
   {
    "duration": 12,
    "start_time": "2025-06-27T11:05:20.921Z"
   },
   {
    "duration": 10,
    "start_time": "2025-06-27T11:05:21.345Z"
   },
   {
    "duration": 10,
    "start_time": "2025-06-27T11:05:21.531Z"
   },
   {
    "duration": 15,
    "start_time": "2025-06-27T11:05:27.369Z"
   },
   {
    "duration": 7,
    "start_time": "2025-06-27T11:05:30.325Z"
   },
   {
    "duration": 12,
    "start_time": "2025-06-27T11:05:33.353Z"
   },
   {
    "duration": 10,
    "start_time": "2025-06-27T11:05:33.852Z"
   },
   {
    "duration": 10,
    "start_time": "2025-06-27T11:05:34.036Z"
   },
   {
    "duration": 10,
    "start_time": "2025-06-27T11:05:34.180Z"
   },
   {
    "duration": 240,
    "start_time": "2025-06-27T11:06:28.765Z"
   },
   {
    "duration": 67,
    "start_time": "2025-06-27T11:06:35.095Z"
   },
   {
    "duration": 9,
    "start_time": "2025-06-27T11:06:37.762Z"
   },
   {
    "duration": 174,
    "start_time": "2025-06-27T13:28:47.831Z"
   },
   {
    "duration": 11,
    "start_time": "2025-06-27T13:29:00.018Z"
   },
   {
    "duration": 16,
    "start_time": "2025-06-27T13:29:36.506Z"
   },
   {
    "duration": 10,
    "start_time": "2025-06-27T13:29:44.115Z"
   },
   {
    "duration": 13,
    "start_time": "2025-06-27T13:30:35.435Z"
   },
   {
    "duration": 10,
    "start_time": "2025-06-27T13:30:40.464Z"
   },
   {
    "duration": 5,
    "start_time": "2025-06-27T13:31:35.695Z"
   },
   {
    "duration": 12,
    "start_time": "2025-06-27T13:31:37.696Z"
   },
   {
    "duration": 32,
    "start_time": "2025-06-27T13:35:48.227Z"
   },
   {
    "duration": 10,
    "start_time": "2025-06-27T13:35:50.216Z"
   },
   {
    "duration": 5,
    "start_time": "2025-06-27T13:36:01.363Z"
   },
   {
    "duration": 10,
    "start_time": "2025-06-27T13:36:04.618Z"
   },
   {
    "duration": 11,
    "start_time": "2025-06-27T13:36:38.988Z"
   },
   {
    "duration": 10,
    "start_time": "2025-06-27T13:36:47.144Z"
   },
   {
    "duration": 10,
    "start_time": "2025-06-27T13:37:02.609Z"
   },
   {
    "duration": 10,
    "start_time": "2025-06-27T13:37:09.993Z"
   },
   {
    "duration": 8,
    "start_time": "2025-06-27T13:38:44.469Z"
   },
   {
    "duration": 6,
    "start_time": "2025-06-27T13:38:49.812Z"
   },
   {
    "duration": 6,
    "start_time": "2025-06-27T13:38:56.125Z"
   },
   {
    "duration": 6,
    "start_time": "2025-06-27T13:39:00.021Z"
   },
   {
    "duration": 9,
    "start_time": "2025-06-27T13:39:07.051Z"
   },
   {
    "duration": 31,
    "start_time": "2025-06-27T13:39:50.714Z"
   },
   {
    "duration": 25,
    "start_time": "2025-06-27T13:40:08.796Z"
   },
   {
    "duration": 27,
    "start_time": "2025-06-27T13:40:21.943Z"
   },
   {
    "duration": 26,
    "start_time": "2025-06-27T13:40:44.967Z"
   },
   {
    "duration": 26,
    "start_time": "2025-06-27T13:40:54.260Z"
   },
   {
    "duration": 27,
    "start_time": "2025-06-27T13:41:08.312Z"
   },
   {
    "duration": 45,
    "start_time": "2025-06-27T13:41:32.808Z"
   },
   {
    "duration": 65,
    "start_time": "2025-06-27T13:42:29.930Z"
   },
   {
    "duration": 53,
    "start_time": "2025-06-27T13:42:44.098Z"
   },
   {
    "duration": 41,
    "start_time": "2025-06-27T13:42:48.119Z"
   },
   {
    "duration": 36,
    "start_time": "2025-06-27T13:43:30.868Z"
   },
   {
    "duration": 38,
    "start_time": "2025-06-27T13:43:38.825Z"
   },
   {
    "duration": 38,
    "start_time": "2025-06-27T13:44:03.234Z"
   },
   {
    "duration": 43,
    "start_time": "2025-06-27T13:45:51.408Z"
   },
   {
    "duration": 41,
    "start_time": "2025-06-27T13:46:16.878Z"
   },
   {
    "duration": 39,
    "start_time": "2025-06-27T13:46:34.952Z"
   },
   {
    "duration": 37,
    "start_time": "2025-06-27T13:47:07.266Z"
   },
   {
    "duration": 60,
    "start_time": "2025-06-27T13:47:32.617Z"
   },
   {
    "duration": 69,
    "start_time": "2025-06-27T13:47:36.415Z"
   },
   {
    "duration": 41,
    "start_time": "2025-06-27T13:47:59.578Z"
   },
   {
    "duration": 54,
    "start_time": "2025-06-27T13:48:01.251Z"
   },
   {
    "duration": 57,
    "start_time": "2025-06-27T13:48:37.502Z"
   },
   {
    "duration": 69,
    "start_time": "2025-06-27T13:48:42.525Z"
   },
   {
    "duration": 51,
    "start_time": "2025-06-27T13:48:48.427Z"
   },
   {
    "duration": 43,
    "start_time": "2025-06-27T13:48:59.015Z"
   },
   {
    "duration": 62,
    "start_time": "2025-06-27T13:49:15.372Z"
   },
   {
    "duration": 46,
    "start_time": "2025-06-27T13:49:51.742Z"
   },
   {
    "duration": 47,
    "start_time": "2025-06-27T13:50:04.641Z"
   },
   {
    "duration": 48,
    "start_time": "2025-06-27T13:50:09.003Z"
   },
   {
    "duration": 44,
    "start_time": "2025-06-27T13:50:34.531Z"
   },
   {
    "duration": 45,
    "start_time": "2025-06-27T13:50:40.846Z"
   },
   {
    "duration": 45,
    "start_time": "2025-06-27T13:50:43.279Z"
   },
   {
    "duration": 43,
    "start_time": "2025-06-27T13:50:45.749Z"
   },
   {
    "duration": 56,
    "start_time": "2025-06-27T13:51:36.760Z"
   },
   {
    "duration": 86,
    "start_time": "2025-06-27T13:55:26.917Z"
   },
   {
    "duration": 51,
    "start_time": "2025-06-27T13:55:39.094Z"
   },
   {
    "duration": 63,
    "start_time": "2025-06-27T13:57:29.489Z"
   },
   {
    "duration": 70,
    "start_time": "2025-06-27T13:58:15.726Z"
   },
   {
    "duration": 44,
    "start_time": "2025-06-27T13:58:25.168Z"
   },
   {
    "duration": 40,
    "start_time": "2025-06-27T13:58:49.884Z"
   },
   {
    "duration": 47,
    "start_time": "2025-06-27T13:59:00.563Z"
   },
   {
    "duration": 38,
    "start_time": "2025-06-27T13:59:39.885Z"
   },
   {
    "duration": 6,
    "start_time": "2025-06-27T13:59:58.088Z"
   },
   {
    "duration": 69,
    "start_time": "2025-06-27T14:00:10.950Z"
   },
   {
    "duration": 38,
    "start_time": "2025-06-27T14:00:23.098Z"
   },
   {
    "duration": 14,
    "start_time": "2025-06-27T14:00:50.164Z"
   },
   {
    "duration": 8,
    "start_time": "2025-06-27T14:00:57.622Z"
   },
   {
    "duration": 70,
    "start_time": "2025-06-27T14:01:00.605Z"
   },
   {
    "duration": 15,
    "start_time": "2025-06-27T14:01:02.437Z"
   },
   {
    "duration": 7,
    "start_time": "2025-06-27T14:01:09.825Z"
   },
   {
    "duration": 1477,
    "start_time": "2025-06-27T14:01:18.203Z"
   },
   {
    "duration": 7,
    "start_time": "2025-06-27T14:01:25.901Z"
   },
   {
    "duration": 1403,
    "start_time": "2025-06-27T14:01:35.949Z"
   },
   {
    "duration": 8,
    "start_time": "2025-06-27T14:01:52.290Z"
   },
   {
    "duration": 5,
    "start_time": "2025-06-27T14:01:55.691Z"
   },
   {
    "duration": 6,
    "start_time": "2025-06-27T14:02:00.894Z"
   },
   {
    "duration": 16,
    "start_time": "2025-06-27T14:02:27.484Z"
   },
   {
    "duration": 14,
    "start_time": "2025-06-27T14:02:28.206Z"
   },
   {
    "duration": 19,
    "start_time": "2025-06-27T14:02:34.635Z"
   },
   {
    "duration": 38,
    "start_time": "2025-06-27T14:02:36.787Z"
   },
   {
    "duration": 5,
    "start_time": "2025-06-27T14:02:39.713Z"
   },
   {
    "duration": 53,
    "start_time": "2025-06-27T14:03:21.314Z"
   },
   {
    "duration": 12,
    "start_time": "2025-06-27T14:05:21.501Z"
   },
   {
    "duration": 6,
    "start_time": "2025-06-27T14:06:18.154Z"
   },
   {
    "duration": 9,
    "start_time": "2025-06-27T14:06:20.570Z"
   },
   {
    "duration": 14,
    "start_time": "2025-06-27T14:06:51.580Z"
   },
   {
    "duration": 20,
    "start_time": "2025-06-27T14:06:53.608Z"
   },
   {
    "duration": 304,
    "start_time": "2025-06-27T14:07:34.828Z"
   },
   {
    "duration": 11,
    "start_time": "2025-06-27T14:07:43.659Z"
   },
   {
    "duration": 503,
    "start_time": "2025-06-27T14:08:39.578Z"
   },
   {
    "duration": 225,
    "start_time": "2025-06-27T14:09:09.914Z"
   },
   {
    "duration": 219,
    "start_time": "2025-06-27T14:10:14.891Z"
   },
   {
    "duration": 364,
    "start_time": "2025-06-27T14:10:22.251Z"
   },
   {
    "duration": 267,
    "start_time": "2025-06-27T14:10:40.875Z"
   },
   {
    "duration": 186,
    "start_time": "2025-06-27T14:10:49.885Z"
   },
   {
    "duration": 563,
    "start_time": "2025-06-27T14:11:03.781Z"
   },
   {
    "duration": 556,
    "start_time": "2025-06-27T14:11:08.895Z"
   },
   {
    "duration": 20,
    "start_time": "2025-06-27T14:13:26.449Z"
   },
   {
    "duration": 2,
    "start_time": "2025-06-27T14:14:23.998Z"
   },
   {
    "duration": 17,
    "start_time": "2025-06-27T14:14:30.420Z"
   },
   {
    "duration": 13,
    "start_time": "2025-06-27T14:14:57.611Z"
   },
   {
    "duration": 15,
    "start_time": "2025-06-27T14:15:06.518Z"
   },
   {
    "duration": 169,
    "start_time": "2025-06-27T14:15:13.988Z"
   },
   {
    "duration": 187,
    "start_time": "2025-06-27T14:15:58.300Z"
   },
   {
    "duration": 189,
    "start_time": "2025-06-27T14:16:03.693Z"
   },
   {
    "duration": 3759,
    "start_time": "2025-06-27T14:16:42.325Z"
   },
   {
    "duration": 475,
    "start_time": "2025-06-27T14:17:29.255Z"
   },
   {
    "duration": 17,
    "start_time": "2025-06-27T14:19:39.559Z"
   },
   {
    "duration": 134,
    "start_time": "2025-06-27T14:19:50.386Z"
   },
   {
    "duration": 133,
    "start_time": "2025-06-27T14:20:04.553Z"
   },
   {
    "duration": 147,
    "start_time": "2025-06-27T14:20:08.475Z"
   },
   {
    "duration": 304,
    "start_time": "2025-06-27T14:21:00.561Z"
   },
   {
    "duration": 138,
    "start_time": "2025-06-27T14:21:44.763Z"
   },
   {
    "duration": 151,
    "start_time": "2025-06-27T14:22:15.152Z"
   },
   {
    "duration": 186,
    "start_time": "2025-06-27T14:22:28.338Z"
   },
   {
    "duration": 155,
    "start_time": "2025-06-27T14:22:34.880Z"
   },
   {
    "duration": 164,
    "start_time": "2025-06-27T14:22:42.836Z"
   },
   {
    "duration": 161,
    "start_time": "2025-06-27T14:23:01.034Z"
   },
   {
    "duration": 21,
    "start_time": "2025-06-27T14:23:13.565Z"
   },
   {
    "duration": 191,
    "start_time": "2025-06-27T14:23:15.472Z"
   },
   {
    "duration": 29,
    "start_time": "2025-06-27T14:28:42.897Z"
   },
   {
    "duration": 156,
    "start_time": "2025-06-27T14:29:41.183Z"
   },
   {
    "duration": 596,
    "start_time": "2025-06-27T15:22:17.629Z"
   },
   {
    "duration": 249,
    "start_time": "2025-06-27T15:22:46.038Z"
   },
   {
    "duration": 862,
    "start_time": "2025-06-27T15:27:04.949Z"
   },
   {
    "duration": 61,
    "start_time": "2025-06-27T15:27:06.656Z"
   },
   {
    "duration": 1302,
    "start_time": "2025-06-27T15:27:26.759Z"
   },
   {
    "duration": 2294,
    "start_time": "2025-06-27T15:27:28.062Z"
   },
   {
    "duration": 28,
    "start_time": "2025-06-27T15:27:30.358Z"
   },
   {
    "duration": 188,
    "start_time": "2025-06-27T15:27:30.390Z"
   },
   {
    "duration": 30,
    "start_time": "2025-06-27T15:27:30.580Z"
   },
   {
    "duration": 71,
    "start_time": "2025-06-27T15:27:30.641Z"
   },
   {
    "duration": 90,
    "start_time": "2025-06-27T15:27:30.714Z"
   },
   {
    "duration": 82,
    "start_time": "2025-06-27T15:27:30.806Z"
   },
   {
    "duration": 12,
    "start_time": "2025-06-27T15:27:30.889Z"
   },
   {
    "duration": 251,
    "start_time": "2025-06-27T15:27:30.905Z"
   },
   {
    "duration": 29,
    "start_time": "2025-06-27T15:27:31.157Z"
   },
   {
    "duration": 14,
    "start_time": "2025-06-27T15:27:31.188Z"
   },
   {
    "duration": 144,
    "start_time": "2025-06-27T15:27:31.204Z"
   },
   {
    "duration": 3628,
    "start_time": "2025-06-27T15:27:31.350Z"
   },
   {
    "duration": 14,
    "start_time": "2025-06-27T15:27:34.980Z"
   },
   {
    "duration": 98,
    "start_time": "2025-06-27T15:27:34.996Z"
   },
   {
    "duration": 24,
    "start_time": "2025-06-27T15:27:35.096Z"
   },
   {
    "duration": 28,
    "start_time": "2025-06-27T15:27:35.146Z"
   },
   {
    "duration": 71,
    "start_time": "2025-06-27T15:27:35.177Z"
   },
   {
    "duration": 547,
    "start_time": "2025-06-27T15:27:35.254Z"
   },
   {
    "duration": 128,
    "start_time": "2025-06-27T15:27:35.803Z"
   },
   {
    "duration": 251,
    "start_time": "2025-06-27T15:27:35.933Z"
   },
   {
    "duration": 27,
    "start_time": "2025-06-27T15:27:36.185Z"
   },
   {
    "duration": 197,
    "start_time": "2025-06-27T15:27:36.213Z"
   },
   {
    "duration": 36,
    "start_time": "2025-06-27T15:27:36.411Z"
   },
   {
    "duration": 106,
    "start_time": "2025-06-27T15:27:36.451Z"
   },
   {
    "duration": 235,
    "start_time": "2025-06-27T15:27:36.565Z"
   },
   {
    "duration": 353,
    "start_time": "2025-06-27T15:27:36.806Z"
   },
   {
    "duration": 1122,
    "start_time": "2025-06-27T15:27:37.167Z"
   },
   {
    "duration": 83,
    "start_time": "2025-06-27T15:27:38.291Z"
   },
   {
    "duration": 11,
    "start_time": "2025-06-27T15:27:38.376Z"
   },
   {
    "duration": 96,
    "start_time": "2025-06-27T15:27:38.388Z"
   },
   {
    "duration": 27,
    "start_time": "2025-06-27T15:27:38.486Z"
   },
   {
    "duration": 82,
    "start_time": "2025-06-27T15:27:38.515Z"
   },
   {
    "duration": 258,
    "start_time": "2025-06-27T15:27:38.598Z"
   },
   {
    "duration": 236,
    "start_time": "2025-06-27T15:27:38.863Z"
   },
   {
    "duration": 13,
    "start_time": "2025-06-27T15:27:39.101Z"
   },
   {
    "duration": 41,
    "start_time": "2025-06-27T15:27:39.144Z"
   },
   {
    "duration": 9,
    "start_time": "2025-06-27T15:27:39.187Z"
   },
   {
    "duration": 45,
    "start_time": "2025-06-27T15:27:39.197Z"
   },
   {
    "duration": 15,
    "start_time": "2025-06-27T15:27:39.245Z"
   },
   {
    "duration": 60,
    "start_time": "2025-06-27T15:27:39.262Z"
   },
   {
    "duration": 27,
    "start_time": "2025-06-27T15:27:39.339Z"
   },
   {
    "duration": 23,
    "start_time": "2025-06-27T15:27:39.368Z"
   },
   {
    "duration": 197,
    "start_time": "2025-06-27T15:27:39.392Z"
   },
   {
    "duration": 921,
    "start_time": "2025-06-27T15:28:27.950Z"
   },
   {
    "duration": 66,
    "start_time": "2025-06-27T15:28:29.958Z"
   },
   {
    "duration": 10,
    "start_time": "2025-06-27T15:29:02.179Z"
   },
   {
    "duration": 1324,
    "start_time": "2025-06-27T15:29:20.749Z"
   },
   {
    "duration": 2399,
    "start_time": "2025-06-27T15:29:22.075Z"
   },
   {
    "duration": 21,
    "start_time": "2025-06-27T15:29:24.476Z"
   },
   {
    "duration": 175,
    "start_time": "2025-06-27T15:29:24.498Z"
   },
   {
    "duration": 28,
    "start_time": "2025-06-27T15:29:24.675Z"
   },
   {
    "duration": 96,
    "start_time": "2025-06-27T15:29:24.704Z"
   },
   {
    "duration": 78,
    "start_time": "2025-06-27T15:29:24.802Z"
   },
   {
    "duration": 73,
    "start_time": "2025-06-27T15:29:24.882Z"
   },
   {
    "duration": 20,
    "start_time": "2025-06-27T15:29:24.957Z"
   },
   {
    "duration": 205,
    "start_time": "2025-06-27T15:29:24.981Z"
   },
   {
    "duration": 19,
    "start_time": "2025-06-27T15:29:25.188Z"
   },
   {
    "duration": 8,
    "start_time": "2025-06-27T15:29:25.209Z"
   },
   {
    "duration": 133,
    "start_time": "2025-06-27T15:29:25.218Z"
   },
   {
    "duration": 3628,
    "start_time": "2025-06-27T15:29:25.354Z"
   },
   {
    "duration": 15,
    "start_time": "2025-06-27T15:29:28.984Z"
   },
   {
    "duration": 93,
    "start_time": "2025-06-27T15:29:29.001Z"
   },
   {
    "duration": 23,
    "start_time": "2025-06-27T15:29:29.096Z"
   },
   {
    "duration": 28,
    "start_time": "2025-06-27T15:29:29.144Z"
   },
   {
    "duration": 42,
    "start_time": "2025-06-27T15:29:29.174Z"
   },
   {
    "duration": 560,
    "start_time": "2025-06-27T15:29:29.243Z"
   },
   {
    "duration": 125,
    "start_time": "2025-06-27T15:29:29.805Z"
   },
   {
    "duration": 248,
    "start_time": "2025-06-27T15:29:29.932Z"
   },
   {
    "duration": 62,
    "start_time": "2025-06-27T15:29:30.183Z"
   },
   {
    "duration": 176,
    "start_time": "2025-06-27T15:29:30.247Z"
   },
   {
    "duration": 39,
    "start_time": "2025-06-27T15:29:30.425Z"
   },
   {
    "duration": 154,
    "start_time": "2025-06-27T15:29:30.470Z"
   },
   {
    "duration": 242,
    "start_time": "2025-06-27T15:29:30.626Z"
   },
   {
    "duration": 385,
    "start_time": "2025-06-27T15:29:30.872Z"
   },
   {
    "duration": 1159,
    "start_time": "2025-06-27T15:29:31.261Z"
   },
   {
    "duration": 85,
    "start_time": "2025-06-27T15:29:32.421Z"
   },
   {
    "duration": 42,
    "start_time": "2025-06-27T15:29:32.507Z"
   },
   {
    "duration": 123,
    "start_time": "2025-06-27T15:29:32.555Z"
   },
   {
    "duration": 27,
    "start_time": "2025-06-27T15:29:32.680Z"
   },
   {
    "duration": 92,
    "start_time": "2025-06-27T15:29:32.709Z"
   },
   {
    "duration": 251,
    "start_time": "2025-06-27T15:29:32.803Z"
   },
   {
    "duration": 238,
    "start_time": "2025-06-27T15:29:33.058Z"
   },
   {
    "duration": 12,
    "start_time": "2025-06-27T15:29:33.298Z"
   },
   {
    "duration": 81,
    "start_time": "2025-06-27T15:29:33.311Z"
   },
   {
    "duration": 13,
    "start_time": "2025-06-27T15:29:33.394Z"
   },
   {
    "duration": 63,
    "start_time": "2025-06-27T15:29:33.409Z"
   },
   {
    "duration": 27,
    "start_time": "2025-06-27T15:29:33.479Z"
   },
   {
    "duration": 83,
    "start_time": "2025-06-27T15:29:33.509Z"
   },
   {
    "duration": 10,
    "start_time": "2025-06-27T15:29:33.594Z"
   },
   {
    "duration": 73,
    "start_time": "2025-06-27T15:29:33.606Z"
   },
   {
    "duration": 179,
    "start_time": "2025-06-27T15:29:33.681Z"
   },
   {
    "duration": 64,
    "start_time": "2025-06-27T15:29:51.274Z"
   },
   {
    "duration": 76,
    "start_time": "2025-06-27T15:29:54.206Z"
   },
   {
    "duration": 899,
    "start_time": "2025-06-27T15:29:56.291Z"
   },
   {
    "duration": 69,
    "start_time": "2025-06-27T15:29:59.299Z"
   },
   {
    "duration": 291,
    "start_time": "2025-06-27T15:32:06.218Z"
   },
   {
    "duration": 218,
    "start_time": "2025-06-27T15:32:33.176Z"
   },
   {
    "duration": 39,
    "start_time": "2025-06-27T15:33:22.209Z"
   },
   {
    "duration": 11,
    "start_time": "2025-06-27T15:33:23.816Z"
   },
   {
    "duration": 12,
    "start_time": "2025-06-27T15:33:27.149Z"
   },
   {
    "duration": 8,
    "start_time": "2025-06-27T15:33:29.506Z"
   },
   {
    "duration": 9,
    "start_time": "2025-06-27T15:35:08.963Z"
   },
   {
    "duration": 12,
    "start_time": "2025-06-27T15:35:43.948Z"
   },
   {
    "duration": 10,
    "start_time": "2025-06-27T15:37:20.273Z"
   },
   {
    "duration": 15,
    "start_time": "2025-06-27T15:37:22.536Z"
   },
   {
    "duration": 13,
    "start_time": "2025-06-27T15:37:54.395Z"
   },
   {
    "duration": 9,
    "start_time": "2025-06-27T15:38:04.888Z"
   },
   {
    "duration": 6,
    "start_time": "2025-06-27T15:38:08.490Z"
   },
   {
    "duration": 1345,
    "start_time": "2025-06-28T06:31:41.151Z"
   },
   {
    "duration": 2249,
    "start_time": "2025-06-28T06:31:42.498Z"
   },
   {
    "duration": 22,
    "start_time": "2025-06-28T06:31:44.749Z"
   },
   {
    "duration": 125,
    "start_time": "2025-06-28T06:31:44.774Z"
   },
   {
    "duration": 42,
    "start_time": "2025-06-28T06:31:44.900Z"
   },
   {
    "duration": 45,
    "start_time": "2025-06-28T06:31:44.948Z"
   },
   {
    "duration": 28,
    "start_time": "2025-06-28T06:31:44.994Z"
   },
   {
    "duration": 49,
    "start_time": "2025-06-28T06:31:45.036Z"
   },
   {
    "duration": 25,
    "start_time": "2025-06-28T06:31:45.086Z"
   },
   {
    "duration": 171,
    "start_time": "2025-06-28T06:31:45.113Z"
   },
   {
    "duration": 19,
    "start_time": "2025-06-28T06:31:45.286Z"
   },
   {
    "duration": 38,
    "start_time": "2025-06-28T06:31:45.306Z"
   },
   {
    "duration": 73,
    "start_time": "2025-06-28T06:31:45.347Z"
   },
   {
    "duration": 4084,
    "start_time": "2025-06-28T06:31:45.421Z"
   },
   {
    "duration": 12,
    "start_time": "2025-06-28T06:31:49.507Z"
   },
   {
    "duration": 45,
    "start_time": "2025-06-28T06:31:49.520Z"
   },
   {
    "duration": 25,
    "start_time": "2025-06-28T06:31:49.566Z"
   },
   {
    "duration": 80,
    "start_time": "2025-06-28T06:31:49.593Z"
   },
   {
    "duration": 44,
    "start_time": "2025-06-28T06:31:49.674Z"
   },
   {
    "duration": 461,
    "start_time": "2025-06-28T06:31:49.720Z"
   },
   {
    "duration": 92,
    "start_time": "2025-06-28T06:31:50.182Z"
   },
   {
    "duration": 195,
    "start_time": "2025-06-28T06:31:50.275Z"
   },
   {
    "duration": 26,
    "start_time": "2025-06-28T06:31:50.472Z"
   },
   {
    "duration": 95,
    "start_time": "2025-06-28T06:31:50.499Z"
   },
   {
    "duration": 257,
    "start_time": "2025-06-28T06:31:50.595Z"
   },
   {
    "duration": 20,
    "start_time": "2025-06-28T06:31:50.853Z"
   },
   {
    "duration": 100,
    "start_time": "2025-06-28T06:31:50.874Z"
   },
   {
    "duration": 122,
    "start_time": "2025-06-28T06:31:50.977Z"
   },
   {
    "duration": 278,
    "start_time": "2025-06-28T06:31:51.100Z"
   },
   {
    "duration": 891,
    "start_time": "2025-06-28T06:31:51.380Z"
   },
   {
    "duration": 73,
    "start_time": "2025-06-28T06:31:52.273Z"
   },
   {
    "duration": 8,
    "start_time": "2025-06-28T06:31:52.349Z"
   },
   {
    "duration": 191,
    "start_time": "2025-06-28T06:31:52.359Z"
   },
   {
    "duration": 33,
    "start_time": "2025-06-28T06:31:52.551Z"
   },
   {
    "duration": 199,
    "start_time": "2025-06-28T06:31:52.586Z"
   },
   {
    "duration": 164,
    "start_time": "2025-06-28T06:31:52.787Z"
   },
   {
    "duration": 188,
    "start_time": "2025-06-28T06:31:52.953Z"
   },
   {
    "duration": 10,
    "start_time": "2025-06-28T06:31:53.142Z"
   },
   {
    "duration": 24,
    "start_time": "2025-06-28T06:31:53.154Z"
   },
   {
    "duration": 10,
    "start_time": "2025-06-28T06:31:53.179Z"
   },
   {
    "duration": 8,
    "start_time": "2025-06-28T06:31:53.191Z"
   },
   {
    "duration": 44,
    "start_time": "2025-06-28T06:31:53.200Z"
   },
   {
    "duration": 35,
    "start_time": "2025-06-28T06:31:53.246Z"
   },
   {
    "duration": 4,
    "start_time": "2025-06-28T06:31:53.282Z"
   },
   {
    "duration": 12,
    "start_time": "2025-06-28T06:31:53.288Z"
   },
   {
    "duration": 6,
    "start_time": "2025-06-28T06:31:53.302Z"
   },
   {
    "duration": 39,
    "start_time": "2025-06-28T06:31:53.309Z"
   },
   {
    "duration": 148,
    "start_time": "2025-06-28T06:31:53.350Z"
   },
   {
    "duration": 7,
    "start_time": "2025-06-28T06:32:08.680Z"
   },
   {
    "duration": 8234,
    "start_time": "2025-06-28T06:33:40.199Z"
   },
   {
    "duration": 142,
    "start_time": "2025-06-28T06:34:30.936Z"
   },
   {
    "duration": 57,
    "start_time": "2025-06-28T14:55:36.088Z"
   },
   {
    "duration": 1440,
    "start_time": "2025-06-28T14:55:41.592Z"
   },
   {
    "duration": 2409,
    "start_time": "2025-06-28T14:55:43.034Z"
   },
   {
    "duration": 24,
    "start_time": "2025-06-28T14:55:45.444Z"
   },
   {
    "duration": 173,
    "start_time": "2025-06-28T14:55:45.470Z"
   },
   {
    "duration": 34,
    "start_time": "2025-06-28T14:55:45.645Z"
   },
   {
    "duration": 195,
    "start_time": "2025-06-28T14:55:45.680Z"
   },
   {
    "duration": 50,
    "start_time": "2025-06-28T14:55:45.877Z"
   },
   {
    "duration": 61,
    "start_time": "2025-06-28T14:55:45.930Z"
   },
   {
    "duration": 9,
    "start_time": "2025-06-28T14:55:45.993Z"
   },
   {
    "duration": 225,
    "start_time": "2025-06-28T14:55:46.004Z"
   },
   {
    "duration": 21,
    "start_time": "2025-06-28T14:55:46.231Z"
   },
   {
    "duration": 24,
    "start_time": "2025-06-28T14:55:46.253Z"
   },
   {
    "duration": 88,
    "start_time": "2025-06-28T14:55:46.278Z"
   },
   {
    "duration": 4263,
    "start_time": "2025-06-28T14:55:46.378Z"
   },
   {
    "duration": 15,
    "start_time": "2025-06-28T14:55:50.644Z"
   },
   {
    "duration": 41,
    "start_time": "2025-06-28T14:55:50.661Z"
   },
   {
    "duration": 43,
    "start_time": "2025-06-28T14:55:50.703Z"
   },
   {
    "duration": 19,
    "start_time": "2025-06-28T14:55:50.748Z"
   },
   {
    "duration": 42,
    "start_time": "2025-06-28T14:55:50.769Z"
   },
   {
    "duration": 492,
    "start_time": "2025-06-28T14:55:50.812Z"
   },
   {
    "duration": 101,
    "start_time": "2025-06-28T14:55:51.306Z"
   },
   {
    "duration": 212,
    "start_time": "2025-06-28T14:55:51.409Z"
   },
   {
    "duration": 28,
    "start_time": "2025-06-28T14:55:51.623Z"
   },
   {
    "duration": 198,
    "start_time": "2025-06-28T14:55:51.652Z"
   },
   {
    "duration": 153,
    "start_time": "2025-06-28T14:55:51.852Z"
   },
   {
    "duration": 35,
    "start_time": "2025-06-28T14:55:52.010Z"
   },
   {
    "duration": 90,
    "start_time": "2025-06-28T14:55:52.048Z"
   },
   {
    "duration": 8504,
    "start_time": "2025-06-28T14:55:52.140Z"
   },
   {
    "duration": 146,
    "start_time": "2025-06-28T14:56:00.647Z"
   },
   {
    "duration": 301,
    "start_time": "2025-06-28T14:56:00.795Z"
   },
   {
    "duration": 1027,
    "start_time": "2025-06-28T14:56:01.097Z"
   },
   {
    "duration": 66,
    "start_time": "2025-06-28T14:56:02.126Z"
   },
   {
    "duration": 11,
    "start_time": "2025-06-28T14:56:02.194Z"
   },
   {
    "duration": 136,
    "start_time": "2025-06-28T14:56:02.206Z"
   },
   {
    "duration": 24,
    "start_time": "2025-06-28T14:56:02.344Z"
   },
   {
    "duration": 85,
    "start_time": "2025-06-28T14:56:02.370Z"
   },
   {
    "duration": 197,
    "start_time": "2025-06-28T14:56:02.457Z"
   },
   {
    "duration": 243,
    "start_time": "2025-06-28T14:56:02.656Z"
   },
   {
    "duration": 14,
    "start_time": "2025-06-28T14:56:02.901Z"
   },
   {
    "duration": 81,
    "start_time": "2025-06-28T14:56:02.917Z"
   },
   {
    "duration": 12,
    "start_time": "2025-06-28T14:56:03.005Z"
   },
   {
    "duration": 25,
    "start_time": "2025-06-28T14:56:03.020Z"
   },
   {
    "duration": 18,
    "start_time": "2025-06-28T14:56:03.048Z"
   },
   {
    "duration": 68,
    "start_time": "2025-06-28T14:56:03.068Z"
   },
   {
    "duration": 5,
    "start_time": "2025-06-28T14:56:03.138Z"
   },
   {
    "duration": 153,
    "start_time": "2025-06-28T14:56:03.145Z"
   },
   {
    "duration": 10,
    "start_time": "2025-06-28T14:56:03.300Z"
   },
   {
    "duration": 21,
    "start_time": "2025-06-28T14:56:03.312Z"
   },
   {
    "duration": 180,
    "start_time": "2025-06-28T14:56:03.335Z"
   },
   {
    "duration": 27,
    "start_time": "2025-06-28T14:56:03.517Z"
   },
   {
    "duration": 37,
    "start_time": "2025-06-28T14:56:03.546Z"
   },
   {
    "duration": 38,
    "start_time": "2025-06-28T14:56:11.364Z"
   },
   {
    "duration": 7,
    "start_time": "2025-06-28T14:56:13.615Z"
   },
   {
    "duration": 28,
    "start_time": "2025-06-28T14:56:15.281Z"
   },
   {
    "duration": 26,
    "start_time": "2025-06-28T14:56:28.619Z"
   },
   {
    "duration": 7,
    "start_time": "2025-06-28T14:56:30.405Z"
   },
   {
    "duration": 26,
    "start_time": "2025-06-28T14:56:34.008Z"
   },
   {
    "duration": 8,
    "start_time": "2025-06-28T14:56:36.050Z"
   },
   {
    "duration": 26,
    "start_time": "2025-06-28T14:56:58.318Z"
   },
   {
    "duration": 6,
    "start_time": "2025-06-28T14:57:00.100Z"
   },
   {
    "duration": 29,
    "start_time": "2025-06-28T14:57:05.020Z"
   },
   {
    "duration": 7,
    "start_time": "2025-06-28T14:57:06.621Z"
   },
   {
    "duration": 27,
    "start_time": "2025-06-28T14:57:15.357Z"
   },
   {
    "duration": 7,
    "start_time": "2025-06-28T14:57:16.864Z"
   },
   {
    "duration": 26,
    "start_time": "2025-06-28T14:57:38.194Z"
   },
   {
    "duration": 7,
    "start_time": "2025-06-28T14:57:39.249Z"
   },
   {
    "duration": 25,
    "start_time": "2025-06-28T14:57:50.229Z"
   },
   {
    "duration": 12,
    "start_time": "2025-06-28T14:57:51.281Z"
   },
   {
    "duration": 27,
    "start_time": "2025-06-28T14:57:53.304Z"
   },
   {
    "duration": 8,
    "start_time": "2025-06-28T14:57:54.650Z"
   },
   {
    "duration": 25,
    "start_time": "2025-06-28T14:58:01.785Z"
   },
   {
    "duration": 8,
    "start_time": "2025-06-28T14:58:02.961Z"
   },
   {
    "duration": 174,
    "start_time": "2025-06-28T14:58:13.240Z"
   },
   {
    "duration": 25,
    "start_time": "2025-06-28T14:59:16.459Z"
   },
   {
    "duration": 7,
    "start_time": "2025-06-28T14:59:18.505Z"
   },
   {
    "duration": 32,
    "start_time": "2025-06-28T14:59:26.517Z"
   },
   {
    "duration": 7,
    "start_time": "2025-06-28T14:59:27.908Z"
   },
   {
    "duration": 4,
    "start_time": "2025-06-28T15:03:06.565Z"
   },
   {
    "duration": 28,
    "start_time": "2025-06-28T15:03:11.623Z"
   },
   {
    "duration": 101,
    "start_time": "2025-06-28T15:09:10.365Z"
   },
   {
    "duration": 10,
    "start_time": "2025-06-28T15:09:19.340Z"
   },
   {
    "duration": 10,
    "start_time": "2025-06-28T15:14:20.967Z"
   },
   {
    "duration": 41,
    "start_time": "2025-06-28T15:14:55.117Z"
   },
   {
    "duration": 39,
    "start_time": "2025-06-28T15:14:58.552Z"
   },
   {
    "duration": 37,
    "start_time": "2025-06-28T15:15:45.961Z"
   },
   {
    "duration": 6,
    "start_time": "2025-06-28T15:16:00.776Z"
   },
   {
    "duration": 6,
    "start_time": "2025-06-28T15:16:00.862Z"
   },
   {
    "duration": 9,
    "start_time": "2025-06-28T15:16:18.436Z"
   },
   {
    "duration": 6,
    "start_time": "2025-06-28T15:16:21.938Z"
   },
   {
    "duration": 11,
    "start_time": "2025-06-28T15:17:15.280Z"
   },
   {
    "duration": 36,
    "start_time": "2025-06-28T15:17:20.083Z"
   },
   {
    "duration": 8,
    "start_time": "2025-06-28T15:21:08.016Z"
   },
   {
    "duration": 1936,
    "start_time": "2025-06-28T15:27:51.378Z"
   },
   {
    "duration": 11,
    "start_time": "2025-06-28T15:29:23.845Z"
   },
   {
    "duration": 1347,
    "start_time": "2025-06-28T15:29:29.321Z"
   },
   {
    "duration": 1267,
    "start_time": "2025-06-28T15:29:45.154Z"
   },
   {
    "duration": 45,
    "start_time": "2025-06-28T15:29:58.428Z"
   },
   {
    "duration": 43,
    "start_time": "2025-06-28T15:30:05.604Z"
   },
   {
    "duration": 34,
    "start_time": "2025-06-28T15:30:19.146Z"
   },
   {
    "duration": 43,
    "start_time": "2025-06-28T15:30:21.979Z"
   },
   {
    "duration": 35,
    "start_time": "2025-06-28T15:30:44.596Z"
   },
   {
    "duration": 49,
    "start_time": "2025-06-28T15:30:47.865Z"
   },
   {
    "duration": 37,
    "start_time": "2025-06-28T15:30:53.412Z"
   },
   {
    "duration": 35,
    "start_time": "2025-06-28T15:30:57.424Z"
   },
   {
    "duration": 41,
    "start_time": "2025-06-28T15:31:05.088Z"
   },
   {
    "duration": 34,
    "start_time": "2025-06-28T15:31:16.574Z"
   },
   {
    "duration": 36,
    "start_time": "2025-06-28T15:31:20.595Z"
   },
   {
    "duration": 34,
    "start_time": "2025-06-28T15:31:23.831Z"
   },
   {
    "duration": 56,
    "start_time": "2025-06-28T15:31:34.948Z"
   },
   {
    "duration": 39,
    "start_time": "2025-06-28T15:31:37.178Z"
   },
   {
    "duration": 35,
    "start_time": "2025-06-28T15:31:47.760Z"
   },
   {
    "duration": 37,
    "start_time": "2025-06-28T15:31:55.085Z"
   },
   {
    "duration": 42,
    "start_time": "2025-06-28T15:32:07.408Z"
   },
   {
    "duration": 36,
    "start_time": "2025-06-28T15:32:15.497Z"
   },
   {
    "duration": 36,
    "start_time": "2025-06-28T15:32:21.893Z"
   },
   {
    "duration": 36,
    "start_time": "2025-06-28T15:32:29.842Z"
   },
   {
    "duration": 46,
    "start_time": "2025-06-28T15:32:32.431Z"
   },
   {
    "duration": 34,
    "start_time": "2025-06-28T15:32:43.592Z"
   },
   {
    "duration": 35,
    "start_time": "2025-06-28T15:32:47.430Z"
   },
   {
    "duration": 35,
    "start_time": "2025-06-28T15:32:54.078Z"
   },
   {
    "duration": 34,
    "start_time": "2025-06-28T15:32:57.537Z"
   },
   {
    "duration": 33,
    "start_time": "2025-06-28T15:33:00.806Z"
   },
   {
    "duration": 34,
    "start_time": "2025-06-28T15:33:04.507Z"
   },
   {
    "duration": 35,
    "start_time": "2025-06-28T15:33:08.443Z"
   },
   {
    "duration": 34,
    "start_time": "2025-06-28T15:33:12.904Z"
   },
   {
    "duration": 32,
    "start_time": "2025-06-28T15:33:15.666Z"
   },
   {
    "duration": 31,
    "start_time": "2025-06-28T15:33:28.596Z"
   },
   {
    "duration": 91,
    "start_time": "2025-06-28T15:33:34.957Z"
   },
   {
    "duration": 31,
    "start_time": "2025-06-28T15:33:40.055Z"
   },
   {
    "duration": 1270,
    "start_time": "2025-06-28T15:33:44.058Z"
   },
   {
    "duration": 1363,
    "start_time": "2025-06-28T15:33:52.976Z"
   },
   {
    "duration": 11,
    "start_time": "2025-06-28T15:34:04.839Z"
   },
   {
    "duration": 28,
    "start_time": "2025-06-28T15:34:10.840Z"
   },
   {
    "duration": 7,
    "start_time": "2025-06-28T15:34:17.417Z"
   },
   {
    "duration": 42,
    "start_time": "2025-06-28T15:34:43.414Z"
   },
   {
    "duration": 35,
    "start_time": "2025-06-28T15:34:49.203Z"
   },
   {
    "duration": 36,
    "start_time": "2025-06-28T15:34:49.288Z"
   },
   {
    "duration": 1186,
    "start_time": "2025-06-28T15:34:57.703Z"
   },
   {
    "duration": 2002,
    "start_time": "2025-06-28T15:34:58.891Z"
   },
   {
    "duration": 23,
    "start_time": "2025-06-28T15:35:00.894Z"
   },
   {
    "duration": 135,
    "start_time": "2025-06-28T15:35:00.919Z"
   },
   {
    "duration": 37,
    "start_time": "2025-06-28T15:35:01.056Z"
   },
   {
    "duration": 73,
    "start_time": "2025-06-28T15:35:01.095Z"
   },
   {
    "duration": 47,
    "start_time": "2025-06-28T15:35:01.177Z"
   },
   {
    "duration": 88,
    "start_time": "2025-06-28T15:35:01.226Z"
   },
   {
    "duration": 8,
    "start_time": "2025-06-28T15:35:01.316Z"
   },
   {
    "duration": 235,
    "start_time": "2025-06-28T15:35:01.327Z"
   },
   {
    "duration": 22,
    "start_time": "2025-06-28T15:35:01.563Z"
   },
   {
    "duration": 113,
    "start_time": "2025-06-28T15:35:01.587Z"
   },
   {
    "duration": 105,
    "start_time": "2025-06-28T15:35:01.702Z"
   },
   {
    "duration": 3297,
    "start_time": "2025-06-28T15:35:01.808Z"
   },
   {
    "duration": 14,
    "start_time": "2025-06-28T15:35:05.108Z"
   },
   {
    "duration": 89,
    "start_time": "2025-06-28T15:35:05.124Z"
   },
   {
    "duration": 23,
    "start_time": "2025-06-28T15:35:05.216Z"
   },
   {
    "duration": 36,
    "start_time": "2025-06-28T15:35:05.241Z"
   },
   {
    "duration": 49,
    "start_time": "2025-06-28T15:35:05.279Z"
   },
   {
    "duration": 472,
    "start_time": "2025-06-28T15:35:05.331Z"
   },
   {
    "duration": 134,
    "start_time": "2025-06-28T15:35:05.805Z"
   },
   {
    "duration": 199,
    "start_time": "2025-06-28T15:35:05.941Z"
   },
   {
    "duration": 37,
    "start_time": "2025-06-28T15:35:06.142Z"
   },
   {
    "duration": 12,
    "start_time": "2025-06-28T15:35:06.180Z"
   },
   {
    "duration": 172,
    "start_time": "2025-06-28T15:35:06.194Z"
   },
   {
    "duration": 22,
    "start_time": "2025-06-28T15:35:06.367Z"
   },
   {
    "duration": 59,
    "start_time": "2025-06-28T15:35:06.391Z"
   },
   {
    "duration": 2659,
    "start_time": "2025-06-28T15:35:06.476Z"
   },
   {
    "duration": 154,
    "start_time": "2025-06-28T15:35:09.137Z"
   },
   {
    "duration": 291,
    "start_time": "2025-06-28T15:35:09.293Z"
   },
   {
    "duration": 1017,
    "start_time": "2025-06-28T15:35:09.586Z"
   },
   {
    "duration": 58,
    "start_time": "2025-06-28T15:35:10.605Z"
   },
   {
    "duration": 19,
    "start_time": "2025-06-28T15:35:10.664Z"
   },
   {
    "duration": 52,
    "start_time": "2025-06-28T15:35:10.685Z"
   },
   {
    "duration": 41,
    "start_time": "2025-06-28T15:35:10.738Z"
   },
   {
    "duration": 55,
    "start_time": "2025-06-28T15:35:10.781Z"
   },
   {
    "duration": 185,
    "start_time": "2025-06-28T15:35:10.838Z"
   },
   {
    "duration": 209,
    "start_time": "2025-06-28T15:35:11.025Z"
   },
   {
    "duration": 10,
    "start_time": "2025-06-28T15:35:11.236Z"
   },
   {
    "duration": 125,
    "start_time": "2025-06-28T15:35:11.248Z"
   },
   {
    "duration": 0,
    "start_time": "2025-06-28T15:35:11.376Z"
   },
   {
    "duration": 0,
    "start_time": "2025-06-28T15:35:11.378Z"
   },
   {
    "duration": 0,
    "start_time": "2025-06-28T15:35:11.379Z"
   },
   {
    "duration": 0,
    "start_time": "2025-06-28T15:35:11.380Z"
   },
   {
    "duration": 0,
    "start_time": "2025-06-28T15:35:11.381Z"
   },
   {
    "duration": 0,
    "start_time": "2025-06-28T15:35:11.382Z"
   },
   {
    "duration": 0,
    "start_time": "2025-06-28T15:35:11.383Z"
   },
   {
    "duration": 0,
    "start_time": "2025-06-28T15:35:11.385Z"
   },
   {
    "duration": 0,
    "start_time": "2025-06-28T15:35:11.386Z"
   },
   {
    "duration": 0,
    "start_time": "2025-06-28T15:35:11.387Z"
   },
   {
    "duration": 0,
    "start_time": "2025-06-28T15:35:11.388Z"
   },
   {
    "duration": 0,
    "start_time": "2025-06-28T15:35:11.389Z"
   },
   {
    "duration": 0,
    "start_time": "2025-06-28T15:35:11.391Z"
   },
   {
    "duration": 10,
    "start_time": "2025-06-28T15:35:14.502Z"
   },
   {
    "duration": 36,
    "start_time": "2025-06-28T15:35:28.534Z"
   },
   {
    "duration": 11,
    "start_time": "2025-06-28T15:35:29.196Z"
   },
   {
    "duration": 7,
    "start_time": "2025-06-28T15:35:29.429Z"
   },
   {
    "duration": 6,
    "start_time": "2025-06-28T15:35:29.627Z"
   },
   {
    "duration": 10,
    "start_time": "2025-06-28T15:35:30.032Z"
   },
   {
    "duration": 33,
    "start_time": "2025-06-28T15:35:30.528Z"
   },
   {
    "duration": 10,
    "start_time": "2025-06-28T15:35:30.744Z"
   },
   {
    "duration": 153,
    "start_time": "2025-06-28T15:35:30.911Z"
   },
   {
    "duration": 10,
    "start_time": "2025-06-28T15:35:31.102Z"
   },
   {
    "duration": 11,
    "start_time": "2025-06-28T15:35:31.460Z"
   },
   {
    "duration": 10,
    "start_time": "2025-06-28T15:35:31.644Z"
   },
   {
    "duration": 14,
    "start_time": "2025-06-28T15:35:32.532Z"
   },
   {
    "duration": 158,
    "start_time": "2025-06-28T15:35:32.982Z"
   },
   {
    "duration": 14,
    "start_time": "2025-06-28T15:37:50.274Z"
   },
   {
    "duration": 39,
    "start_time": "2025-06-28T15:38:09.671Z"
   },
   {
    "duration": 5,
    "start_time": "2025-06-28T15:38:14.430Z"
   },
   {
    "duration": 46,
    "start_time": "2025-06-28T15:39:55.526Z"
   },
   {
    "duration": 53,
    "start_time": "2025-06-28T15:40:22.586Z"
   },
   {
    "duration": 60,
    "start_time": "2025-06-28T15:40:30.514Z"
   },
   {
    "duration": 40,
    "start_time": "2025-06-28T15:41:42.694Z"
   },
   {
    "duration": 10,
    "start_time": "2025-06-28T15:41:50.061Z"
   },
   {
    "duration": 6,
    "start_time": "2025-06-28T15:42:42.600Z"
   },
   {
    "duration": 11,
    "start_time": "2025-06-28T15:43:06.861Z"
   },
   {
    "duration": 6,
    "start_time": "2025-06-28T15:43:10.098Z"
   },
   {
    "duration": 6,
    "start_time": "2025-06-28T15:43:20.321Z"
   },
   {
    "duration": 9,
    "start_time": "2025-06-28T15:43:33.523Z"
   },
   {
    "duration": 35,
    "start_time": "2025-06-28T15:43:54.507Z"
   },
   {
    "duration": 19,
    "start_time": "2025-06-28T15:49:35.185Z"
   },
   {
    "duration": 17,
    "start_time": "2025-06-28T15:49:53.013Z"
   },
   {
    "duration": 13,
    "start_time": "2025-06-28T15:50:10.974Z"
   },
   {
    "duration": 11,
    "start_time": "2025-06-28T15:50:51.428Z"
   },
   {
    "duration": 14,
    "start_time": "2025-06-28T15:50:56.018Z"
   },
   {
    "duration": 63,
    "start_time": "2025-06-28T15:51:42.048Z"
   },
   {
    "duration": 35,
    "start_time": "2025-06-28T15:51:47.808Z"
   },
   {
    "duration": 36,
    "start_time": "2025-06-28T15:51:59.764Z"
   },
   {
    "duration": 41,
    "start_time": "2025-06-28T15:52:04.241Z"
   },
   {
    "duration": 39,
    "start_time": "2025-06-28T15:52:06.653Z"
   },
   {
    "duration": 35,
    "start_time": "2025-06-28T15:52:14.839Z"
   },
   {
    "duration": 34,
    "start_time": "2025-06-28T15:52:31.267Z"
   },
   {
    "duration": 34,
    "start_time": "2025-06-28T15:52:40.032Z"
   },
   {
    "duration": 13,
    "start_time": "2025-06-28T15:52:51.745Z"
   },
   {
    "duration": 34,
    "start_time": "2025-06-28T15:52:56.559Z"
   },
   {
    "duration": 14,
    "start_time": "2025-06-28T15:52:57.557Z"
   },
   {
    "duration": 35,
    "start_time": "2025-06-28T15:53:13.296Z"
   },
   {
    "duration": 35,
    "start_time": "2025-06-28T15:53:15.307Z"
   },
   {
    "duration": 38,
    "start_time": "2025-06-28T15:54:15.484Z"
   },
   {
    "duration": 35,
    "start_time": "2025-06-28T15:54:36.500Z"
   },
   {
    "duration": 13,
    "start_time": "2025-06-28T15:54:37.747Z"
   },
   {
    "duration": 36,
    "start_time": "2025-06-28T15:54:54.670Z"
   },
   {
    "duration": 18,
    "start_time": "2025-06-28T15:54:59.715Z"
   },
   {
    "duration": 36,
    "start_time": "2025-06-28T15:55:14.020Z"
   },
   {
    "duration": 9,
    "start_time": "2025-06-28T15:55:28.302Z"
   },
   {
    "duration": 11,
    "start_time": "2025-06-28T15:55:38.067Z"
   },
   {
    "duration": 8,
    "start_time": "2025-06-28T15:55:44.933Z"
   },
   {
    "duration": 10,
    "start_time": "2025-06-28T15:55:55.104Z"
   },
   {
    "duration": 9,
    "start_time": "2025-06-28T15:55:57.921Z"
   },
   {
    "duration": 8,
    "start_time": "2025-06-28T15:56:05.467Z"
   },
   {
    "duration": 8,
    "start_time": "2025-06-28T15:56:33.287Z"
   },
   {
    "duration": 9,
    "start_time": "2025-06-28T15:56:35.820Z"
   },
   {
    "duration": 11,
    "start_time": "2025-06-28T15:57:17.013Z"
   },
   {
    "duration": 10,
    "start_time": "2025-06-28T15:57:19.697Z"
   },
   {
    "duration": 11,
    "start_time": "2025-06-28T15:57:25.372Z"
   },
   {
    "duration": 12,
    "start_time": "2025-06-28T15:57:35.563Z"
   },
   {
    "duration": 10,
    "start_time": "2025-06-28T15:57:43.043Z"
   },
   {
    "duration": 13,
    "start_time": "2025-06-28T15:57:56.833Z"
   },
   {
    "duration": 17,
    "start_time": "2025-06-28T15:58:06.554Z"
   },
   {
    "duration": 13,
    "start_time": "2025-06-28T15:58:52.610Z"
   },
   {
    "duration": 12,
    "start_time": "2025-06-28T15:59:07.294Z"
   },
   {
    "duration": 10,
    "start_time": "2025-06-28T15:59:22.359Z"
   },
   {
    "duration": 6,
    "start_time": "2025-06-28T15:59:27.978Z"
   },
   {
    "duration": 6,
    "start_time": "2025-06-28T15:59:37.707Z"
   },
   {
    "duration": 7,
    "start_time": "2025-06-28T15:59:51.686Z"
   },
   {
    "duration": 6,
    "start_time": "2025-06-28T16:00:08.943Z"
   },
   {
    "duration": 37,
    "start_time": "2025-06-28T16:01:49.189Z"
   },
   {
    "duration": 32,
    "start_time": "2025-06-28T16:02:00.459Z"
   },
   {
    "duration": 32,
    "start_time": "2025-06-28T16:03:34.533Z"
   },
   {
    "duration": 11,
    "start_time": "2025-06-28T16:04:04.561Z"
   },
   {
    "duration": 18,
    "start_time": "2025-06-28T16:04:12.686Z"
   },
   {
    "duration": 19,
    "start_time": "2025-06-28T16:04:41.286Z"
   },
   {
    "duration": 37,
    "start_time": "2025-06-28T16:04:42.103Z"
   },
   {
    "duration": 5,
    "start_time": "2025-06-28T16:04:42.888Z"
   },
   {
    "duration": 2,
    "start_time": "2025-06-28T16:08:28.371Z"
   },
   {
    "duration": 3,
    "start_time": "2025-06-28T16:09:49.993Z"
   },
   {
    "duration": 22,
    "start_time": "2025-06-28T16:10:33.690Z"
   },
   {
    "duration": 30,
    "start_time": "2025-06-28T16:10:40.709Z"
   },
   {
    "duration": 22,
    "start_time": "2025-06-28T16:11:20.313Z"
   },
   {
    "duration": 23,
    "start_time": "2025-06-28T16:12:03.592Z"
   },
   {
    "duration": 28,
    "start_time": "2025-06-28T16:12:07.650Z"
   },
   {
    "duration": 65,
    "start_time": "2025-06-28T16:12:18.472Z"
   },
   {
    "duration": 23,
    "start_time": "2025-06-28T16:12:23.193Z"
   },
   {
    "duration": 1194,
    "start_time": "2025-06-28T16:24:12.608Z"
   },
   {
    "duration": 2000,
    "start_time": "2025-06-28T16:24:13.804Z"
   },
   {
    "duration": 28,
    "start_time": "2025-06-28T16:24:15.806Z"
   },
   {
    "duration": 181,
    "start_time": "2025-06-28T16:24:15.838Z"
   },
   {
    "duration": 27,
    "start_time": "2025-06-28T16:24:16.022Z"
   },
   {
    "duration": 73,
    "start_time": "2025-06-28T16:24:16.051Z"
   },
   {
    "duration": 97,
    "start_time": "2025-06-28T16:24:16.125Z"
   },
   {
    "duration": 117,
    "start_time": "2025-06-28T16:24:16.224Z"
   },
   {
    "duration": 12,
    "start_time": "2025-06-28T16:24:16.342Z"
   },
   {
    "duration": 187,
    "start_time": "2025-06-28T16:24:16.356Z"
   },
   {
    "duration": 33,
    "start_time": "2025-06-28T16:24:16.545Z"
   },
   {
    "duration": 10,
    "start_time": "2025-06-28T16:24:16.580Z"
   },
   {
    "duration": 94,
    "start_time": "2025-06-28T16:24:16.592Z"
   },
   {
    "duration": 3345,
    "start_time": "2025-06-28T16:24:16.688Z"
   },
   {
    "duration": 14,
    "start_time": "2025-06-28T16:24:20.036Z"
   },
   {
    "duration": 90,
    "start_time": "2025-06-28T16:24:20.051Z"
   },
   {
    "duration": 179,
    "start_time": "2025-06-28T16:24:20.142Z"
   },
   {
    "duration": 15,
    "start_time": "2025-06-28T16:24:20.323Z"
   },
   {
    "duration": 48,
    "start_time": "2025-06-28T16:24:20.340Z"
   },
   {
    "duration": 511,
    "start_time": "2025-06-28T16:24:20.389Z"
   },
   {
    "duration": 129,
    "start_time": "2025-06-28T16:24:20.902Z"
   },
   {
    "duration": 230,
    "start_time": "2025-06-28T16:24:21.033Z"
   },
   {
    "duration": 32,
    "start_time": "2025-06-28T16:24:21.265Z"
   },
   {
    "duration": 7,
    "start_time": "2025-06-28T16:24:21.298Z"
   },
   {
    "duration": 185,
    "start_time": "2025-06-28T16:24:21.307Z"
   },
   {
    "duration": 22,
    "start_time": "2025-06-28T16:24:21.494Z"
   },
   {
    "duration": 148,
    "start_time": "2025-06-28T16:24:21.518Z"
   },
   {
    "duration": 2706,
    "start_time": "2025-06-28T16:24:21.670Z"
   },
   {
    "duration": 142,
    "start_time": "2025-06-28T16:24:24.378Z"
   },
   {
    "duration": 299,
    "start_time": "2025-06-28T16:24:24.522Z"
   },
   {
    "duration": 1017,
    "start_time": "2025-06-28T16:24:24.823Z"
   },
   {
    "duration": 81,
    "start_time": "2025-06-28T16:24:25.842Z"
   },
   {
    "duration": 9,
    "start_time": "2025-06-28T16:24:25.925Z"
   },
   {
    "duration": 77,
    "start_time": "2025-06-28T16:24:25.936Z"
   },
   {
    "duration": 26,
    "start_time": "2025-06-28T16:24:26.015Z"
   },
   {
    "duration": 87,
    "start_time": "2025-06-28T16:24:26.043Z"
   },
   {
    "duration": 221,
    "start_time": "2025-06-28T16:24:26.132Z"
   },
   {
    "duration": 1345,
    "start_time": "2025-06-28T16:47:20.561Z"
   },
   {
    "duration": 2269,
    "start_time": "2025-06-28T16:47:21.908Z"
   },
   {
    "duration": 24,
    "start_time": "2025-06-28T16:47:24.179Z"
   },
   {
    "duration": 143,
    "start_time": "2025-06-28T16:47:24.204Z"
   },
   {
    "duration": 25,
    "start_time": "2025-06-28T16:47:24.349Z"
   },
   {
    "duration": 96,
    "start_time": "2025-06-28T16:47:24.376Z"
   },
   {
    "duration": 30,
    "start_time": "2025-06-28T16:47:24.474Z"
   },
   {
    "duration": 68,
    "start_time": "2025-06-28T16:47:24.506Z"
   },
   {
    "duration": 9,
    "start_time": "2025-06-28T16:47:24.576Z"
   },
   {
    "duration": 171,
    "start_time": "2025-06-28T16:47:24.586Z"
   },
   {
    "duration": 19,
    "start_time": "2025-06-28T16:47:24.758Z"
   },
   {
    "duration": 20,
    "start_time": "2025-06-28T16:47:24.778Z"
   },
   {
    "duration": 93,
    "start_time": "2025-06-28T16:47:24.799Z"
   },
   {
    "duration": 4069,
    "start_time": "2025-06-28T16:47:24.895Z"
   },
   {
    "duration": 14,
    "start_time": "2025-06-28T16:47:28.966Z"
   },
   {
    "duration": 52,
    "start_time": "2025-06-28T16:47:28.982Z"
   },
   {
    "duration": 22,
    "start_time": "2025-06-28T16:47:29.035Z"
   },
   {
    "duration": 27,
    "start_time": "2025-06-28T16:47:29.059Z"
   },
   {
    "duration": 44,
    "start_time": "2025-06-28T16:47:29.088Z"
   },
   {
    "duration": 489,
    "start_time": "2025-06-28T16:47:29.138Z"
   },
   {
    "duration": 100,
    "start_time": "2025-06-28T16:47:29.629Z"
   },
   {
    "duration": 198,
    "start_time": "2025-06-28T16:47:29.731Z"
   },
   {
    "duration": 26,
    "start_time": "2025-06-28T16:47:29.938Z"
   },
   {
    "duration": 26,
    "start_time": "2025-06-28T16:47:29.966Z"
   },
   {
    "duration": 220,
    "start_time": "2025-06-28T16:47:29.994Z"
   },
   {
    "duration": 30,
    "start_time": "2025-06-28T16:47:30.215Z"
   },
   {
    "duration": 94,
    "start_time": "2025-06-28T16:47:30.248Z"
   },
   {
    "duration": 8408,
    "start_time": "2025-06-28T16:47:30.344Z"
   },
   {
    "duration": 143,
    "start_time": "2025-06-28T16:47:38.753Z"
   },
   {
    "duration": 276,
    "start_time": "2025-06-28T16:47:38.898Z"
   },
   {
    "duration": 997,
    "start_time": "2025-06-28T16:47:39.176Z"
   },
   {
    "duration": 68,
    "start_time": "2025-06-28T16:47:40.174Z"
   },
   {
    "duration": 9,
    "start_time": "2025-06-28T16:47:40.244Z"
   },
   {
    "duration": 54,
    "start_time": "2025-06-28T16:47:40.254Z"
   },
   {
    "duration": 42,
    "start_time": "2025-06-28T16:47:40.309Z"
   },
   {
    "duration": 154,
    "start_time": "2025-06-28T16:47:40.353Z"
   },
   {
    "duration": 153,
    "start_time": "2025-06-28T16:47:40.509Z"
   },
   {
    "duration": 204,
    "start_time": "2025-06-28T16:47:40.663Z"
   },
   {
    "duration": 11,
    "start_time": "2025-06-28T16:47:40.868Z"
   },
   {
    "duration": 35,
    "start_time": "2025-06-28T16:47:40.881Z"
   },
   {
    "duration": 47,
    "start_time": "2025-06-28T16:47:40.920Z"
   },
   {
    "duration": 12,
    "start_time": "2025-06-28T16:47:40.969Z"
   },
   {
    "duration": 22,
    "start_time": "2025-06-28T16:47:40.983Z"
   },
   {
    "duration": 18,
    "start_time": "2025-06-28T16:47:41.007Z"
   },
   {
    "duration": 23,
    "start_time": "2025-06-28T16:47:41.040Z"
   },
   {
    "duration": 163,
    "start_time": "2025-06-28T16:47:41.065Z"
   },
   {
    "duration": 10,
    "start_time": "2025-06-28T16:47:41.230Z"
   },
   {
    "duration": 69,
    "start_time": "2025-06-28T16:47:41.242Z"
   },
   {
    "duration": 1182,
    "start_time": "2025-06-28T16:47:41.313Z"
   },
   {
    "duration": 0,
    "start_time": "2025-06-28T16:47:42.497Z"
   },
   {
    "duration": 0,
    "start_time": "2025-06-28T16:47:42.498Z"
   },
   {
    "duration": 0,
    "start_time": "2025-06-28T16:47:42.499Z"
   },
   {
    "duration": 0,
    "start_time": "2025-06-28T16:47:42.500Z"
   },
   {
    "duration": 0,
    "start_time": "2025-06-28T16:47:42.501Z"
   },
   {
    "duration": 15,
    "start_time": "2025-06-28T16:48:48.139Z"
   },
   {
    "duration": 5,
    "start_time": "2025-06-28T16:48:54.560Z"
   },
   {
    "duration": 1073,
    "start_time": "2025-06-28T16:49:46.990Z"
   },
   {
    "duration": 0,
    "start_time": "2025-06-28T16:49:48.065Z"
   },
   {
    "duration": 14,
    "start_time": "2025-06-28T16:51:29.320Z"
   },
   {
    "duration": 6,
    "start_time": "2025-06-28T16:51:31.921Z"
   },
   {
    "duration": 7,
    "start_time": "2025-06-28T16:52:05.400Z"
   },
   {
    "duration": 12,
    "start_time": "2025-06-28T16:52:06.180Z"
   },
   {
    "duration": 146,
    "start_time": "2025-06-28T16:52:06.381Z"
   },
   {
    "duration": 25,
    "start_time": "2025-06-28T16:52:06.740Z"
   },
   {
    "duration": 784,
    "start_time": "2025-06-29T13:48:21.429Z"
   }
  ],
  "colab": {
   "provenance": []
  },
  "kernelspec": {
   "display_name": "Python 3 (ipykernel)",
   "language": "python",
   "name": "python3"
  },
  "language_info": {
   "codemirror_mode": {
    "name": "ipython",
    "version": 3
   },
   "file_extension": ".py",
   "mimetype": "text/x-python",
   "name": "python",
   "nbconvert_exporter": "python",
   "pygments_lexer": "ipython3",
   "version": "3.9.5"
  },
  "toc": {
   "base_numbering": 1,
   "nav_menu": {},
   "number_sections": true,
   "sideBar": true,
   "skip_h1_title": true,
   "title_cell": "Table of Contents",
   "title_sidebar": "Contents",
   "toc_cell": false,
   "toc_position": {},
   "toc_section_display": true,
   "toc_window_display": false
  }
 },
 "nbformat": 4,
 "nbformat_minor": 1
}
